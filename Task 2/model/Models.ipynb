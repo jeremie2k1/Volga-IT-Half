{
 "cells": [
  {
   "cell_type": "markdown",
   "id": "64f52fc6-11fd-4900-90c3-6825c846b525",
   "metadata": {},
   "source": [
    "# Import libs"
   ]
  },
  {
   "cell_type": "code",
   "execution_count": 5,
   "id": "4444a832-30db-46bb-9a08-a657e4a5b03e",
   "metadata": {},
   "outputs": [],
   "source": [
    "import os\n",
    "from os import listdir\n",
    "import shutil\n",
    "import numpy as np\n",
    "from matplotlib import pyplot as plt\n",
    "import cv2\n",
    "from roboflow import Roboflow\n",
    "import joblib"
   ]
  },
  {
   "cell_type": "code",
   "execution_count": 2,
   "id": "a6f58946-7a8f-4a92-bb16-f21097eeb8da",
   "metadata": {},
   "outputs": [
    {
     "name": "stdout",
     "output_type": "stream",
     "text": [
      "loading Roboflow workspace...\n",
      "loading Roboflow project...\n"
     ]
    }
   ],
   "source": [
    "rf = Roboflow(api_key=\"j9BeuxHHmPvtY45FT8BN\")\n",
    "project = rf.workspace().project(\"digital-meters-reading\")\n",
    "model_reading = project.version(3).model"
   ]
  },
  {
   "cell_type": "code",
   "execution_count": 7,
   "id": "d90a6b3d-dc9a-44e0-a30b-4743a239ab20",
   "metadata": {},
   "outputs": [
    {
     "data": {
      "text/plain": [
       "['model_reading.sav']"
      ]
     },
     "execution_count": 7,
     "metadata": {},
     "output_type": "execute_result"
    }
   ],
   "source": [
    "joblib.dump(model_reading, 'model_reading.sav')"
   ]
  },
  {
   "cell_type": "code",
   "execution_count": 10,
   "id": "e8b4b0ce-2df7-4baa-95f6-cc5f9fd6bb39",
   "metadata": {},
   "outputs": [
    {
     "name": "stdout",
     "output_type": "stream",
     "text": [
      "loading Roboflow workspace...\n",
      "loading Roboflow project...\n"
     ]
    }
   ],
   "source": [
    "# Import model determine rotate from Roboflow\n",
    "rf = Roboflow(api_key=\"j9BeuxHHmPvtY45FT8BN\")\n",
    "project_rotate = rf.workspace().project(\"dimention-rotate\")\n",
    "model_rotate = project_rotate.version(3).model"
   ]
  },
  {
   "cell_type": "code",
   "execution_count": 11,
   "id": "2424a5cf-a031-466d-984a-329b5689dd19",
   "metadata": {},
   "outputs": [
    {
     "data": {
      "text/plain": [
       "['model_rotate.sav']"
      ]
     },
     "execution_count": 11,
     "metadata": {},
     "output_type": "execute_result"
    }
   ],
   "source": [
    "joblib.dump(model_rotate, 'model_rotate.sav')"
   ]
  },
  {
   "cell_type": "code",
   "execution_count": 8,
   "id": "88f9903d-84dd-4d2a-a9e4-44ace8b43df1",
   "metadata": {},
   "outputs": [
    {
     "name": "stdout",
     "output_type": "stream",
     "text": [
      "loading Roboflow workspace...\n",
      "loading Roboflow project...\n"
     ]
    }
   ],
   "source": [
    "project_digit = rf.workspace().project(\"digital-number-detection-eztqm\")\n",
    "digit_model = project_digit.version(4).model"
   ]
  },
  {
   "cell_type": "code",
   "execution_count": 9,
   "id": "a19c16e1-e586-4ba4-adf5-0e7c0cbb622e",
   "metadata": {},
   "outputs": [
    {
     "data": {
      "text/plain": [
       "['model_digital_number.sav']"
      ]
     },
     "execution_count": 9,
     "metadata": {},
     "output_type": "execute_result"
    }
   ],
   "source": [
    "joblib.dump(digit_model, 'model_digital_number.sav')"
   ]
  }
 ],
 "metadata": {
  "kernelspec": {
   "display_name": "gpu-test",
   "language": "python",
   "name": "gpu-test"
  },
  "language_info": {
   "codemirror_mode": {
    "name": "ipython",
    "version": 3
   },
   "file_extension": ".py",
   "mimetype": "text/x-python",
   "name": "python",
   "nbconvert_exporter": "python",
   "pygments_lexer": "ipython3",
   "version": "3.10.13"
  }
 },
 "nbformat": 4,
 "nbformat_minor": 5
}
