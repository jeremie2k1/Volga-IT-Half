{
 "cells": [
  {
   "cell_type": "code",
   "execution_count": 204,
   "id": "de67580f-cbd0-435f-b09a-61a69fdd8d61",
   "metadata": {},
   "outputs": [],
   "source": [
    "import pandas as pd\n",
    "import numpy as np\n",
    "import re\n",
    "import string\n",
    "\n",
    "import xgboost as xgb\n",
    "\n",
    "from sklearn import preprocessing, decomposition, model_selection, metrics, pipeline\n",
    "from sklearn.model_selection import train_test_split\n",
    "from sklearn.feature_extraction.text import TfidfVectorizer, CountVectorizer\n",
    "from sklearn.metrics import accuracy_score\n",
    "\n",
    "\n",
    "import nltk\n",
    "from nltk.stem.wordnet import WordNetLemmatizer\n",
    "from nltk import word_tokenize\n",
    "from nltk.corpus import stopwords\n",
    "stop_words = stopwords.words('russian')\n"
   ]
  },
  {
   "cell_type": "code",
   "execution_count": 205,
   "id": "cba97764-47f2-4dd7-b9b0-af3120bb99ac",
   "metadata": {},
   "outputs": [],
   "source": [
    "l_dataset_aug = pd.read_csv(\"../source-data/L_augment.csv\")\n",
    "c_dataset = pd.read_csv(\"../source-data/C.csv\", delimiter=\";\", encoding=\"windows-1251\")"
   ]
  },
  {
   "cell_type": "code",
   "execution_count": 206,
   "id": "2d5c98c7-e1de-4c5c-b75a-76d1b2efeb98",
   "metadata": {},
   "outputs": [],
   "source": [
    "l_dataset_aug['Desc and Group'] = l_dataset_aug['Desc'] + '. ' + l_dataset_aug['Group']"
   ]
  },
  {
   "cell_type": "code",
   "execution_count": 207,
   "id": "df2ee1f8-6ece-4c9d-9f1a-34b5569a3698",
   "metadata": {},
   "outputs": [],
   "source": [
    "def convert_to_lower(text):\n",
    "    return text.lower()\n",
    "    \n",
    "def remove_numbers(text):\n",
    "    return re.sub(pattern=r'\\d+', repl=\" \", string=text)\n",
    "    \n",
    "def remove_punctuation(text):\n",
    "    return text.translate(str.maketrans('', '', string.punctuation))\n",
    "\n",
    "def remove_stopwords(text):\n",
    "    removed = []\n",
    "    stop_words = list(stopwords.words(\"russian\"))\n",
    "    tokens = word_tokenize(text)\n",
    "    for i in range(len(tokens)):\n",
    "        if tokens[i] not in stop_words:\n",
    "            removed.append(tokens[i])\n",
    "    return \" \".join(removed)\n",
    "\n",
    "def remmove_extra_spaces(text):\n",
    "    single_char_pattern = r'\\s+[a-zA-Z]\\s+'\n",
    "    without_sc = re.sub(pattern=single_char_pattern, repl=\" \", string=text)\n",
    "    return without_sc\n",
    "\n",
    "def lemmatizing(text):\n",
    "    lemmatizer = WordNetLemmatizer()\n",
    "    tokens = word_tokenize(text)\n",
    "    for i in range(len(tokens)):\n",
    "        lemma_word = lemmatizer.lemmatize(tokens[i])\n",
    "        tokens[i] = lemma_word\n",
    "    return \" \".join(tokens)\n",
    "\n",
    "def preprocessing_desc():\n",
    "    l_dataset_aug['Desc clean'] = l_dataset_aug['Desc'].apply(lambda x: convert_to_lower(x))\n",
    "    l_dataset_aug['Desc clean'] = l_dataset_aug['Desc clean'].apply(lambda x: remove_numbers(x))\n",
    "    l_dataset_aug['Desc clean'] = l_dataset_aug['Desc clean'].apply(lambda x: remove_punctuation(x))\n",
    "    l_dataset_aug['Desc clean'] = l_dataset_aug['Desc clean'].apply(lambda x: remove_stopwords(x))\n",
    "    l_dataset_aug['Desc clean'] = l_dataset_aug['Desc clean'].apply(lambda x: remmove_extra_spaces(x))\n",
    "    l_dataset_aug['Desc clean'] = l_dataset_aug['Desc clean'].apply(lambda x: lemmatizing(x))\n",
    "    l_dataset_aug['Length after clean'] = l_dataset_aug['Desc clean'].apply(lambda x: len(x))\n",
    "\n",
    "def preprocessing_desc_and_group():\n",
    "    l_dataset_aug['Desc Group clean'] = l_dataset_aug['Desc and Group'].apply(lambda x: convert_to_lower(x))\n",
    "    l_dataset_aug['Desc Group clean'] = l_dataset_aug['Desc Group clean'].apply(lambda x: remove_numbers(x))\n",
    "    l_dataset_aug['Desc Group clean'] = l_dataset_aug['Desc Group clean'].apply(lambda x: remove_punctuation(x))\n",
    "    l_dataset_aug['Desc Group clean'] = l_dataset_aug['Desc Group clean'].apply(lambda x: remove_stopwords(x))\n",
    "    l_dataset_aug['Desc Group clean'] = l_dataset_aug['Desc Group clean'].apply(lambda x: remmove_extra_spaces(x))\n",
    "    l_dataset_aug['Desc Group clean'] = l_dataset_aug['Desc Group clean'].apply(lambda x: lemmatizing(x))\n",
    "\n",
    "def preprocessing_desc_c():\n",
    "    c_dataset['Desc clean'] = c_dataset['Desc'].apply(lambda x: convert_to_lower(x))\n",
    "    c_dataset['Desc clean'] = c_dataset['Desc clean'].apply(lambda x: remove_numbers(x))\n",
    "    c_dataset['Desc clean'] = c_dataset['Desc clean'].apply(lambda x: remove_punctuation(x))\n",
    "    c_dataset['Desc clean'] = c_dataset['Desc clean'].apply(lambda x: remove_stopwords(x))\n",
    "    c_dataset['Desc clean'] = c_dataset['Desc clean'].apply(lambda x: remmove_extra_spaces(x))\n",
    "    c_dataset['Desc clean'] = c_dataset['Desc clean'].apply(lambda x: lemmatizing(x))\n",
    "    c_dataset['Length after clean'] = c_dataset['Desc clean'].apply(lambda x: len(x))\n",
    "\n",
    "def preprocessing_desc_and_group_c():\n",
    "    c_dataset['Desc Group clean'] = c_dataset['Desc and Group'].apply(lambda x: convert_to_lower(x))\n",
    "    c_dataset['Desc Group clean'] = c_dataset['Desc Group clean'].apply(lambda x: remove_numbers(x))\n",
    "    c_dataset['Desc Group clean'] = c_dataset['Desc Group clean'].apply(lambda x: remove_punctuation(x))\n",
    "    c_dataset['Desc Group clean'] = c_dataset['Desc Group clean'].apply(lambda x: remove_stopwords(x))\n",
    "    c_dataset['Desc Group clean'] = c_dataset['Desc Group clean'].apply(lambda x: remmove_extra_spaces(x))\n",
    "    c_dataset['Desc Group clean'] = c_dataset['Desc Group clean'].apply(lambda x: lemmatizing(x))\n",
    "\n",
    "def preprocessing_desc_and_group_c2():\n",
    "    c_dataset_v2['Desc Group clean'] = c_dataset_v2['Desc and Group'].apply(lambda x: convert_to_lower(x))\n",
    "    c_dataset_v2['Desc Group clean'] = c_dataset_v2['Desc Group clean'].apply(lambda x: remove_numbers(x))\n",
    "    c_dataset_v2['Desc Group clean'] = c_dataset_v2['Desc Group clean'].apply(lambda x: remove_punctuation(x))\n",
    "    c_dataset_v2['Desc Group clean'] = c_dataset_v2['Desc Group clean'].apply(lambda x: remove_stopwords(x))\n",
    "    c_dataset_v2['Desc Group clean'] = c_dataset_v2['Desc Group clean'].apply(lambda x: remmove_extra_spaces(x))\n",
    "    c_dataset_v2['Desc Group clean'] = c_dataset_v2['Desc Group clean'].apply(lambda x: lemmatizing(x))"
   ]
  },
  {
   "cell_type": "code",
   "execution_count": 208,
   "id": "436dab12-0aa2-4317-bfd4-758f8225878b",
   "metadata": {},
   "outputs": [],
   "source": [
    "preprocessing_desc()\n",
    "preprocessing_desc_and_group()"
   ]
  },
  {
   "cell_type": "code",
   "execution_count": 209,
   "id": "f0a18d8e-00f0-40ad-bf50-ab029dcb8215",
   "metadata": {},
   "outputs": [],
   "source": [
    "x_train = l_dataset_aug[\"Desc clean\"]\n",
    "x_train_cat_degr = l_dataset_aug[\"Desc Group clean\"]"
   ]
  },
  {
   "cell_type": "markdown",
   "id": "0406dc2d-9ee0-413a-b35c-0e8bb8a1aa0e",
   "metadata": {},
   "source": [
    "## Preprocessing for C.csv"
   ]
  },
  {
   "cell_type": "code",
   "execution_count": 210,
   "id": "c7caac93-1217-4f0d-875f-ff91cff8c09a",
   "metadata": {},
   "outputs": [],
   "source": [
    "preprocessing_desc_c()"
   ]
  },
  {
   "cell_type": "code",
   "execution_count": 211,
   "id": "45205d8d-6fb4-4851-bec5-5edba7e0fba7",
   "metadata": {},
   "outputs": [
    {
     "data": {
      "text/plain": [
       "(28978,)"
      ]
     },
     "execution_count": 211,
     "metadata": {},
     "output_type": "execute_result"
    }
   ],
   "source": [
    "x_test_group = c_dataset[\"Desc clean\"]\n",
    "x_test_group.shape"
   ]
  },
  {
   "cell_type": "code",
   "execution_count": 212,
   "id": "94b40506-705b-49dc-9613-ac35eb45a8e1",
   "metadata": {},
   "outputs": [
    {
     "data": {
      "text/plain": [
       "(62666,)"
      ]
     },
     "execution_count": 212,
     "metadata": {},
     "output_type": "execute_result"
    }
   ],
   "source": [
    "y_train_group = l_dataset_aug[\"Group\"] \n",
    "y_train_group.shape"
   ]
  },
  {
   "cell_type": "code",
   "execution_count": 213,
   "id": "d3a87238-692f-402a-9957-f0fb1921f3f2",
   "metadata": {},
   "outputs": [
    {
     "data": {
      "text/plain": [
       "(62666,)"
      ]
     },
     "execution_count": 213,
     "metadata": {},
     "output_type": "execute_result"
    }
   ],
   "source": [
    "y_train_cat = l_dataset_aug[\"Cat\"] \n",
    "y_train_cat.shape"
   ]
  },
  {
   "cell_type": "code",
   "execution_count": 214,
   "id": "13ea1cf9-e7c9-46aa-b8d2-9d46d870f96e",
   "metadata": {},
   "outputs": [
    {
     "data": {
      "text/plain": [
       "array([19,  8,  9,  4,  9])"
      ]
     },
     "execution_count": 214,
     "metadata": {},
     "output_type": "execute_result"
    }
   ],
   "source": [
    "# Label encoding for target group\n",
    "lb_encoding_group = preprocessing.LabelEncoder()\n",
    "y_train_group_encoded = lb_encoding_group.fit_transform(y_train_group)\n",
    "y_train_group_encoded[:5]"
   ]
  },
  {
   "cell_type": "code",
   "execution_count": 215,
   "id": "05dc528d-4d94-4e3d-b87b-d4d9b1545f98",
   "metadata": {},
   "outputs": [
    {
     "data": {
      "text/plain": [
       "array([72, 46, 46, 46, 46])"
      ]
     },
     "execution_count": 215,
     "metadata": {},
     "output_type": "execute_result"
    }
   ],
   "source": [
    "# Label encoding for target category\n",
    "lb_encoding_cat = preprocessing.LabelEncoder()\n",
    "y_train_cat_encoded = lb_encoding_cat.fit_transform(y_train_cat)\n",
    "y_train_cat_encoded[:5]"
   ]
  },
  {
   "cell_type": "markdown",
   "id": "f7bade3e-5d18-4df8-9738-e3cf687392a2",
   "metadata": {},
   "source": [
    "# Load trained model"
   ]
  },
  {
   "cell_type": "code",
   "execution_count": 216,
   "id": "cad47dbf-b163-4ee9-81b2-cfa6a6920b68",
   "metadata": {},
   "outputs": [],
   "source": [
    "import joblib"
   ]
  },
  {
   "cell_type": "code",
   "execution_count": 217,
   "id": "35f026f9-0b40-4ce0-b9db-4d6430641e81",
   "metadata": {},
   "outputs": [],
   "source": [
    "ctv = CountVectorizer(analyzer='word',\n",
    "                         token_pattern=r'\\w{1,}',\n",
    "                         ngram_range=(1, 3),\n",
    "                         # stop_words = 'russian'\n",
    "                     )\n",
    "# Fitting CountVectorizer\n",
    "ctv.fit(list(x_train))\n",
    "\n",
    "x_test_group_ctv = ctv.transform(x_test_group.values)"
   ]
  },
  {
   "cell_type": "markdown",
   "id": "7201fb65-194f-463d-9edb-608aef7b97dd",
   "metadata": {},
   "source": [
    "## Logistic Regression -> A.csv"
   ]
  },
  {
   "cell_type": "code",
   "execution_count": 218,
   "id": "847fc7f8-809a-4ddb-95bb-392f68f75de9",
   "metadata": {},
   "outputs": [],
   "source": [
    "clf_ctv_group = joblib.load('../model/LogisticRegression/ctv/clf_ctv_group.sav')"
   ]
  },
  {
   "cell_type": "markdown",
   "id": "eb35d011-9848-46cb-8163-523ea5f11dba",
   "metadata": {},
   "source": [
    "**Predict for group test**"
   ]
  },
  {
   "cell_type": "code",
   "execution_count": 219,
   "id": "cdf4abcd-5740-4854-9a02-ab212dad9244",
   "metadata": {},
   "outputs": [],
   "source": [
    "predicted_ctv_group_test = clf_ctv_group.predict_proba(x_test_group_ctv)\n",
    "classify_group_test = [np.argmax(x) for x in predicted_ctv_group_test]"
   ]
  },
  {
   "cell_type": "code",
   "execution_count": 220,
   "id": "2a845d9c-f509-4892-9e37-9d4f3d3ca6a5",
   "metadata": {},
   "outputs": [],
   "source": [
    "c_dataset[\"Group\"] = lb_encoding_group.inverse_transform(classify_group_test)"
   ]
  },
  {
   "cell_type": "markdown",
   "id": "d18d76f2-6250-4329-961a-5affc2e4f101",
   "metadata": {},
   "source": [
    "**Predict for cat test**"
   ]
  },
  {
   "cell_type": "code",
   "execution_count": 221,
   "id": "a30f124d-2b13-406a-861c-ad0189d71601",
   "metadata": {},
   "outputs": [],
   "source": [
    "c_dataset['Desc and Group'] = c_dataset['Desc'] + '. ' + c_dataset['Group']"
   ]
  },
  {
   "cell_type": "code",
   "execution_count": 222,
   "id": "b4455907-b2c8-47fc-80bb-f0788361e7dd",
   "metadata": {},
   "outputs": [
    {
     "data": {
      "text/plain": [
       "0                            застряли лифте лифты\n",
       "1          течь батареи спальной управление домом\n",
       "2             течь сверху стояку управление домом\n",
       "3               течь кнс подвале управление домом\n",
       "4    течь кровли забита ливневка управление домом\n",
       "Name: Desc Group clean, dtype: object"
      ]
     },
     "execution_count": 222,
     "metadata": {},
     "output_type": "execute_result"
    }
   ],
   "source": [
    "preprocessing_desc_and_group_c()\n",
    "# After preprocessing\n",
    "c_dataset['Desc Group clean'][:5]"
   ]
  },
  {
   "cell_type": "code",
   "execution_count": 223,
   "id": "997e698f-1e38-4cba-af22-78293816b0a5",
   "metadata": {},
   "outputs": [
    {
     "data": {
      "text/plain": [
       "(28978,)"
      ]
     },
     "execution_count": 223,
     "metadata": {},
     "output_type": "execute_result"
    }
   ],
   "source": [
    "## Get train data from desc and group for predict category\n",
    "x_test_cat = c_dataset[\"Desc Group clean\"]\n",
    "x_test_cat.shape"
   ]
  },
  {
   "cell_type": "code",
   "execution_count": 224,
   "id": "a1514295-36de-4e84-a982-3f698a780c81",
   "metadata": {},
   "outputs": [],
   "source": [
    "x_test_cat_ctv = ctv.transform(x_test_cat.values)"
   ]
  },
  {
   "cell_type": "code",
   "execution_count": 225,
   "id": "94400ace-e26c-415f-ad52-fda00cd25b9e",
   "metadata": {},
   "outputs": [],
   "source": [
    "clf_ctv_cat_new = joblib.load('../model/LogisticRegression/ctv/clf_ctv_cat_new.sav')"
   ]
  },
  {
   "cell_type": "code",
   "execution_count": 226,
   "id": "de4490ef-4d33-4f69-82c3-2879af2752d2",
   "metadata": {},
   "outputs": [],
   "source": [
    "predicted_ctv_cat_new_test = clf_ctv_cat_new.predict_proba(x_test_cat_ctv)\n",
    "classify_cat_new_test = [np.argmax(x) for x in predicted_ctv_cat_new_test]"
   ]
  },
  {
   "cell_type": "code",
   "execution_count": 227,
   "id": "a92add2a-8498-45ed-b88c-a430ae3494ba",
   "metadata": {},
   "outputs": [],
   "source": [
    "c_dataset[\"Cat\"] = lb_encoding_cat.inverse_transform(classify_cat_new_test)"
   ]
  },
  {
   "cell_type": "code",
   "execution_count": 228,
   "id": "ecc795f1-d33e-40ed-a68b-68fc43c5c0ff",
   "metadata": {},
   "outputs": [],
   "source": [
    "c_dataset = c_dataset.drop(columns=[\"Length after clean\", \"Desc clean\", \"Desc and Group\", \"Desc Group clean\"], axis=1)"
   ]
  },
  {
   "cell_type": "code",
   "execution_count": 229,
   "id": "191aeed6-56d8-474b-a61d-b88186984d69",
   "metadata": {},
   "outputs": [],
   "source": [
    "c_dataset.to_csv('../result/A.csv', index=False, encoding=\"windows-1251\")"
   ]
  },
  {
   "cell_type": "code",
   "execution_count": 230,
   "id": "36c1b828-9759-428e-be36-a7884c41c977",
   "metadata": {},
   "outputs": [],
   "source": [
    "# c_dataset = pd.read_csv(\"../source-data/C.csv\", delimiter=\";\", encoding=\"windows-1251\")"
   ]
  },
  {
   "cell_type": "markdown",
   "id": "24e220e6-8a62-47a0-a060-c602defc94ed",
   "metadata": {},
   "source": [
    "## XGBoost -> A2.csv"
   ]
  },
  {
   "cell_type": "code",
   "execution_count": 231,
   "id": "52817045-b225-4000-bdb0-e8518d865a16",
   "metadata": {},
   "outputs": [],
   "source": [
    "c_dataset_v2 = pd.read_csv(\"../source-data/C.csv\", delimiter=\";\", encoding=\"windows-1251\")"
   ]
  },
  {
   "cell_type": "code",
   "execution_count": 232,
   "id": "0d97447d-5f9f-481d-a69c-056edd270e74",
   "metadata": {},
   "outputs": [],
   "source": [
    "clf_xg_ctv_group = joblib.load('../model/XGBoost/ctv/clf_xg_ctv_group.sav')"
   ]
  },
  {
   "cell_type": "markdown",
   "id": "cf03eafa-19b1-412f-8c98-567b0fcee300",
   "metadata": {},
   "source": [
    "**Predict for group test**"
   ]
  },
  {
   "cell_type": "code",
   "execution_count": 233,
   "id": "2a50256b-29f7-49f7-9116-b3f09e3a7009",
   "metadata": {},
   "outputs": [],
   "source": [
    "predicted_ctv_group_test = clf_xg_ctv_group.predict_proba(x_test_group_ctv)\n",
    "classify_group_test = [np.argmax(x) for x in predicted_ctv_group_test]"
   ]
  },
  {
   "cell_type": "code",
   "execution_count": 234,
   "id": "6f6f4879-b5fe-4e2c-8186-56490a92a359",
   "metadata": {},
   "outputs": [],
   "source": [
    "c_dataset_v2[\"Group\"] = lb_encoding_group.inverse_transform(classify_group_test)"
   ]
  },
  {
   "cell_type": "markdown",
   "id": "d2475f77-6f0c-4bb3-82a2-a43b67448f0f",
   "metadata": {},
   "source": [
    "**Predict for category test**"
   ]
  },
  {
   "cell_type": "code",
   "execution_count": 235,
   "id": "ddc6c2ca-6187-496b-9ffa-60873e547f87",
   "metadata": {},
   "outputs": [],
   "source": [
    "clf_xg_ctv_cat_new = joblib.load('../model/XGBoost/ctv/clf_xg_ctv_cat_new.sav')"
   ]
  },
  {
   "cell_type": "code",
   "execution_count": 236,
   "id": "bdd5a4e7-281b-41a4-a1d0-5df3a24bb9e0",
   "metadata": {},
   "outputs": [],
   "source": [
    "c_dataset_v2['Desc and Group'] = c_dataset_v2['Desc'] + '. ' + c_dataset_v2['Group']"
   ]
  },
  {
   "cell_type": "code",
   "execution_count": 237,
   "id": "1b47cc9a-abd0-4780-919a-28d49840aa48",
   "metadata": {},
   "outputs": [
    {
     "data": {
      "text/plain": [
       "0                            застряли лифте лифты\n",
       "1          течь батареи спальной управление домом\n",
       "2             течь сверху стояку управление домом\n",
       "3               течь кнс подвале управление домом\n",
       "4    течь кровли забита ливневка управление домом\n",
       "Name: Desc Group clean, dtype: object"
      ]
     },
     "execution_count": 237,
     "metadata": {},
     "output_type": "execute_result"
    }
   ],
   "source": [
    "preprocessing_desc_and_group_c2()\n",
    "# After preprocessing\n",
    "c_dataset_v2['Desc Group clean'][:5]"
   ]
  },
  {
   "cell_type": "code",
   "execution_count": 238,
   "id": "d08ba90b-a90c-4b0d-8e23-558ee77ad552",
   "metadata": {},
   "outputs": [
    {
     "data": {
      "text/plain": [
       "(28978,)"
      ]
     },
     "execution_count": 238,
     "metadata": {},
     "output_type": "execute_result"
    }
   ],
   "source": [
    "## Get train data from desc and group for predict category\n",
    "x_test_cat = c_dataset_v2[\"Desc Group clean\"]\n",
    "x_test_cat.shape"
   ]
  },
  {
   "cell_type": "code",
   "execution_count": 239,
   "id": "4fc7ef20-5819-4da9-b48b-8a069b6bf889",
   "metadata": {},
   "outputs": [],
   "source": [
    "x_test_cat_ctv = ctv.transform(x_test_cat.values)"
   ]
  },
  {
   "cell_type": "code",
   "execution_count": 240,
   "id": "d952e4d9-47dc-4d44-8abe-f19cd7232f76",
   "metadata": {},
   "outputs": [],
   "source": [
    "predicted_ctv_cat_new_test = clf_xg_ctv_cat_new.predict_proba(x_test_cat_ctv)\n",
    "classify_cat_new_test = [np.argmax(x) for x in predicted_ctv_cat_new_test]"
   ]
  },
  {
   "cell_type": "code",
   "execution_count": 241,
   "id": "d997a46c-acf2-4d18-9a34-15ae8e0d10cf",
   "metadata": {},
   "outputs": [],
   "source": [
    "c_dataset_v2[\"Cat\"] = lb_encoding_cat.inverse_transform(classify_cat_new_test)"
   ]
  },
  {
   "cell_type": "code",
   "execution_count": 242,
   "id": "ec930ab7-aec8-456d-adf4-9490675ca640",
   "metadata": {},
   "outputs": [
    {
     "data": {
      "text/html": [
       "<div>\n",
       "<style scoped>\n",
       "    .dataframe tbody tr th:only-of-type {\n",
       "        vertical-align: middle;\n",
       "    }\n",
       "\n",
       "    .dataframe tbody tr th {\n",
       "        vertical-align: top;\n",
       "    }\n",
       "\n",
       "    .dataframe thead th {\n",
       "        text-align: right;\n",
       "    }\n",
       "</style>\n",
       "<table border=\"1\" class=\"dataframe\">\n",
       "  <thead>\n",
       "    <tr style=\"text-align: right;\">\n",
       "      <th></th>\n",
       "      <th>Number</th>\n",
       "      <th>Date</th>\n",
       "      <th>UID</th>\n",
       "      <th>Desc</th>\n",
       "      <th>Group</th>\n",
       "      <th>Cat</th>\n",
       "      <th>Desc and Group</th>\n",
       "      <th>Desc Group clean</th>\n",
       "    </tr>\n",
       "  </thead>\n",
       "  <tbody>\n",
       "    <tr>\n",
       "      <th>0</th>\n",
       "      <td>1346291</td>\n",
       "      <td>01.01.2023 2:10</td>\n",
       "      <td>e87b2cfa-6159-4aa2-b789-3974a01e0b0a</td>\n",
       "      <td>Застряли в лифте</td>\n",
       "      <td>Лифты</td>\n",
       "      <td>Человек застрял в лифте</td>\n",
       "      <td>Застряли в лифте. Лифты</td>\n",
       "      <td>застряли лифте лифты</td>\n",
       "    </tr>\n",
       "    <tr>\n",
       "      <th>1</th>\n",
       "      <td>1346298</td>\n",
       "      <td>01.01.2023 9:09</td>\n",
       "      <td>d6257b7b-d68c-449f-aef3-6c4af1a2d78f</td>\n",
       "      <td>Течь батареи  в спальной</td>\n",
       "      <td>Управление домом</td>\n",
       "      <td>Сантехника</td>\n",
       "      <td>Течь батареи  в спальной . Управление домом</td>\n",
       "      <td>течь батареи спальной управление домом</td>\n",
       "    </tr>\n",
       "    <tr>\n",
       "      <th>2</th>\n",
       "      <td>1346301</td>\n",
       "      <td>01.01.2023 10:37</td>\n",
       "      <td>927aeffe-0842-4894-8ada-0a91ccdf1692</td>\n",
       "      <td>Течь сверху по стояку</td>\n",
       "      <td>Управление домом</td>\n",
       "      <td>Сантехника</td>\n",
       "      <td>Течь сверху по стояку . Управление домом</td>\n",
       "      <td>течь сверху стояку управление домом</td>\n",
       "    </tr>\n",
       "    <tr>\n",
       "      <th>3</th>\n",
       "      <td>1346303</td>\n",
       "      <td>01.01.2023 10:56</td>\n",
       "      <td>9884e4a6-2ce4-485b-913d-8e75c7779302</td>\n",
       "      <td>Течь КНС в 3 подвале</td>\n",
       "      <td>Управление домом</td>\n",
       "      <td>Канализация</td>\n",
       "      <td>Течь КНС в 3 подвале . Управление домом</td>\n",
       "      <td>течь кнс подвале управление домом</td>\n",
       "    </tr>\n",
       "    <tr>\n",
       "      <th>4</th>\n",
       "      <td>1346306</td>\n",
       "      <td>01.01.2023 11:44</td>\n",
       "      <td>4593c91a-8b75-46e4-83e5-557d730abea0</td>\n",
       "      <td>Течь кровли (забита ливневка)</td>\n",
       "      <td>Управление домом</td>\n",
       "      <td>Кровля (Протечка)</td>\n",
       "      <td>Течь кровли (забита ливневка). Управление домом</td>\n",
       "      <td>течь кровли забита ливневка управление домом</td>\n",
       "    </tr>\n",
       "  </tbody>\n",
       "</table>\n",
       "</div>"
      ],
      "text/plain": [
       "    Number              Date                                   UID  \\\n",
       "0  1346291   01.01.2023 2:10  e87b2cfa-6159-4aa2-b789-3974a01e0b0a   \n",
       "1  1346298   01.01.2023 9:09  d6257b7b-d68c-449f-aef3-6c4af1a2d78f   \n",
       "2  1346301  01.01.2023 10:37  927aeffe-0842-4894-8ada-0a91ccdf1692   \n",
       "3  1346303  01.01.2023 10:56  9884e4a6-2ce4-485b-913d-8e75c7779302   \n",
       "4  1346306  01.01.2023 11:44  4593c91a-8b75-46e4-83e5-557d730abea0   \n",
       "\n",
       "                            Desc             Group                      Cat  \\\n",
       "0               Застряли в лифте             Лифты  Человек застрял в лифте   \n",
       "1      Течь батареи  в спальной   Управление домом               Сантехника   \n",
       "2         Течь сверху по стояку   Управление домом               Сантехника   \n",
       "3          Течь КНС в 3 подвале   Управление домом              Канализация   \n",
       "4  Течь кровли (забита ливневка)  Управление домом        Кровля (Протечка)   \n",
       "\n",
       "                                    Desc and Group  \\\n",
       "0                          Застряли в лифте. Лифты   \n",
       "1      Течь батареи  в спальной . Управление домом   \n",
       "2         Течь сверху по стояку . Управление домом   \n",
       "3          Течь КНС в 3 подвале . Управление домом   \n",
       "4  Течь кровли (забита ливневка). Управление домом   \n",
       "\n",
       "                               Desc Group clean  \n",
       "0                          застряли лифте лифты  \n",
       "1        течь батареи спальной управление домом  \n",
       "2           течь сверху стояку управление домом  \n",
       "3             течь кнс подвале управление домом  \n",
       "4  течь кровли забита ливневка управление домом  "
      ]
     },
     "execution_count": 242,
     "metadata": {},
     "output_type": "execute_result"
    }
   ],
   "source": [
    "c_dataset_v2.head()"
   ]
  },
  {
   "cell_type": "code",
   "execution_count": 243,
   "id": "173501b9-c25d-4436-824d-1fefef072f3c",
   "metadata": {},
   "outputs": [],
   "source": [
    "c_dataset_v2 = c_dataset_v2.drop(columns=[\"Desc and Group\", \"Desc Group clean\"], axis=1)"
   ]
  },
  {
   "cell_type": "code",
   "execution_count": 244,
   "id": "e7ad4074-c104-4ec0-ad69-9691a1e05812",
   "metadata": {},
   "outputs": [
    {
     "data": {
      "text/html": [
       "<div>\n",
       "<style scoped>\n",
       "    .dataframe tbody tr th:only-of-type {\n",
       "        vertical-align: middle;\n",
       "    }\n",
       "\n",
       "    .dataframe tbody tr th {\n",
       "        vertical-align: top;\n",
       "    }\n",
       "\n",
       "    .dataframe thead th {\n",
       "        text-align: right;\n",
       "    }\n",
       "</style>\n",
       "<table border=\"1\" class=\"dataframe\">\n",
       "  <thead>\n",
       "    <tr style=\"text-align: right;\">\n",
       "      <th></th>\n",
       "      <th>Number</th>\n",
       "      <th>Date</th>\n",
       "      <th>UID</th>\n",
       "      <th>Desc</th>\n",
       "      <th>Group</th>\n",
       "      <th>Cat</th>\n",
       "    </tr>\n",
       "  </thead>\n",
       "  <tbody>\n",
       "    <tr>\n",
       "      <th>0</th>\n",
       "      <td>1346291</td>\n",
       "      <td>01.01.2023 2:10</td>\n",
       "      <td>e87b2cfa-6159-4aa2-b789-3974a01e0b0a</td>\n",
       "      <td>Застряли в лифте</td>\n",
       "      <td>Лифты</td>\n",
       "      <td>Человек застрял в лифте</td>\n",
       "    </tr>\n",
       "    <tr>\n",
       "      <th>1</th>\n",
       "      <td>1346298</td>\n",
       "      <td>01.01.2023 9:09</td>\n",
       "      <td>d6257b7b-d68c-449f-aef3-6c4af1a2d78f</td>\n",
       "      <td>Течь батареи  в спальной</td>\n",
       "      <td>Управление домом</td>\n",
       "      <td>Сантехника</td>\n",
       "    </tr>\n",
       "    <tr>\n",
       "      <th>2</th>\n",
       "      <td>1346301</td>\n",
       "      <td>01.01.2023 10:37</td>\n",
       "      <td>927aeffe-0842-4894-8ada-0a91ccdf1692</td>\n",
       "      <td>Течь сверху по стояку</td>\n",
       "      <td>Управление домом</td>\n",
       "      <td>Сантехника</td>\n",
       "    </tr>\n",
       "    <tr>\n",
       "      <th>3</th>\n",
       "      <td>1346303</td>\n",
       "      <td>01.01.2023 10:56</td>\n",
       "      <td>9884e4a6-2ce4-485b-913d-8e75c7779302</td>\n",
       "      <td>Течь КНС в 3 подвале</td>\n",
       "      <td>Управление домом</td>\n",
       "      <td>Канализация</td>\n",
       "    </tr>\n",
       "    <tr>\n",
       "      <th>4</th>\n",
       "      <td>1346306</td>\n",
       "      <td>01.01.2023 11:44</td>\n",
       "      <td>4593c91a-8b75-46e4-83e5-557d730abea0</td>\n",
       "      <td>Течь кровли (забита ливневка)</td>\n",
       "      <td>Управление домом</td>\n",
       "      <td>Кровля (Протечка)</td>\n",
       "    </tr>\n",
       "    <tr>\n",
       "      <th>...</th>\n",
       "      <td>...</td>\n",
       "      <td>...</td>\n",
       "      <td>...</td>\n",
       "      <td>...</td>\n",
       "      <td>...</td>\n",
       "      <td>...</td>\n",
       "    </tr>\n",
       "    <tr>\n",
       "      <th>28973</th>\n",
       "      <td>1425637</td>\n",
       "      <td>10.09.2023 17:31</td>\n",
       "      <td>e637470f-6fd2-41fc-94af-7c7a83a66b60</td>\n",
       "      <td>Течь из стыка КНС в подвале, проверить засор в...</td>\n",
       "      <td>Управление домом</td>\n",
       "      <td>Канализация</td>\n",
       "    </tr>\n",
       "    <tr>\n",
       "      <th>28974</th>\n",
       "      <td>1425638</td>\n",
       "      <td>10.09.2023 17:50</td>\n",
       "      <td>04e668c0-e11d-44e8-8ee3-f6154b129f86</td>\n",
       "      <td>Нет напора ХВС и совсем пропадает.</td>\n",
       "      <td>Управление домом</td>\n",
       "      <td>Сантехника</td>\n",
       "    </tr>\n",
       "    <tr>\n",
       "      <th>28975</th>\n",
       "      <td>1425640</td>\n",
       "      <td>10.09.2023 17:54</td>\n",
       "      <td>62f5beff-2753-490c-8115-01cfa320ee40</td>\n",
       "      <td>Обратная тяга вентканала в ванной</td>\n",
       "      <td>Управление домом</td>\n",
       "      <td>Ремонт дымовых и вентиляционных каналов</td>\n",
       "    </tr>\n",
       "    <tr>\n",
       "      <th>28976</th>\n",
       "      <td>1425641</td>\n",
       "      <td>10.09.2023 17:55</td>\n",
       "      <td>5f150ce4-dbcc-4cbf-9adb-dde8d4c05aba</td>\n",
       "      <td>Х/ГВС</td>\n",
       "      <td>Управление домом</td>\n",
       "      <td>ГВС (Несоответствие температурных параметров)</td>\n",
       "    </tr>\n",
       "    <tr>\n",
       "      <th>28977</th>\n",
       "      <td>1425642</td>\n",
       "      <td>10.09.2023 18:09</td>\n",
       "      <td>252cd76d-0344-418d-850f-74f04fdb007c</td>\n",
       "      <td>Не работает лифт в 1 под.</td>\n",
       "      <td>Лифты</td>\n",
       "      <td>Неисправности лифта (Общие проблемы)</td>\n",
       "    </tr>\n",
       "  </tbody>\n",
       "</table>\n",
       "<p>28978 rows × 6 columns</p>\n",
       "</div>"
      ],
      "text/plain": [
       "        Number              Date                                   UID  \\\n",
       "0      1346291   01.01.2023 2:10  e87b2cfa-6159-4aa2-b789-3974a01e0b0a   \n",
       "1      1346298   01.01.2023 9:09  d6257b7b-d68c-449f-aef3-6c4af1a2d78f   \n",
       "2      1346301  01.01.2023 10:37  927aeffe-0842-4894-8ada-0a91ccdf1692   \n",
       "3      1346303  01.01.2023 10:56  9884e4a6-2ce4-485b-913d-8e75c7779302   \n",
       "4      1346306  01.01.2023 11:44  4593c91a-8b75-46e4-83e5-557d730abea0   \n",
       "...        ...               ...                                   ...   \n",
       "28973  1425637  10.09.2023 17:31  e637470f-6fd2-41fc-94af-7c7a83a66b60   \n",
       "28974  1425638  10.09.2023 17:50  04e668c0-e11d-44e8-8ee3-f6154b129f86   \n",
       "28975  1425640  10.09.2023 17:54  62f5beff-2753-490c-8115-01cfa320ee40   \n",
       "28976  1425641  10.09.2023 17:55  5f150ce4-dbcc-4cbf-9adb-dde8d4c05aba   \n",
       "28977  1425642  10.09.2023 18:09  252cd76d-0344-418d-850f-74f04fdb007c   \n",
       "\n",
       "                                                    Desc             Group  \\\n",
       "0                                       Застряли в лифте             Лифты   \n",
       "1                              Течь батареи  в спальной   Управление домом   \n",
       "2                                 Течь сверху по стояку   Управление домом   \n",
       "3                                  Течь КНС в 3 подвале   Управление домом   \n",
       "4                          Течь кровли (забита ливневка)  Управление домом   \n",
       "...                                                  ...               ...   \n",
       "28973  Течь из стыка КНС в подвале, проверить засор в...  Управление домом   \n",
       "28974                 Нет напора ХВС и совсем пропадает.  Управление домом   \n",
       "28975                 Обратная тяга вентканала в ванной   Управление домом   \n",
       "28976                                             Х/ГВС   Управление домом   \n",
       "28977                          Не работает лифт в 1 под.             Лифты   \n",
       "\n",
       "                                                 Cat  \n",
       "0                            Человек застрял в лифте  \n",
       "1                                         Сантехника  \n",
       "2                                         Сантехника  \n",
       "3                                        Канализация  \n",
       "4                                  Кровля (Протечка)  \n",
       "...                                              ...  \n",
       "28973                                    Канализация  \n",
       "28974                                     Сантехника  \n",
       "28975        Ремонт дымовых и вентиляционных каналов  \n",
       "28976  ГВС (Несоответствие температурных параметров)  \n",
       "28977           Неисправности лифта (Общие проблемы)  \n",
       "\n",
       "[28978 rows x 6 columns]"
      ]
     },
     "execution_count": 244,
     "metadata": {},
     "output_type": "execute_result"
    }
   ],
   "source": [
    "c_dataset_v2"
   ]
  },
  {
   "cell_type": "code",
   "execution_count": 245,
   "id": "25d0a4f5-8003-4644-90a5-3e277742e185",
   "metadata": {},
   "outputs": [],
   "source": [
    "c_dataset_v2.to_csv('../result/A2.csv', index=False, encoding=\"windows-1251\")"
   ]
  },
  {
   "cell_type": "code",
   "execution_count": 246,
   "id": "ba6b42ce-0ec0-4cc0-9c5d-03474ef3cc8f",
   "metadata": {},
   "outputs": [
    {
     "data": {
      "text/plain": [
       "(Group\n",
       " Управление домом    25880\n",
       " Домофоны             1083\n",
       " ГВС                  1081\n",
       " Лифты                 929\n",
       " Водоотведение           2\n",
       " Благоустройство         2\n",
       " Сантехника              1\n",
       " Name: count, dtype: int64,\n",
       " Cat\n",
       " Сантехника                            9493\n",
       " Общие вопросы                         3740\n",
       " Канализация                           2891\n",
       " Электроэнергия                        2493\n",
       " Опломбировка ИПУ                      2205\n",
       "                                       ... \n",
       " Забит мусоропровод                       3\n",
       " Проверка канализации                     2\n",
       " Замена арматуры с/б                      2\n",
       " Протечки в отдельных местах кровли       1\n",
       " Засор канал                              1\n",
       " Name: count, Length: 66, dtype: int64)"
      ]
     },
     "execution_count": 246,
     "metadata": {},
     "output_type": "execute_result"
    }
   ],
   "source": [
    "c_dataset.Group.value_counts(), c_dataset.Cat.value_counts()"
   ]
  },
  {
   "cell_type": "code",
   "execution_count": 247,
   "id": "3b891e4c-e413-47e2-9a58-776c3b0d1ea8",
   "metadata": {},
   "outputs": [
    {
     "data": {
      "text/plain": [
       "(Group\n",
       " Управление домом     25762\n",
       " ГВС                   1179\n",
       " Домофоны              1072\n",
       " Лифты                  942\n",
       " Водоотведение            5\n",
       " Благоустройство          5\n",
       " Ливневки                 3\n",
       " Сантехника               2\n",
       " Бродячие животные        2\n",
       " Отопление                2\n",
       " Газоснабжение            1\n",
       " ХВС                      1\n",
       " Канализация              1\n",
       " Дороги                   1\n",
       " Name: count, dtype: int64,\n",
       " Cat\n",
       " Сантехника                                       9710\n",
       " Общие вопросы                                    3442\n",
       " Канализация                                      2926\n",
       " ГВС (Несоответствие температурных параметров)    2443\n",
       " Электроэнергия                                   2300\n",
       "                                                  ... \n",
       " Засор канал                                         1\n",
       " Общие вопросы ХВС                                   1\n",
       " Кровля(очистка от снега и наледи)                   1\n",
       " Подключение к диспетчеризации                       1\n",
       " Опломбирование приборов ГВС                         1\n",
       " Name: count, Length: 82, dtype: int64)"
      ]
     },
     "execution_count": 247,
     "metadata": {},
     "output_type": "execute_result"
    }
   ],
   "source": [
    "c_dataset_v2.Group.value_counts(), c_dataset_v2.Cat.value_counts()"
   ]
  },
  {
   "cell_type": "code",
   "execution_count": null,
   "id": "59e82e37-03d2-4b5d-8ced-58ef8ff90445",
   "metadata": {},
   "outputs": [],
   "source": []
  }
 ],
 "metadata": {
  "kernelspec": {
   "display_name": "volga",
   "language": "python",
   "name": "volga"
  },
  "language_info": {
   "codemirror_mode": {
    "name": "ipython",
    "version": 3
   },
   "file_extension": ".py",
   "mimetype": "text/x-python",
   "name": "python",
   "nbconvert_exporter": "python",
   "pygments_lexer": "ipython3",
   "version": "3.10.13"
  }
 },
 "nbformat": 4,
 "nbformat_minor": 5
}
