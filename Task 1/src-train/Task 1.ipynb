{
 "cells": [
  {
   "cell_type": "markdown",
   "id": "29e3ee60-8d05-4c39-a251-a997c2650542",
   "metadata": {},
   "source": [
    "Activate conda: `source ~/miniconda3/etc/profile.d/conda.sh`"
   ]
  },
  {
   "cell_type": "code",
   "execution_count": 16,
   "id": "12d9ea6f-f136-4b4b-9700-954d5a710396",
   "metadata": {},
   "outputs": [
    {
     "data": {
      "text/plain": [
       "'Packages need install\\n!pip install tensorflow_hub # support CLAREAugmenter\\n'"
      ]
     },
     "execution_count": 16,
     "metadata": {},
     "output_type": "execute_result"
    }
   ],
   "source": [
    "'''Packages need install\n",
    "!pip install tensorflow_hub # support CLAREAugmenter\n",
    "'''"
   ]
  },
  {
   "cell_type": "code",
   "execution_count": 1,
   "id": "e7ecfc51-e4fc-45ff-95aa-a0bce05d6a2e",
   "metadata": {},
   "outputs": [
    {
     "name": "stderr",
     "output_type": "stream",
     "text": [
      "2023-10-23 02:25:22.646445: I tensorflow/core/platform/cpu_feature_guard.cc:182] This TensorFlow binary is optimized to use available CPU instructions in performance-critical operations.\n",
      "To enable the following instructions: SSE4.1 SSE4.2 AVX AVX2 FMA, in other operations, rebuild TensorFlow with the appropriate compiler flags.\n"
     ]
    }
   ],
   "source": [
    "import pandas as pd\n",
    "import numpy as np\n",
    "import xgboost as xgb\n",
    "from tqdm import tqdm\n",
    "from sklearn.svm import SVC\n",
    "from keras.models import Sequential\n",
    "from keras.layers import LSTM, GRU\n",
    "from keras.layers.core import Dense, Activation, Dropout\n",
    "from keras.layers import Embedding\n",
    "from keras.layers import BatchNormalization\n",
    "from keras.utils import np_utils\n",
    "from keras.utils import pad_sequences\n",
    "from sklearn import preprocessing, decomposition, model_selection, metrics, pipeline\n",
    "from sklearn.model_selection import GridSearchCV\n",
    "from sklearn.feature_extraction.text import TfidfVectorizer, CountVectorizer\n",
    "from sklearn.decomposition import TruncatedSVD\n",
    "from sklearn.linear_model import LogisticRegression\n",
    "from sklearn.model_selection import train_test_split\n",
    "from sklearn.naive_bayes import MultinomialNB\n",
    "from sklearn.metrics import accuracy_score\n",
    "from keras.layers import GlobalMaxPooling1D, Conv1D, MaxPooling1D, Flatten, Bidirectional, SpatialDropout1D\n",
    "from keras.preprocessing import sequence, text\n",
    "from keras.callbacks import EarlyStopping\n",
    "from nltk import word_tokenize\n",
    "from nltk.corpus import stopwords\n",
    "stop_words = stopwords.words('russian')"
   ]
  },
  {
   "cell_type": "code",
   "execution_count": 18,
   "id": "db55093b-94df-48f5-93e2-abea0ca37a94",
   "metadata": {},
   "outputs": [],
   "source": [
    "l_dataset = pd.read_csv(\"L.csv\", delimiter=\";\", encoding=\"windows-1251\")\n",
    "c_dataset = pd.read_csv(\"C.csv\", delimiter=\";\", encoding=\"windows-1251\")"
   ]
  },
  {
   "cell_type": "markdown",
   "id": "254ebf42-d444-4ae3-88f2-3cb18893a918",
   "metadata": {},
   "source": [
    "# Overview dataset"
   ]
  },
  {
   "cell_type": "code",
   "execution_count": 19,
   "id": "173291ad-bbac-4ad3-9c38-d18cdf3f235d",
   "metadata": {},
   "outputs": [
    {
     "data": {
      "text/plain": [
       "((50990, 6), (28978, 6))"
      ]
     },
     "execution_count": 19,
     "metadata": {},
     "output_type": "execute_result"
    }
   ],
   "source": [
    "l_dataset.shape, c_dataset.shape"
   ]
  },
  {
   "cell_type": "code",
   "execution_count": 20,
   "id": "80ed81e3-40e4-451f-a250-aa97a29a3a98",
   "metadata": {},
   "outputs": [
    {
     "data": {
      "text/html": [
       "<div>\n",
       "<style scoped>\n",
       "    .dataframe tbody tr th:only-of-type {\n",
       "        vertical-align: middle;\n",
       "    }\n",
       "\n",
       "    .dataframe tbody tr th {\n",
       "        vertical-align: top;\n",
       "    }\n",
       "\n",
       "    .dataframe thead th {\n",
       "        text-align: right;\n",
       "    }\n",
       "</style>\n",
       "<table border=\"1\" class=\"dataframe\">\n",
       "  <thead>\n",
       "    <tr style=\"text-align: right;\">\n",
       "      <th></th>\n",
       "      <th>Number</th>\n",
       "      <th>Date</th>\n",
       "      <th>UID</th>\n",
       "      <th>Desc</th>\n",
       "      <th>Group</th>\n",
       "      <th>Cat</th>\n",
       "    </tr>\n",
       "  </thead>\n",
       "  <tbody>\n",
       "    <tr>\n",
       "      <th>0</th>\n",
       "      <td>1060141</td>\n",
       "      <td>12.03.2021 11:33</td>\n",
       "      <td>7b5dc3bb-1dcb-4954-9f3c-c5dc9c7d45d2</td>\n",
       "      <td>Не горит лампа в коридоре</td>\n",
       "      <td>Управление домом</td>\n",
       "      <td>Разбитые стекла, сорванные створки оконных пер...</td>\n",
       "    </tr>\n",
       "    <tr>\n",
       "      <th>1</th>\n",
       "      <td>1112641</td>\n",
       "      <td>2021-05-27 14:16:23.000</td>\n",
       "      <td>8361aa95-b693-444e-a212-8e1da60e8fde</td>\n",
       "      <td>кривой дорожный знак</td>\n",
       "      <td>Дороги</td>\n",
       "      <td>Общие вопросы</td>\n",
       "    </tr>\n",
       "    <tr>\n",
       "      <th>2</th>\n",
       "      <td>1112656</td>\n",
       "      <td>31.05.2021 12:07</td>\n",
       "      <td>7ac9fbb2-f72f-471d-9a10-ff191b9be927</td>\n",
       "      <td>Провал колодца на пешеходной дороге</td>\n",
       "      <td>Канализация</td>\n",
       "      <td>Общие вопросы</td>\n",
       "    </tr>\n",
       "    <tr>\n",
       "      <th>3</th>\n",
       "      <td>1112657</td>\n",
       "      <td>31.05.2021 12:12</td>\n",
       "      <td>3777d635-b4da-4897-9b89-2ba1aa44d891</td>\n",
       "      <td>Низкие температурные параметры ГВС</td>\n",
       "      <td>ГВС</td>\n",
       "      <td>Общие вопросы</td>\n",
       "    </tr>\n",
       "    <tr>\n",
       "      <th>4</th>\n",
       "      <td>1112668</td>\n",
       "      <td>01.06.2021 11:17</td>\n",
       "      <td>badc0911-6201-4a4e-963e-a63a6a3d408c</td>\n",
       "      <td>запах канализации</td>\n",
       "      <td>Канализация</td>\n",
       "      <td>Общие вопросы</td>\n",
       "    </tr>\n",
       "  </tbody>\n",
       "</table>\n",
       "</div>"
      ],
      "text/plain": [
       "    Number                     Date                                   UID  \\\n",
       "0  1060141         12.03.2021 11:33  7b5dc3bb-1dcb-4954-9f3c-c5dc9c7d45d2   \n",
       "1  1112641  2021-05-27 14:16:23.000  8361aa95-b693-444e-a212-8e1da60e8fde   \n",
       "2  1112656         31.05.2021 12:07  7ac9fbb2-f72f-471d-9a10-ff191b9be927   \n",
       "3  1112657         31.05.2021 12:12  3777d635-b4da-4897-9b89-2ba1aa44d891   \n",
       "4  1112668         01.06.2021 11:17  badc0911-6201-4a4e-963e-a63a6a3d408c   \n",
       "\n",
       "                                  Desc             Group  \\\n",
       "0            Не горит лампа в коридоре  Управление домом   \n",
       "1                 кривой дорожный знак            Дороги   \n",
       "2  Провал колодца на пешеходной дороге       Канализация   \n",
       "3   Низкие температурные параметры ГВС               ГВС   \n",
       "4                    запах канализации       Канализация   \n",
       "\n",
       "                                                 Cat  \n",
       "0  Разбитые стекла, сорванные створки оконных пер...  \n",
       "1                                      Общие вопросы  \n",
       "2                                      Общие вопросы  \n",
       "3                                      Общие вопросы  \n",
       "4                                      Общие вопросы  "
      ]
     },
     "execution_count": 20,
     "metadata": {},
     "output_type": "execute_result"
    }
   ],
   "source": [
    "l_dataset.head()"
   ]
  },
  {
   "cell_type": "code",
   "execution_count": 21,
   "id": "e15e0103-4c47-4a07-a3f0-7316ef0ff942",
   "metadata": {},
   "outputs": [
    {
     "data": {
      "text/html": [
       "<div>\n",
       "<style scoped>\n",
       "    .dataframe tbody tr th:only-of-type {\n",
       "        vertical-align: middle;\n",
       "    }\n",
       "\n",
       "    .dataframe tbody tr th {\n",
       "        vertical-align: top;\n",
       "    }\n",
       "\n",
       "    .dataframe thead th {\n",
       "        text-align: right;\n",
       "    }\n",
       "</style>\n",
       "<table border=\"1\" class=\"dataframe\">\n",
       "  <thead>\n",
       "    <tr style=\"text-align: right;\">\n",
       "      <th></th>\n",
       "      <th>Number</th>\n",
       "      <th>Date</th>\n",
       "      <th>UID</th>\n",
       "      <th>Desc</th>\n",
       "      <th>Group</th>\n",
       "      <th>Cat</th>\n",
       "    </tr>\n",
       "  </thead>\n",
       "  <tbody>\n",
       "    <tr>\n",
       "      <th>0</th>\n",
       "      <td>1346291</td>\n",
       "      <td>01.01.2023 2:10</td>\n",
       "      <td>e87b2cfa-6159-4aa2-b789-3974a01e0b0a</td>\n",
       "      <td>Застряли в лифте</td>\n",
       "      <td>NaN</td>\n",
       "      <td>NaN</td>\n",
       "    </tr>\n",
       "    <tr>\n",
       "      <th>1</th>\n",
       "      <td>1346298</td>\n",
       "      <td>01.01.2023 9:09</td>\n",
       "      <td>d6257b7b-d68c-449f-aef3-6c4af1a2d78f</td>\n",
       "      <td>Течь батареи  в спальной</td>\n",
       "      <td>NaN</td>\n",
       "      <td>NaN</td>\n",
       "    </tr>\n",
       "    <tr>\n",
       "      <th>2</th>\n",
       "      <td>1346301</td>\n",
       "      <td>01.01.2023 10:37</td>\n",
       "      <td>927aeffe-0842-4894-8ada-0a91ccdf1692</td>\n",
       "      <td>Течь сверху по стояку</td>\n",
       "      <td>NaN</td>\n",
       "      <td>NaN</td>\n",
       "    </tr>\n",
       "    <tr>\n",
       "      <th>3</th>\n",
       "      <td>1346303</td>\n",
       "      <td>01.01.2023 10:56</td>\n",
       "      <td>9884e4a6-2ce4-485b-913d-8e75c7779302</td>\n",
       "      <td>Течь КНС в 3 подвале</td>\n",
       "      <td>NaN</td>\n",
       "      <td>NaN</td>\n",
       "    </tr>\n",
       "    <tr>\n",
       "      <th>4</th>\n",
       "      <td>1346306</td>\n",
       "      <td>01.01.2023 11:44</td>\n",
       "      <td>4593c91a-8b75-46e4-83e5-557d730abea0</td>\n",
       "      <td>Течь кровли (забита ливневка)</td>\n",
       "      <td>NaN</td>\n",
       "      <td>NaN</td>\n",
       "    </tr>\n",
       "  </tbody>\n",
       "</table>\n",
       "</div>"
      ],
      "text/plain": [
       "    Number              Date                                   UID  \\\n",
       "0  1346291   01.01.2023 2:10  e87b2cfa-6159-4aa2-b789-3974a01e0b0a   \n",
       "1  1346298   01.01.2023 9:09  d6257b7b-d68c-449f-aef3-6c4af1a2d78f   \n",
       "2  1346301  01.01.2023 10:37  927aeffe-0842-4894-8ada-0a91ccdf1692   \n",
       "3  1346303  01.01.2023 10:56  9884e4a6-2ce4-485b-913d-8e75c7779302   \n",
       "4  1346306  01.01.2023 11:44  4593c91a-8b75-46e4-83e5-557d730abea0   \n",
       "\n",
       "                            Desc  Group  Cat  \n",
       "0               Застряли в лифте    NaN  NaN  \n",
       "1      Течь батареи  в спальной     NaN  NaN  \n",
       "2         Течь сверху по стояку     NaN  NaN  \n",
       "3          Течь КНС в 3 подвале     NaN  NaN  \n",
       "4  Течь кровли (забита ливневка)    NaN  NaN  "
      ]
     },
     "execution_count": 21,
     "metadata": {},
     "output_type": "execute_result"
    }
   ],
   "source": [
    "c_dataset.head()"
   ]
  },
  {
   "cell_type": "code",
   "execution_count": 22,
   "id": "9717b1c9-54cc-4832-b1de-46e4f1edad6f",
   "metadata": {},
   "outputs": [
    {
     "data": {
      "text/plain": [
       "Number    0\n",
       "Date      0\n",
       "UID       0\n",
       "Desc      2\n",
       "Group     0\n",
       "Cat       0\n",
       "dtype: int64"
      ]
     },
     "execution_count": 22,
     "metadata": {},
     "output_type": "execute_result"
    }
   ],
   "source": [
    "l_dataset.isna().sum()"
   ]
  },
  {
   "cell_type": "code",
   "execution_count": 23,
   "id": "68c973fc-73b2-4284-acc7-fd5f3907527a",
   "metadata": {},
   "outputs": [
    {
     "data": {
      "text/plain": [
       "Index([36, 158], dtype='int64')"
      ]
     },
     "execution_count": 23,
     "metadata": {},
     "output_type": "execute_result"
    }
   ],
   "source": [
    "idx_na = l_dataset[l_dataset[\"Desc\"].isna()].index\n",
    "idx_na"
   ]
  },
  {
   "cell_type": "code",
   "execution_count": 24,
   "id": "c5c89938-a58a-4a61-aca1-d2d3475debe8",
   "metadata": {},
   "outputs": [],
   "source": [
    "# remove nan desc\n",
    "l_dataset = l_dataset[~l_dataset.index.isin(idx_na)]"
   ]
  },
  {
   "cell_type": "code",
   "execution_count": 25,
   "id": "7118b190-02ed-4c53-9686-d8148e59dfee",
   "metadata": {},
   "outputs": [],
   "source": [
    "l_dataset = l_dataset.reset_index(drop=True)"
   ]
  },
  {
   "cell_type": "code",
   "execution_count": 26,
   "id": "727d18a4-3db3-4fe0-9f73-5e63e8d58d54",
   "metadata": {},
   "outputs": [
    {
     "data": {
      "text/plain": [
       "(50988, 6)"
      ]
     },
     "execution_count": 26,
     "metadata": {},
     "output_type": "execute_result"
    }
   ],
   "source": [
    "l_dataset.shape"
   ]
  },
  {
   "cell_type": "code",
   "execution_count": 27,
   "id": "a13bdc9a-36b5-4ee2-b18e-29e8647c0275",
   "metadata": {},
   "outputs": [
    {
     "data": {
      "text/plain": [
       "Number        0\n",
       "Date          0\n",
       "UID           0\n",
       "Desc          0\n",
       "Group     28978\n",
       "Cat       28978\n",
       "dtype: int64"
      ]
     },
     "execution_count": 27,
     "metadata": {},
     "output_type": "execute_result"
    }
   ],
   "source": [
    "c_dataset.isna().sum()"
   ]
  },
  {
   "cell_type": "code",
   "execution_count": 28,
   "id": "d79b7447-10a5-46c3-99fe-c74ff4d429b6",
   "metadata": {},
   "outputs": [
    {
     "data": {
      "text/plain": [
       "Group\n",
       "Управление домом                 47005\n",
       "ГВС                               1729\n",
       "Лифты                             1269\n",
       "Домофоны                           859\n",
       "Общие вопросы                       47\n",
       "Благоустройство                     34\n",
       "Бродячие животные                   14\n",
       "Отопление                            5\n",
       "ХВС                                  4\n",
       "Электроэнергия                       3\n",
       "Сантехника                           3\n",
       "Канализация                          3\n",
       "Газоснабжение                        2\n",
       "Дороги                               2\n",
       "Водоотведение                        2\n",
       "Ливневки                             1\n",
       "Вентиляция                           1\n",
       "Мусоропровод                         1\n",
       "Уборка  придомовой территории        1\n",
       "Работа МФЦ                           1\n",
       "Диспетчеризация                      1\n",
       "Приборы учета                        1\n",
       "Name: count, dtype: int64"
      ]
     },
     "execution_count": 28,
     "metadata": {},
     "output_type": "execute_result"
    }
   ],
   "source": [
    "# check balance of data\n",
    "l_dataset['Group'].value_counts()"
   ]
  },
  {
   "cell_type": "code",
   "execution_count": 29,
   "id": "e6ebd427-ee1b-43d7-bf02-d410f032e591",
   "metadata": {},
   "outputs": [
    {
     "data": {
      "text/plain": [
       "Cat\n",
       "Сантехника                                                            12401\n",
       "Отопление (Отсутствие)                                                 5546\n",
       "Общие вопросы                                                          4617\n",
       "ГВС (Несоответствие температурных параметров)                          4013\n",
       "Канализация                                                            3817\n",
       "                                                                      ...  \n",
       "Ликвидация воздушных пробок                                               1\n",
       "Отключение стояков отопления                                              1\n",
       "Устранение аварии                                                         1\n",
       "Течи в водопроводных кранах и в кранах сливных бачков при унитазах        1\n",
       "Подключение к диспетчеризации                                             1\n",
       "Name: count, Length: 97, dtype: int64"
      ]
     },
     "execution_count": 29,
     "metadata": {},
     "output_type": "execute_result"
    }
   ],
   "source": [
    "l_dataset['Cat'].value_counts()"
   ]
  },
  {
   "cell_type": "code",
   "execution_count": 30,
   "id": "0a2349e7-4663-407e-a8ae-8bdd502568cd",
   "metadata": {},
   "outputs": [
    {
     "name": "stdout",
     "output_type": "stream",
     "text": [
      "1:  12\n",
      "<10:  35\n",
      "<100:  64\n"
     ]
    }
   ],
   "source": [
    "# Count nums of label just have 1\n",
    "print('1: ', sum(l_dataset['Cat'].value_counts() == 1))\n",
    "# Count nums of label less than 10\n",
    "print('<10: ', sum(l_dataset['Cat'].value_counts() < 10))\n",
    "# Count nums of label less than 100\n",
    "print('<100: ', sum(l_dataset['Cat'].value_counts() < 100))"
   ]
  },
  {
   "cell_type": "code",
   "execution_count": 31,
   "id": "0bffd49a-a554-464f-97ce-cb774a7cbc2e",
   "metadata": {},
   "outputs": [
    {
     "ename": "NameError",
     "evalue": "name 'printf' is not defined",
     "output_type": "error",
     "traceback": [
      "\u001b[0;31m---------------------------------------------------------------------------\u001b[0m",
      "\u001b[0;31mNameError\u001b[0m                                 Traceback (most recent call last)",
      "Cell \u001b[0;32mIn[31], line 1\u001b[0m\n\u001b[0;32m----> 1\u001b[0m \u001b[43mprintf\u001b[49m(\u001b[38;5;124m'\u001b[39m\u001b[38;5;124mFirst part done\u001b[39m\u001b[38;5;124m'\u001b[39m)\n",
      "\u001b[0;31mNameError\u001b[0m: name 'printf' is not defined"
     ]
    }
   ],
   "source": [
    "printf('First part done')"
   ]
  },
  {
   "cell_type": "markdown",
   "id": "422bb9f5-6ade-4ddd-9269-c75f59d39ba7",
   "metadata": {},
   "source": [
    "## Data Augmentation by googletrans + textattack\n",
    "[reference](https://www.kaggle.com/code/tuckerarrants/using-google-translate-for-nlp-augmentation)\n",
    "<br>\n",
    "[ref_v1](https://ruslanmv.com/blog/How-to-handle-imbalanced-text-data-in-Natural-Language-Processing)"
   ]
  },
  {
   "cell_type": "code",
   "execution_count": null,
   "id": "1b647222-eb32-428c-a507-c59798f08ffb",
   "metadata": {},
   "outputs": [],
   "source": [
    "from textattack.augmentation import EasyDataAugmenter\n",
    "from textattack.augmentation import WordNetAugmenter\n",
    "from textattack.augmentation import EmbeddingAugmenter\n",
    "from textattack.augmentation import CheckListAugmenter\n",
    "from textattack.augmentation import CLAREAugmenter"
   ]
  },
  {
   "cell_type": "code",
   "execution_count": null,
   "id": "9710b6d5-d4d3-4871-bf34-2116e0428d8a",
   "metadata": {},
   "outputs": [],
   "source": [
    "from deep_translator import GoogleTranslator,   \\\n",
    "                            PonsTranslator,     \\\n",
    "                            LingueeTranslator,  \\\n",
    "                            MyMemoryTranslator, \\\n",
    "                            YandexTranslator # can not register api key\n",
    "MY_DEEPTRANS_API = '5046fb77012286730dd527cb9f2d8e30'"
   ]
  },
  {
   "cell_type": "code",
   "execution_count": null,
   "id": "983c8417-bf8e-4d39-a3ec-4600262adae8",
   "metadata": {},
   "outputs": [],
   "source": [
    "\n",
    "LANGUAGES_FULL = {\n",
    "    'af': 'afrikaans',\n",
    "    'sq': 'albanian',\n",
    "    'am': 'amharic',\n",
    "    'ar': 'arabic',\n",
    "    'hy': 'armenian',\n",
    "    'az': 'azerbaijani',\n",
    "    'eu': 'basque',\n",
    "    'be': 'belarusian',\n",
    "    'bn': 'bengali',\n",
    "    'bs': 'bosnian',\n",
    "    'bg': 'bulgarian',\n",
    "    'ca': 'catalan',\n",
    "    'ceb': 'cebuano',\n",
    "    'ny': 'chichewa',\n",
    "    'zh-cn': 'chinese (simplified)',\n",
    "    'zh-tw': 'chinese (traditional)',\n",
    "    'co': 'corsican',\n",
    "    'hr': 'croatian',\n",
    "    'cs': 'czech',\n",
    "    'da': 'danish',\n",
    "    'nl': 'dutch',\n",
    "    'en': 'english',\n",
    "    'eo': 'esperanto',\n",
    "    'et': 'estonian',\n",
    "    'tl': 'filipino',\n",
    "    'fi': 'finnish',\n",
    "    'fr': 'french',\n",
    "    'fy': 'frisian',\n",
    "    'gl': 'galician',\n",
    "    'ka': 'georgian',\n",
    "    'de': 'german',\n",
    "    'el': 'greek',\n",
    "    'gu': 'gujarati',\n",
    "    'ht': 'haitian creole',\n",
    "    'ha': 'hausa',\n",
    "    'haw': 'hawaiian',\n",
    "    'iw': 'hebrew',\n",
    "    'he': 'hebrew',\n",
    "    'hi': 'hindi',\n",
    "    'hmn': 'hmong',\n",
    "    'hu': 'hungarian',\n",
    "    'is': 'icelandic',\n",
    "    'ig': 'igbo',\n",
    "    'id': 'indonesian',\n",
    "    'ga': 'irish',\n",
    "    'it': 'italian',\n",
    "    'ja': 'japanese',\n",
    "    'jw': 'javanese',\n",
    "    'kn': 'kannada',\n",
    "    'kk': 'kazakh',\n",
    "    'km': 'khmer',\n",
    "    'ko': 'korean',\n",
    "    'ku': 'kurdish (kurmanji)',\n",
    "    'ky': 'kyrgyz',\n",
    "    'lo': 'lao',\n",
    "    'la': 'latin',\n",
    "    'lv': 'latvian',\n",
    "    'lt': 'lithuanian',\n",
    "    'lb': 'luxembourgish',\n",
    "    'mk': 'macedonian',\n",
    "    'mg': 'malagasy',\n",
    "    'ms': 'malay',\n",
    "    'ml': 'malayalam',\n",
    "    'mt': 'maltese',\n",
    "    'mi': 'maori',\n",
    "    'mr': 'marathi',\n",
    "    'mn': 'mongolian',\n",
    "    'my': 'myanmar (burmese)',\n",
    "    'ne': 'nepali',\n",
    "    'no': 'norwegian',\n",
    "    'or': 'odia',\n",
    "    'ps': 'pashto',\n",
    "    'fa': 'persian',\n",
    "    'pl': 'polish',\n",
    "    'pt': 'portuguese',\n",
    "    'pa': 'punjabi',\n",
    "    'ro': 'romanian',\n",
    "    'ru': 'russian',\n",
    "    'sm': 'samoan',\n",
    "    'gd': 'scots gaelic',\n",
    "    'sr': 'serbian',\n",
    "    'st': 'sesotho',\n",
    "    'sn': 'shona',\n",
    "    'sd': 'sindhi',\n",
    "    'si': 'sinhala',\n",
    "    'sk': 'slovak',\n",
    "    'sl': 'slovenian',\n",
    "    'so': 'somali',\n",
    "    'es': 'spanish',\n",
    "    'su': 'sundanese',\n",
    "    'sw': 'swahili',\n",
    "    'sv': 'swedish',\n",
    "    'tg': 'tajik',\n",
    "    'ta': 'tamil',\n",
    "    'te': 'telugu',\n",
    "    'th': 'thai',\n",
    "    'tr': 'turkish',\n",
    "    'uk': 'ukrainian',\n",
    "    'ur': 'urdu',\n",
    "    'ug': 'uyghur',\n",
    "    'uz': 'uzbek',\n",
    "    'vi': 'vietnamese',\n",
    "    'cy': 'welsh',\n",
    "    'xh': 'xhosa',\n",
    "    'yi': 'yiddish',\n",
    "    'yo': 'yoruba',\n",
    "    'zu': 'zulu'\n",
    "}\n"
   ]
  },
  {
   "cell_type": "code",
   "execution_count": null,
   "id": "7f992a88-4f2e-4342-8b08-56876ac750f3",
   "metadata": {},
   "outputs": [],
   "source": [
    "LANGUAGES = {\n",
    "    'mt': 'maltese',\n",
    "    'en': 'english', \n",
    "    'de': 'german', \n",
    "    'bg': 'bulgarian', \n",
    "    'pl': 'polish', \n",
    "    'pt': 'portuguese', \n",
    "    'hu': 'hungarian', \n",
    "    'ro': 'romanian', \n",
    "    'ru': 'russian', \n",
    "    'nl': 'dutch', \n",
    "    'slovakian': 'slovakian', \n",
    "    'el': 'greek', \n",
    "    'sl': 'slovenian', \n",
    "    'da': 'danish', \n",
    "    'it': 'italian', \n",
    "    'es': 'spanish', \n",
    "    'fi': 'finnish', \n",
    "    'chinese': 'chinese', \n",
    "    'zh-cn': 'chinese (simplified)',\n",
    "    'zh-tw': 'chinese (traditional)',\n",
    "    'fr': 'french', \n",
    "    'cs': 'czech', \n",
    "    'laotian': 'laotian', \n",
    "    'sv': 'swedish', \n",
    "    'lv': 'latvian', \n",
    "    'et': 'estonian', \n",
    "    'ja': 'japanese'\n",
    "}"
   ]
  },
  {
   "cell_type": "code",
   "execution_count": null,
   "id": "ee3b1ef4-a1c1-4122-9e3d-12c8683f9ed8",
   "metadata": {},
   "outputs": [],
   "source": [
    "languages = list(LANGUAGES.keys())\n",
    "# aug_methods = ['easy', 'wordnet', 'embedding', 'checklist']\n",
    "aug_methods = ['checklist', 'embedding', 'wordnet']\n",
    "translators = ['google']#, 'pons', 'linguee',\n",
    "              #'mymemory', 'libre'] # 'yandex'\n",
    "def rand_trans_utils(huge=False):\n",
    "    idx_lang = round(np.random.uniform(0, len(languages) - 1))\n",
    "    idx_aug_method = round(np.random.uniform(0, len(aug_methods) - 1))\n",
    "    idx_trans = round(np.random.uniform(0, len(translators) - 1))\n",
    "\n",
    "    # get aug method\n",
    "    if aug_methods[idx_aug_method] == 'easy':\n",
    "        rand_aug_method = EasyDataAugmenter()\n",
    "    elif aug_methods[idx_aug_method] == 'wordnet':\n",
    "        rand_aug_method = WordNetAugmenter()\n",
    "    elif aug_methods[idx_aug_method] == 'checklist':\n",
    "        rand_aug_method = CheckListAugmenter(pct_words_to_swap=0.2, transformations_per_example=3)\n",
    "    elif aug_methods[idx_aug_method] == 'clare':\n",
    "        rand_aug_method = CLAREAugmenter()\n",
    "    else:\n",
    "        rand_aug_method = EmbeddingAugmenter()\n",
    "        \n",
    "    translator = None\n",
    "    # get translator\n",
    "    if translators[idx_trans] == 'google':\n",
    "        translator = GoogleTranslator\n",
    "    # elif translators[idx_trans] == 'pons' and not huge:\n",
    "    #     translator = PonsTranslator\n",
    "    # elif translators[idx_trans] == 'linguee' and not huge:\n",
    "    #     translator = LingueeTranslator\n",
    "    # elif translators[idx_trans] == 'mymemory':\n",
    "    #     translator = MyMemoryTranslator\n",
    "    else:\n",
    "        translator = GoogleTranslator\n",
    "        \n",
    "    return languages[idx_lang], rand_aug_method, translator, idx_trans\n",
    "    "
   ]
  },
  {
   "cell_type": "code",
   "execution_count": null,
   "id": "c4c8f2c1-7388-46d0-b068-53afb96ce9b5",
   "metadata": {},
   "outputs": [],
   "source": [
    "def back_translate(sequence, label, PROB = 1):\n",
    "    output_sequence = []\n",
    "    #store original language so we can convert back\n",
    "    org_lang = 'ru'\n",
    "    trans_lang = 'en'\n",
    "\n",
    "    huge = False\n",
    "    if len(sequence) > 50:\n",
    "        huge = True\n",
    "        \n",
    "    #randomly choose language to translate sequence to\n",
    "    target_lang, aug_method, translator, idx_trans = rand_trans_utils(huge)\n",
    "    translated = None\n",
    "    aug_translated = None\n",
    "    #translate to english, that is transform language\n",
    "    try:\n",
    "        translated = translator(source=LANGUAGES[org_lang], target=LANGUAGES[trans_lang]).translate(sequence)\n",
    "        # print(aug_method.augment(translated))\n",
    "        aug_translated = aug_method.augment(translated)\n",
    "    except:\n",
    "        print(f'{translators[idx_trans]} no support translate to {LANGUAGES[trans_lang]}')\n",
    "        pass\n",
    "        \n",
    "    if translated:\n",
    "        for se in aug_translated:\n",
    "            translated_next = None\n",
    "            if trans_lang != target_lang:\n",
    "                try: \n",
    "                    translated_next = translator(source=LANGUAGES[trans_lang], target=LANGUAGES[target_lang]).translate(se)\n",
    "                except:\n",
    "                    # print(f'{translators[idx_trans]} no support translate to {LANGUAGES[target_lang]}')\n",
    "                    break\n",
    "            #translate back to original language\n",
    "            if translated_next:\n",
    "                translated_back = None\n",
    "                try:\n",
    "                    translated_back = translator(source=LANGUAGES[target_lang], target=LANGUAGES[org_lang]).translate(translated_next)\n",
    "                except:\n",
    "                    print(f'Finally, {translators[idx_trans]} no support translate to {LANGUAGES[org_lang]}')\n",
    "                    pass\n",
    "                \n",
    "                #apply with certain probability\n",
    "                if np.random.uniform(0, 1) <= PROB:\n",
    "                    output_sequence.append([translated_back] + label)\n",
    "    else:\n",
    "        output_sequence = output_sequence\n",
    "    output_sequence = [list(x) for x in set(tuple(x) for x in output_sequence)]\n",
    "    return output_sequence\n"
   ]
  },
  {
   "cell_type": "code",
   "execution_count": null,
   "id": "92ee712d-11f8-4b55-ae88-fb88d7d3ad3b",
   "metadata": {},
   "outputs": [],
   "source": [
    "#check performance\n",
    "text = l_dataset['Desc'][10] # sample text\n",
    "group = l_dataset['Group'][10]\n",
    "cate = l_dataset['Cat'][10]\n",
    "label = [group, cate]\n",
    "\n",
    "aug_result = []\n",
    "while len(aug_result) < 20: # with 20 data more\n",
    "    output = back_translate(text, label)\n",
    "    aug_result.extend(output)"
   ]
  },
  {
   "cell_type": "code",
   "execution_count": null,
   "id": "a8ff68f9-4b67-44ee-94ab-d538504c5b5b",
   "metadata": {},
   "outputs": [],
   "source": [
    "len(aug_result)"
   ]
  },
  {
   "cell_type": "code",
   "execution_count": null,
   "id": "4cad548d-f727-48b3-854f-c82294494a95",
   "metadata": {},
   "outputs": [],
   "source": [
    "# compare originla text and augmented text\n",
    "text"
   ]
  },
  {
   "cell_type": "code",
   "execution_count": null,
   "id": "e62fb78b-c40b-459e-a1ee-1240ced637c0",
   "metadata": {},
   "outputs": [],
   "source": [
    "aug_result[:5]"
   ]
  },
  {
   "cell_type": "markdown",
   "id": "1c7afe48-6c57-4d88-b695-b429070071ef",
   "metadata": {},
   "source": [
    "**Applies to Group labels with quantities less than 100**"
   ]
  },
  {
   "cell_type": "code",
   "execution_count": null,
   "id": "afb6f3f3-12a9-4031-b2a0-87f3ff8ecb78",
   "metadata": {},
   "outputs": [],
   "source": [
    "l_dataset.head()"
   ]
  },
  {
   "cell_type": "code",
   "execution_count": null,
   "id": "24d24755-0295-4dbb-b362-f44474c7ae65",
   "metadata": {},
   "outputs": [],
   "source": [
    "group_labels_less = l_dataset['Group'].value_counts()[l_dataset['Group'].value_counts() <= 100]"
   ]
  },
  {
   "cell_type": "code",
   "execution_count": null,
   "id": "787f3241-3c1f-4f44-9a72-a26f08b9d134",
   "metadata": {},
   "outputs": [],
   "source": [
    "group_labels_less.shape"
   ]
  },
  {
   "cell_type": "code",
   "execution_count": null,
   "id": "a024af90-3024-4a44-aab0-af3680b64294",
   "metadata": {},
   "outputs": [],
   "source": [
    "group_labels_less"
   ]
  },
  {
   "cell_type": "code",
   "execution_count": null,
   "id": "21c01c43-34c8-4f5b-a7f3-51b0a9dc26ba",
   "metadata": {},
   "outputs": [],
   "source": [
    "printf('error')"
   ]
  },
  {
   "cell_type": "code",
   "execution_count": null,
   "id": "3e525004-85e3-427e-9554-51fbb48cfc4c",
   "metadata": {},
   "outputs": [],
   "source": [
    "\n",
    "for i in range(len(l_dataset)):\n",
    "    if l_dataset.loc[i, 'Group'] in group_labels_less.index:\n",
    "        text = l_dataset.loc[i, 'Desc']\n",
    "        group = l_dataset.loc[i, 'Group']\n",
    "        cate = l_dataset.loc[i, 'Cat']\n",
    "        cur_nums = group_labels_less[l_dataset.loc[i, 'Group']]\n",
    "\n",
    "        label = [group, cate]\n",
    "\n",
    "        if cur_nums > 10:\n",
    "            more = 5\n",
    "        else:\n",
    "            more = 20\n",
    "            \n",
    "        aug_result = []\n",
    "        while len(aug_result) < more: # with 20 data more\n",
    "            output = back_translate(text, label)\n",
    "            aug_result.extend(output)\n",
    "\n",
    "        # convert to list\n",
    "        aug_result = list(list(x) for x in aug_result)\n",
    "        l_dataset = pd.concat([l_dataset, pd.DataFrame(aug_result, columns=['Desc', 'Group', 'Cat'])], ignore_index=True)\n"
   ]
  },
  {
   "cell_type": "code",
   "execution_count": null,
   "id": "e8a127b1-724e-4ce3-b00b-386394d866d3",
   "metadata": {},
   "outputs": [],
   "source": [
    "l_dataset.shape"
   ]
  },
  {
   "cell_type": "code",
   "execution_count": null,
   "id": "f9ffa0a6-4d65-45a5-8708-73ad407862aa",
   "metadata": {},
   "outputs": [],
   "source": [
    "l_dataset['Group'].value_counts()"
   ]
  },
  {
   "cell_type": "code",
   "execution_count": null,
   "id": "5e604d35-7b4b-4fb9-9ed0-7c04114af0ef",
   "metadata": {},
   "outputs": [],
   "source": [
    "l_dataset['Cat'].value_counts()"
   ]
  },
  {
   "cell_type": "markdown",
   "id": "600dd403-dae3-42bf-bc72-d3b88cb3a766",
   "metadata": {},
   "source": [
    "**Augmentation for category**"
   ]
  },
  {
   "cell_type": "code",
   "execution_count": null,
   "id": "49194756-5e96-4bca-bcdc-5c776afe30d3",
   "metadata": {},
   "outputs": [],
   "source": [
    "cat_labels_less = l_dataset['Cat'].value_counts()[l_dataset['Cat'].value_counts() <= 100]\n",
    "cat_labels_less[:10]"
   ]
  },
  {
   "cell_type": "code",
   "execution_count": null,
   "id": "e785e5c7-8089-4990-83ba-3b4396a77f76",
   "metadata": {},
   "outputs": [],
   "source": [
    "cat_labels_less[10:30]"
   ]
  },
  {
   "cell_type": "code",
   "execution_count": null,
   "id": "40097d6d-4b64-4c95-ae34-31a45950740f",
   "metadata": {},
   "outputs": [],
   "source": [
    "cat_labels_less[30:]"
   ]
  },
  {
   "cell_type": "code",
   "execution_count": null,
   "id": "d5b7240b-6520-4be1-b7bc-776d16c9caaa",
   "metadata": {},
   "outputs": [],
   "source": [
    "cat_labels_less.shape"
   ]
  },
  {
   "cell_type": "code",
   "execution_count": null,
   "id": "c37d5966-a43e-45cd-986b-743c123aa16b",
   "metadata": {},
   "outputs": [],
   "source": [
    "# with no parallel, it takes more than x hours\n",
    "\n",
    "for i in range(len(l_dataset)):\n",
    "    if l_dataset.loc[i, 'Cat'] in cat_labels_less.index:\n",
    "        text = l_dataset.loc[i, 'Desc']\n",
    "        group = l_dataset.loc[i, 'Group']\n",
    "        cate = l_dataset.loc[i, 'Cat']\n",
    "        cur_nums = cat_labels_less[l_dataset.loc[i, 'Cat']]\n",
    "\n",
    "        label = [group, cate]\n",
    "\n",
    "        if cur_nums > 50:\n",
    "            more = 2\n",
    "        elif cur_nums >= 10:\n",
    "            more = 5\n",
    "        else:\n",
    "            more = 20\n",
    "            \n",
    "        aug_result = []\n",
    "        while len(aug_result) < more: # with 20 data more\n",
    "            output = back_translate(text, label)\n",
    "            aug_result.extend(output)\n",
    "\n",
    "        # convert to list\n",
    "        aug_result = list(list(x) for x in aug_result)\n",
    "        l_dataset = pd.concat([l_dataset, pd.DataFrame(aug_result, columns=['Desc', 'Group', 'Cat'])], ignore_index=True)\n"
   ]
  },
  {
   "cell_type": "code",
   "execution_count": null,
   "id": "d5476562-1c39-4e83-9d9b-f2d84476491e",
   "metadata": {},
   "outputs": [],
   "source": [
    "l_dataset['Cat'].value_counts()"
   ]
  },
  {
   "cell_type": "code",
   "execution_count": null,
   "id": "07e6ae63-17df-4cdc-8def-d194e57b2813",
   "metadata": {},
   "outputs": [],
   "source": [
    "l_dataset['Group'].value_counts()"
   ]
  },
  {
   "cell_type": "code",
   "execution_count": null,
   "id": "5427bc73-da13-498d-92d5-c3aeac6967fa",
   "metadata": {},
   "outputs": [],
   "source": [
    "l_dataset.shape"
   ]
  },
  {
   "cell_type": "code",
   "execution_count": null,
   "id": "8bed5c02-5358-40d8-80dc-8f13382192e9",
   "metadata": {},
   "outputs": [],
   "source": [
    "# save to csv file\n",
    "l_dataset.to_csv('L_augment.csv', index=False)"
   ]
  },
  {
   "cell_type": "code",
   "execution_count": null,
   "id": "49238718-25d0-4032-a2ed-fca0566e3569",
   "metadata": {},
   "outputs": [],
   "source": [
    "printf('stop run!')"
   ]
  },
  {
   "cell_type": "markdown",
   "id": "57996da6-1dea-4ff7-a540-ed2308620de6",
   "metadata": {},
   "source": [
    "## Cleaning data after augmentation"
   ]
  },
  {
   "cell_type": "code",
   "execution_count": 2,
   "id": "424300b0-93b7-4a44-be08-d641e413e6c5",
   "metadata": {},
   "outputs": [],
   "source": [
    "import nltk\n",
    "from nltk.stem.wordnet import WordNetLemmatizer"
   ]
  },
  {
   "cell_type": "code",
   "execution_count": 75,
   "id": "4bb64f91-bf60-4307-8141-3d9c1ebb7f80",
   "metadata": {},
   "outputs": [],
   "source": [
    "import seaborn as sns\n",
    "import re\n",
    "import string\n",
    "import imblearn\n",
    "from imblearn.over_sampling import SMOTE"
   ]
  },
  {
   "cell_type": "code",
   "execution_count": 4,
   "id": "5c171720-8453-44f9-8809-96848ecd4302",
   "metadata": {},
   "outputs": [],
   "source": [
    "l_dataset_aug = pd.read_csv(\"L_augment.csv\")\n",
    "# l_dataset_aug = pd.read_csv(\"L.csv\", delimiter=\";\", encoding=\"windows-1251\")\n",
    "# l_dataset_aug.shape\n",
    "\n",
    "# l_dataset_aug = l_dataset_aug[~l_dataset_aug.index.isin(idx_na)]\n",
    "# l_dataset_aug = l_dataset_aug.reset_index(drop=True)"
   ]
  },
  {
   "cell_type": "code",
   "execution_count": 5,
   "id": "30d5af15-0c2a-4c0a-9716-a8f95d071cfd",
   "metadata": {},
   "outputs": [],
   "source": [
    "l_dataset_aug['Desc and Group'] = l_dataset_aug['Desc'] + '. ' + l_dataset_aug['Group']"
   ]
  },
  {
   "cell_type": "code",
   "execution_count": 6,
   "id": "5fa2e018-efa7-460b-986b-a624509b2912",
   "metadata": {},
   "outputs": [
    {
     "data": {
      "text/html": [
       "<div>\n",
       "<style scoped>\n",
       "    .dataframe tbody tr th:only-of-type {\n",
       "        vertical-align: middle;\n",
       "    }\n",
       "\n",
       "    .dataframe tbody tr th {\n",
       "        vertical-align: top;\n",
       "    }\n",
       "\n",
       "    .dataframe thead th {\n",
       "        text-align: right;\n",
       "    }\n",
       "</style>\n",
       "<table border=\"1\" class=\"dataframe\">\n",
       "  <thead>\n",
       "    <tr style=\"text-align: right;\">\n",
       "      <th></th>\n",
       "      <th>Number</th>\n",
       "      <th>Date</th>\n",
       "      <th>UID</th>\n",
       "      <th>Desc</th>\n",
       "      <th>Group</th>\n",
       "      <th>Cat</th>\n",
       "      <th>Desc and Group</th>\n",
       "    </tr>\n",
       "  </thead>\n",
       "  <tbody>\n",
       "    <tr>\n",
       "      <th>0</th>\n",
       "      <td>1060141.0</td>\n",
       "      <td>12.03.2021 11:33</td>\n",
       "      <td>7b5dc3bb-1dcb-4954-9f3c-c5dc9c7d45d2</td>\n",
       "      <td>Не горит лампа в коридоре</td>\n",
       "      <td>Управление домом</td>\n",
       "      <td>Разбитые стекла, сорванные створки оконных пер...</td>\n",
       "      <td>Не горит лампа в коридоре. Управление домом</td>\n",
       "    </tr>\n",
       "    <tr>\n",
       "      <th>1</th>\n",
       "      <td>1112641.0</td>\n",
       "      <td>2021-05-27 14:16:23.000</td>\n",
       "      <td>8361aa95-b693-444e-a212-8e1da60e8fde</td>\n",
       "      <td>кривой дорожный знак</td>\n",
       "      <td>Дороги</td>\n",
       "      <td>Общие вопросы</td>\n",
       "      <td>кривой дорожный знак. Дороги</td>\n",
       "    </tr>\n",
       "    <tr>\n",
       "      <th>2</th>\n",
       "      <td>1112656.0</td>\n",
       "      <td>31.05.2021 12:07</td>\n",
       "      <td>7ac9fbb2-f72f-471d-9a10-ff191b9be927</td>\n",
       "      <td>Провал колодца на пешеходной дороге</td>\n",
       "      <td>Канализация</td>\n",
       "      <td>Общие вопросы</td>\n",
       "      <td>Провал колодца на пешеходной дороге. Канализация</td>\n",
       "    </tr>\n",
       "    <tr>\n",
       "      <th>3</th>\n",
       "      <td>1112657.0</td>\n",
       "      <td>31.05.2021 12:12</td>\n",
       "      <td>3777d635-b4da-4897-9b89-2ba1aa44d891</td>\n",
       "      <td>Низкие температурные параметры ГВС</td>\n",
       "      <td>ГВС</td>\n",
       "      <td>Общие вопросы</td>\n",
       "      <td>Низкие температурные параметры ГВС. ГВС</td>\n",
       "    </tr>\n",
       "    <tr>\n",
       "      <th>4</th>\n",
       "      <td>1112668.0</td>\n",
       "      <td>01.06.2021 11:17</td>\n",
       "      <td>badc0911-6201-4a4e-963e-a63a6a3d408c</td>\n",
       "      <td>запах канализации</td>\n",
       "      <td>Канализация</td>\n",
       "      <td>Общие вопросы</td>\n",
       "      <td>запах канализации. Канализация</td>\n",
       "    </tr>\n",
       "  </tbody>\n",
       "</table>\n",
       "</div>"
      ],
      "text/plain": [
       "      Number                     Date                                   UID  \\\n",
       "0  1060141.0         12.03.2021 11:33  7b5dc3bb-1dcb-4954-9f3c-c5dc9c7d45d2   \n",
       "1  1112641.0  2021-05-27 14:16:23.000  8361aa95-b693-444e-a212-8e1da60e8fde   \n",
       "2  1112656.0         31.05.2021 12:07  7ac9fbb2-f72f-471d-9a10-ff191b9be927   \n",
       "3  1112657.0         31.05.2021 12:12  3777d635-b4da-4897-9b89-2ba1aa44d891   \n",
       "4  1112668.0         01.06.2021 11:17  badc0911-6201-4a4e-963e-a63a6a3d408c   \n",
       "\n",
       "                                  Desc             Group  \\\n",
       "0            Не горит лампа в коридоре  Управление домом   \n",
       "1                 кривой дорожный знак            Дороги   \n",
       "2  Провал колодца на пешеходной дороге       Канализация   \n",
       "3   Низкие температурные параметры ГВС               ГВС   \n",
       "4                    запах канализации       Канализация   \n",
       "\n",
       "                                                 Cat  \\\n",
       "0  Разбитые стекла, сорванные створки оконных пер...   \n",
       "1                                      Общие вопросы   \n",
       "2                                      Общие вопросы   \n",
       "3                                      Общие вопросы   \n",
       "4                                      Общие вопросы   \n",
       "\n",
       "                                     Desc and Group  \n",
       "0       Не горит лампа в коридоре. Управление домом  \n",
       "1                      кривой дорожный знак. Дороги  \n",
       "2  Провал колодца на пешеходной дороге. Канализация  \n",
       "3           Низкие температурные параметры ГВС. ГВС  \n",
       "4                    запах канализации. Канализация  "
      ]
     },
     "execution_count": 6,
     "metadata": {},
     "output_type": "execute_result"
    }
   ],
   "source": [
    "l_dataset_aug.head()"
   ]
  },
  {
   "cell_type": "code",
   "execution_count": 7,
   "id": "dc3a400a-f388-4f22-a511-b215d9e7fe25",
   "metadata": {},
   "outputs": [
    {
     "data": {
      "text/plain": [
       "(38732, 7)"
      ]
     },
     "execution_count": 7,
     "metadata": {},
     "output_type": "execute_result"
    }
   ],
   "source": [
    "# Remove duplicated rows\n",
    "l_dataset_aug = l_dataset_aug.drop_duplicates(subset=['Desc', 'Group', 'Cat'], keep='first')\n",
    "l_dataset_aug.shape"
   ]
  },
  {
   "cell_type": "code",
   "execution_count": 8,
   "id": "eeb6dfc9-24f8-420d-bf88-a938a10ab429",
   "metadata": {},
   "outputs": [
    {
     "data": {
      "text/plain": [
       "Group\n",
       "Управление домом                 34316\n",
       "Лифты                             1346\n",
       "Домофоны                          1024\n",
       "ГВС                                550\n",
       "Общие вопросы                      278\n",
       "ХВС                                186\n",
       "Благоустройство                    178\n",
       "Водоотведение                      165\n",
       "Сантехника                         111\n",
       "Бродячие животные                  109\n",
       "Отопление                          101\n",
       "Работа МФЦ                          89\n",
       "Диспетчеризация                     65\n",
       "Канализация                         42\n",
       "Электроэнергия                      39\n",
       "Дороги                              32\n",
       "Газоснабжение                       27\n",
       "Ливневки                            20\n",
       "Приборы учета                       16\n",
       "Мусоропровод                        14\n",
       "Уборка  придомовой территории       14\n",
       "Вентиляция                          10\n",
       "Name: count, dtype: int64"
      ]
     },
     "execution_count": 8,
     "metadata": {},
     "output_type": "execute_result"
    }
   ],
   "source": [
    "l_dataset_aug['Group'].value_counts()"
   ]
  },
  {
   "cell_type": "code",
   "execution_count": 9,
   "id": "642261b3-f570-4a6d-b023-8a9da721a556",
   "metadata": {},
   "outputs": [
    {
     "data": {
      "text/plain": [
       "Cat\n",
       "Сантехника                                                            9387\n",
       "Общие вопросы                                                         4691\n",
       "Электроэнергия                                                        2732\n",
       "Канализация                                                           2496\n",
       "Отопление (Отсутствие)                                                2337\n",
       "                                                                      ... \n",
       "Произвести механизирован.уборку терр                                    18\n",
       "Устранение аварии                                                       17\n",
       "Течи в водопроводных кранах и в кранах сливных бачков при унитазах      16\n",
       "Подключение к диспетчеризации                                           10\n",
       "Ликвидация воздушных пробок                                              3\n",
       "Name: count, Length: 97, dtype: int64"
      ]
     },
     "execution_count": 9,
     "metadata": {},
     "output_type": "execute_result"
    }
   ],
   "source": [
    "l_dataset_aug['Cat'].value_counts()"
   ]
  },
  {
   "cell_type": "code",
   "execution_count": 10,
   "id": "1a58b30f-880c-4fc3-8fd7-1ca064e9515b",
   "metadata": {},
   "outputs": [
    {
     "data": {
      "text/html": [
       "<div>\n",
       "<style scoped>\n",
       "    .dataframe tbody tr th:only-of-type {\n",
       "        vertical-align: middle;\n",
       "    }\n",
       "\n",
       "    .dataframe tbody tr th {\n",
       "        vertical-align: top;\n",
       "    }\n",
       "\n",
       "    .dataframe thead th {\n",
       "        text-align: right;\n",
       "    }\n",
       "</style>\n",
       "<table border=\"1\" class=\"dataframe\">\n",
       "  <thead>\n",
       "    <tr style=\"text-align: right;\">\n",
       "      <th></th>\n",
       "      <th>Number</th>\n",
       "      <th>Date</th>\n",
       "      <th>UID</th>\n",
       "      <th>Desc</th>\n",
       "      <th>Group</th>\n",
       "      <th>Cat</th>\n",
       "      <th>Desc and Group</th>\n",
       "    </tr>\n",
       "  </thead>\n",
       "  <tbody>\n",
       "    <tr>\n",
       "      <th>0</th>\n",
       "      <td>1060141.0</td>\n",
       "      <td>12.03.2021 11:33</td>\n",
       "      <td>7b5dc3bb-1dcb-4954-9f3c-c5dc9c7d45d2</td>\n",
       "      <td>Не горит лампа в коридоре</td>\n",
       "      <td>Управление домом</td>\n",
       "      <td>Разбитые стекла, сорванные створки оконных пер...</td>\n",
       "      <td>Не горит лампа в коридоре. Управление домом</td>\n",
       "    </tr>\n",
       "    <tr>\n",
       "      <th>1</th>\n",
       "      <td>1112641.0</td>\n",
       "      <td>2021-05-27 14:16:23.000</td>\n",
       "      <td>8361aa95-b693-444e-a212-8e1da60e8fde</td>\n",
       "      <td>кривой дорожный знак</td>\n",
       "      <td>Дороги</td>\n",
       "      <td>Общие вопросы</td>\n",
       "      <td>кривой дорожный знак. Дороги</td>\n",
       "    </tr>\n",
       "    <tr>\n",
       "      <th>2</th>\n",
       "      <td>1112656.0</td>\n",
       "      <td>31.05.2021 12:07</td>\n",
       "      <td>7ac9fbb2-f72f-471d-9a10-ff191b9be927</td>\n",
       "      <td>Провал колодца на пешеходной дороге</td>\n",
       "      <td>Канализация</td>\n",
       "      <td>Общие вопросы</td>\n",
       "      <td>Провал колодца на пешеходной дороге. Канализация</td>\n",
       "    </tr>\n",
       "    <tr>\n",
       "      <th>3</th>\n",
       "      <td>1112657.0</td>\n",
       "      <td>31.05.2021 12:12</td>\n",
       "      <td>3777d635-b4da-4897-9b89-2ba1aa44d891</td>\n",
       "      <td>Низкие температурные параметры ГВС</td>\n",
       "      <td>ГВС</td>\n",
       "      <td>Общие вопросы</td>\n",
       "      <td>Низкие температурные параметры ГВС. ГВС</td>\n",
       "    </tr>\n",
       "    <tr>\n",
       "      <th>4</th>\n",
       "      <td>1112668.0</td>\n",
       "      <td>01.06.2021 11:17</td>\n",
       "      <td>badc0911-6201-4a4e-963e-a63a6a3d408c</td>\n",
       "      <td>запах канализации</td>\n",
       "      <td>Канализация</td>\n",
       "      <td>Общие вопросы</td>\n",
       "      <td>запах канализации. Канализация</td>\n",
       "    </tr>\n",
       "  </tbody>\n",
       "</table>\n",
       "</div>"
      ],
      "text/plain": [
       "      Number                     Date                                   UID  \\\n",
       "0  1060141.0         12.03.2021 11:33  7b5dc3bb-1dcb-4954-9f3c-c5dc9c7d45d2   \n",
       "1  1112641.0  2021-05-27 14:16:23.000  8361aa95-b693-444e-a212-8e1da60e8fde   \n",
       "2  1112656.0         31.05.2021 12:07  7ac9fbb2-f72f-471d-9a10-ff191b9be927   \n",
       "3  1112657.0         31.05.2021 12:12  3777d635-b4da-4897-9b89-2ba1aa44d891   \n",
       "4  1112668.0         01.06.2021 11:17  badc0911-6201-4a4e-963e-a63a6a3d408c   \n",
       "\n",
       "                                  Desc             Group  \\\n",
       "0            Не горит лампа в коридоре  Управление домом   \n",
       "1                 кривой дорожный знак            Дороги   \n",
       "2  Провал колодца на пешеходной дороге       Канализация   \n",
       "3   Низкие температурные параметры ГВС               ГВС   \n",
       "4                    запах канализации       Канализация   \n",
       "\n",
       "                                                 Cat  \\\n",
       "0  Разбитые стекла, сорванные створки оконных пер...   \n",
       "1                                      Общие вопросы   \n",
       "2                                      Общие вопросы   \n",
       "3                                      Общие вопросы   \n",
       "4                                      Общие вопросы   \n",
       "\n",
       "                                     Desc and Group  \n",
       "0       Не горит лампа в коридоре. Управление домом  \n",
       "1                      кривой дорожный знак. Дороги  \n",
       "2  Провал колодца на пешеходной дороге. Канализация  \n",
       "3           Низкие температурные параметры ГВС. ГВС  \n",
       "4                    запах канализации. Канализация  "
      ]
     },
     "execution_count": 10,
     "metadata": {},
     "output_type": "execute_result"
    }
   ],
   "source": [
    "l_dataset_aug.head()"
   ]
  },
  {
   "cell_type": "code",
   "execution_count": 11,
   "id": "c51326a9-5996-4a08-9316-9d7337ba4aca",
   "metadata": {},
   "outputs": [],
   "source": [
    "l_dataset_aug['Length'] = l_dataset_aug['Desc'].apply(lambda x: len(x))"
   ]
  },
  {
   "cell_type": "code",
   "execution_count": 12,
   "id": "9d16e05b-1f95-4a3e-b37c-35b7ad204858",
   "metadata": {},
   "outputs": [
    {
     "data": {
      "text/plain": [
       "<seaborn.axisgrid.FacetGrid at 0x7f4e784fa800>"
      ]
     },
     "execution_count": 12,
     "metadata": {},
     "output_type": "execute_result"
    },
    {
     "data": {
      "image/png": "[encoded data removed]",
      "text/plain": [
       "<Figure size 500x500 with 1 Axes>"
      ]
     },
     "metadata": {},
     "output_type": "display_data"
    }
   ],
   "source": [
    "sns.displot(l_dataset_aug['Length'], kde=True)"
   ]
  },
  {
   "cell_type": "markdown",
   "id": "bffb90e0-a7fd-4676-8fce-ad8af12e4511",
   "metadata": {},
   "source": [
    "### Preprocessing"
   ]
  },
  {
   "cell_type": "code",
   "execution_count": 13,
   "id": "33178954-98ad-48d3-b14e-84f1b798186f",
   "metadata": {},
   "outputs": [],
   "source": [
    "def convert_to_lower(text):\n",
    "    return text.lower()\n",
    "    \n",
    "def remove_numbers(text):\n",
    "    return re.sub(pattern=r'\\d+', repl=\" \", string=text)\n",
    "    \n",
    "def remove_punctuation(text):\n",
    "    return text.translate(str.maketrans('', '', string.punctuation))\n",
    "\n",
    "def remove_stopwords(text):\n",
    "    removed = []\n",
    "    stop_words = list(stopwords.words(\"russian\"))\n",
    "    tokens = word_tokenize(text)\n",
    "    for i in range(len(tokens)):\n",
    "        if tokens[i] not in stop_words:\n",
    "            removed.append(tokens[i])\n",
    "    return \" \".join(removed)\n",
    "\n",
    "def remmove_extra_spaces(text):\n",
    "    single_char_pattern = r'\\s+[a-zA-Z]\\s+'\n",
    "    without_sc = re.sub(pattern=single_char_pattern, repl=\" \", string=text)\n",
    "    return without_sc\n",
    "\n",
    "def lemmatizing(text):\n",
    "    lemmatizer = WordNetLemmatizer()\n",
    "    tokens = word_tokenize(text)\n",
    "    for i in range(len(tokens)):\n",
    "        lemma_word = lemmatizer.lemmatize(tokens[i])\n",
    "        tokens[i] = lemma_word\n",
    "    return \" \".join(tokens)\n",
    "\n",
    "def preprocessing_desc():\n",
    "    l_dataset_aug['Desc clean'] = l_dataset_aug['Desc'].apply(lambda x: convert_to_lower(x))\n",
    "    # l_dataset_aug['Desc clean'] = l_dataset_aug['Desc clean'].apply(lambda x: remove_numbers(x))\n",
    "    l_dataset_aug['Desc clean'] = l_dataset_aug['Desc clean'].apply(lambda x: remove_punctuation(x))\n",
    "    # l_dataset_aug['Desc clean'] = l_dataset_aug['Desc clean'].apply(lambda x: remove_stopwords(x))\n",
    "    l_dataset_aug['Desc clean'] = l_dataset_aug['Desc clean'].apply(lambda x: remmove_extra_spaces(x))\n",
    "    l_dataset_aug['Desc clean'] = l_dataset_aug['Desc clean'].apply(lambda x: lemmatizing(x))\n",
    "    l_dataset_aug['Length after clean'] = l_dataset_aug['Desc clean'].apply(lambda x: len(x))\n",
    "\n",
    "def preprocessing_desc_and_group():\n",
    "    l_dataset_aug['Desc Group clean'] = l_dataset_aug['Desc and Group'].apply(lambda x: convert_to_lower(x))\n",
    "    # l_dataset_aug['Desc Group clean'] = l_dataset_aug['Desc Group clean'].apply(lambda x: remove_numbers(x))\n",
    "    l_dataset_aug['Desc Group clean'] = l_dataset_aug['Desc Group clean'].apply(lambda x: remove_punctuation(x))\n",
    "    # l_dataset_aug['Desc Group clean'] = l_dataset_aug['Desc Group clean'].apply(lambda x: remove_stopwords(x))\n",
    "    l_dataset_aug['Desc Group clean'] = l_dataset_aug['Desc Group clean'].apply(lambda x: remmove_extra_spaces(x))\n",
    "    l_dataset_aug['Desc Group clean'] = l_dataset_aug['Desc Group clean'].apply(lambda x: lemmatizing(x))"
   ]
  },
  {
   "cell_type": "code",
   "execution_count": 14,
   "id": "8e1a494d-1de1-4861-8084-3fdbb3c31531",
   "metadata": {},
   "outputs": [
    {
     "data": {
      "text/plain": [
       "0              Не горит лампа в коридоре\n",
       "1                   кривой дорожный знак\n",
       "2    Провал колодца на пешеходной дороге\n",
       "3     Низкие температурные параметры ГВС\n",
       "4                      запах канализации\n",
       "Name: Desc, dtype: object"
      ]
     },
     "execution_count": 14,
     "metadata": {},
     "output_type": "execute_result"
    }
   ],
   "source": [
    "# Before preprocessing\n",
    "l_dataset_aug['Desc'][:5]"
   ]
  },
  {
   "cell_type": "code",
   "execution_count": 15,
   "id": "cb923f7b-1c60-4a40-950d-a35d281a16c2",
   "metadata": {},
   "outputs": [
    {
     "data": {
      "text/plain": [
       "0         не горит лампа в коридоре управление домом\n",
       "1                        кривой дорожный знак дороги\n",
       "2    провал колодца на пешеходной дороге канализация\n",
       "3             низкие температурные параметры гвс гвс\n",
       "4                      запах канализации канализация\n",
       "Name: Desc Group clean, dtype: object"
      ]
     },
     "execution_count": 15,
     "metadata": {},
     "output_type": "execute_result"
    }
   ],
   "source": [
    "preprocessing_desc_and_group()\n",
    "l_dataset_aug['Desc Group clean'][:5]"
   ]
  },
  {
   "cell_type": "code",
   "execution_count": 16,
   "id": "180a2a70-0cc0-4bf2-bab4-aa33e2c4361b",
   "metadata": {},
   "outputs": [
    {
     "data": {
      "text/plain": [
       "0              не горит лампа в коридоре\n",
       "1                   кривой дорожный знак\n",
       "2    провал колодца на пешеходной дороге\n",
       "3     низкие температурные параметры гвс\n",
       "4                      запах канализации\n",
       "Name: Desc clean, dtype: object"
      ]
     },
     "execution_count": 16,
     "metadata": {},
     "output_type": "execute_result"
    }
   ],
   "source": [
    "preprocessing_desc()\n",
    "l_dataset_aug['Desc clean'][:5]"
   ]
  },
  {
   "cell_type": "code",
   "execution_count": 17,
   "id": "aa50016c-2fbc-4202-9257-d785946097d3",
   "metadata": {},
   "outputs": [
    {
     "data": {
      "text/html": [
       "<div>\n",
       "<style scoped>\n",
       "    .dataframe tbody tr th:only-of-type {\n",
       "        vertical-align: middle;\n",
       "    }\n",
       "\n",
       "    .dataframe tbody tr th {\n",
       "        vertical-align: top;\n",
       "    }\n",
       "\n",
       "    .dataframe thead th {\n",
       "        text-align: right;\n",
       "    }\n",
       "</style>\n",
       "<table border=\"1\" class=\"dataframe\">\n",
       "  <thead>\n",
       "    <tr style=\"text-align: right;\">\n",
       "      <th></th>\n",
       "      <th>Number</th>\n",
       "      <th>Date</th>\n",
       "      <th>UID</th>\n",
       "      <th>Desc</th>\n",
       "      <th>Group</th>\n",
       "      <th>Cat</th>\n",
       "      <th>Desc and Group</th>\n",
       "      <th>Length</th>\n",
       "      <th>Desc Group clean</th>\n",
       "      <th>Desc clean</th>\n",
       "      <th>Length after clean</th>\n",
       "    </tr>\n",
       "  </thead>\n",
       "  <tbody>\n",
       "    <tr>\n",
       "      <th>0</th>\n",
       "      <td>1060141.0</td>\n",
       "      <td>12.03.2021 11:33</td>\n",
       "      <td>7b5dc3bb-1dcb-4954-9f3c-c5dc9c7d45d2</td>\n",
       "      <td>Не горит лампа в коридоре</td>\n",
       "      <td>Управление домом</td>\n",
       "      <td>Разбитые стекла, сорванные створки оконных пер...</td>\n",
       "      <td>Не горит лампа в коридоре. Управление домом</td>\n",
       "      <td>25</td>\n",
       "      <td>не горит лампа в коридоре управление домом</td>\n",
       "      <td>не горит лампа в коридоре</td>\n",
       "      <td>25</td>\n",
       "    </tr>\n",
       "    <tr>\n",
       "      <th>1</th>\n",
       "      <td>1112641.0</td>\n",
       "      <td>2021-05-27 14:16:23.000</td>\n",
       "      <td>8361aa95-b693-444e-a212-8e1da60e8fde</td>\n",
       "      <td>кривой дорожный знак</td>\n",
       "      <td>Дороги</td>\n",
       "      <td>Общие вопросы</td>\n",
       "      <td>кривой дорожный знак. Дороги</td>\n",
       "      <td>20</td>\n",
       "      <td>кривой дорожный знак дороги</td>\n",
       "      <td>кривой дорожный знак</td>\n",
       "      <td>20</td>\n",
       "    </tr>\n",
       "    <tr>\n",
       "      <th>2</th>\n",
       "      <td>1112656.0</td>\n",
       "      <td>31.05.2021 12:07</td>\n",
       "      <td>7ac9fbb2-f72f-471d-9a10-ff191b9be927</td>\n",
       "      <td>Провал колодца на пешеходной дороге</td>\n",
       "      <td>Канализация</td>\n",
       "      <td>Общие вопросы</td>\n",
       "      <td>Провал колодца на пешеходной дороге. Канализация</td>\n",
       "      <td>35</td>\n",
       "      <td>провал колодца на пешеходной дороге канализация</td>\n",
       "      <td>провал колодца на пешеходной дороге</td>\n",
       "      <td>35</td>\n",
       "    </tr>\n",
       "    <tr>\n",
       "      <th>3</th>\n",
       "      <td>1112657.0</td>\n",
       "      <td>31.05.2021 12:12</td>\n",
       "      <td>3777d635-b4da-4897-9b89-2ba1aa44d891</td>\n",
       "      <td>Низкие температурные параметры ГВС</td>\n",
       "      <td>ГВС</td>\n",
       "      <td>Общие вопросы</td>\n",
       "      <td>Низкие температурные параметры ГВС. ГВС</td>\n",
       "      <td>34</td>\n",
       "      <td>низкие температурные параметры гвс гвс</td>\n",
       "      <td>низкие температурные параметры гвс</td>\n",
       "      <td>34</td>\n",
       "    </tr>\n",
       "    <tr>\n",
       "      <th>4</th>\n",
       "      <td>1112668.0</td>\n",
       "      <td>01.06.2021 11:17</td>\n",
       "      <td>badc0911-6201-4a4e-963e-a63a6a3d408c</td>\n",
       "      <td>запах канализации</td>\n",
       "      <td>Канализация</td>\n",
       "      <td>Общие вопросы</td>\n",
       "      <td>запах канализации. Канализация</td>\n",
       "      <td>17</td>\n",
       "      <td>запах канализации канализация</td>\n",
       "      <td>запах канализации</td>\n",
       "      <td>17</td>\n",
       "    </tr>\n",
       "  </tbody>\n",
       "</table>\n",
       "</div>"
      ],
      "text/plain": [
       "      Number                     Date                                   UID  \\\n",
       "0  1060141.0         12.03.2021 11:33  7b5dc3bb-1dcb-4954-9f3c-c5dc9c7d45d2   \n",
       "1  1112641.0  2021-05-27 14:16:23.000  8361aa95-b693-444e-a212-8e1da60e8fde   \n",
       "2  1112656.0         31.05.2021 12:07  7ac9fbb2-f72f-471d-9a10-ff191b9be927   \n",
       "3  1112657.0         31.05.2021 12:12  3777d635-b4da-4897-9b89-2ba1aa44d891   \n",
       "4  1112668.0         01.06.2021 11:17  badc0911-6201-4a4e-963e-a63a6a3d408c   \n",
       "\n",
       "                                  Desc             Group  \\\n",
       "0            Не горит лампа в коридоре  Управление домом   \n",
       "1                 кривой дорожный знак            Дороги   \n",
       "2  Провал колодца на пешеходной дороге       Канализация   \n",
       "3   Низкие температурные параметры ГВС               ГВС   \n",
       "4                    запах канализации       Канализация   \n",
       "\n",
       "                                                 Cat  \\\n",
       "0  Разбитые стекла, сорванные створки оконных пер...   \n",
       "1                                      Общие вопросы   \n",
       "2                                      Общие вопросы   \n",
       "3                                      Общие вопросы   \n",
       "4                                      Общие вопросы   \n",
       "\n",
       "                                     Desc and Group  Length  \\\n",
       "0       Не горит лампа в коридоре. Управление домом      25   \n",
       "1                      кривой дорожный знак. Дороги      20   \n",
       "2  Провал колодца на пешеходной дороге. Канализация      35   \n",
       "3           Низкие температурные параметры ГВС. ГВС      34   \n",
       "4                    запах канализации. Канализация      17   \n",
       "\n",
       "                                  Desc Group clean  \\\n",
       "0       не горит лампа в коридоре управление домом   \n",
       "1                      кривой дорожный знак дороги   \n",
       "2  провал колодца на пешеходной дороге канализация   \n",
       "3           низкие температурные параметры гвс гвс   \n",
       "4                    запах канализации канализация   \n",
       "\n",
       "                            Desc clean  Length after clean  \n",
       "0            не горит лампа в коридоре                  25  \n",
       "1                 кривой дорожный знак                  20  \n",
       "2  провал колодца на пешеходной дороге                  35  \n",
       "3   низкие температурные параметры гвс                  34  \n",
       "4                    запах канализации                  17  "
      ]
     },
     "execution_count": 17,
     "metadata": {},
     "output_type": "execute_result"
    }
   ],
   "source": [
    "l_dataset_aug.head()"
   ]
  },
  {
   "cell_type": "code",
   "execution_count": 18,
   "id": "488c904b-109f-4360-8d4b-738748e618bd",
   "metadata": {},
   "outputs": [
    {
     "data": {
      "text/plain": [
       "<seaborn.axisgrid.FacetGrid at 0x7f4de183b160>"
      ]
     },
     "execution_count": 18,
     "metadata": {},
     "output_type": "execute_result"
    },
    {
     "data": {
      "image/png": "[encoded data removed]",
      "text/plain": [
       "<Figure size 500x500 with 1 Axes>"
      ]
     },
     "metadata": {},
     "output_type": "display_data"
    }
   ],
   "source": [
    "sns.displot(l_dataset_aug['Length after clean'], kde=True)"
   ]
  },
  {
   "cell_type": "markdown",
   "id": "39bf8366-8682-4c70-84cf-8f2943274e12",
   "metadata": {},
   "source": [
    "## Imbalanced Data\n",
    "https://www.phind.com/agent?cache=clni680eu000hmo079y096gup \n",
    "<br>\n",
    "https://machinelearningmastery.com/one-class-classification-algorithms/\n",
    "<br>\n",
    "https://towardsdatascience.com/machine-learning-target-feature-label-imbalance-problem-and-solutions-98c5ae89ad0"
   ]
  },
  {
   "cell_type": "code",
   "execution_count": 111,
   "id": "d21462ef-8221-402a-8d75-1c58df0b0e3a",
   "metadata": {},
   "outputs": [
    {
     "data": {
      "text/plain": [
       "Index(['Сантехника', 'Общие вопросы', 'Электроэнергия', 'Канализация',\n",
       "       'Отопление (Отсутствие)'],\n",
       "      dtype='object', name='Cat')"
      ]
     },
     "execution_count": 111,
     "metadata": {},
     "output_type": "execute_result"
    }
   ],
   "source": [
    "y_train_cat_balanced = l_dataset_aug['Cat'].value_counts().loc[lambda x: x >= 50].index\n",
    "y_train_cat_balanced[:5]"
   ]
  },
  {
   "cell_type": "code",
   "execution_count": 112,
   "id": "dd7f36f1-abfc-431d-80da-4092bbc21b6a",
   "metadata": {},
   "outputs": [
    {
     "data": {
      "text/plain": [
       "(83,)"
      ]
     },
     "execution_count": 112,
     "metadata": {},
     "output_type": "execute_result"
    }
   ],
   "source": [
    "lb_encoding = preprocessing.LabelEncoder()\n",
    "y_train_cat_balanced_encoded = lb_encoding.fit_transform(y_train_cat_balanced)\n",
    "y_train_cat_balanced_encoded.shape"
   ]
  },
  {
   "cell_type": "markdown",
   "id": "373c4b60-aca1-481c-99f9-22fd2e567f77",
   "metadata": {},
   "source": [
    "## Defined multiclass-logloss"
   ]
  },
  {
   "cell_type": "code",
   "execution_count": 19,
   "id": "be7150c3-3747-4e4c-936f-4f91e6405633",
   "metadata": {},
   "outputs": [],
   "source": [
    "def multiclass_logloss(actual, predicted, eps=1e-15):\n",
    "    \"\"\"\n",
    "    Multi class version of Logarithmic Loss metric.\n",
    "    :param actual: Array containing the actual target classes\n",
    "    :param predicted: Matrix with class predictions, one probability per class\n",
    "    \"\"\"\n",
    "    if len(actual.shape) == 1:\n",
    "        tmp = np.zeros((actual.shape[0], predicted.shape[1]))\n",
    "        for i, val in enumerate(actual):\n",
    "            tmp[i, val] = 1\n",
    "        actual = tmp\n",
    "\n",
    "    clip = np.clip(predicted, eps, 1 - eps)\n",
    "    rows = actual.shape[0]\n",
    "    vsota = np.sum(actual * np.log(clip))\n",
    "    return -1.0 / rows * vsota\n",
    "    \n",
    "    "
   ]
  },
  {
   "cell_type": "code",
   "execution_count": 20,
   "id": "84919d97-1be2-43aa-8dfa-695b614f0226",
   "metadata": {},
   "outputs": [
    {
     "data": {
      "text/plain": [
       "(38732,)"
      ]
     },
     "execution_count": 20,
     "metadata": {},
     "output_type": "execute_result"
    }
   ],
   "source": [
    "## Get train data and label\n",
    "x_train = l_dataset_aug[\"Desc clean\"]\n",
    "x_train.shape"
   ]
  },
  {
   "cell_type": "code",
   "execution_count": 21,
   "id": "926ed13c-3441-4376-93ca-05b5a93ed0e9",
   "metadata": {},
   "outputs": [
    {
     "data": {
      "text/plain": [
       "0              не горит лампа в коридоре\n",
       "1                   кривой дорожный знак\n",
       "2    провал колодца на пешеходной дороге\n",
       "3     низкие температурные параметры гвс\n",
       "4                      запах канализации\n",
       "Name: Desc clean, dtype: object"
      ]
     },
     "execution_count": 21,
     "metadata": {},
     "output_type": "execute_result"
    }
   ],
   "source": [
    "x_train[:5]"
   ]
  },
  {
   "cell_type": "code",
   "execution_count": 22,
   "id": "9a117a3b-bb89-4cd2-b679-75f2e6ab75b9",
   "metadata": {},
   "outputs": [
    {
     "data": {
      "text/plain": [
       "(38732,)"
      ]
     },
     "execution_count": 22,
     "metadata": {},
     "output_type": "execute_result"
    }
   ],
   "source": [
    "## Get train data from desc and group for predict category\n",
    "x_train_cat_degr = l_dataset_aug[\"Desc Group clean\"]\n",
    "x_train_cat_degr.shape"
   ]
  },
  {
   "cell_type": "code",
   "execution_count": 23,
   "id": "1b5fe522-fbbc-41d0-8d84-4fa2f52a86e9",
   "metadata": {},
   "outputs": [
    {
     "data": {
      "text/plain": [
       "(38732,)"
      ]
     },
     "execution_count": 23,
     "metadata": {},
     "output_type": "execute_result"
    }
   ],
   "source": [
    "y_train_group = l_dataset_aug[\"Group\"] \n",
    "y_train_group.shape"
   ]
  },
  {
   "cell_type": "code",
   "execution_count": 24,
   "id": "3db13f06-734d-45b7-8c5e-9f7195276c05",
   "metadata": {},
   "outputs": [
    {
     "data": {
      "text/plain": [
       "(38732,)"
      ]
     },
     "execution_count": 24,
     "metadata": {},
     "output_type": "execute_result"
    }
   ],
   "source": [
    "y_train_cat = l_dataset_aug[\"Cat\"] \n",
    "y_train_cat.shape"
   ]
  },
  {
   "cell_type": "code",
   "execution_count": 25,
   "id": "aa47abc0-b9e2-498a-89a5-6510708c037b",
   "metadata": {},
   "outputs": [
    {
     "data": {
      "text/plain": [
       "array([19,  8,  9,  4,  9])"
      ]
     },
     "execution_count": 25,
     "metadata": {},
     "output_type": "execute_result"
    }
   ],
   "source": [
    "# Label encoding for target group\n",
    "lb_encoding = preprocessing.LabelEncoder()\n",
    "y_train_group_encoded = lb_encoding.fit_transform(y_train_group)\n",
    "y_train_group_encoded[:5]"
   ]
  },
  {
   "cell_type": "code",
   "execution_count": 26,
   "id": "3c97049b-38d9-479d-a443-546449a9704a",
   "metadata": {},
   "outputs": [
    {
     "data": {
      "text/plain": [
       "array([72, 46, 46, 46, 46])"
      ]
     },
     "execution_count": 26,
     "metadata": {},
     "output_type": "execute_result"
    }
   ],
   "source": [
    "# Label encoding for target category\n",
    "y_train_cat_encoded = lb_encoding.fit_transform(y_train_cat)\n",
    "y_train_cat_encoded[:5]"
   ]
  },
  {
   "cell_type": "code",
   "execution_count": 27,
   "id": "681ca4bf-fbc4-4011-9be8-ef4e3e938631",
   "metadata": {},
   "outputs": [
    {
     "data": {
      "text/plain": [
       "array([19])"
      ]
     },
     "execution_count": 27,
     "metadata": {},
     "output_type": "execute_result"
    }
   ],
   "source": [
    "y_train_group_encoded[:1]"
   ]
  },
  {
   "cell_type": "code",
   "execution_count": 28,
   "id": "4868c56e-d768-45d8-be37-dc5a44be3736",
   "metadata": {},
   "outputs": [
    {
     "data": {
      "text/plain": [
       "array(['не горит лампа в коридоре', 'кривой дорожный знак',\n",
       "       'провал колодца на пешеходной дороге', ..., 'что ты делаешь',\n",
       "       'чем закончилось', 'что заканчивается'], dtype=object)"
      ]
     },
     "execution_count": 28,
     "metadata": {},
     "output_type": "execute_result"
    }
   ],
   "source": [
    "x_train.values"
   ]
  },
  {
   "cell_type": "code",
   "execution_count": 76,
   "id": "f79d1cc0-dec4-4bbe-9899-dfd722a2322e",
   "metadata": {},
   "outputs": [],
   "source": [
    "# split train and valid data for group\n",
    "x_train_group, x_valid_group, y_train_group, y_valid_group = train_test_split(x_train.values, y_train_group_encoded,\n",
    "                                                                  stratify=y_train_group_encoded,\n",
    "                                                                  random_state=42,\n",
    "                                                                  test_size=0.2,\n",
    "                                                                  shuffle=True)"
   ]
  },
  {
   "cell_type": "code",
   "execution_count": 77,
   "id": "c2040e98-d38e-4880-8c6d-fcd1a88d08b0",
   "metadata": {},
   "outputs": [],
   "source": [
    "x_train_cat, x_valid_cat, y_train_cat, y_valid_cat = train_test_split(x_train.values, y_train_cat_encoded,\n",
    "                                                                  stratify=y_train_cat_encoded,\n",
    "                                                                  random_state=42,\n",
    "                                                                  test_size=0.2,\n",
    "                                                                  shuffle=True)"
   ]
  },
  {
   "cell_type": "code",
   "execution_count": 78,
   "id": "be514b1e-0143-4b0f-a787-0c96396bbba6",
   "metadata": {},
   "outputs": [],
   "source": [
    "x_train_cat_new, x_valid_cat_new, y_train_cat_new, y_valid_cat_new = train_test_split(x_train_cat_degr.values, y_train_cat_encoded,\n",
    "                                                                  stratify=y_train_cat_encoded,\n",
    "                                                                  random_state=42,\n",
    "                                                                  test_size=0.2,\n",
    "                                                                  shuffle=True)"
   ]
  },
  {
   "cell_type": "code",
   "execution_count": 79,
   "id": "9691b9f8-a7e6-41e3-a19e-4cd2a2c97bd3",
   "metadata": {},
   "outputs": [
    {
     "data": {
      "text/plain": [
       "((30985,), (7747,))"
      ]
     },
     "execution_count": 79,
     "metadata": {},
     "output_type": "execute_result"
    }
   ],
   "source": [
    "x_train_group.shape, x_valid_group.shape"
   ]
  },
  {
   "cell_type": "code",
   "execution_count": 80,
   "id": "9f6dd025-8b74-4168-aff9-42219b16812e",
   "metadata": {},
   "outputs": [
    {
     "data": {
      "text/plain": [
       "((30985,), (7747,), (30985,))"
      ]
     },
     "execution_count": 80,
     "metadata": {},
     "output_type": "execute_result"
    }
   ],
   "source": [
    "x_train_cat.shape, x_valid_cat.shape, x_train_cat_new.shape"
   ]
  },
  {
   "cell_type": "code",
   "execution_count": 42,
   "id": "f2fc22c9-7acd-40ef-8e84-4216bdbfbca2",
   "metadata": {},
   "outputs": [
    {
     "ename": "NameError",
     "evalue": "name 'printf' is not defined",
     "output_type": "error",
     "traceback": [
      "\u001b[0;31m---------------------------------------------------------------------------\u001b[0m",
      "\u001b[0;31mNameError\u001b[0m                                 Traceback (most recent call last)",
      "Cell \u001b[0;32mIn[42], line 1\u001b[0m\n\u001b[0;32m----> 1\u001b[0m \u001b[43mprintf\u001b[49m(\u001b[38;5;124m'\u001b[39m\u001b[38;5;124mError\u001b[39m\u001b[38;5;124m'\u001b[39m)\n",
      "\u001b[0;31mNameError\u001b[0m: name 'printf' is not defined"
     ]
    }
   ],
   "source": [
    "printf('Error')"
   ]
  },
  {
   "cell_type": "markdown",
   "id": "71b8bb95-2f72-496e-baac-340132c56567",
   "metadata": {},
   "source": [
    "## Building Basic Models\n",
    "[ref](https://www.kaggle.com/code/abhishek/approaching-almost-any-nlp-problem-on-kaggle)"
   ]
  },
  {
   "cell_type": "markdown",
   "id": "bcd8ab96-e773-45e9-af8b-c7068f878fc0",
   "metadata": {},
   "source": [
    "### Sub test implementing text with vectorization"
   ]
  },
  {
   "cell_type": "code",
   "execution_count": 43,
   "id": "18982b3b-9408-4c47-9195-570f54c3be2c",
   "metadata": {},
   "outputs": [],
   "source": [
    "from sklearn.feature_extraction.text import TfidfVectorizer\n",
    "\n",
    "tf_wb = TfidfVectorizer()\n",
    "x_train_tfv_wb = tf_wb.fit_transform(x_train)\n",
    "x_train_tfv_wb = x_train_tfv_wb.toarray()"
   ]
  },
  {
   "cell_type": "code",
   "execution_count": 44,
   "id": "63dbe81a-6583-4d57-8617-ecfee0e9d1ec",
   "metadata": {},
   "outputs": [],
   "source": [
    "x_train_tfv_wb, x_valid_tfv_wb, y_train_tfv_wb, y_valid_tfv_wb = train_test_split(x_train_tfv_wb, y_train_group_encoded, test_size=0.2)"
   ]
  },
  {
   "cell_type": "code",
   "execution_count": null,
   "id": "209711c7-3082-4bae-a9fc-04d4d8c842b8",
   "metadata": {},
   "outputs": [],
   "source": [
    "from sklearn.naive_bayes import GaussianNB\n",
    "NB = GaussianNB()\n",
    "NB.fit(x_train_tfv_wb, y_train_tfv_wb)\n"
   ]
  },
  {
   "cell_type": "code",
   "execution_count": null,
   "id": "9673c727-1e3f-495d-898d-064fad898903",
   "metadata": {},
   "outputs": [],
   "source": [
    "NB_pred = NB.predict(x_valid_tfv_wb)\n",
    "print(accuracy_score(y_valid_tfv_wb, NB_pred)) # last 0.88"
   ]
  },
  {
   "cell_type": "code",
   "execution_count": null,
   "id": "44d0ab7f-dd6d-43c2-8463-3b8d1aeead52",
   "metadata": {},
   "outputs": [],
   "source": [
    "# printf('Error')"
   ]
  },
  {
   "cell_type": "markdown",
   "id": "9f6bcae5-fe5c-4e94-a12c-e0eb08a032b9",
   "metadata": {},
   "source": [
    "### Model for OverSample"
   ]
  },
  {
   "cell_type": "code",
   "execution_count": null,
   "id": "c4ebbbbd-8768-4084-a63e-5ddec361abb3",
   "metadata": {},
   "outputs": [],
   "source": [
    "# RandomOverSampler\n",
    "# from imblearn.over_sampling import SMOTE\n",
    "# from collections import Counter"
   ]
  },
  {
   "cell_type": "code",
   "execution_count": null,
   "id": "df4dd0b4-24df-4e0a-bb69-8a03210cd1e1",
   "metadata": {},
   "outputs": [],
   "source": [
    "# Counter(y_train_group)"
   ]
  },
  {
   "cell_type": "code",
   "execution_count": null,
   "id": "9efba121-79e3-406a-9ea4-a9850f0e2e50",
   "metadata": {},
   "outputs": [],
   "source": [
    "# smote = SMOTE()\n",
    "# x_train_pos, y_train_pos = smote.fit_resample(x_tf, y_train_group)"
   ]
  },
  {
   "cell_type": "markdown",
   "id": "69cae173-541b-4658-b8fa-31b1897bace3",
   "metadata": {},
   "source": [
    "### First model is a simple TF-IDF (Term Frequency - Inverse Document Frequency) followed by a simple Logistic Regression"
   ]
  },
  {
   "cell_type": "code",
   "execution_count": 81,
   "id": "3f63810d-8d1f-4405-9b1d-f441e37d1972",
   "metadata": {},
   "outputs": [
    {
     "name": "stderr",
     "output_type": "stream",
     "text": [
      "/home/jeremie/miniconda3/envs/volga/lib/python3.10/site-packages/sklearn/utils/_param_validation.py:591: FutureWarning: Passing an int for a boolean parameter is deprecated in version 1.2 and won't be supported anymore in version 1.4.\n",
      "  warnings.warn(\n"
     ]
    }
   ],
   "source": [
    "# \n",
    "tfv = TfidfVectorizer(min_df=3, max_features=None,\n",
    "                          strip_accents='unicode',\n",
    "                          analyzer='word',\n",
    "                          token_pattern=r'\\w{1,}',\n",
    "                          ngram_range=(1, 3),\n",
    "                          use_idf=1,\n",
    "                          smooth_idf=1,\n",
    "                          sublinear_tf=1) ## add stop words\n",
    "\n",
    "# Fitting TF-IDF\n",
    "tfv.fit(list(x_train))\n",
    "x_train_group_tfv = tfv.transform(x_train_group)\n",
    "x_valid_group_tfv = tfv.transform(x_valid_group)\n",
    "\n",
    "x_train_cat_tfv = tfv.transform(x_train_cat)\n",
    "x_valid_cat_tfv = tfv.transform(x_valid_cat)\n",
    "\n",
    "x_train_cat_new_tfv = tfv.transform(x_train_cat_new)\n",
    "x_valid_cat_new_tfv = tfv.transform(x_valid_cat_new)"
   ]
  },
  {
   "cell_type": "code",
   "execution_count": 82,
   "id": "c7c2f57d-0f84-4369-a816-17f633c60b48",
   "metadata": {},
   "outputs": [
    {
     "name": "stdout",
     "output_type": "stream",
     "text": [
      "Fitting TF-TDF with group label ...\n",
      "Done.\n",
      "--------------------------------------------------\n",
      "Fitting TF-TDF with category label ...\n",
      "Done.\n",
      "--------------------------------------------------\n",
      "Fitting TF-TDF with category label with new data ...\n",
      "Done.\n"
     ]
    }
   ],
   "source": [
    "# Fitting a simple Logistic Regression for TF-IDF\n",
    "# model for group\n",
    "print('Fitting TF-TDF with group label ...')\n",
    "clf_tfv_group = LogisticRegression(C=1.0, multi_class='auto', solver='lbfgs', max_iter=1000)\n",
    "clf_tfv_group.fit(x_train_group_tfv, y_train_group)\n",
    "print('Done.')\n",
    "print('-' * 50)\n",
    "# model for cat\n",
    "print('Fitting TF-TDF with category label ...')\n",
    "clf_tfv_cat = LogisticRegression(C=1.0, multi_class='auto', solver='lbfgs', max_iter=1000)\n",
    "clf_tfv_cat.fit(x_train_cat_tfv, y_train_cat)\n",
    "print('Done.')\n",
    "print('-' * 50)\n",
    "# model for cat new\n",
    "print('Fitting TF-TDF with category label with new data ...')\n",
    "clf_tfv_cat_new = LogisticRegression(C=1.0, multi_class='auto', solver='lbfgs', max_iter=1000)\n",
    "clf_tfv_cat_new.fit(x_train_cat_new_tfv, y_train_cat)\n",
    "print('Done.')"
   ]
  },
  {
   "cell_type": "markdown",
   "id": "b705b7e4-9f8b-493b-be02-7041dab60891",
   "metadata": {},
   "source": [
    "**Predict for group**"
   ]
  },
  {
   "cell_type": "code",
   "execution_count": 83,
   "id": "7d1e0712-17c2-4f02-852e-d348c37b3e0a",
   "metadata": {},
   "outputs": [],
   "source": [
    "predicted_group = clf_tfv_group.predict_proba(x_valid_group_tfv)"
   ]
  },
  {
   "cell_type": "code",
   "execution_count": 84,
   "id": "b828f594-6efe-4788-b5f8-c0705d941489",
   "metadata": {},
   "outputs": [],
   "source": [
    "classify_group = [np.argmax(x) for x in predicted_group]"
   ]
  },
  {
   "cell_type": "code",
   "execution_count": 85,
   "id": "31789671-36f4-48a4-90d8-bef53ab73021",
   "metadata": {},
   "outputs": [
    {
     "name": "stdout",
     "output_type": "stream",
     "text": [
      "log loss for group: 0.177\n",
      "accuracy for group: 0.949\n"
     ]
    }
   ],
   "source": [
    "print(\"log loss for group: %0.3f\" % multiclass_logloss(y_valid_group, predicted_group)) # last: 0.046\n",
    "print(\"accuracy for group: %0.3f\" % accuracy_score(classify_group, y_valid_group)) # last 0.949"
   ]
  },
  {
   "cell_type": "markdown",
   "id": "9f2e14dc-6944-4b67-8690-83bcd09ba538",
   "metadata": {},
   "source": [
    "**Predict for category**"
   ]
  },
  {
   "cell_type": "code",
   "execution_count": 86,
   "id": "dc464668-20ee-4d81-9d71-c574af6b48a5",
   "metadata": {},
   "outputs": [],
   "source": [
    "predicted_cat = clf_tfv_cat.predict_proba(x_valid_cat_tfv)"
   ]
  },
  {
   "cell_type": "code",
   "execution_count": 87,
   "id": "95f3bd84-4c7a-44ef-9ae0-9cbe4015e4b5",
   "metadata": {},
   "outputs": [],
   "source": [
    "classify_cat = [np.argmax(x) for x in predicted_cat]"
   ]
  },
  {
   "cell_type": "code",
   "execution_count": 88,
   "id": "34c0fc66-3779-4cd1-b226-aea5b0c9385e",
   "metadata": {},
   "outputs": [
    {
     "name": "stdout",
     "output_type": "stream",
     "text": [
      "log loss for category: 1.285\n",
      "accuracy for category: 0.676\n"
     ]
    }
   ],
   "source": [
    "print(\"log loss for category: %0.3f\" % multiclass_logloss(y_valid_cat, predicted_cat)) # last: 0.677\n",
    "print(\"accuracy for category: %0.3f\" % accuracy_score(y_valid_cat, classify_cat))"
   ]
  },
  {
   "cell_type": "markdown",
   "id": "19cf0dd6-2de5-45a5-a50c-ad1371a9ff7e",
   "metadata": {},
   "source": [
    "**Predict for category new**"
   ]
  },
  {
   "cell_type": "code",
   "execution_count": 89,
   "id": "7e9b6ea4-a984-46e6-a8d2-a966d2a810eb",
   "metadata": {},
   "outputs": [],
   "source": [
    "predicted_cat_new = clf_tfv_cat_new.predict_proba(x_valid_cat_new_tfv)"
   ]
  },
  {
   "cell_type": "code",
   "execution_count": 90,
   "id": "054dbdb4-55e7-4ff3-aebc-a4197700a164",
   "metadata": {},
   "outputs": [],
   "source": [
    "classify_cat_new = [np.argmax(x) for x in predicted_cat_new]"
   ]
  },
  {
   "cell_type": "code",
   "execution_count": 91,
   "id": "9d0f3095-ba63-47be-b9c6-efd7eb53d11f",
   "metadata": {},
   "outputs": [
    {
     "name": "stdout",
     "output_type": "stream",
     "text": [
      "log loss for category: 1.203\n",
      "accuracy for category: 0.686\n"
     ]
    }
   ],
   "source": [
    "print(\"log loss for category: %0.3f\" % multiclass_logloss(y_valid_cat, predicted_cat_new)) # last: 0.686\n",
    "print(\"accuracy for category: %0.3f\" % accuracy_score(y_valid_cat, classify_cat_new))"
   ]
  },
  {
   "cell_type": "markdown",
   "id": "5072570b-a3ea-41d0-802e-962ae06ccef4",
   "metadata": {},
   "source": [
    "**If using SMOTE for handle imbalanced data**"
   ]
  },
  {
   "cell_type": "code",
   "execution_count": 93,
   "id": "9ee75c43-a530-40c2-90d3-b3a4d0d6dc09",
   "metadata": {},
   "outputs": [],
   "source": [
    "oversample = SMOTE()\n",
    "x_train_balanced_group_tfv, y_balaned_group_tfv = oversample.fit_resample(x_train_group_tfv, y_train_group)\n",
    "oversample_cat_new = SMOTE(k_neighbors=1)\n",
    "x_train_balanced_cat_new_tfv, y_balaned_cat_new_tfv = oversample_cat_new.fit_resample(x_train_cat_new_tfv, y_train_cat)"
   ]
  },
  {
   "cell_type": "code",
   "execution_count": 94,
   "id": "f829de34-e442-4e69-8e5b-0fe3527873a3",
   "metadata": {},
   "outputs": [
    {
     "name": "stdout",
     "output_type": "stream",
     "text": [
      "Fitting TF-TDF with group label ...\n",
      "Done.\n",
      "--------------------------------------------------\n",
      "Fitting TF-TDF with category label with new data ...\n",
      "Done.\n"
     ]
    }
   ],
   "source": [
    "# model for group new after balanced\n",
    "print('Fitting TF-TDF with group label ...')\n",
    "clf_tfv_group_balanced = LogisticRegression(C=1.0, multi_class='auto', solver='lbfgs', max_iter=1000)\n",
    "clf_tfv_group_balanced.fit(x_train_balanced_group_tfv, y_balaned_group_tfv)\n",
    "print('Done.')\n",
    "print('-' * 50)\n",
    "# model for cat new after balanced\n",
    "print('Fitting TF-TDF with category label with new data ...')\n",
    "clf_tfv_cat_new_balanced = LogisticRegression(C=1.0, multi_class='auto', solver='lbfgs', max_iter=1000)\n",
    "clf_tfv_cat_new_balanced.fit(x_train_balanced_cat_new_tfv, y_balaned_cat_new_tfv)\n",
    "print('Done.')"
   ]
  },
  {
   "cell_type": "code",
   "execution_count": 95,
   "id": "7c0466ae-19bc-42ea-83cc-bdcab3a30e2c",
   "metadata": {},
   "outputs": [],
   "source": [
    "predicted_group = clf_tfv_group_balanced.predict_proba(x_valid_group_tfv)\n",
    "classify_group = [np.argmax(x) for x in predicted_group]"
   ]
  },
  {
   "cell_type": "code",
   "execution_count": 96,
   "id": "b74e3cd9-5ed8-4812-9c6b-c695567cab7c",
   "metadata": {},
   "outputs": [
    {
     "name": "stdout",
     "output_type": "stream",
     "text": [
      "log loss for group: 0.275\n",
      "accuracy for group: 0.937\n"
     ]
    }
   ],
   "source": [
    "print(\"log loss for group: %0.3f\" % multiclass_logloss(y_valid_group, predicted_group)) # last: 0.046\n",
    "print(\"accuracy for group: %0.3f\" % accuracy_score(classify_group, y_valid_group)) # last 0.949"
   ]
  },
  {
   "cell_type": "code",
   "execution_count": 97,
   "id": "4f6f3a58-5c09-4360-b033-18bf119c2291",
   "metadata": {},
   "outputs": [],
   "source": [
    "# predict for category new"
   ]
  },
  {
   "cell_type": "code",
   "execution_count": 98,
   "id": "10469bf9-de37-4a03-9cd3-e4ab98cd5f25",
   "metadata": {},
   "outputs": [],
   "source": [
    "predicted_cat_new = clf_tfv_cat_new_balanced.predict_proba(x_valid_cat_new_tfv)\n",
    "classify_cat_new = [np.argmax(x) for x in predicted_cat_new]"
   ]
  },
  {
   "cell_type": "code",
   "execution_count": 99,
   "id": "85bcbb84-6dfd-4200-9242-1b10ba2bec0f",
   "metadata": {},
   "outputs": [
    {
     "name": "stdout",
     "output_type": "stream",
     "text": [
      "log loss for category: 1.126\n",
      "accuracy for category: 0.658\n"
     ]
    }
   ],
   "source": [
    "print(\"log loss for category: %0.3f\" % multiclass_logloss(y_valid_cat, predicted_cat_new)) # last: 0.686\n",
    "print(\"accuracy for category: %0.3f\" % accuracy_score(y_valid_cat, classify_cat_new))"
   ]
  },
  {
   "cell_type": "markdown",
   "id": "feb9f835-1e8e-4a56-bbe5-a5a7d6c4aa9e",
   "metadata": {},
   "source": [
    "### Using CountVectorizer from scikit-learn"
   ]
  },
  {
   "cell_type": "code",
   "execution_count": 65,
   "id": "ac8bee16-2349-479c-9d64-29664b453854",
   "metadata": {},
   "outputs": [],
   "source": [
    "ctv = CountVectorizer(analyzer='word',\n",
    "                         token_pattern=r'\\w{1,}',\n",
    "                         ngram_range=(1, 3),\n",
    "                         # stop_words = 'russian'\n",
    "                     )\n",
    "# Fitting CountVectorizer\n",
    "ctv.fit(list(x_train))\n",
    "x_train_group_ctv = ctv.transform(x_train_group)\n",
    "x_valid_group_ctv = ctv.transform(x_valid_group)\n",
    "\n",
    "x_train_cat_ctv = ctv.transform(x_train_cat)\n",
    "x_valid_cat_ctv = ctv.transform(x_valid_cat)\n",
    "\n",
    "x_train_cat_new_ctv = ctv.transform(x_train_cat_new)\n",
    "x_valid_cat_new_ctv = ctv.transform(x_valid_cat_new)"
   ]
  },
  {
   "cell_type": "code",
   "execution_count": 141,
   "id": "f191d556-17fc-4d4f-b58f-aacc2664b368",
   "metadata": {},
   "outputs": [
    {
     "name": "stdout",
     "output_type": "stream",
     "text": [
      "Fitting CountVectorizer with group label ...\n",
      "Done.\n",
      "--------------------------------------------------\n"
     ]
    }
   ],
   "source": [
    "# Fitting a simple Logistic Regression for Count Vetorizer\n",
    "# model for group\n",
    "print('Fitting CountVectorizer with group label ...')\n",
    "clf_ctv_group = LogisticRegression(C=1.0, multi_class='auto', solver='lbfgs', max_iter=1000)\n",
    "clf_ctv_group.fit(x_train_group_ctv, y_train_group)\n",
    "print('Done.')\n",
    "print('-' * 50)"
   ]
  },
  {
   "cell_type": "code",
   "execution_count": 142,
   "id": "275fe8c2-7ddb-4c71-be62-1e61bae76305",
   "metadata": {},
   "outputs": [
    {
     "name": "stdout",
     "output_type": "stream",
     "text": [
      "Fitting CountVectorizer with cat label ...\n",
      "Done.\n",
      "--------------------------------------------------\n",
      "Fitting CountVectorizer with cat label with new data...\n",
      "Done.\n"
     ]
    }
   ],
   "source": [
    "# model for cat - kernel error (maybe hardware limitations)\n",
    "print('Fitting CountVectorizer with cat label ...')\n",
    "clf_ctv_cat = LogisticRegression(C=1.0, multi_class='auto', solver='lbfgs', max_iter=1000)\n",
    "clf_ctv_cat.fit(x_train_cat_ctv, y_train_cat)\n",
    "print('Done.')\n",
    "print('-' * 50)\n",
    "print('Fitting CountVectorizer with cat label with new data...')\n",
    "clf_ctv_cat_new = LogisticRegression(C=1.0, multi_class='auto', solver='lbfgs', max_iter=1000)\n",
    "clf_ctv_cat_new.fit(x_train_cat_new_ctv, y_train_cat)\n",
    "print('Done.')"
   ]
  },
  {
   "cell_type": "markdown",
   "id": "bf801dbb-9a50-4b7e-a407-bef70ca94c48",
   "metadata": {},
   "source": [
    "**Predict for group**"
   ]
  },
  {
   "cell_type": "code",
   "execution_count": 143,
   "id": "619c2edf-c557-471e-b63e-d6d1529cdd06",
   "metadata": {},
   "outputs": [],
   "source": [
    "predicted_ctv_group = clf_ctv_group.predict_proba(x_valid_group_ctv)"
   ]
  },
  {
   "cell_type": "code",
   "execution_count": 144,
   "id": "3a3c65c5-8b17-43b2-a88d-a077558f3a17",
   "metadata": {},
   "outputs": [],
   "source": [
    "classify_group = [np.argmax(x) for x in predicted_ctv_group]"
   ]
  },
  {
   "cell_type": "code",
   "execution_count": 145,
   "id": "52e77cf6-1033-4771-9958-bcab1728ef97",
   "metadata": {},
   "outputs": [
    {
     "name": "stdout",
     "output_type": "stream",
     "text": [
      "log loss: 0.123\n",
      "accuracy for group: 0.961\n"
     ]
    }
   ],
   "source": [
    "print(\"log loss: %0.3f\" % multiclass_logloss(y_valid_group, predicted_ctv_group))\n",
    "print(\"accuracy for group: %0.3f\" % accuracy_score(classify_group, y_valid_group)) # last 0.961"
   ]
  },
  {
   "cell_type": "markdown",
   "id": "022a5835-5ee2-43aa-a6fa-f5f5339c7a72",
   "metadata": {},
   "source": [
    "**Predict for category**"
   ]
  },
  {
   "cell_type": "code",
   "execution_count": 146,
   "id": "6bad018e-4a52-41b3-b7c3-5a3282c29365",
   "metadata": {},
   "outputs": [],
   "source": [
    "predicted_ctv_cat = clf_ctv_cat.predict_proba(x_valid_cat_ctv)"
   ]
  },
  {
   "cell_type": "code",
   "execution_count": 147,
   "id": "1ad9823f-6fa4-408f-bb59-38c4b7b8286e",
   "metadata": {},
   "outputs": [],
   "source": [
    "classify_cat = [np.argmax(x) for x in predicted_ctv_cat]"
   ]
  },
  {
   "cell_type": "code",
   "execution_count": 148,
   "id": "8f986dae-4674-4852-9a55-b07bdb0d1bd0",
   "metadata": {},
   "outputs": [
    {
     "name": "stdout",
     "output_type": "stream",
     "text": [
      "log loss: 0.995\n",
      "accuracy for category: 0.704\n"
     ]
    }
   ],
   "source": [
    "print(\"log loss: %0.3f\" % multiclass_logloss(y_valid_cat, predicted_ctv_cat))\n",
    "print(\"accuracy for category: %0.3f\" % accuracy_score(classify_cat, y_valid_cat)) # last 0.704"
   ]
  },
  {
   "cell_type": "markdown",
   "id": "c9bcaf48-b092-491d-99f1-b250af640604",
   "metadata": {},
   "source": [
    "**Predict for category with new data**"
   ]
  },
  {
   "cell_type": "code",
   "execution_count": 149,
   "id": "615f86d3-a67d-4f44-8b91-86c026aa82d1",
   "metadata": {},
   "outputs": [],
   "source": [
    "predicted_ctv_cat_new = clf_ctv_cat_new.predict_proba(x_valid_cat_new_ctv)"
   ]
  },
  {
   "cell_type": "code",
   "execution_count": 150,
   "id": "12ac7fdd-ec83-45b6-b047-fddbdb2713ed",
   "metadata": {},
   "outputs": [],
   "source": [
    "classify_cat_new = [np.argmax(x) for x in predicted_ctv_cat_new]"
   ]
  },
  {
   "cell_type": "code",
   "execution_count": 151,
   "id": "7304098b-516b-40f5-870d-b6e35f242ef4",
   "metadata": {},
   "outputs": [
    {
     "name": "stdout",
     "output_type": "stream",
     "text": [
      "log loss: 0.920\n",
      "accuracy for category: 0.722\n"
     ]
    }
   ],
   "source": [
    "print(\"log loss: %0.3f\" % multiclass_logloss(y_valid_cat, predicted_ctv_cat_new))\n",
    "print(\"accuracy for category: %0.3f\" % accuracy_score(classify_cat_new, y_valid_cat)) #last 0.722"
   ]
  },
  {
   "cell_type": "code",
   "execution_count": null,
   "id": "595bc11c-155a-4936-895c-3f755a333b4c",
   "metadata": {},
   "outputs": [],
   "source": [
    "# pritnf('Seconds model done')"
   ]
  },
  {
   "cell_type": "code",
   "execution_count": 100,
   "id": "21cb3758-c78f-4e4a-86db-e2423d0ace8c",
   "metadata": {},
   "outputs": [],
   "source": [
    "# Using SMOTE\n",
    "oversample = SMOTE()\n",
    "x_train_balanced_group_ctv, y_balaned_group_ctv = oversample.fit_resample(x_train_group_ctv, y_train_group)\n",
    "oversample_cat_new = SMOTE(k_neighbors=1)\n",
    "x_train_balanced_cat_new_ctv, y_balaned_cat_new_ctv = oversample_cat_new.fit_resample(x_train_cat_new_ctv, y_train_cat)"
   ]
  },
  {
   "cell_type": "code",
   "execution_count": 107,
   "id": "e1976fb0-d735-43b4-a35e-2cc15f7b807a",
   "metadata": {},
   "outputs": [
    {
     "data": {
      "text/plain": [
       "(30985,)"
      ]
     },
     "execution_count": 107,
     "metadata": {},
     "output_type": "execute_result"
    }
   ],
   "source": [
    "y_train_cat.shape"
   ]
  },
  {
   "cell_type": "code",
   "execution_count": 115,
   "id": "920a9f56-30aa-4772-84c0-72bdb5072558",
   "metadata": {},
   "outputs": [
    {
     "name": "stdout",
     "output_type": "stream",
     "text": [
      "Fitting CountVectorizer with group label ...\n",
      "Done.\n",
      "--------------------------------------------------\n",
      "Fitting CountVectorizer with cat label with new data...\n",
      "Done.\n"
     ]
    }
   ],
   "source": [
    "# Fitting a simple Logistic Regression for Count Vetorizer\n",
    "# model for group\n",
    "print('Fitting CountVectorizer with group label ...')\n",
    "clf_ctv_group_balanced = LogisticRegression(C=1.0, multi_class='auto', solver='lbfgs', max_iter=1000)\n",
    "clf_ctv_group_balanced.fit(x_train_balanced_group_ctv, y_balaned_group_ctv)\n",
    "print('Done.')\n",
    "print('-' * 50)\n",
    "print('Fitting CountVectorizer with cat label with new data...')\n",
    "clf_ctv_cat_new_balanced = LogisticRegression(C=1.0, multi_class='auto', solver='lbfgs', max_iter=1000)\n",
    "clf_ctv_cat_new_balanced.fit(x_train_balanced_cat_new_ctv, y_balaned_cat_new_ctv)\n",
    "print('Done.')"
   ]
  },
  {
   "cell_type": "code",
   "execution_count": 116,
   "id": "d371ecab-3552-4c97-974c-71e9b165234e",
   "metadata": {},
   "outputs": [],
   "source": [
    "predicted_group = clf_ctv_group_balanced.predict_proba(x_valid_group_ctv)\n",
    "classify_group = [np.argmax(x) for x in predicted_group]"
   ]
  },
  {
   "cell_type": "code",
   "execution_count": 117,
   "id": "d7f2c817-ea31-41fb-a18d-7106315f86fc",
   "metadata": {},
   "outputs": [
    {
     "name": "stdout",
     "output_type": "stream",
     "text": [
      "log loss for group: 0.286\n",
      "accuracy for group: 0.921\n"
     ]
    }
   ],
   "source": [
    "print(\"log loss for group: %0.3f\" % multiclass_logloss(y_valid_group, predicted_group)) # last: 0.046\n",
    "print(\"accuracy for group: %0.3f\" % accuracy_score(classify_group, y_valid_group)) # last 0.949"
   ]
  },
  {
   "cell_type": "code",
   "execution_count": 118,
   "id": "58a44323-c859-40f4-bd65-57f39c02aa29",
   "metadata": {},
   "outputs": [],
   "source": [
    "predicted_cat_new = clf_ctv_cat_new_balanced.predict_proba(x_valid_cat_new_ctv)\n",
    "classify_cat_new = [np.argmax(x) for x in predicted_cat_new]"
   ]
  },
  {
   "cell_type": "code",
   "execution_count": 119,
   "id": "1d59f0ab-668c-4b73-8b8e-2599d02f50d0",
   "metadata": {},
   "outputs": [
    {
     "name": "stdout",
     "output_type": "stream",
     "text": [
      "log loss for category: 1.420\n",
      "accuracy for category: 0.634\n"
     ]
    }
   ],
   "source": [
    "print(\"log loss for category: %0.3f\" % multiclass_logloss(y_valid_cat, predicted_cat_new)) # last: 0.686\n",
    "print(\"accuracy for category: %0.3f\" % accuracy_score(y_valid_cat, classify_cat_new))"
   ]
  },
  {
   "cell_type": "markdown",
   "id": "26b098f2-8a87-4e27-af74-e390185885bd",
   "metadata": {},
   "source": [
    "### Naive Bayes on TF-IDF"
   ]
  },
  {
   "cell_type": "code",
   "execution_count": 152,
   "id": "2d720427-65e7-419e-a472-c1fb20f12f54",
   "metadata": {},
   "outputs": [
    {
     "name": "stderr",
     "output_type": "stream",
     "text": [
      "/home/jeremie/miniconda3/envs/volga/lib/python3.10/site-packages/sklearn/utils/_param_validation.py:591: FutureWarning: Passing an int for a boolean parameter is deprecated in version 1.2 and won't be supported anymore in version 1.4.\n",
      "  warnings.warn(\n"
     ]
    }
   ],
   "source": [
    "# fit from desc\n",
    "x_naive_tf = tfv.fit_transform(list(x_train))\n",
    "# fit from desc and group to predict cat\n",
    "x_naive_new_tf = tfv.fit_transform(list(x_train_cat_degr))"
   ]
  },
  {
   "cell_type": "code",
   "execution_count": 153,
   "id": "c2857c6b-b9b8-44e9-aca4-7af75cb6bad1",
   "metadata": {},
   "outputs": [
    {
     "data": {
      "text/plain": [
       "((38732, 27989), (38732, 32942))"
      ]
     },
     "execution_count": 153,
     "metadata": {},
     "output_type": "execute_result"
    }
   ],
   "source": [
    "x_naive_tf.shape, x_naive_new_tf.shape"
   ]
  },
  {
   "cell_type": "code",
   "execution_count": 154,
   "id": "9dd8da39-5bb7-4c16-908b-9500f2cadb20",
   "metadata": {},
   "outputs": [],
   "source": [
    "x_train_group_nb_tf, x_valid_group_nb_tf, y_train_group_nb_tf, y_valid_group_nb_tf = train_test_split(x_naive_tf, y_train_group_encoded, test_size=0.2)\n",
    "x_train_cat_nb_tf, x_valid_cat_nb_tf, y_train_cat_nb_tf, y_valid_cat_nb_tf = train_test_split(x_naive_tf, y_train_cat_encoded, test_size=0.2)\n",
    "x_train_cat_new_nb_tf, x_valid_cat_new_nb_tf, y_train_cat_new_nb_tf, y_valid_cat_new_nb_tf = train_test_split(x_naive_new_tf, y_train_cat_encoded, test_size=0.2)"
   ]
  },
  {
   "cell_type": "code",
   "execution_count": 155,
   "id": "89acec1c-93a4-4fc6-b647-0b610ab501a5",
   "metadata": {},
   "outputs": [
    {
     "data": {
      "text/html": [
       "<style>#sk-container-id-1 {color: black;}#sk-container-id-1 pre{padding: 0;}#sk-container-id-1 div.sk-toggleable {background-color: white;}#sk-container-id-1 label.sk-toggleable__label {cursor: pointer;display: block;width: 100%;margin-bottom: 0;padding: 0.3em;box-sizing: border-box;text-align: center;}#sk-container-id-1 label.sk-toggleable__label-arrow:before {content: \"▸\";float: left;margin-right: 0.25em;color: #696969;}#sk-container-id-1 label.sk-toggleable__label-arrow:hover:before {color: black;}#sk-container-id-1 div.sk-estimator:hover label.sk-toggleable__label-arrow:before {color: black;}#sk-container-id-1 div.sk-toggleable__content {max-height: 0;max-width: 0;overflow: hidden;text-align: left;background-color: #f0f8ff;}#sk-container-id-1 div.sk-toggleable__content pre {margin: 0.2em;color: black;border-radius: 0.25em;background-color: #f0f8ff;}#sk-container-id-1 input.sk-toggleable__control:checked~div.sk-toggleable__content {max-height: 200px;max-width: 100%;overflow: auto;}#sk-container-id-1 input.sk-toggleable__control:checked~label.sk-toggleable__label-arrow:before {content: \"▾\";}#sk-container-id-1 div.sk-estimator input.sk-toggleable__control:checked~label.sk-toggleable__label {background-color: #d4ebff;}#sk-container-id-1 div.sk-label input.sk-toggleable__control:checked~label.sk-toggleable__label {background-color: #d4ebff;}#sk-container-id-1 input.sk-hidden--visually {border: 0;clip: rect(1px 1px 1px 1px);clip: rect(1px, 1px, 1px, 1px);height: 1px;margin: -1px;overflow: hidden;padding: 0;position: absolute;width: 1px;}#sk-container-id-1 div.sk-estimator {font-family: monospace;background-color: #f0f8ff;border: 1px dotted black;border-radius: 0.25em;box-sizing: border-box;margin-bottom: 0.5em;}#sk-container-id-1 div.sk-estimator:hover {background-color: #d4ebff;}#sk-container-id-1 div.sk-parallel-item::after {content: \"\";width: 100%;border-bottom: 1px solid gray;flex-grow: 1;}#sk-container-id-1 div.sk-label:hover label.sk-toggleable__label {background-color: #d4ebff;}#sk-container-id-1 div.sk-serial::before {content: \"\";position: absolute;border-left: 1px solid gray;box-sizing: border-box;top: 0;bottom: 0;left: 50%;z-index: 0;}#sk-container-id-1 div.sk-serial {display: flex;flex-direction: column;align-items: center;background-color: white;padding-right: 0.2em;padding-left: 0.2em;position: relative;}#sk-container-id-1 div.sk-item {position: relative;z-index: 1;}#sk-container-id-1 div.sk-parallel {display: flex;align-items: stretch;justify-content: center;background-color: white;position: relative;}#sk-container-id-1 div.sk-item::before, #sk-container-id-1 div.sk-parallel-item::before {content: \"\";position: absolute;border-left: 1px solid gray;box-sizing: border-box;top: 0;bottom: 0;left: 50%;z-index: -1;}#sk-container-id-1 div.sk-parallel-item {display: flex;flex-direction: column;z-index: 1;position: relative;background-color: white;}#sk-container-id-1 div.sk-parallel-item:first-child::after {align-self: flex-end;width: 50%;}#sk-container-id-1 div.sk-parallel-item:last-child::after {align-self: flex-start;width: 50%;}#sk-container-id-1 div.sk-parallel-item:only-child::after {width: 0;}#sk-container-id-1 div.sk-dashed-wrapped {border: 1px dashed gray;margin: 0 0.4em 0.5em 0.4em;box-sizing: border-box;padding-bottom: 0.4em;background-color: white;}#sk-container-id-1 div.sk-label label {font-family: monospace;font-weight: bold;display: inline-block;line-height: 1.2em;}#sk-container-id-1 div.sk-label-container {text-align: center;}#sk-container-id-1 div.sk-container {/* jupyter's `normalize.less` sets `[hidden] { display: none; }` but bootstrap.min.css set `[hidden] { display: none !important; }` so we also need the `!important` here to be able to override the default hidden behavior on the sphinx rendered scikit-learn.org. See: https://github.com/scikit-learn/scikit-learn/issues/21755 */display: inline-block !important;position: relative;}#sk-container-id-1 div.sk-text-repr-fallback {display: none;}</style><div id=\"sk-container-id-1\" class=\"sk-top-container\"><div class=\"sk-text-repr-fallback\"><pre>MultinomialNB()</pre><b>In a Jupyter environment, please rerun this cell to show the HTML representation or trust the notebook. <br />On GitHub, the HTML representation is unable to render, please try loading this page with nbviewer.org.</b></div><div class=\"sk-container\" hidden><div class=\"sk-item\"><div class=\"sk-estimator sk-toggleable\"><input class=\"sk-toggleable__control sk-hidden--visually\" id=\"sk-estimator-id-1\" type=\"checkbox\" checked><label for=\"sk-estimator-id-1\" class=\"sk-toggleable__label sk-toggleable__label-arrow\">MultinomialNB</label><div class=\"sk-toggleable__content\"><pre>MultinomialNB()</pre></div></div></div></div></div>"
      ],
      "text/plain": [
       "MultinomialNB()"
      ]
     },
     "execution_count": 155,
     "metadata": {},
     "output_type": "execute_result"
    }
   ],
   "source": [
    "# NB for group\n",
    "clf_nb_tfv_group = MultinomialNB()\n",
    "clf_nb_tfv_group.fit(x_train_group_nb_tf, y_train_group_nb_tf)"
   ]
  },
  {
   "cell_type": "code",
   "execution_count": 156,
   "id": "455339ac-eea8-4e2c-b299-8fc7aa9657bc",
   "metadata": {},
   "outputs": [],
   "source": [
    "predicted_nb_tfv_group = clf_nb_tfv_group.predict_proba(x_valid_group_nb_tf)"
   ]
  },
  {
   "cell_type": "code",
   "execution_count": 157,
   "id": "8c4b5369-40ee-423f-8e80-ca369fedb532",
   "metadata": {},
   "outputs": [],
   "source": [
    "classify_nb_group = [np.argmax(x) for x in predicted_nb_tfv_group]"
   ]
  },
  {
   "cell_type": "code",
   "execution_count": 158,
   "id": "99ffbf14-15e0-432b-b040-c29d7c897e1b",
   "metadata": {},
   "outputs": [
    {
     "name": "stdout",
     "output_type": "stream",
     "text": [
      "log loss: 0.227 \n",
      "accuracy for group: 0.943\n"
     ]
    }
   ],
   "source": [
    "print (\"log loss: %0.3f \" % multiclass_logloss(y_valid_group_nb_tf, predicted_nb_tfv_group))\n",
    "print(\"accuracy for group: %0.3f\" % accuracy_score(y_valid_group_nb_tf, classify_nb_group)) last: 0.943"
   ]
  },
  {
   "cell_type": "code",
   "execution_count": 159,
   "id": "5383f42b-b558-4383-b30c-33436cc872c2",
   "metadata": {},
   "outputs": [
    {
     "data": {
      "text/html": [
       "<style>#sk-container-id-2 {color: black;}#sk-container-id-2 pre{padding: 0;}#sk-container-id-2 div.sk-toggleable {background-color: white;}#sk-container-id-2 label.sk-toggleable__label {cursor: pointer;display: block;width: 100%;margin-bottom: 0;padding: 0.3em;box-sizing: border-box;text-align: center;}#sk-container-id-2 label.sk-toggleable__label-arrow:before {content: \"▸\";float: left;margin-right: 0.25em;color: #696969;}#sk-container-id-2 label.sk-toggleable__label-arrow:hover:before {color: black;}#sk-container-id-2 div.sk-estimator:hover label.sk-toggleable__label-arrow:before {color: black;}#sk-container-id-2 div.sk-toggleable__content {max-height: 0;max-width: 0;overflow: hidden;text-align: left;background-color: #f0f8ff;}#sk-container-id-2 div.sk-toggleable__content pre {margin: 0.2em;color: black;border-radius: 0.25em;background-color: #f0f8ff;}#sk-container-id-2 input.sk-toggleable__control:checked~div.sk-toggleable__content {max-height: 200px;max-width: 100%;overflow: auto;}#sk-container-id-2 input.sk-toggleable__control:checked~label.sk-toggleable__label-arrow:before {content: \"▾\";}#sk-container-id-2 div.sk-estimator input.sk-toggleable__control:checked~label.sk-toggleable__label {background-color: #d4ebff;}#sk-container-id-2 div.sk-label input.sk-toggleable__control:checked~label.sk-toggleable__label {background-color: #d4ebff;}#sk-container-id-2 input.sk-hidden--visually {border: 0;clip: rect(1px 1px 1px 1px);clip: rect(1px, 1px, 1px, 1px);height: 1px;margin: -1px;overflow: hidden;padding: 0;position: absolute;width: 1px;}#sk-container-id-2 div.sk-estimator {font-family: monospace;background-color: #f0f8ff;border: 1px dotted black;border-radius: 0.25em;box-sizing: border-box;margin-bottom: 0.5em;}#sk-container-id-2 div.sk-estimator:hover {background-color: #d4ebff;}#sk-container-id-2 div.sk-parallel-item::after {content: \"\";width: 100%;border-bottom: 1px solid gray;flex-grow: 1;}#sk-container-id-2 div.sk-label:hover label.sk-toggleable__label {background-color: #d4ebff;}#sk-container-id-2 div.sk-serial::before {content: \"\";position: absolute;border-left: 1px solid gray;box-sizing: border-box;top: 0;bottom: 0;left: 50%;z-index: 0;}#sk-container-id-2 div.sk-serial {display: flex;flex-direction: column;align-items: center;background-color: white;padding-right: 0.2em;padding-left: 0.2em;position: relative;}#sk-container-id-2 div.sk-item {position: relative;z-index: 1;}#sk-container-id-2 div.sk-parallel {display: flex;align-items: stretch;justify-content: center;background-color: white;position: relative;}#sk-container-id-2 div.sk-item::before, #sk-container-id-2 div.sk-parallel-item::before {content: \"\";position: absolute;border-left: 1px solid gray;box-sizing: border-box;top: 0;bottom: 0;left: 50%;z-index: -1;}#sk-container-id-2 div.sk-parallel-item {display: flex;flex-direction: column;z-index: 1;position: relative;background-color: white;}#sk-container-id-2 div.sk-parallel-item:first-child::after {align-self: flex-end;width: 50%;}#sk-container-id-2 div.sk-parallel-item:last-child::after {align-self: flex-start;width: 50%;}#sk-container-id-2 div.sk-parallel-item:only-child::after {width: 0;}#sk-container-id-2 div.sk-dashed-wrapped {border: 1px dashed gray;margin: 0 0.4em 0.5em 0.4em;box-sizing: border-box;padding-bottom: 0.4em;background-color: white;}#sk-container-id-2 div.sk-label label {font-family: monospace;font-weight: bold;display: inline-block;line-height: 1.2em;}#sk-container-id-2 div.sk-label-container {text-align: center;}#sk-container-id-2 div.sk-container {/* jupyter's `normalize.less` sets `[hidden] { display: none; }` but bootstrap.min.css set `[hidden] { display: none !important; }` so we also need the `!important` here to be able to override the default hidden behavior on the sphinx rendered scikit-learn.org. See: https://github.com/scikit-learn/scikit-learn/issues/21755 */display: inline-block !important;position: relative;}#sk-container-id-2 div.sk-text-repr-fallback {display: none;}</style><div id=\"sk-container-id-2\" class=\"sk-top-container\"><div class=\"sk-text-repr-fallback\"><pre>MultinomialNB()</pre><b>In a Jupyter environment, please rerun this cell to show the HTML representation or trust the notebook. <br />On GitHub, the HTML representation is unable to render, please try loading this page with nbviewer.org.</b></div><div class=\"sk-container\" hidden><div class=\"sk-item\"><div class=\"sk-estimator sk-toggleable\"><input class=\"sk-toggleable__control sk-hidden--visually\" id=\"sk-estimator-id-2\" type=\"checkbox\" checked><label for=\"sk-estimator-id-2\" class=\"sk-toggleable__label sk-toggleable__label-arrow\">MultinomialNB</label><div class=\"sk-toggleable__content\"><pre>MultinomialNB()</pre></div></div></div></div></div>"
      ],
      "text/plain": [
       "MultinomialNB()"
      ]
     },
     "execution_count": 159,
     "metadata": {},
     "output_type": "execute_result"
    }
   ],
   "source": [
    "# NB for cat\n",
    "clf_nb_tfv_cat = MultinomialNB()\n",
    "clf_nb_tfv_cat.fit(x_train_cat_nb_tf, y_train_cat_nb_tf)"
   ]
  },
  {
   "cell_type": "code",
   "execution_count": 160,
   "id": "02784dcf-16ab-4057-b60d-9672b357d9b0",
   "metadata": {},
   "outputs": [],
   "source": [
    "predicted_nb_tfv_cat = clf_nb_tfv_cat.predict_proba(x_valid_cat_nb_tf)"
   ]
  },
  {
   "cell_type": "code",
   "execution_count": 161,
   "id": "2cc7ff84-8b4c-49c7-b9a3-be60dc553dd3",
   "metadata": {},
   "outputs": [],
   "source": [
    "classify_nb_cat = [np.argmax(x) for x in predicted_nb_tfv_cat]"
   ]
  },
  {
   "cell_type": "code",
   "execution_count": 162,
   "id": "ea0e00f0-1061-4da8-8b87-1bdd06c48466",
   "metadata": {},
   "outputs": [
    {
     "name": "stdout",
     "output_type": "stream",
     "text": [
      "logloss: 1.763 \n",
      "accuracy for cat: 0.590\n"
     ]
    }
   ],
   "source": [
    "print (\"logloss: %0.3f \" % multiclass_logloss(y_valid_cat_nb_tf, predicted_nb_tfv_cat))\n",
    "print(\"accuracy for cat: %0.3f\" % accuracy_score(y_valid_cat_nb_tf, classify_nb_cat)) # last: 0.59"
   ]
  },
  {
   "cell_type": "code",
   "execution_count": 163,
   "id": "81340e80-fc86-49bb-878b-139c49bca328",
   "metadata": {},
   "outputs": [
    {
     "data": {
      "text/html": [
       "<style>#sk-container-id-3 {color: black;}#sk-container-id-3 pre{padding: 0;}#sk-container-id-3 div.sk-toggleable {background-color: white;}#sk-container-id-3 label.sk-toggleable__label {cursor: pointer;display: block;width: 100%;margin-bottom: 0;padding: 0.3em;box-sizing: border-box;text-align: center;}#sk-container-id-3 label.sk-toggleable__label-arrow:before {content: \"▸\";float: left;margin-right: 0.25em;color: #696969;}#sk-container-id-3 label.sk-toggleable__label-arrow:hover:before {color: black;}#sk-container-id-3 div.sk-estimator:hover label.sk-toggleable__label-arrow:before {color: black;}#sk-container-id-3 div.sk-toggleable__content {max-height: 0;max-width: 0;overflow: hidden;text-align: left;background-color: #f0f8ff;}#sk-container-id-3 div.sk-toggleable__content pre {margin: 0.2em;color: black;border-radius: 0.25em;background-color: #f0f8ff;}#sk-container-id-3 input.sk-toggleable__control:checked~div.sk-toggleable__content {max-height: 200px;max-width: 100%;overflow: auto;}#sk-container-id-3 input.sk-toggleable__control:checked~label.sk-toggleable__label-arrow:before {content: \"▾\";}#sk-container-id-3 div.sk-estimator input.sk-toggleable__control:checked~label.sk-toggleable__label {background-color: #d4ebff;}#sk-container-id-3 div.sk-label input.sk-toggleable__control:checked~label.sk-toggleable__label {background-color: #d4ebff;}#sk-container-id-3 input.sk-hidden--visually {border: 0;clip: rect(1px 1px 1px 1px);clip: rect(1px, 1px, 1px, 1px);height: 1px;margin: -1px;overflow: hidden;padding: 0;position: absolute;width: 1px;}#sk-container-id-3 div.sk-estimator {font-family: monospace;background-color: #f0f8ff;border: 1px dotted black;border-radius: 0.25em;box-sizing: border-box;margin-bottom: 0.5em;}#sk-container-id-3 div.sk-estimator:hover {background-color: #d4ebff;}#sk-container-id-3 div.sk-parallel-item::after {content: \"\";width: 100%;border-bottom: 1px solid gray;flex-grow: 1;}#sk-container-id-3 div.sk-label:hover label.sk-toggleable__label {background-color: #d4ebff;}#sk-container-id-3 div.sk-serial::before {content: \"\";position: absolute;border-left: 1px solid gray;box-sizing: border-box;top: 0;bottom: 0;left: 50%;z-index: 0;}#sk-container-id-3 div.sk-serial {display: flex;flex-direction: column;align-items: center;background-color: white;padding-right: 0.2em;padding-left: 0.2em;position: relative;}#sk-container-id-3 div.sk-item {position: relative;z-index: 1;}#sk-container-id-3 div.sk-parallel {display: flex;align-items: stretch;justify-content: center;background-color: white;position: relative;}#sk-container-id-3 div.sk-item::before, #sk-container-id-3 div.sk-parallel-item::before {content: \"\";position: absolute;border-left: 1px solid gray;box-sizing: border-box;top: 0;bottom: 0;left: 50%;z-index: -1;}#sk-container-id-3 div.sk-parallel-item {display: flex;flex-direction: column;z-index: 1;position: relative;background-color: white;}#sk-container-id-3 div.sk-parallel-item:first-child::after {align-self: flex-end;width: 50%;}#sk-container-id-3 div.sk-parallel-item:last-child::after {align-self: flex-start;width: 50%;}#sk-container-id-3 div.sk-parallel-item:only-child::after {width: 0;}#sk-container-id-3 div.sk-dashed-wrapped {border: 1px dashed gray;margin: 0 0.4em 0.5em 0.4em;box-sizing: border-box;padding-bottom: 0.4em;background-color: white;}#sk-container-id-3 div.sk-label label {font-family: monospace;font-weight: bold;display: inline-block;line-height: 1.2em;}#sk-container-id-3 div.sk-label-container {text-align: center;}#sk-container-id-3 div.sk-container {/* jupyter's `normalize.less` sets `[hidden] { display: none; }` but bootstrap.min.css set `[hidden] { display: none !important; }` so we also need the `!important` here to be able to override the default hidden behavior on the sphinx rendered scikit-learn.org. See: https://github.com/scikit-learn/scikit-learn/issues/21755 */display: inline-block !important;position: relative;}#sk-container-id-3 div.sk-text-repr-fallback {display: none;}</style><div id=\"sk-container-id-3\" class=\"sk-top-container\"><div class=\"sk-text-repr-fallback\"><pre>MultinomialNB()</pre><b>In a Jupyter environment, please rerun this cell to show the HTML representation or trust the notebook. <br />On GitHub, the HTML representation is unable to render, please try loading this page with nbviewer.org.</b></div><div class=\"sk-container\" hidden><div class=\"sk-item\"><div class=\"sk-estimator sk-toggleable\"><input class=\"sk-toggleable__control sk-hidden--visually\" id=\"sk-estimator-id-3\" type=\"checkbox\" checked><label for=\"sk-estimator-id-3\" class=\"sk-toggleable__label sk-toggleable__label-arrow\">MultinomialNB</label><div class=\"sk-toggleable__content\"><pre>MultinomialNB()</pre></div></div></div></div></div>"
      ],
      "text/plain": [
       "MultinomialNB()"
      ]
     },
     "execution_count": 163,
     "metadata": {},
     "output_type": "execute_result"
    }
   ],
   "source": [
    "# NB for cat with data train from desc and group\n",
    "clf_nb_tfv_cat_new = MultinomialNB()\n",
    "clf_nb_tfv_cat_new.fit(x_train_cat_new_nb_tf, y_train_cat_new_nb_tf) "
   ]
  },
  {
   "cell_type": "code",
   "execution_count": 164,
   "id": "30b3b46d-3a3e-414e-8083-c8c11ebdb03b",
   "metadata": {},
   "outputs": [],
   "source": [
    "predicted_nb_tfv_cat = clf_nb_tfv_cat.predict_proba(x_valid_cat_nb_tf)\n",
    "classify_nb_cat = [np.argmax(x) for x in predicted_nb_tfv_cat]"
   ]
  },
  {
   "cell_type": "code",
   "execution_count": 165,
   "id": "7051d002-1f5f-4d1e-8828-7362f7af8957",
   "metadata": {},
   "outputs": [
    {
     "name": "stdout",
     "output_type": "stream",
     "text": [
      "logloss: 1.763 \n",
      "accuracy for cat: 0.590\n"
     ]
    }
   ],
   "source": [
    "print (\"logloss: %0.3f \" % multiclass_logloss(y_valid_cat_nb_tf, predicted_nb_tfv_cat))\n",
    "print(\"accuracy for cat: %0.3f\" % accuracy_score(y_valid_cat_nb_tf, classify_nb_cat)) # last: 0.59"
   ]
  },
  {
   "cell_type": "markdown",
   "id": "dc313387-25d7-46ec-8054-f49d4010ea88",
   "metadata": {},
   "source": [
    "### Naive Bayes on Counts"
   ]
  },
  {
   "cell_type": "code",
   "execution_count": 166,
   "id": "54039b6b-9ac3-4792-a211-f075256329e9",
   "metadata": {},
   "outputs": [],
   "source": [
    "x_naive_ctv = ctv.fit_transform(list(x_train))\n",
    "x_naive_new_ctv = ctv.fit_transform(list(x_train_cat_degr))"
   ]
  },
  {
   "cell_type": "code",
   "execution_count": 167,
   "id": "c5c4b79e-8465-46cd-97ba-f401b19b72a3",
   "metadata": {},
   "outputs": [],
   "source": [
    "x_train_group_nb_ctv, x_valid_group_nb_ctv, y_train_group_nb_ctv, y_valid_group_nb_ctv = train_test_split(x_naive_ctv, y_train_group_encoded, test_size=0.2)\n",
    "x_train_cat_nb_ctv, x_valid_cat_nb_ctv, y_train_cat_nb_ctv, y_valid_cat_nb_ctv = train_test_split(x_naive_ctv, y_train_cat_encoded, test_size=0.2)\n",
    "x_train_cat_new_nb_ctv, x_valid_cat_new_nb_ctv, y_train_cat_new_nb_ctv, y_valid_cat_new_nb_ctv = train_test_split(x_naive_new_ctv, y_train_cat_encoded, test_size=0.2)"
   ]
  },
  {
   "cell_type": "code",
   "execution_count": 168,
   "id": "a5f7ec61-764c-4a25-9645-8b80d9ef8ab4",
   "metadata": {},
   "outputs": [
    {
     "data": {
      "text/html": [
       "<style>#sk-container-id-4 {color: black;}#sk-container-id-4 pre{padding: 0;}#sk-container-id-4 div.sk-toggleable {background-color: white;}#sk-container-id-4 label.sk-toggleable__label {cursor: pointer;display: block;width: 100%;margin-bottom: 0;padding: 0.3em;box-sizing: border-box;text-align: center;}#sk-container-id-4 label.sk-toggleable__label-arrow:before {content: \"▸\";float: left;margin-right: 0.25em;color: #696969;}#sk-container-id-4 label.sk-toggleable__label-arrow:hover:before {color: black;}#sk-container-id-4 div.sk-estimator:hover label.sk-toggleable__label-arrow:before {color: black;}#sk-container-id-4 div.sk-toggleable__content {max-height: 0;max-width: 0;overflow: hidden;text-align: left;background-color: #f0f8ff;}#sk-container-id-4 div.sk-toggleable__content pre {margin: 0.2em;color: black;border-radius: 0.25em;background-color: #f0f8ff;}#sk-container-id-4 input.sk-toggleable__control:checked~div.sk-toggleable__content {max-height: 200px;max-width: 100%;overflow: auto;}#sk-container-id-4 input.sk-toggleable__control:checked~label.sk-toggleable__label-arrow:before {content: \"▾\";}#sk-container-id-4 div.sk-estimator input.sk-toggleable__control:checked~label.sk-toggleable__label {background-color: #d4ebff;}#sk-container-id-4 div.sk-label input.sk-toggleable__control:checked~label.sk-toggleable__label {background-color: #d4ebff;}#sk-container-id-4 input.sk-hidden--visually {border: 0;clip: rect(1px 1px 1px 1px);clip: rect(1px, 1px, 1px, 1px);height: 1px;margin: -1px;overflow: hidden;padding: 0;position: absolute;width: 1px;}#sk-container-id-4 div.sk-estimator {font-family: monospace;background-color: #f0f8ff;border: 1px dotted black;border-radius: 0.25em;box-sizing: border-box;margin-bottom: 0.5em;}#sk-container-id-4 div.sk-estimator:hover {background-color: #d4ebff;}#sk-container-id-4 div.sk-parallel-item::after {content: \"\";width: 100%;border-bottom: 1px solid gray;flex-grow: 1;}#sk-container-id-4 div.sk-label:hover label.sk-toggleable__label {background-color: #d4ebff;}#sk-container-id-4 div.sk-serial::before {content: \"\";position: absolute;border-left: 1px solid gray;box-sizing: border-box;top: 0;bottom: 0;left: 50%;z-index: 0;}#sk-container-id-4 div.sk-serial {display: flex;flex-direction: column;align-items: center;background-color: white;padding-right: 0.2em;padding-left: 0.2em;position: relative;}#sk-container-id-4 div.sk-item {position: relative;z-index: 1;}#sk-container-id-4 div.sk-parallel {display: flex;align-items: stretch;justify-content: center;background-color: white;position: relative;}#sk-container-id-4 div.sk-item::before, #sk-container-id-4 div.sk-parallel-item::before {content: \"\";position: absolute;border-left: 1px solid gray;box-sizing: border-box;top: 0;bottom: 0;left: 50%;z-index: -1;}#sk-container-id-4 div.sk-parallel-item {display: flex;flex-direction: column;z-index: 1;position: relative;background-color: white;}#sk-container-id-4 div.sk-parallel-item:first-child::after {align-self: flex-end;width: 50%;}#sk-container-id-4 div.sk-parallel-item:last-child::after {align-self: flex-start;width: 50%;}#sk-container-id-4 div.sk-parallel-item:only-child::after {width: 0;}#sk-container-id-4 div.sk-dashed-wrapped {border: 1px dashed gray;margin: 0 0.4em 0.5em 0.4em;box-sizing: border-box;padding-bottom: 0.4em;background-color: white;}#sk-container-id-4 div.sk-label label {font-family: monospace;font-weight: bold;display: inline-block;line-height: 1.2em;}#sk-container-id-4 div.sk-label-container {text-align: center;}#sk-container-id-4 div.sk-container {/* jupyter's `normalize.less` sets `[hidden] { display: none; }` but bootstrap.min.css set `[hidden] { display: none !important; }` so we also need the `!important` here to be able to override the default hidden behavior on the sphinx rendered scikit-learn.org. See: https://github.com/scikit-learn/scikit-learn/issues/21755 */display: inline-block !important;position: relative;}#sk-container-id-4 div.sk-text-repr-fallback {display: none;}</style><div id=\"sk-container-id-4\" class=\"sk-top-container\"><div class=\"sk-text-repr-fallback\"><pre>MultinomialNB()</pre><b>In a Jupyter environment, please rerun this cell to show the HTML representation or trust the notebook. <br />On GitHub, the HTML representation is unable to render, please try loading this page with nbviewer.org.</b></div><div class=\"sk-container\" hidden><div class=\"sk-item\"><div class=\"sk-estimator sk-toggleable\"><input class=\"sk-toggleable__control sk-hidden--visually\" id=\"sk-estimator-id-4\" type=\"checkbox\" checked><label for=\"sk-estimator-id-4\" class=\"sk-toggleable__label sk-toggleable__label-arrow\">MultinomialNB</label><div class=\"sk-toggleable__content\"><pre>MultinomialNB()</pre></div></div></div></div></div>"
      ],
      "text/plain": [
       "MultinomialNB()"
      ]
     },
     "execution_count": 168,
     "metadata": {},
     "output_type": "execute_result"
    }
   ],
   "source": [
    "# NB for group\n",
    "clf_nb_ctv_group = MultinomialNB()\n",
    "clf_nb_ctv_group.fit(x_train_group_nb_ctv, y_train_group_nb_ctv)"
   ]
  },
  {
   "cell_type": "code",
   "execution_count": 169,
   "id": "fadeaa54-d550-4922-816f-35eec092a263",
   "metadata": {},
   "outputs": [],
   "source": [
    "predicted_nb_ctv_group = clf_nb_ctv_group.predict_proba(x_valid_group_nb_ctv)"
   ]
  },
  {
   "cell_type": "code",
   "execution_count": 170,
   "id": "ca98acde-bfa6-43c3-82c6-157d5c3bcdca",
   "metadata": {},
   "outputs": [],
   "source": [
    "classify_nb_ctv_group = [np.argmax(x) for x in predicted_nb_ctv_group]"
   ]
  },
  {
   "cell_type": "code",
   "execution_count": 171,
   "id": "0569756b-d12c-42c0-b355-01c7a0cb5d7f",
   "metadata": {},
   "outputs": [
    {
     "name": "stdout",
     "output_type": "stream",
     "text": [
      "log loss: 0.391 \n",
      "accuracy for group: 0.943\n"
     ]
    }
   ],
   "source": [
    "print (\"log loss: %0.3f \" % multiclass_logloss(y_valid_group_nb_ctv, predicted_nb_ctv_group))\n",
    "print(\"accuracy for group: %0.3f\" % accuracy_score(y_valid_group_nb_ctv, classify_nb_ctv_group)) # last: 0.943"
   ]
  },
  {
   "cell_type": "code",
   "execution_count": 172,
   "id": "4ec954a6-194b-48af-9f32-4abe058cda81",
   "metadata": {},
   "outputs": [
    {
     "data": {
      "text/html": [
       "<style>#sk-container-id-5 {color: black;}#sk-container-id-5 pre{padding: 0;}#sk-container-id-5 div.sk-toggleable {background-color: white;}#sk-container-id-5 label.sk-toggleable__label {cursor: pointer;display: block;width: 100%;margin-bottom: 0;padding: 0.3em;box-sizing: border-box;text-align: center;}#sk-container-id-5 label.sk-toggleable__label-arrow:before {content: \"▸\";float: left;margin-right: 0.25em;color: #696969;}#sk-container-id-5 label.sk-toggleable__label-arrow:hover:before {color: black;}#sk-container-id-5 div.sk-estimator:hover label.sk-toggleable__label-arrow:before {color: black;}#sk-container-id-5 div.sk-toggleable__content {max-height: 0;max-width: 0;overflow: hidden;text-align: left;background-color: #f0f8ff;}#sk-container-id-5 div.sk-toggleable__content pre {margin: 0.2em;color: black;border-radius: 0.25em;background-color: #f0f8ff;}#sk-container-id-5 input.sk-toggleable__control:checked~div.sk-toggleable__content {max-height: 200px;max-width: 100%;overflow: auto;}#sk-container-id-5 input.sk-toggleable__control:checked~label.sk-toggleable__label-arrow:before {content: \"▾\";}#sk-container-id-5 div.sk-estimator input.sk-toggleable__control:checked~label.sk-toggleable__label {background-color: #d4ebff;}#sk-container-id-5 div.sk-label input.sk-toggleable__control:checked~label.sk-toggleable__label {background-color: #d4ebff;}#sk-container-id-5 input.sk-hidden--visually {border: 0;clip: rect(1px 1px 1px 1px);clip: rect(1px, 1px, 1px, 1px);height: 1px;margin: -1px;overflow: hidden;padding: 0;position: absolute;width: 1px;}#sk-container-id-5 div.sk-estimator {font-family: monospace;background-color: #f0f8ff;border: 1px dotted black;border-radius: 0.25em;box-sizing: border-box;margin-bottom: 0.5em;}#sk-container-id-5 div.sk-estimator:hover {background-color: #d4ebff;}#sk-container-id-5 div.sk-parallel-item::after {content: \"\";width: 100%;border-bottom: 1px solid gray;flex-grow: 1;}#sk-container-id-5 div.sk-label:hover label.sk-toggleable__label {background-color: #d4ebff;}#sk-container-id-5 div.sk-serial::before {content: \"\";position: absolute;border-left: 1px solid gray;box-sizing: border-box;top: 0;bottom: 0;left: 50%;z-index: 0;}#sk-container-id-5 div.sk-serial {display: flex;flex-direction: column;align-items: center;background-color: white;padding-right: 0.2em;padding-left: 0.2em;position: relative;}#sk-container-id-5 div.sk-item {position: relative;z-index: 1;}#sk-container-id-5 div.sk-parallel {display: flex;align-items: stretch;justify-content: center;background-color: white;position: relative;}#sk-container-id-5 div.sk-item::before, #sk-container-id-5 div.sk-parallel-item::before {content: \"\";position: absolute;border-left: 1px solid gray;box-sizing: border-box;top: 0;bottom: 0;left: 50%;z-index: -1;}#sk-container-id-5 div.sk-parallel-item {display: flex;flex-direction: column;z-index: 1;position: relative;background-color: white;}#sk-container-id-5 div.sk-parallel-item:first-child::after {align-self: flex-end;width: 50%;}#sk-container-id-5 div.sk-parallel-item:last-child::after {align-self: flex-start;width: 50%;}#sk-container-id-5 div.sk-parallel-item:only-child::after {width: 0;}#sk-container-id-5 div.sk-dashed-wrapped {border: 1px dashed gray;margin: 0 0.4em 0.5em 0.4em;box-sizing: border-box;padding-bottom: 0.4em;background-color: white;}#sk-container-id-5 div.sk-label label {font-family: monospace;font-weight: bold;display: inline-block;line-height: 1.2em;}#sk-container-id-5 div.sk-label-container {text-align: center;}#sk-container-id-5 div.sk-container {/* jupyter's `normalize.less` sets `[hidden] { display: none; }` but bootstrap.min.css set `[hidden] { display: none !important; }` so we also need the `!important` here to be able to override the default hidden behavior on the sphinx rendered scikit-learn.org. See: https://github.com/scikit-learn/scikit-learn/issues/21755 */display: inline-block !important;position: relative;}#sk-container-id-5 div.sk-text-repr-fallback {display: none;}</style><div id=\"sk-container-id-5\" class=\"sk-top-container\"><div class=\"sk-text-repr-fallback\"><pre>MultinomialNB()</pre><b>In a Jupyter environment, please rerun this cell to show the HTML representation or trust the notebook. <br />On GitHub, the HTML representation is unable to render, please try loading this page with nbviewer.org.</b></div><div class=\"sk-container\" hidden><div class=\"sk-item\"><div class=\"sk-estimator sk-toggleable\"><input class=\"sk-toggleable__control sk-hidden--visually\" id=\"sk-estimator-id-5\" type=\"checkbox\" checked><label for=\"sk-estimator-id-5\" class=\"sk-toggleable__label sk-toggleable__label-arrow\">MultinomialNB</label><div class=\"sk-toggleable__content\"><pre>MultinomialNB()</pre></div></div></div></div></div>"
      ],
      "text/plain": [
       "MultinomialNB()"
      ]
     },
     "execution_count": 172,
     "metadata": {},
     "output_type": "execute_result"
    }
   ],
   "source": [
    "# NB for category\n",
    "clf_nb_ctv_cat = MultinomialNB()\n",
    "clf_nb_ctv_cat.fit(x_train_cat_nb_ctv, y_train_cat_nb_ctv)"
   ]
  },
  {
   "cell_type": "code",
   "execution_count": 173,
   "id": "0178fbce-32db-40e5-904b-930590d77347",
   "metadata": {},
   "outputs": [],
   "source": [
    "predicted_nb_ctv_cat = clf_nb_ctv_cat.predict_proba(x_valid_cat_nb_ctv)"
   ]
  },
  {
   "cell_type": "code",
   "execution_count": 174,
   "id": "083f5056-c1ab-43e4-8ad7-c0be2feca3b8",
   "metadata": {},
   "outputs": [],
   "source": [
    "classify_nb_ctv_cat = [np.argmax(x) for x in predicted_nb_ctv_cat]"
   ]
  },
  {
   "cell_type": "code",
   "execution_count": 175,
   "id": "c458d69b-6d6e-4e75-8231-4706201b9847",
   "metadata": {},
   "outputs": [
    {
     "name": "stdout",
     "output_type": "stream",
     "text": [
      "log loss: 3.922 \n",
      "accuracy for cat: 0.647\n"
     ]
    }
   ],
   "source": [
    "print(\"log loss: %0.3f \" % multiclass_logloss(y_valid_cat_nb_ctv, predicted_nb_ctv_cat))\n",
    "print(\"accuracy for cat: %0.3f\" % accuracy_score(y_valid_cat_nb_ctv, classify_nb_ctv_cat)) # last: 0.647"
   ]
  },
  {
   "cell_type": "code",
   "execution_count": 177,
   "id": "142c7b7c-a8da-486c-b3e3-f873b13eaa8a",
   "metadata": {},
   "outputs": [
    {
     "data": {
      "text/html": [
       "<style>#sk-container-id-6 {color: black;}#sk-container-id-6 pre{padding: 0;}#sk-container-id-6 div.sk-toggleable {background-color: white;}#sk-container-id-6 label.sk-toggleable__label {cursor: pointer;display: block;width: 100%;margin-bottom: 0;padding: 0.3em;box-sizing: border-box;text-align: center;}#sk-container-id-6 label.sk-toggleable__label-arrow:before {content: \"▸\";float: left;margin-right: 0.25em;color: #696969;}#sk-container-id-6 label.sk-toggleable__label-arrow:hover:before {color: black;}#sk-container-id-6 div.sk-estimator:hover label.sk-toggleable__label-arrow:before {color: black;}#sk-container-id-6 div.sk-toggleable__content {max-height: 0;max-width: 0;overflow: hidden;text-align: left;background-color: #f0f8ff;}#sk-container-id-6 div.sk-toggleable__content pre {margin: 0.2em;color: black;border-radius: 0.25em;background-color: #f0f8ff;}#sk-container-id-6 input.sk-toggleable__control:checked~div.sk-toggleable__content {max-height: 200px;max-width: 100%;overflow: auto;}#sk-container-id-6 input.sk-toggleable__control:checked~label.sk-toggleable__label-arrow:before {content: \"▾\";}#sk-container-id-6 div.sk-estimator input.sk-toggleable__control:checked~label.sk-toggleable__label {background-color: #d4ebff;}#sk-container-id-6 div.sk-label input.sk-toggleable__control:checked~label.sk-toggleable__label {background-color: #d4ebff;}#sk-container-id-6 input.sk-hidden--visually {border: 0;clip: rect(1px 1px 1px 1px);clip: rect(1px, 1px, 1px, 1px);height: 1px;margin: -1px;overflow: hidden;padding: 0;position: absolute;width: 1px;}#sk-container-id-6 div.sk-estimator {font-family: monospace;background-color: #f0f8ff;border: 1px dotted black;border-radius: 0.25em;box-sizing: border-box;margin-bottom: 0.5em;}#sk-container-id-6 div.sk-estimator:hover {background-color: #d4ebff;}#sk-container-id-6 div.sk-parallel-item::after {content: \"\";width: 100%;border-bottom: 1px solid gray;flex-grow: 1;}#sk-container-id-6 div.sk-label:hover label.sk-toggleable__label {background-color: #d4ebff;}#sk-container-id-6 div.sk-serial::before {content: \"\";position: absolute;border-left: 1px solid gray;box-sizing: border-box;top: 0;bottom: 0;left: 50%;z-index: 0;}#sk-container-id-6 div.sk-serial {display: flex;flex-direction: column;align-items: center;background-color: white;padding-right: 0.2em;padding-left: 0.2em;position: relative;}#sk-container-id-6 div.sk-item {position: relative;z-index: 1;}#sk-container-id-6 div.sk-parallel {display: flex;align-items: stretch;justify-content: center;background-color: white;position: relative;}#sk-container-id-6 div.sk-item::before, #sk-container-id-6 div.sk-parallel-item::before {content: \"\";position: absolute;border-left: 1px solid gray;box-sizing: border-box;top: 0;bottom: 0;left: 50%;z-index: -1;}#sk-container-id-6 div.sk-parallel-item {display: flex;flex-direction: column;z-index: 1;position: relative;background-color: white;}#sk-container-id-6 div.sk-parallel-item:first-child::after {align-self: flex-end;width: 50%;}#sk-container-id-6 div.sk-parallel-item:last-child::after {align-self: flex-start;width: 50%;}#sk-container-id-6 div.sk-parallel-item:only-child::after {width: 0;}#sk-container-id-6 div.sk-dashed-wrapped {border: 1px dashed gray;margin: 0 0.4em 0.5em 0.4em;box-sizing: border-box;padding-bottom: 0.4em;background-color: white;}#sk-container-id-6 div.sk-label label {font-family: monospace;font-weight: bold;display: inline-block;line-height: 1.2em;}#sk-container-id-6 div.sk-label-container {text-align: center;}#sk-container-id-6 div.sk-container {/* jupyter's `normalize.less` sets `[hidden] { display: none; }` but bootstrap.min.css set `[hidden] { display: none !important; }` so we also need the `!important` here to be able to override the default hidden behavior on the sphinx rendered scikit-learn.org. See: https://github.com/scikit-learn/scikit-learn/issues/21755 */display: inline-block !important;position: relative;}#sk-container-id-6 div.sk-text-repr-fallback {display: none;}</style><div id=\"sk-container-id-6\" class=\"sk-top-container\"><div class=\"sk-text-repr-fallback\"><pre>MultinomialNB()</pre><b>In a Jupyter environment, please rerun this cell to show the HTML representation or trust the notebook. <br />On GitHub, the HTML representation is unable to render, please try loading this page with nbviewer.org.</b></div><div class=\"sk-container\" hidden><div class=\"sk-item\"><div class=\"sk-estimator sk-toggleable\"><input class=\"sk-toggleable__control sk-hidden--visually\" id=\"sk-estimator-id-6\" type=\"checkbox\" checked><label for=\"sk-estimator-id-6\" class=\"sk-toggleable__label sk-toggleable__label-arrow\">MultinomialNB</label><div class=\"sk-toggleable__content\"><pre>MultinomialNB()</pre></div></div></div></div></div>"
      ],
      "text/plain": [
       "MultinomialNB()"
      ]
     },
     "execution_count": 177,
     "metadata": {},
     "output_type": "execute_result"
    }
   ],
   "source": [
    "# NB for category with desc and group\n",
    "clf_nb_ctv_cat_new = MultinomialNB()\n",
    "clf_nb_ctv_cat_new.fit(x_train_cat_new_nb_ctv, y_train_cat_new_nb_ctv)"
   ]
  },
  {
   "cell_type": "code",
   "execution_count": 178,
   "id": "e226648b-0361-49d2-88eb-f82e73d961ea",
   "metadata": {},
   "outputs": [],
   "source": [
    "predicted_nb_ctv_cat_new = clf_nb_ctv_cat_new.predict_proba(x_valid_cat_new_nb_ctv)\n",
    "classify_nb_ctv_cat_new = [np.argmax(x) for x in predicted_nb_ctv_cat_new]"
   ]
  },
  {
   "cell_type": "code",
   "execution_count": 181,
   "id": "662c4e3b-0563-4438-8d95-f588262b79c7",
   "metadata": {},
   "outputs": [
    {
     "name": "stdout",
     "output_type": "stream",
     "text": [
      "log loss: 5.640 \n",
      "accuracy for cat: 0.626\n"
     ]
    }
   ],
   "source": [
    "print(\"log loss: %0.3f \" % multiclass_logloss(y_valid_cat_new_nb_ctv, predicted_nb_ctv_cat_new))\n",
    "print(\"accuracy for cat: %0.3f\" % accuracy_score(y_valid_cat_new_nb_ctv, classify_nb_ctv_cat_new)) # last: 0.626"
   ]
  },
  {
   "cell_type": "code",
   "execution_count": null,
   "id": "f7e334f7-bcc1-44f8-995e-5e1da2e5cead",
   "metadata": {},
   "outputs": [],
   "source": []
  },
  {
   "cell_type": "markdown",
   "id": "42790563-7133-4562-8419-ca30df3e2b26",
   "metadata": {},
   "source": [
    "## SVMs"
   ]
  },
  {
   "cell_type": "code",
   "execution_count": 182,
   "id": "a8336d01-ef58-419c-a6e0-0cd4f7c60917",
   "metadata": {},
   "outputs": [],
   "source": [
    "# with tfv \n",
    "svd = decomposition.TruncatedSVD(n_components=180)\n",
    "svd.fit(x_train_group_tfv)\n",
    "x_train_group_svd = svd.transform(x_train_group_tfv)\n",
    "x_valid_group_svd = svd.transform(x_valid_group_tfv)\n",
    "\n",
    "# Scale the data optained from SVD\n",
    "scl = preprocessing.StandardScaler()\n",
    "x_train_group_svd_scl = scl.fit_transform(x_train_group_svd)\n",
    "x_valid_group_svd_scl = scl.fit_transform(x_valid_group_svd)"
   ]
  },
  {
   "cell_type": "code",
   "execution_count": 183,
   "id": "0f92c66e-cbdc-4d9a-b00a-ce0339ebdd0c",
   "metadata": {},
   "outputs": [
    {
     "data": {
      "text/html": [
       "<style>#sk-container-id-7 {color: black;}#sk-container-id-7 pre{padding: 0;}#sk-container-id-7 div.sk-toggleable {background-color: white;}#sk-container-id-7 label.sk-toggleable__label {cursor: pointer;display: block;width: 100%;margin-bottom: 0;padding: 0.3em;box-sizing: border-box;text-align: center;}#sk-container-id-7 label.sk-toggleable__label-arrow:before {content: \"▸\";float: left;margin-right: 0.25em;color: #696969;}#sk-container-id-7 label.sk-toggleable__label-arrow:hover:before {color: black;}#sk-container-id-7 div.sk-estimator:hover label.sk-toggleable__label-arrow:before {color: black;}#sk-container-id-7 div.sk-toggleable__content {max-height: 0;max-width: 0;overflow: hidden;text-align: left;background-color: #f0f8ff;}#sk-container-id-7 div.sk-toggleable__content pre {margin: 0.2em;color: black;border-radius: 0.25em;background-color: #f0f8ff;}#sk-container-id-7 input.sk-toggleable__control:checked~div.sk-toggleable__content {max-height: 200px;max-width: 100%;overflow: auto;}#sk-container-id-7 input.sk-toggleable__control:checked~label.sk-toggleable__label-arrow:before {content: \"▾\";}#sk-container-id-7 div.sk-estimator input.sk-toggleable__control:checked~label.sk-toggleable__label {background-color: #d4ebff;}#sk-container-id-7 div.sk-label input.sk-toggleable__control:checked~label.sk-toggleable__label {background-color: #d4ebff;}#sk-container-id-7 input.sk-hidden--visually {border: 0;clip: rect(1px 1px 1px 1px);clip: rect(1px, 1px, 1px, 1px);height: 1px;margin: -1px;overflow: hidden;padding: 0;position: absolute;width: 1px;}#sk-container-id-7 div.sk-estimator {font-family: monospace;background-color: #f0f8ff;border: 1px dotted black;border-radius: 0.25em;box-sizing: border-box;margin-bottom: 0.5em;}#sk-container-id-7 div.sk-estimator:hover {background-color: #d4ebff;}#sk-container-id-7 div.sk-parallel-item::after {content: \"\";width: 100%;border-bottom: 1px solid gray;flex-grow: 1;}#sk-container-id-7 div.sk-label:hover label.sk-toggleable__label {background-color: #d4ebff;}#sk-container-id-7 div.sk-serial::before {content: \"\";position: absolute;border-left: 1px solid gray;box-sizing: border-box;top: 0;bottom: 0;left: 50%;z-index: 0;}#sk-container-id-7 div.sk-serial {display: flex;flex-direction: column;align-items: center;background-color: white;padding-right: 0.2em;padding-left: 0.2em;position: relative;}#sk-container-id-7 div.sk-item {position: relative;z-index: 1;}#sk-container-id-7 div.sk-parallel {display: flex;align-items: stretch;justify-content: center;background-color: white;position: relative;}#sk-container-id-7 div.sk-item::before, #sk-container-id-7 div.sk-parallel-item::before {content: \"\";position: absolute;border-left: 1px solid gray;box-sizing: border-box;top: 0;bottom: 0;left: 50%;z-index: -1;}#sk-container-id-7 div.sk-parallel-item {display: flex;flex-direction: column;z-index: 1;position: relative;background-color: white;}#sk-container-id-7 div.sk-parallel-item:first-child::after {align-self: flex-end;width: 50%;}#sk-container-id-7 div.sk-parallel-item:last-child::after {align-self: flex-start;width: 50%;}#sk-container-id-7 div.sk-parallel-item:only-child::after {width: 0;}#sk-container-id-7 div.sk-dashed-wrapped {border: 1px dashed gray;margin: 0 0.4em 0.5em 0.4em;box-sizing: border-box;padding-bottom: 0.4em;background-color: white;}#sk-container-id-7 div.sk-label label {font-family: monospace;font-weight: bold;display: inline-block;line-height: 1.2em;}#sk-container-id-7 div.sk-label-container {text-align: center;}#sk-container-id-7 div.sk-container {/* jupyter's `normalize.less` sets `[hidden] { display: none; }` but bootstrap.min.css set `[hidden] { display: none !important; }` so we also need the `!important` here to be able to override the default hidden behavior on the sphinx rendered scikit-learn.org. See: https://github.com/scikit-learn/scikit-learn/issues/21755 */display: inline-block !important;position: relative;}#sk-container-id-7 div.sk-text-repr-fallback {display: none;}</style><div id=\"sk-container-id-7\" class=\"sk-top-container\"><div class=\"sk-text-repr-fallback\"><pre>SVC(probability=True)</pre><b>In a Jupyter environment, please rerun this cell to show the HTML representation or trust the notebook. <br />On GitHub, the HTML representation is unable to render, please try loading this page with nbviewer.org.</b></div><div class=\"sk-container\" hidden><div class=\"sk-item\"><div class=\"sk-estimator sk-toggleable\"><input class=\"sk-toggleable__control sk-hidden--visually\" id=\"sk-estimator-id-7\" type=\"checkbox\" checked><label for=\"sk-estimator-id-7\" class=\"sk-toggleable__label sk-toggleable__label-arrow\">SVC</label><div class=\"sk-toggleable__content\"><pre>SVC(probability=True)</pre></div></div></div></div></div>"
      ],
      "text/plain": [
       "SVC(probability=True)"
      ]
     },
     "execution_count": 183,
     "metadata": {},
     "output_type": "execute_result"
    }
   ],
   "source": [
    "# Fitting a simple SVD for group\n",
    "clf_tfv_group = SVC(C=1.0, probability=True)\n",
    "clf_tfv_group.fit(x_train_group_svd_scl, y_train_group)"
   ]
  },
  {
   "cell_type": "code",
   "execution_count": 184,
   "id": "03afe10c-3830-4f96-bf2e-af601ce1578b",
   "metadata": {},
   "outputs": [],
   "source": [
    "# Predictions for group\n",
    "predicted_svd_tfv_group = clf_tfv_group.predict_proba(x_valid_group_svd_scl)"
   ]
  },
  {
   "cell_type": "code",
   "execution_count": 185,
   "id": "e841c11e-cc97-4eb2-b3f0-f2945a0b89ae",
   "metadata": {},
   "outputs": [],
   "source": [
    "classify_group_svd = [np.argmax(x) for x in predicted_svd_tfv_group]"
   ]
  },
  {
   "cell_type": "code",
   "execution_count": 186,
   "id": "93319184-327a-4ea7-afce-1fedaa1dae77",
   "metadata": {},
   "outputs": [
    {
     "name": "stdout",
     "output_type": "stream",
     "text": [
      "log loss: 0.204 \n",
      "accuracy for group: 0.949\n"
     ]
    }
   ],
   "source": [
    "print(\"log loss: %0.3f \" % multiclass_logloss(y_valid_group, predicted_svd_tfv_group))\n",
    "print(\"accuracy for group: %0.3f\" % accuracy_score(y_valid_group, classify_group_svd)) # last: 0.949"
   ]
  },
  {
   "cell_type": "code",
   "execution_count": null,
   "id": "3dc930d9-4bf4-410e-8202-7e3a750f4434",
   "metadata": {},
   "outputs": [],
   "source": [
    "# handle for cat\n",
    "svd.fit(x_train_cat_tfv)\n",
    "x_train_cat_svd = svd.transform(x_train_cat_tfv)\n",
    "x_valid_cat_svd = svd.transform(x_valid_cat_tfv)\n",
    "\n",
    "# Scale the data optained from SVD\n",
    "scl = preprocessing.StandardScaler()\n",
    "x_train_cat_svd_scl = scl.fit_transform(x_train_cat_svd)\n",
    "x_valid_cat_svd_scl = scl.fit_transform(x_valid_cat_svd)"
   ]
  },
  {
   "cell_type": "code",
   "execution_count": null,
   "id": "62095f68-e684-4e80-9bc4-f267a540add8",
   "metadata": {},
   "outputs": [],
   "source": [
    "# Fitting a simple SVD for category\n",
    "'''It takes many times'''\n",
    "clf_tfv_cat = SVC(C=1.0, probability=True)\n",
    "clf_tfv_cat.fit(x_train_cat_svd_scl, y_train_cat)"
   ]
  },
  {
   "cell_type": "code",
   "execution_count": null,
   "id": "91fa3bae-c751-4f17-bef9-d26ecdad1bd1",
   "metadata": {},
   "outputs": [],
   "source": [
    "# Predictions for group\n",
    "predicted_svd_tfv_cat = clf_tfv_cat.predict_proba(x_valid_cat_svd_scl)"
   ]
  },
  {
   "cell_type": "code",
   "execution_count": null,
   "id": "c4fee7b8-f7a5-4673-a2df-9e08af8c7c47",
   "metadata": {},
   "outputs": [],
   "source": [
    "classify_cat_svd = [np.argmax(x) for x in predicted_svd_tfv_cat]"
   ]
  },
  {
   "cell_type": "code",
   "execution_count": null,
   "id": "69ef7917-3046-42e3-ba8d-acf55bf7974d",
   "metadata": {},
   "outputs": [],
   "source": [
    "print (\"log loss: %0.3f \" % multiclass_logloss(y_valid_cat, predicted_svd_tfv_cat))\n",
    "print(\"accuracy for cat: %0.3f\" % accuracy_score(y_valid_cat, classify_cat_svd))"
   ]
  },
  {
   "cell_type": "code",
   "execution_count": 187,
   "id": "2732bcec-aa77-4f2d-b7ee-3331742dbd65",
   "metadata": {},
   "outputs": [],
   "source": [
    "# handle for cat with data desc and group\n",
    "svd.fit(x_train_cat_new_tfv) \n",
    "x_train_cat_svd_new = svd.transform(x_train_cat_new_tfv)\n",
    "x_valid_cat_svd_new = svd.transform(x_valid_cat_new_tfv)\n",
    "\n",
    "# Scale the data optained from SVD\n",
    "scl = preprocessing.StandardScaler()\n",
    "x_train_cat_svd_scl_new = scl.fit_transform(x_train_cat_svd_new)\n",
    "x_valid_cat_svd_scl_new = scl.fit_transform(x_valid_cat_svd_new)"
   ]
  },
  {
   "cell_type": "code",
   "execution_count": 188,
   "id": "0c726b7f-ff08-451c-8451-d247dfe2819d",
   "metadata": {},
   "outputs": [
    {
     "data": {
      "text/html": [
       "<style>#sk-container-id-8 {color: black;}#sk-container-id-8 pre{padding: 0;}#sk-container-id-8 div.sk-toggleable {background-color: white;}#sk-container-id-8 label.sk-toggleable__label {cursor: pointer;display: block;width: 100%;margin-bottom: 0;padding: 0.3em;box-sizing: border-box;text-align: center;}#sk-container-id-8 label.sk-toggleable__label-arrow:before {content: \"▸\";float: left;margin-right: 0.25em;color: #696969;}#sk-container-id-8 label.sk-toggleable__label-arrow:hover:before {color: black;}#sk-container-id-8 div.sk-estimator:hover label.sk-toggleable__label-arrow:before {color: black;}#sk-container-id-8 div.sk-toggleable__content {max-height: 0;max-width: 0;overflow: hidden;text-align: left;background-color: #f0f8ff;}#sk-container-id-8 div.sk-toggleable__content pre {margin: 0.2em;color: black;border-radius: 0.25em;background-color: #f0f8ff;}#sk-container-id-8 input.sk-toggleable__control:checked~div.sk-toggleable__content {max-height: 200px;max-width: 100%;overflow: auto;}#sk-container-id-8 input.sk-toggleable__control:checked~label.sk-toggleable__label-arrow:before {content: \"▾\";}#sk-container-id-8 div.sk-estimator input.sk-toggleable__control:checked~label.sk-toggleable__label {background-color: #d4ebff;}#sk-container-id-8 div.sk-label input.sk-toggleable__control:checked~label.sk-toggleable__label {background-color: #d4ebff;}#sk-container-id-8 input.sk-hidden--visually {border: 0;clip: rect(1px 1px 1px 1px);clip: rect(1px, 1px, 1px, 1px);height: 1px;margin: -1px;overflow: hidden;padding: 0;position: absolute;width: 1px;}#sk-container-id-8 div.sk-estimator {font-family: monospace;background-color: #f0f8ff;border: 1px dotted black;border-radius: 0.25em;box-sizing: border-box;margin-bottom: 0.5em;}#sk-container-id-8 div.sk-estimator:hover {background-color: #d4ebff;}#sk-container-id-8 div.sk-parallel-item::after {content: \"\";width: 100%;border-bottom: 1px solid gray;flex-grow: 1;}#sk-container-id-8 div.sk-label:hover label.sk-toggleable__label {background-color: #d4ebff;}#sk-container-id-8 div.sk-serial::before {content: \"\";position: absolute;border-left: 1px solid gray;box-sizing: border-box;top: 0;bottom: 0;left: 50%;z-index: 0;}#sk-container-id-8 div.sk-serial {display: flex;flex-direction: column;align-items: center;background-color: white;padding-right: 0.2em;padding-left: 0.2em;position: relative;}#sk-container-id-8 div.sk-item {position: relative;z-index: 1;}#sk-container-id-8 div.sk-parallel {display: flex;align-items: stretch;justify-content: center;background-color: white;position: relative;}#sk-container-id-8 div.sk-item::before, #sk-container-id-8 div.sk-parallel-item::before {content: \"\";position: absolute;border-left: 1px solid gray;box-sizing: border-box;top: 0;bottom: 0;left: 50%;z-index: -1;}#sk-container-id-8 div.sk-parallel-item {display: flex;flex-direction: column;z-index: 1;position: relative;background-color: white;}#sk-container-id-8 div.sk-parallel-item:first-child::after {align-self: flex-end;width: 50%;}#sk-container-id-8 div.sk-parallel-item:last-child::after {align-self: flex-start;width: 50%;}#sk-container-id-8 div.sk-parallel-item:only-child::after {width: 0;}#sk-container-id-8 div.sk-dashed-wrapped {border: 1px dashed gray;margin: 0 0.4em 0.5em 0.4em;box-sizing: border-box;padding-bottom: 0.4em;background-color: white;}#sk-container-id-8 div.sk-label label {font-family: monospace;font-weight: bold;display: inline-block;line-height: 1.2em;}#sk-container-id-8 div.sk-label-container {text-align: center;}#sk-container-id-8 div.sk-container {/* jupyter's `normalize.less` sets `[hidden] { display: none; }` but bootstrap.min.css set `[hidden] { display: none !important; }` so we also need the `!important` here to be able to override the default hidden behavior on the sphinx rendered scikit-learn.org. See: https://github.com/scikit-learn/scikit-learn/issues/21755 */display: inline-block !important;position: relative;}#sk-container-id-8 div.sk-text-repr-fallback {display: none;}</style><div id=\"sk-container-id-8\" class=\"sk-top-container\"><div class=\"sk-text-repr-fallback\"><pre>SVC(probability=True)</pre><b>In a Jupyter environment, please rerun this cell to show the HTML representation or trust the notebook. <br />On GitHub, the HTML representation is unable to render, please try loading this page with nbviewer.org.</b></div><div class=\"sk-container\" hidden><div class=\"sk-item\"><div class=\"sk-estimator sk-toggleable\"><input class=\"sk-toggleable__control sk-hidden--visually\" id=\"sk-estimator-id-8\" type=\"checkbox\" checked><label for=\"sk-estimator-id-8\" class=\"sk-toggleable__label sk-toggleable__label-arrow\">SVC</label><div class=\"sk-toggleable__content\"><pre>SVC(probability=True)</pre></div></div></div></div></div>"
      ],
      "text/plain": [
       "SVC(probability=True)"
      ]
     },
     "execution_count": 188,
     "metadata": {},
     "output_type": "execute_result"
    }
   ],
   "source": [
    "clf_tfv_cat_new = SVC(C=1.0, probability=True)\n",
    "clf_tfv_cat_new.fit(x_train_cat_svd_scl_new, y_train_cat)"
   ]
  },
  {
   "cell_type": "code",
   "execution_count": 190,
   "id": "1ac4f861-c6c8-44cc-8efb-52c773a06034",
   "metadata": {},
   "outputs": [],
   "source": [
    "# Predictions for group\n",
    "predicted_svd_tfv_cat_new = clf_tfv_cat_new.predict_proba(x_valid_cat_svd_scl_new)\n",
    "classify_cat_svd_new = [np.argmax(x) for x in predicted_svd_tfv_cat_new]"
   ]
  },
  {
   "cell_type": "code",
   "execution_count": 191,
   "id": "b9b5e6c3-5625-4298-a38f-6ae622cb2aaf",
   "metadata": {},
   "outputs": [
    {
     "name": "stdout",
     "output_type": "stream",
     "text": [
      "log loss: 1.161 \n",
      "accuracy for cat: 0.669\n"
     ]
    }
   ],
   "source": [
    "print (\"log loss: %0.3f \" % multiclass_logloss(y_valid_cat, predicted_svd_tfv_cat_new))\n",
    "print(\"accuracy for cat: %0.3f\" % accuracy_score(y_valid_cat, classify_cat_svd_new)) # last: 0.669"
   ]
  },
  {
   "cell_type": "markdown",
   "id": "0803aba3-5a30-4660-baa5-462785cc8fbc",
   "metadata": {},
   "source": [
    "**Run with counter vectorizer**"
   ]
  },
  {
   "cell_type": "code",
   "execution_count": 192,
   "id": "00837102-f21b-4d77-8522-d85f91795905",
   "metadata": {},
   "outputs": [],
   "source": [
    "# with ctv\n",
    "svd_ctv = decomposition.TruncatedSVD(n_components=180)\n",
    "svd_ctv.fit(x_train_group_ctv)\n",
    "x_train_group_svd = svd_ctv.transform(x_train_group_ctv)\n",
    "x_valid_group_svd = svd_ctv.transform(x_valid_group_ctv)\n",
    "\n",
    "# Scale the data optained from SVD\n",
    "scl = preprocessing.StandardScaler()\n",
    "x_train_group_svd_scl = scl.fit_transform(x_train_group_svd)\n",
    "x_valid_group_svd_scl = scl.fit_transform(x_valid_group_svd)"
   ]
  },
  {
   "cell_type": "code",
   "execution_count": 193,
   "id": "f3c1a935-0607-442e-8bbb-4facf01e5c34",
   "metadata": {},
   "outputs": [
    {
     "data": {
      "text/html": [
       "<style>#sk-container-id-9 {color: black;}#sk-container-id-9 pre{padding: 0;}#sk-container-id-9 div.sk-toggleable {background-color: white;}#sk-container-id-9 label.sk-toggleable__label {cursor: pointer;display: block;width: 100%;margin-bottom: 0;padding: 0.3em;box-sizing: border-box;text-align: center;}#sk-container-id-9 label.sk-toggleable__label-arrow:before {content: \"▸\";float: left;margin-right: 0.25em;color: #696969;}#sk-container-id-9 label.sk-toggleable__label-arrow:hover:before {color: black;}#sk-container-id-9 div.sk-estimator:hover label.sk-toggleable__label-arrow:before {color: black;}#sk-container-id-9 div.sk-toggleable__content {max-height: 0;max-width: 0;overflow: hidden;text-align: left;background-color: #f0f8ff;}#sk-container-id-9 div.sk-toggleable__content pre {margin: 0.2em;color: black;border-radius: 0.25em;background-color: #f0f8ff;}#sk-container-id-9 input.sk-toggleable__control:checked~div.sk-toggleable__content {max-height: 200px;max-width: 100%;overflow: auto;}#sk-container-id-9 input.sk-toggleable__control:checked~label.sk-toggleable__label-arrow:before {content: \"▾\";}#sk-container-id-9 div.sk-estimator input.sk-toggleable__control:checked~label.sk-toggleable__label {background-color: #d4ebff;}#sk-container-id-9 div.sk-label input.sk-toggleable__control:checked~label.sk-toggleable__label {background-color: #d4ebff;}#sk-container-id-9 input.sk-hidden--visually {border: 0;clip: rect(1px 1px 1px 1px);clip: rect(1px, 1px, 1px, 1px);height: 1px;margin: -1px;overflow: hidden;padding: 0;position: absolute;width: 1px;}#sk-container-id-9 div.sk-estimator {font-family: monospace;background-color: #f0f8ff;border: 1px dotted black;border-radius: 0.25em;box-sizing: border-box;margin-bottom: 0.5em;}#sk-container-id-9 div.sk-estimator:hover {background-color: #d4ebff;}#sk-container-id-9 div.sk-parallel-item::after {content: \"\";width: 100%;border-bottom: 1px solid gray;flex-grow: 1;}#sk-container-id-9 div.sk-label:hover label.sk-toggleable__label {background-color: #d4ebff;}#sk-container-id-9 div.sk-serial::before {content: \"\";position: absolute;border-left: 1px solid gray;box-sizing: border-box;top: 0;bottom: 0;left: 50%;z-index: 0;}#sk-container-id-9 div.sk-serial {display: flex;flex-direction: column;align-items: center;background-color: white;padding-right: 0.2em;padding-left: 0.2em;position: relative;}#sk-container-id-9 div.sk-item {position: relative;z-index: 1;}#sk-container-id-9 div.sk-parallel {display: flex;align-items: stretch;justify-content: center;background-color: white;position: relative;}#sk-container-id-9 div.sk-item::before, #sk-container-id-9 div.sk-parallel-item::before {content: \"\";position: absolute;border-left: 1px solid gray;box-sizing: border-box;top: 0;bottom: 0;left: 50%;z-index: -1;}#sk-container-id-9 div.sk-parallel-item {display: flex;flex-direction: column;z-index: 1;position: relative;background-color: white;}#sk-container-id-9 div.sk-parallel-item:first-child::after {align-self: flex-end;width: 50%;}#sk-container-id-9 div.sk-parallel-item:last-child::after {align-self: flex-start;width: 50%;}#sk-container-id-9 div.sk-parallel-item:only-child::after {width: 0;}#sk-container-id-9 div.sk-dashed-wrapped {border: 1px dashed gray;margin: 0 0.4em 0.5em 0.4em;box-sizing: border-box;padding-bottom: 0.4em;background-color: white;}#sk-container-id-9 div.sk-label label {font-family: monospace;font-weight: bold;display: inline-block;line-height: 1.2em;}#sk-container-id-9 div.sk-label-container {text-align: center;}#sk-container-id-9 div.sk-container {/* jupyter's `normalize.less` sets `[hidden] { display: none; }` but bootstrap.min.css set `[hidden] { display: none !important; }` so we also need the `!important` here to be able to override the default hidden behavior on the sphinx rendered scikit-learn.org. See: https://github.com/scikit-learn/scikit-learn/issues/21755 */display: inline-block !important;position: relative;}#sk-container-id-9 div.sk-text-repr-fallback {display: none;}</style><div id=\"sk-container-id-9\" class=\"sk-top-container\"><div class=\"sk-text-repr-fallback\"><pre>SVC(probability=True)</pre><b>In a Jupyter environment, please rerun this cell to show the HTML representation or trust the notebook. <br />On GitHub, the HTML representation is unable to render, please try loading this page with nbviewer.org.</b></div><div class=\"sk-container\" hidden><div class=\"sk-item\"><div class=\"sk-estimator sk-toggleable\"><input class=\"sk-toggleable__control sk-hidden--visually\" id=\"sk-estimator-id-9\" type=\"checkbox\" checked><label for=\"sk-estimator-id-9\" class=\"sk-toggleable__label sk-toggleable__label-arrow\">SVC</label><div class=\"sk-toggleable__content\"><pre>SVC(probability=True)</pre></div></div></div></div></div>"
      ],
      "text/plain": [
       "SVC(probability=True)"
      ]
     },
     "execution_count": 193,
     "metadata": {},
     "output_type": "execute_result"
    }
   ],
   "source": [
    "# Fitting a simple SVD for group\n",
    "clf_ctv_group = SVC(C=1.0, probability=True)\n",
    "clf_ctv_group.fit(x_train_group_svd_scl, y_train_group)"
   ]
  },
  {
   "cell_type": "code",
   "execution_count": 194,
   "id": "84753bff-2e2e-4ac3-8e87-0fa4597018a4",
   "metadata": {},
   "outputs": [],
   "source": [
    "# Predictions for group\n",
    "predicted_svd_ctv_group = clf_ctv_group.predict_proba(x_valid_group_svd_scl)"
   ]
  },
  {
   "cell_type": "code",
   "execution_count": 195,
   "id": "da9fdbaf-a732-4e8b-b7d2-1e6da7da721d",
   "metadata": {},
   "outputs": [],
   "source": [
    "classify_group_svd = [np.argmax(x) for x in predicted_svd_ctv_group]"
   ]
  },
  {
   "cell_type": "code",
   "execution_count": 196,
   "id": "27f41ab1-fb6c-49aa-a9be-aee718b83156",
   "metadata": {},
   "outputs": [
    {
     "name": "stdout",
     "output_type": "stream",
     "text": [
      "log loss: 0.212 \n",
      "accuracy for group: 0.950\n"
     ]
    }
   ],
   "source": [
    "print (\"log loss: %0.3f \" % multiclass_logloss(y_valid_group, predicted_svd_ctv_group))\n",
    "print(\"accuracy for group: %0.3f\" % accuracy_score(y_valid_group, classify_group_svd))"
   ]
  },
  {
   "cell_type": "code",
   "execution_count": 197,
   "id": "5804a423-75db-4551-bd29-39ad82911545",
   "metadata": {},
   "outputs": [],
   "source": [
    "# handle for category\n",
    "svd_ctv.fit(x_train_cat_ctv)\n",
    "x_train_cat_svd = svd_ctv.transform(x_train_cat_ctv)\n",
    "x_valid_cat_svd = svd_ctv.transform(x_valid_cat_ctv)\n",
    "\n",
    "# Scale the data optained from SVD\n",
    "scl = preprocessing.StandardScaler()\n",
    "x_train_cat_svd_scl = scl.fit_transform(x_train_cat_svd)\n",
    "x_valid_cat_svd_scl = scl.fit_transform(x_valid_cat_svd)"
   ]
  },
  {
   "cell_type": "code",
   "execution_count": 198,
   "id": "56192cc4-56d5-4639-a003-d00c61e68383",
   "metadata": {},
   "outputs": [
    {
     "data": {
      "text/html": [
       "<style>#sk-container-id-10 {color: black;}#sk-container-id-10 pre{padding: 0;}#sk-container-id-10 div.sk-toggleable {background-color: white;}#sk-container-id-10 label.sk-toggleable__label {cursor: pointer;display: block;width: 100%;margin-bottom: 0;padding: 0.3em;box-sizing: border-box;text-align: center;}#sk-container-id-10 label.sk-toggleable__label-arrow:before {content: \"▸\";float: left;margin-right: 0.25em;color: #696969;}#sk-container-id-10 label.sk-toggleable__label-arrow:hover:before {color: black;}#sk-container-id-10 div.sk-estimator:hover label.sk-toggleable__label-arrow:before {color: black;}#sk-container-id-10 div.sk-toggleable__content {max-height: 0;max-width: 0;overflow: hidden;text-align: left;background-color: #f0f8ff;}#sk-container-id-10 div.sk-toggleable__content pre {margin: 0.2em;color: black;border-radius: 0.25em;background-color: #f0f8ff;}#sk-container-id-10 input.sk-toggleable__control:checked~div.sk-toggleable__content {max-height: 200px;max-width: 100%;overflow: auto;}#sk-container-id-10 input.sk-toggleable__control:checked~label.sk-toggleable__label-arrow:before {content: \"▾\";}#sk-container-id-10 div.sk-estimator input.sk-toggleable__control:checked~label.sk-toggleable__label {background-color: #d4ebff;}#sk-container-id-10 div.sk-label input.sk-toggleable__control:checked~label.sk-toggleable__label {background-color: #d4ebff;}#sk-container-id-10 input.sk-hidden--visually {border: 0;clip: rect(1px 1px 1px 1px);clip: rect(1px, 1px, 1px, 1px);height: 1px;margin: -1px;overflow: hidden;padding: 0;position: absolute;width: 1px;}#sk-container-id-10 div.sk-estimator {font-family: monospace;background-color: #f0f8ff;border: 1px dotted black;border-radius: 0.25em;box-sizing: border-box;margin-bottom: 0.5em;}#sk-container-id-10 div.sk-estimator:hover {background-color: #d4ebff;}#sk-container-id-10 div.sk-parallel-item::after {content: \"\";width: 100%;border-bottom: 1px solid gray;flex-grow: 1;}#sk-container-id-10 div.sk-label:hover label.sk-toggleable__label {background-color: #d4ebff;}#sk-container-id-10 div.sk-serial::before {content: \"\";position: absolute;border-left: 1px solid gray;box-sizing: border-box;top: 0;bottom: 0;left: 50%;z-index: 0;}#sk-container-id-10 div.sk-serial {display: flex;flex-direction: column;align-items: center;background-color: white;padding-right: 0.2em;padding-left: 0.2em;position: relative;}#sk-container-id-10 div.sk-item {position: relative;z-index: 1;}#sk-container-id-10 div.sk-parallel {display: flex;align-items: stretch;justify-content: center;background-color: white;position: relative;}#sk-container-id-10 div.sk-item::before, #sk-container-id-10 div.sk-parallel-item::before {content: \"\";position: absolute;border-left: 1px solid gray;box-sizing: border-box;top: 0;bottom: 0;left: 50%;z-index: -1;}#sk-container-id-10 div.sk-parallel-item {display: flex;flex-direction: column;z-index: 1;position: relative;background-color: white;}#sk-container-id-10 div.sk-parallel-item:first-child::after {align-self: flex-end;width: 50%;}#sk-container-id-10 div.sk-parallel-item:last-child::after {align-self: flex-start;width: 50%;}#sk-container-id-10 div.sk-parallel-item:only-child::after {width: 0;}#sk-container-id-10 div.sk-dashed-wrapped {border: 1px dashed gray;margin: 0 0.4em 0.5em 0.4em;box-sizing: border-box;padding-bottom: 0.4em;background-color: white;}#sk-container-id-10 div.sk-label label {font-family: monospace;font-weight: bold;display: inline-block;line-height: 1.2em;}#sk-container-id-10 div.sk-label-container {text-align: center;}#sk-container-id-10 div.sk-container {/* jupyter's `normalize.less` sets `[hidden] { display: none; }` but bootstrap.min.css set `[hidden] { display: none !important; }` so we also need the `!important` here to be able to override the default hidden behavior on the sphinx rendered scikit-learn.org. See: https://github.com/scikit-learn/scikit-learn/issues/21755 */display: inline-block !important;position: relative;}#sk-container-id-10 div.sk-text-repr-fallback {display: none;}</style><div id=\"sk-container-id-10\" class=\"sk-top-container\"><div class=\"sk-text-repr-fallback\"><pre>SVC(probability=True)</pre><b>In a Jupyter environment, please rerun this cell to show the HTML representation or trust the notebook. <br />On GitHub, the HTML representation is unable to render, please try loading this page with nbviewer.org.</b></div><div class=\"sk-container\" hidden><div class=\"sk-item\"><div class=\"sk-estimator sk-toggleable\"><input class=\"sk-toggleable__control sk-hidden--visually\" id=\"sk-estimator-id-10\" type=\"checkbox\" checked><label for=\"sk-estimator-id-10\" class=\"sk-toggleable__label sk-toggleable__label-arrow\">SVC</label><div class=\"sk-toggleable__content\"><pre>SVC(probability=True)</pre></div></div></div></div></div>"
      ],
      "text/plain": [
       "SVC(probability=True)"
      ]
     },
     "execution_count": 198,
     "metadata": {},
     "output_type": "execute_result"
    }
   ],
   "source": [
    "# Fitting a simple SVD for category\n",
    "'''It takes many times'''\n",
    "clf_ctv_cat = SVC(C=1.0, probability=True)\n",
    "clf_ctv_cat.fit(x_train_cat_svd_scl, y_train_cat)"
   ]
  },
  {
   "cell_type": "code",
   "execution_count": 199,
   "id": "530979d0-4ba2-4032-b6bc-0238d510e18b",
   "metadata": {},
   "outputs": [],
   "source": [
    "# Predictions for cat\n",
    "predicted_svd_ctv_cat = clf_ctv_cat.predict_proba(x_valid_cat_svd_scl)"
   ]
  },
  {
   "cell_type": "code",
   "execution_count": 200,
   "id": "8a727e05-ff9f-4b46-9f71-6d0d2e916592",
   "metadata": {},
   "outputs": [],
   "source": [
    "classify_cat_svd = [np.argmax(x) for x in predicted_svd_ctv_cat]"
   ]
  },
  {
   "cell_type": "code",
   "execution_count": 201,
   "id": "850ca0e7-0922-44e7-a980-9740d24a89ff",
   "metadata": {},
   "outputs": [
    {
     "name": "stdout",
     "output_type": "stream",
     "text": [
      "log loss: 1.340 \n",
      "accuracy for cat: 0.632\n"
     ]
    }
   ],
   "source": [
    "print (\"log loss: %0.3f \" % multiclass_logloss(y_valid_cat, predicted_svd_ctv_cat))\n",
    "print(\"accuracy for cat: %0.3f\" % accuracy_score(y_valid_cat, classify_cat_svd))"
   ]
  },
  {
   "cell_type": "code",
   "execution_count": 202,
   "id": "03f54bf9-e4a6-4772-abdf-26c9ea0c2677",
   "metadata": {},
   "outputs": [
    {
     "data": {
      "text/plain": [
       "'\\nerror, so get result: log loss: 3.241; accuracy for cat: 0.242\\n'"
      ]
     },
     "execution_count": 202,
     "metadata": {},
     "output_type": "execute_result"
    }
   ],
   "source": [
    "# with counter\n",
    "'''\n",
    "error, so get result: log loss: 3.241; accuracy for cat: 0.242\n",
    "'''\n",
    "# printf('tfv done, counter doing')"
   ]
  },
  {
   "cell_type": "code",
   "execution_count": null,
   "id": "6c1797de-5fdf-47c6-a4ee-3bbbe9fb9455",
   "metadata": {},
   "outputs": [],
   "source": [
    "## MAI CHAY LAI DOAN NAY\n",
    "#log loss: 3.715 \n",
    "#accuracy for cat: 0.173"
   ]
  },
  {
   "cell_type": "code",
   "execution_count": 203,
   "id": "5ca37814-e079-459e-aa1c-baad78785e99",
   "metadata": {},
   "outputs": [],
   "source": [
    "# handle for category NEW\n",
    "svd_ctv.fit(x_train_cat_new_ctv)\n",
    "x_train_cat_svd_new = svd_ctv.transform(x_train_cat_new_ctv)\n",
    "x_valid_cat_svd_new = svd_ctv.transform(x_valid_cat_new_ctv)\n",
    "\n",
    "# Scale the data optained from SVD\n",
    "scl = preprocessing.StandardScaler()\n",
    "x_train_cat_svd_scl_new = scl.fit_transform(x_train_cat_svd_new)\n",
    "x_valid_cat_svd_scl_new = scl.fit_transform(x_valid_cat_svd_new)"
   ]
  },
  {
   "cell_type": "code",
   "execution_count": 204,
   "id": "6bf10723-9181-474c-bbf1-a72385399237",
   "metadata": {},
   "outputs": [
    {
     "data": {
      "text/html": [
       "<style>#sk-container-id-11 {color: black;}#sk-container-id-11 pre{padding: 0;}#sk-container-id-11 div.sk-toggleable {background-color: white;}#sk-container-id-11 label.sk-toggleable__label {cursor: pointer;display: block;width: 100%;margin-bottom: 0;padding: 0.3em;box-sizing: border-box;text-align: center;}#sk-container-id-11 label.sk-toggleable__label-arrow:before {content: \"▸\";float: left;margin-right: 0.25em;color: #696969;}#sk-container-id-11 label.sk-toggleable__label-arrow:hover:before {color: black;}#sk-container-id-11 div.sk-estimator:hover label.sk-toggleable__label-arrow:before {color: black;}#sk-container-id-11 div.sk-toggleable__content {max-height: 0;max-width: 0;overflow: hidden;text-align: left;background-color: #f0f8ff;}#sk-container-id-11 div.sk-toggleable__content pre {margin: 0.2em;color: black;border-radius: 0.25em;background-color: #f0f8ff;}#sk-container-id-11 input.sk-toggleable__control:checked~div.sk-toggleable__content {max-height: 200px;max-width: 100%;overflow: auto;}#sk-container-id-11 input.sk-toggleable__control:checked~label.sk-toggleable__label-arrow:before {content: \"▾\";}#sk-container-id-11 div.sk-estimator input.sk-toggleable__control:checked~label.sk-toggleable__label {background-color: #d4ebff;}#sk-container-id-11 div.sk-label input.sk-toggleable__control:checked~label.sk-toggleable__label {background-color: #d4ebff;}#sk-container-id-11 input.sk-hidden--visually {border: 0;clip: rect(1px 1px 1px 1px);clip: rect(1px, 1px, 1px, 1px);height: 1px;margin: -1px;overflow: hidden;padding: 0;position: absolute;width: 1px;}#sk-container-id-11 div.sk-estimator {font-family: monospace;background-color: #f0f8ff;border: 1px dotted black;border-radius: 0.25em;box-sizing: border-box;margin-bottom: 0.5em;}#sk-container-id-11 div.sk-estimator:hover {background-color: #d4ebff;}#sk-container-id-11 div.sk-parallel-item::after {content: \"\";width: 100%;border-bottom: 1px solid gray;flex-grow: 1;}#sk-container-id-11 div.sk-label:hover label.sk-toggleable__label {background-color: #d4ebff;}#sk-container-id-11 div.sk-serial::before {content: \"\";position: absolute;border-left: 1px solid gray;box-sizing: border-box;top: 0;bottom: 0;left: 50%;z-index: 0;}#sk-container-id-11 div.sk-serial {display: flex;flex-direction: column;align-items: center;background-color: white;padding-right: 0.2em;padding-left: 0.2em;position: relative;}#sk-container-id-11 div.sk-item {position: relative;z-index: 1;}#sk-container-id-11 div.sk-parallel {display: flex;align-items: stretch;justify-content: center;background-color: white;position: relative;}#sk-container-id-11 div.sk-item::before, #sk-container-id-11 div.sk-parallel-item::before {content: \"\";position: absolute;border-left: 1px solid gray;box-sizing: border-box;top: 0;bottom: 0;left: 50%;z-index: -1;}#sk-container-id-11 div.sk-parallel-item {display: flex;flex-direction: column;z-index: 1;position: relative;background-color: white;}#sk-container-id-11 div.sk-parallel-item:first-child::after {align-self: flex-end;width: 50%;}#sk-container-id-11 div.sk-parallel-item:last-child::after {align-self: flex-start;width: 50%;}#sk-container-id-11 div.sk-parallel-item:only-child::after {width: 0;}#sk-container-id-11 div.sk-dashed-wrapped {border: 1px dashed gray;margin: 0 0.4em 0.5em 0.4em;box-sizing: border-box;padding-bottom: 0.4em;background-color: white;}#sk-container-id-11 div.sk-label label {font-family: monospace;font-weight: bold;display: inline-block;line-height: 1.2em;}#sk-container-id-11 div.sk-label-container {text-align: center;}#sk-container-id-11 div.sk-container {/* jupyter's `normalize.less` sets `[hidden] { display: none; }` but bootstrap.min.css set `[hidden] { display: none !important; }` so we also need the `!important` here to be able to override the default hidden behavior on the sphinx rendered scikit-learn.org. See: https://github.com/scikit-learn/scikit-learn/issues/21755 */display: inline-block !important;position: relative;}#sk-container-id-11 div.sk-text-repr-fallback {display: none;}</style><div id=\"sk-container-id-11\" class=\"sk-top-container\"><div class=\"sk-text-repr-fallback\"><pre>SVC(probability=True)</pre><b>In a Jupyter environment, please rerun this cell to show the HTML representation or trust the notebook. <br />On GitHub, the HTML representation is unable to render, please try loading this page with nbviewer.org.</b></div><div class=\"sk-container\" hidden><div class=\"sk-item\"><div class=\"sk-estimator sk-toggleable\"><input class=\"sk-toggleable__control sk-hidden--visually\" id=\"sk-estimator-id-11\" type=\"checkbox\" checked><label for=\"sk-estimator-id-11\" class=\"sk-toggleable__label sk-toggleable__label-arrow\">SVC</label><div class=\"sk-toggleable__content\"><pre>SVC(probability=True)</pre></div></div></div></div></div>"
      ],
      "text/plain": [
       "SVC(probability=True)"
      ]
     },
     "execution_count": 204,
     "metadata": {},
     "output_type": "execute_result"
    }
   ],
   "source": [
    "'''It takes many times'''\n",
    "clf_ctv_cat_new = SVC(C=1.0, probability=True)\n",
    "clf_ctv_cat_new.fit(x_train_cat_svd_scl_new, y_train_cat)"
   ]
  },
  {
   "cell_type": "code",
   "execution_count": 205,
   "id": "e4ad450c-5130-48df-ab67-357b303eef04",
   "metadata": {},
   "outputs": [],
   "source": [
    "# Predictions for cat\n",
    "predicted_svd_ctv_cat_new = clf_ctv_cat_new.predict_proba(x_valid_cat_svd_scl_new)\n",
    "classify_cat_svd_new = [np.argmax(x) for x in predicted_svd_ctv_cat_new]"
   ]
  },
  {
   "cell_type": "code",
   "execution_count": 206,
   "id": "15f6ba2b-1a1e-41b3-b23f-4d2ef50aa6b1",
   "metadata": {},
   "outputs": [
    {
     "name": "stdout",
     "output_type": "stream",
     "text": [
      "log loss: 3.715 \n",
      "accuracy for cat: 0.173\n"
     ]
    }
   ],
   "source": [
    "print (\"log loss: %0.3f \" % multiclass_logloss(y_valid_cat, predicted_svd_ctv_cat_new))\n",
    "print(\"accuracy for cat: %0.3f\" % accuracy_score(y_valid_cat, classify_cat_svd_new))"
   ]
  },
  {
   "cell_type": "markdown",
   "id": "af21087f-ff75-41cc-b7f6-4c909e997bd9",
   "metadata": {},
   "source": [
    "### Xgboost - pretty good performance"
   ]
  },
  {
   "cell_type": "markdown",
   "id": "079971c4-1958-4c4f-85ad-79c1bc82655c",
   "metadata": {},
   "source": [
    "**Use tfv features**\n",
    "Fitting a simple xgboost on tf-idf"
   ]
  },
  {
   "cell_type": "code",
   "execution_count": 207,
   "id": "837544e4-9655-4e76-a599-e0c002f37c82",
   "metadata": {},
   "outputs": [],
   "source": [
    "# use tfv \n",
    "clf_xg_tfv = xgb.XGBClassifier(max_depth=7,\n",
    "                            n_estimators=200,\n",
    "                            colsample_bytree=0.8,\n",
    "                            subsample=0.8,\n",
    "                            nthread=10,\n",
    "                            learning_rate=0.1)\n"
   ]
  },
  {
   "cell_type": "code",
   "execution_count": 208,
   "id": "d575c4d8-93fc-48ad-af11-522063a8f98c",
   "metadata": {},
   "outputs": [
    {
     "data": {
      "text/html": [
       "<style>#sk-container-id-12 {color: black;}#sk-container-id-12 pre{padding: 0;}#sk-container-id-12 div.sk-toggleable {background-color: white;}#sk-container-id-12 label.sk-toggleable__label {cursor: pointer;display: block;width: 100%;margin-bottom: 0;padding: 0.3em;box-sizing: border-box;text-align: center;}#sk-container-id-12 label.sk-toggleable__label-arrow:before {content: \"▸\";float: left;margin-right: 0.25em;color: #696969;}#sk-container-id-12 label.sk-toggleable__label-arrow:hover:before {color: black;}#sk-container-id-12 div.sk-estimator:hover label.sk-toggleable__label-arrow:before {color: black;}#sk-container-id-12 div.sk-toggleable__content {max-height: 0;max-width: 0;overflow: hidden;text-align: left;background-color: #f0f8ff;}#sk-container-id-12 div.sk-toggleable__content pre {margin: 0.2em;color: black;border-radius: 0.25em;background-color: #f0f8ff;}#sk-container-id-12 input.sk-toggleable__control:checked~div.sk-toggleable__content {max-height: 200px;max-width: 100%;overflow: auto;}#sk-container-id-12 input.sk-toggleable__control:checked~label.sk-toggleable__label-arrow:before {content: \"▾\";}#sk-container-id-12 div.sk-estimator input.sk-toggleable__control:checked~label.sk-toggleable__label {background-color: #d4ebff;}#sk-container-id-12 div.sk-label input.sk-toggleable__control:checked~label.sk-toggleable__label {background-color: #d4ebff;}#sk-container-id-12 input.sk-hidden--visually {border: 0;clip: rect(1px 1px 1px 1px);clip: rect(1px, 1px, 1px, 1px);height: 1px;margin: -1px;overflow: hidden;padding: 0;position: absolute;width: 1px;}#sk-container-id-12 div.sk-estimator {font-family: monospace;background-color: #f0f8ff;border: 1px dotted black;border-radius: 0.25em;box-sizing: border-box;margin-bottom: 0.5em;}#sk-container-id-12 div.sk-estimator:hover {background-color: #d4ebff;}#sk-container-id-12 div.sk-parallel-item::after {content: \"\";width: 100%;border-bottom: 1px solid gray;flex-grow: 1;}#sk-container-id-12 div.sk-label:hover label.sk-toggleable__label {background-color: #d4ebff;}#sk-container-id-12 div.sk-serial::before {content: \"\";position: absolute;border-left: 1px solid gray;box-sizing: border-box;top: 0;bottom: 0;left: 50%;z-index: 0;}#sk-container-id-12 div.sk-serial {display: flex;flex-direction: column;align-items: center;background-color: white;padding-right: 0.2em;padding-left: 0.2em;position: relative;}#sk-container-id-12 div.sk-item {position: relative;z-index: 1;}#sk-container-id-12 div.sk-parallel {display: flex;align-items: stretch;justify-content: center;background-color: white;position: relative;}#sk-container-id-12 div.sk-item::before, #sk-container-id-12 div.sk-parallel-item::before {content: \"\";position: absolute;border-left: 1px solid gray;box-sizing: border-box;top: 0;bottom: 0;left: 50%;z-index: -1;}#sk-container-id-12 div.sk-parallel-item {display: flex;flex-direction: column;z-index: 1;position: relative;background-color: white;}#sk-container-id-12 div.sk-parallel-item:first-child::after {align-self: flex-end;width: 50%;}#sk-container-id-12 div.sk-parallel-item:last-child::after {align-self: flex-start;width: 50%;}#sk-container-id-12 div.sk-parallel-item:only-child::after {width: 0;}#sk-container-id-12 div.sk-dashed-wrapped {border: 1px dashed gray;margin: 0 0.4em 0.5em 0.4em;box-sizing: border-box;padding-bottom: 0.4em;background-color: white;}#sk-container-id-12 div.sk-label label {font-family: monospace;font-weight: bold;display: inline-block;line-height: 1.2em;}#sk-container-id-12 div.sk-label-container {text-align: center;}#sk-container-id-12 div.sk-container {/* jupyter's `normalize.less` sets `[hidden] { display: none; }` but bootstrap.min.css set `[hidden] { display: none !important; }` so we also need the `!important` here to be able to override the default hidden behavior on the sphinx rendered scikit-learn.org. See: https://github.com/scikit-learn/scikit-learn/issues/21755 */display: inline-block !important;position: relative;}#sk-container-id-12 div.sk-text-repr-fallback {display: none;}</style><div id=\"sk-container-id-12\" class=\"sk-top-container\"><div class=\"sk-text-repr-fallback\"><pre>XGBClassifier(base_score=None, booster=None, callbacks=None,\n",
       "              colsample_bylevel=None, colsample_bynode=None,\n",
       "              colsample_bytree=0.8, early_stopping_rounds=None,\n",
       "              enable_categorical=False, eval_metric=None, feature_types=None,\n",
       "              gamma=None, gpu_id=None, grow_policy=None, importance_type=None,\n",
       "              interaction_constraints=None, learning_rate=0.1, max_bin=None,\n",
       "              max_cat_threshold=None, max_cat_to_onehot=None,\n",
       "              max_delta_step=None, max_depth=7, max_leaves=None,\n",
       "              min_child_weight=None, missing=nan, monotone_constraints=None,\n",
       "              n_estimators=200, n_jobs=None, nthread=10, num_parallel_tree=None,\n",
       "              objective=&#x27;multi:softprob&#x27;, ...)</pre><b>In a Jupyter environment, please rerun this cell to show the HTML representation or trust the notebook. <br />On GitHub, the HTML representation is unable to render, please try loading this page with nbviewer.org.</b></div><div class=\"sk-container\" hidden><div class=\"sk-item\"><div class=\"sk-estimator sk-toggleable\"><input class=\"sk-toggleable__control sk-hidden--visually\" id=\"sk-estimator-id-12\" type=\"checkbox\" checked><label for=\"sk-estimator-id-12\" class=\"sk-toggleable__label sk-toggleable__label-arrow\">XGBClassifier</label><div class=\"sk-toggleable__content\"><pre>XGBClassifier(base_score=None, booster=None, callbacks=None,\n",
       "              colsample_bylevel=None, colsample_bynode=None,\n",
       "              colsample_bytree=0.8, early_stopping_rounds=None,\n",
       "              enable_categorical=False, eval_metric=None, feature_types=None,\n",
       "              gamma=None, gpu_id=None, grow_policy=None, importance_type=None,\n",
       "              interaction_constraints=None, learning_rate=0.1, max_bin=None,\n",
       "              max_cat_threshold=None, max_cat_to_onehot=None,\n",
       "              max_delta_step=None, max_depth=7, max_leaves=None,\n",
       "              min_child_weight=None, missing=nan, monotone_constraints=None,\n",
       "              n_estimators=200, n_jobs=None, nthread=10, num_parallel_tree=None,\n",
       "              objective=&#x27;multi:softprob&#x27;, ...)</pre></div></div></div></div></div>"
      ],
      "text/plain": [
       "XGBClassifier(base_score=None, booster=None, callbacks=None,\n",
       "              colsample_bylevel=None, colsample_bynode=None,\n",
       "              colsample_bytree=0.8, early_stopping_rounds=None,\n",
       "              enable_categorical=False, eval_metric=None, feature_types=None,\n",
       "              gamma=None, gpu_id=None, grow_policy=None, importance_type=None,\n",
       "              interaction_constraints=None, learning_rate=0.1, max_bin=None,\n",
       "              max_cat_threshold=None, max_cat_to_onehot=None,\n",
       "              max_delta_step=None, max_depth=7, max_leaves=None,\n",
       "              min_child_weight=None, missing=nan, monotone_constraints=None,\n",
       "              n_estimators=200, n_jobs=None, nthread=10, num_parallel_tree=None,\n",
       "              objective='multi:softprob', ...)"
      ]
     },
     "execution_count": 208,
     "metadata": {},
     "output_type": "execute_result"
    }
   ],
   "source": [
    "# for group\n",
    "clf_xg_tfv.fit(x_train_group_tfv.tocsc(), y_train_group)"
   ]
  },
  {
   "cell_type": "code",
   "execution_count": 209,
   "id": "c206300d-8925-460c-a6c1-72b76e076c73",
   "metadata": {},
   "outputs": [],
   "source": [
    "# predict for group\n",
    "predicted_tfv_group = clf_xg_tfv.predict_proba(x_valid_group_tfv.tocsc())"
   ]
  },
  {
   "cell_type": "code",
   "execution_count": 210,
   "id": "63f0631c-abbe-4c3c-b5fd-068ef412ce80",
   "metadata": {},
   "outputs": [],
   "source": [
    "classify_group_xg = [np.argmax(x) for x in predicted_tfv_group]"
   ]
  },
  {
   "cell_type": "code",
   "execution_count": 211,
   "id": "7b10653f-1c55-46c0-a02d-967d3b47af9f",
   "metadata": {},
   "outputs": [
    {
     "name": "stdout",
     "output_type": "stream",
     "text": [
      "log loss: 0.151 \n",
      "accuracy for group: 0.960\n"
     ]
    }
   ],
   "source": [
    "print (\"log loss: %0.3f \" % multiclass_logloss(y_valid_group, predicted_tfv_group))\n",
    "print(\"accuracy for group: %0.3f\" % accuracy_score(y_valid_group, classify_group_xg))"
   ]
  },
  {
   "cell_type": "code",
   "execution_count": 212,
   "id": "d4a8ef3a-d6be-4887-a257-25a73851c7e4",
   "metadata": {},
   "outputs": [],
   "source": [
    "# for category"
   ]
  },
  {
   "cell_type": "code",
   "execution_count": 213,
   "id": "6b49dce7-0e34-487c-a877-95762a94cb93",
   "metadata": {},
   "outputs": [
    {
     "data": {
      "text/html": [
       "<style>#sk-container-id-13 {color: black;}#sk-container-id-13 pre{padding: 0;}#sk-container-id-13 div.sk-toggleable {background-color: white;}#sk-container-id-13 label.sk-toggleable__label {cursor: pointer;display: block;width: 100%;margin-bottom: 0;padding: 0.3em;box-sizing: border-box;text-align: center;}#sk-container-id-13 label.sk-toggleable__label-arrow:before {content: \"▸\";float: left;margin-right: 0.25em;color: #696969;}#sk-container-id-13 label.sk-toggleable__label-arrow:hover:before {color: black;}#sk-container-id-13 div.sk-estimator:hover label.sk-toggleable__label-arrow:before {color: black;}#sk-container-id-13 div.sk-toggleable__content {max-height: 0;max-width: 0;overflow: hidden;text-align: left;background-color: #f0f8ff;}#sk-container-id-13 div.sk-toggleable__content pre {margin: 0.2em;color: black;border-radius: 0.25em;background-color: #f0f8ff;}#sk-container-id-13 input.sk-toggleable__control:checked~div.sk-toggleable__content {max-height: 200px;max-width: 100%;overflow: auto;}#sk-container-id-13 input.sk-toggleable__control:checked~label.sk-toggleable__label-arrow:before {content: \"▾\";}#sk-container-id-13 div.sk-estimator input.sk-toggleable__control:checked~label.sk-toggleable__label {background-color: #d4ebff;}#sk-container-id-13 div.sk-label input.sk-toggleable__control:checked~label.sk-toggleable__label {background-color: #d4ebff;}#sk-container-id-13 input.sk-hidden--visually {border: 0;clip: rect(1px 1px 1px 1px);clip: rect(1px, 1px, 1px, 1px);height: 1px;margin: -1px;overflow: hidden;padding: 0;position: absolute;width: 1px;}#sk-container-id-13 div.sk-estimator {font-family: monospace;background-color: #f0f8ff;border: 1px dotted black;border-radius: 0.25em;box-sizing: border-box;margin-bottom: 0.5em;}#sk-container-id-13 div.sk-estimator:hover {background-color: #d4ebff;}#sk-container-id-13 div.sk-parallel-item::after {content: \"\";width: 100%;border-bottom: 1px solid gray;flex-grow: 1;}#sk-container-id-13 div.sk-label:hover label.sk-toggleable__label {background-color: #d4ebff;}#sk-container-id-13 div.sk-serial::before {content: \"\";position: absolute;border-left: 1px solid gray;box-sizing: border-box;top: 0;bottom: 0;left: 50%;z-index: 0;}#sk-container-id-13 div.sk-serial {display: flex;flex-direction: column;align-items: center;background-color: white;padding-right: 0.2em;padding-left: 0.2em;position: relative;}#sk-container-id-13 div.sk-item {position: relative;z-index: 1;}#sk-container-id-13 div.sk-parallel {display: flex;align-items: stretch;justify-content: center;background-color: white;position: relative;}#sk-container-id-13 div.sk-item::before, #sk-container-id-13 div.sk-parallel-item::before {content: \"\";position: absolute;border-left: 1px solid gray;box-sizing: border-box;top: 0;bottom: 0;left: 50%;z-index: -1;}#sk-container-id-13 div.sk-parallel-item {display: flex;flex-direction: column;z-index: 1;position: relative;background-color: white;}#sk-container-id-13 div.sk-parallel-item:first-child::after {align-self: flex-end;width: 50%;}#sk-container-id-13 div.sk-parallel-item:last-child::after {align-self: flex-start;width: 50%;}#sk-container-id-13 div.sk-parallel-item:only-child::after {width: 0;}#sk-container-id-13 div.sk-dashed-wrapped {border: 1px dashed gray;margin: 0 0.4em 0.5em 0.4em;box-sizing: border-box;padding-bottom: 0.4em;background-color: white;}#sk-container-id-13 div.sk-label label {font-family: monospace;font-weight: bold;display: inline-block;line-height: 1.2em;}#sk-container-id-13 div.sk-label-container {text-align: center;}#sk-container-id-13 div.sk-container {/* jupyter's `normalize.less` sets `[hidden] { display: none; }` but bootstrap.min.css set `[hidden] { display: none !important; }` so we also need the `!important` here to be able to override the default hidden behavior on the sphinx rendered scikit-learn.org. See: https://github.com/scikit-learn/scikit-learn/issues/21755 */display: inline-block !important;position: relative;}#sk-container-id-13 div.sk-text-repr-fallback {display: none;}</style><div id=\"sk-container-id-13\" class=\"sk-top-container\"><div class=\"sk-text-repr-fallback\"><pre>XGBClassifier(base_score=None, booster=None, callbacks=None,\n",
       "              colsample_bylevel=None, colsample_bynode=None,\n",
       "              colsample_bytree=0.8, early_stopping_rounds=None,\n",
       "              enable_categorical=False, eval_metric=None, feature_types=None,\n",
       "              gamma=None, gpu_id=None, grow_policy=None, importance_type=None,\n",
       "              interaction_constraints=None, learning_rate=0.1, max_bin=None,\n",
       "              max_cat_threshold=None, max_cat_to_onehot=None,\n",
       "              max_delta_step=None, max_depth=7, max_leaves=None,\n",
       "              min_child_weight=None, missing=nan, monotone_constraints=None,\n",
       "              n_estimators=200, n_jobs=None, nthread=10, num_parallel_tree=None,\n",
       "              objective=&#x27;multi:softprob&#x27;, ...)</pre><b>In a Jupyter environment, please rerun this cell to show the HTML representation or trust the notebook. <br />On GitHub, the HTML representation is unable to render, please try loading this page with nbviewer.org.</b></div><div class=\"sk-container\" hidden><div class=\"sk-item\"><div class=\"sk-estimator sk-toggleable\"><input class=\"sk-toggleable__control sk-hidden--visually\" id=\"sk-estimator-id-13\" type=\"checkbox\" checked><label for=\"sk-estimator-id-13\" class=\"sk-toggleable__label sk-toggleable__label-arrow\">XGBClassifier</label><div class=\"sk-toggleable__content\"><pre>XGBClassifier(base_score=None, booster=None, callbacks=None,\n",
       "              colsample_bylevel=None, colsample_bynode=None,\n",
       "              colsample_bytree=0.8, early_stopping_rounds=None,\n",
       "              enable_categorical=False, eval_metric=None, feature_types=None,\n",
       "              gamma=None, gpu_id=None, grow_policy=None, importance_type=None,\n",
       "              interaction_constraints=None, learning_rate=0.1, max_bin=None,\n",
       "              max_cat_threshold=None, max_cat_to_onehot=None,\n",
       "              max_delta_step=None, max_depth=7, max_leaves=None,\n",
       "              min_child_weight=None, missing=nan, monotone_constraints=None,\n",
       "              n_estimators=200, n_jobs=None, nthread=10, num_parallel_tree=None,\n",
       "              objective=&#x27;multi:softprob&#x27;, ...)</pre></div></div></div></div></div>"
      ],
      "text/plain": [
       "XGBClassifier(base_score=None, booster=None, callbacks=None,\n",
       "              colsample_bylevel=None, colsample_bynode=None,\n",
       "              colsample_bytree=0.8, early_stopping_rounds=None,\n",
       "              enable_categorical=False, eval_metric=None, feature_types=None,\n",
       "              gamma=None, gpu_id=None, grow_policy=None, importance_type=None,\n",
       "              interaction_constraints=None, learning_rate=0.1, max_bin=None,\n",
       "              max_cat_threshold=None, max_cat_to_onehot=None,\n",
       "              max_delta_step=None, max_depth=7, max_leaves=None,\n",
       "              min_child_weight=None, missing=nan, monotone_constraints=None,\n",
       "              n_estimators=200, n_jobs=None, nthread=10, num_parallel_tree=None,\n",
       "              objective='multi:softprob', ...)"
      ]
     },
     "execution_count": 213,
     "metadata": {},
     "output_type": "execute_result"
    }
   ],
   "source": [
    "clf_xg_tfv.fit(x_train_cat_tfv.tocsc(), y_train_cat)"
   ]
  },
  {
   "cell_type": "code",
   "execution_count": 214,
   "id": "1c1efaad-2c5d-4cc8-8c97-ed28a62cc834",
   "metadata": {},
   "outputs": [],
   "source": [
    "# predict for cat\n",
    "predicted_tfv_cat = clf_xg_tfv.predict_proba(x_valid_cat_tfv.tocsc())"
   ]
  },
  {
   "cell_type": "code",
   "execution_count": 215,
   "id": "e819b895-9728-45f7-a40c-4832adcfb565",
   "metadata": {},
   "outputs": [],
   "source": [
    "classify_cat_xg = [np.argmax(x) for x in predicted_tfv_cat]"
   ]
  },
  {
   "cell_type": "code",
   "execution_count": 216,
   "id": "38dcd44e-a3bd-4145-9761-fcb4472e71ce",
   "metadata": {},
   "outputs": [
    {
     "name": "stdout",
     "output_type": "stream",
     "text": [
      "log loss: 1.152 \n",
      "accuracy for cat: 0.675\n"
     ]
    }
   ],
   "source": [
    "print (\"log loss: %0.3f \" % multiclass_logloss(y_valid_cat, predicted_tfv_cat))\n",
    "print(\"accuracy for cat: %0.3f\" % accuracy_score(y_valid_cat, classify_cat_xg))"
   ]
  },
  {
   "cell_type": "code",
   "execution_count": 217,
   "id": "683a2296-bd09-43d5-9747-7e85737e80bb",
   "metadata": {},
   "outputs": [
    {
     "data": {
      "text/html": [
       "<style>#sk-container-id-14 {color: black;}#sk-container-id-14 pre{padding: 0;}#sk-container-id-14 div.sk-toggleable {background-color: white;}#sk-container-id-14 label.sk-toggleable__label {cursor: pointer;display: block;width: 100%;margin-bottom: 0;padding: 0.3em;box-sizing: border-box;text-align: center;}#sk-container-id-14 label.sk-toggleable__label-arrow:before {content: \"▸\";float: left;margin-right: 0.25em;color: #696969;}#sk-container-id-14 label.sk-toggleable__label-arrow:hover:before {color: black;}#sk-container-id-14 div.sk-estimator:hover label.sk-toggleable__label-arrow:before {color: black;}#sk-container-id-14 div.sk-toggleable__content {max-height: 0;max-width: 0;overflow: hidden;text-align: left;background-color: #f0f8ff;}#sk-container-id-14 div.sk-toggleable__content pre {margin: 0.2em;color: black;border-radius: 0.25em;background-color: #f0f8ff;}#sk-container-id-14 input.sk-toggleable__control:checked~div.sk-toggleable__content {max-height: 200px;max-width: 100%;overflow: auto;}#sk-container-id-14 input.sk-toggleable__control:checked~label.sk-toggleable__label-arrow:before {content: \"▾\";}#sk-container-id-14 div.sk-estimator input.sk-toggleable__control:checked~label.sk-toggleable__label {background-color: #d4ebff;}#sk-container-id-14 div.sk-label input.sk-toggleable__control:checked~label.sk-toggleable__label {background-color: #d4ebff;}#sk-container-id-14 input.sk-hidden--visually {border: 0;clip: rect(1px 1px 1px 1px);clip: rect(1px, 1px, 1px, 1px);height: 1px;margin: -1px;overflow: hidden;padding: 0;position: absolute;width: 1px;}#sk-container-id-14 div.sk-estimator {font-family: monospace;background-color: #f0f8ff;border: 1px dotted black;border-radius: 0.25em;box-sizing: border-box;margin-bottom: 0.5em;}#sk-container-id-14 div.sk-estimator:hover {background-color: #d4ebff;}#sk-container-id-14 div.sk-parallel-item::after {content: \"\";width: 100%;border-bottom: 1px solid gray;flex-grow: 1;}#sk-container-id-14 div.sk-label:hover label.sk-toggleable__label {background-color: #d4ebff;}#sk-container-id-14 div.sk-serial::before {content: \"\";position: absolute;border-left: 1px solid gray;box-sizing: border-box;top: 0;bottom: 0;left: 50%;z-index: 0;}#sk-container-id-14 div.sk-serial {display: flex;flex-direction: column;align-items: center;background-color: white;padding-right: 0.2em;padding-left: 0.2em;position: relative;}#sk-container-id-14 div.sk-item {position: relative;z-index: 1;}#sk-container-id-14 div.sk-parallel {display: flex;align-items: stretch;justify-content: center;background-color: white;position: relative;}#sk-container-id-14 div.sk-item::before, #sk-container-id-14 div.sk-parallel-item::before {content: \"\";position: absolute;border-left: 1px solid gray;box-sizing: border-box;top: 0;bottom: 0;left: 50%;z-index: -1;}#sk-container-id-14 div.sk-parallel-item {display: flex;flex-direction: column;z-index: 1;position: relative;background-color: white;}#sk-container-id-14 div.sk-parallel-item:first-child::after {align-self: flex-end;width: 50%;}#sk-container-id-14 div.sk-parallel-item:last-child::after {align-self: flex-start;width: 50%;}#sk-container-id-14 div.sk-parallel-item:only-child::after {width: 0;}#sk-container-id-14 div.sk-dashed-wrapped {border: 1px dashed gray;margin: 0 0.4em 0.5em 0.4em;box-sizing: border-box;padding-bottom: 0.4em;background-color: white;}#sk-container-id-14 div.sk-label label {font-family: monospace;font-weight: bold;display: inline-block;line-height: 1.2em;}#sk-container-id-14 div.sk-label-container {text-align: center;}#sk-container-id-14 div.sk-container {/* jupyter's `normalize.less` sets `[hidden] { display: none; }` but bootstrap.min.css set `[hidden] { display: none !important; }` so we also need the `!important` here to be able to override the default hidden behavior on the sphinx rendered scikit-learn.org. See: https://github.com/scikit-learn/scikit-learn/issues/21755 */display: inline-block !important;position: relative;}#sk-container-id-14 div.sk-text-repr-fallback {display: none;}</style><div id=\"sk-container-id-14\" class=\"sk-top-container\"><div class=\"sk-text-repr-fallback\"><pre>XGBClassifier(base_score=None, booster=None, callbacks=None,\n",
       "              colsample_bylevel=None, colsample_bynode=None,\n",
       "              colsample_bytree=0.8, early_stopping_rounds=None,\n",
       "              enable_categorical=False, eval_metric=None, feature_types=None,\n",
       "              gamma=None, gpu_id=None, grow_policy=None, importance_type=None,\n",
       "              interaction_constraints=None, learning_rate=0.1, max_bin=None,\n",
       "              max_cat_threshold=None, max_cat_to_onehot=None,\n",
       "              max_delta_step=None, max_depth=7, max_leaves=None,\n",
       "              min_child_weight=None, missing=nan, monotone_constraints=None,\n",
       "              n_estimators=200, n_jobs=None, nthread=10, num_parallel_tree=None,\n",
       "              objective=&#x27;multi:softprob&#x27;, ...)</pre><b>In a Jupyter environment, please rerun this cell to show the HTML representation or trust the notebook. <br />On GitHub, the HTML representation is unable to render, please try loading this page with nbviewer.org.</b></div><div class=\"sk-container\" hidden><div class=\"sk-item\"><div class=\"sk-estimator sk-toggleable\"><input class=\"sk-toggleable__control sk-hidden--visually\" id=\"sk-estimator-id-14\" type=\"checkbox\" checked><label for=\"sk-estimator-id-14\" class=\"sk-toggleable__label sk-toggleable__label-arrow\">XGBClassifier</label><div class=\"sk-toggleable__content\"><pre>XGBClassifier(base_score=None, booster=None, callbacks=None,\n",
       "              colsample_bylevel=None, colsample_bynode=None,\n",
       "              colsample_bytree=0.8, early_stopping_rounds=None,\n",
       "              enable_categorical=False, eval_metric=None, feature_types=None,\n",
       "              gamma=None, gpu_id=None, grow_policy=None, importance_type=None,\n",
       "              interaction_constraints=None, learning_rate=0.1, max_bin=None,\n",
       "              max_cat_threshold=None, max_cat_to_onehot=None,\n",
       "              max_delta_step=None, max_depth=7, max_leaves=None,\n",
       "              min_child_weight=None, missing=nan, monotone_constraints=None,\n",
       "              n_estimators=200, n_jobs=None, nthread=10, num_parallel_tree=None,\n",
       "              objective=&#x27;multi:softprob&#x27;, ...)</pre></div></div></div></div></div>"
      ],
      "text/plain": [
       "XGBClassifier(base_score=None, booster=None, callbacks=None,\n",
       "              colsample_bylevel=None, colsample_bynode=None,\n",
       "              colsample_bytree=0.8, early_stopping_rounds=None,\n",
       "              enable_categorical=False, eval_metric=None, feature_types=None,\n",
       "              gamma=None, gpu_id=None, grow_policy=None, importance_type=None,\n",
       "              interaction_constraints=None, learning_rate=0.1, max_bin=None,\n",
       "              max_cat_threshold=None, max_cat_to_onehot=None,\n",
       "              max_delta_step=None, max_depth=7, max_leaves=None,\n",
       "              min_child_weight=None, missing=nan, monotone_constraints=None,\n",
       "              n_estimators=200, n_jobs=None, nthread=10, num_parallel_tree=None,\n",
       "              objective='multi:softprob', ...)"
      ]
     },
     "execution_count": 217,
     "metadata": {},
     "output_type": "execute_result"
    }
   ],
   "source": [
    "# for category new\n",
    "clf_xg_tfv.fit(x_train_cat_new_tfv.tocsc(), y_train_cat)"
   ]
  },
  {
   "cell_type": "code",
   "execution_count": 218,
   "id": "9b80bee9-0c92-40e1-ac21-4cf0f2df608b",
   "metadata": {},
   "outputs": [],
   "source": [
    "# predict for cat\n",
    "predicted_tfv_cat_new = clf_xg_tfv.predict_proba(x_valid_cat_new_tfv.tocsc())\n",
    "classify_cat_xg_new = [np.argmax(x) for x in predicted_tfv_cat_new]"
   ]
  },
  {
   "cell_type": "code",
   "execution_count": 219,
   "id": "c0f2c2c1-869f-47b0-8798-f67341171438",
   "metadata": {},
   "outputs": [
    {
     "name": "stdout",
     "output_type": "stream",
     "text": [
      "log loss: 1.052 \n",
      "accuracy for cat: 0.698\n"
     ]
    }
   ],
   "source": [
    "print (\"log loss: %0.3f \" % multiclass_logloss(y_valid_cat, predicted_tfv_cat_new))\n",
    "print(\"accuracy for cat: %0.3f\" % accuracy_score(y_valid_cat, classify_cat_xg_new))"
   ]
  },
  {
   "cell_type": "markdown",
   "id": "bc6fa3dd-1cd8-47d2-b3d9-771c8759d920",
   "metadata": {},
   "source": [
    "**Use count features**\n",
    "Fitting a simple xgboost on counter"
   ]
  },
  {
   "cell_type": "code",
   "execution_count": 220,
   "id": "aa6376eb-173d-4b2e-9358-8b0ee62aff42",
   "metadata": {},
   "outputs": [],
   "source": [
    " # use tfv \n",
    "clf_xg_ctv = xgb.XGBClassifier(max_depth=7,\n",
    "                               n_estimators=200,\n",
    "                               colsample_bytree=0.8,\n",
    "                               subsample=0.8,\n",
    "                               nthread=10,\n",
    "                               learning_rate=0.1)"
   ]
  },
  {
   "cell_type": "code",
   "execution_count": 221,
   "id": "be4e4768-47b4-45ac-b1cb-606478b1f848",
   "metadata": {},
   "outputs": [
    {
     "data": {
      "text/html": [
       "<style>#sk-container-id-15 {color: black;}#sk-container-id-15 pre{padding: 0;}#sk-container-id-15 div.sk-toggleable {background-color: white;}#sk-container-id-15 label.sk-toggleable__label {cursor: pointer;display: block;width: 100%;margin-bottom: 0;padding: 0.3em;box-sizing: border-box;text-align: center;}#sk-container-id-15 label.sk-toggleable__label-arrow:before {content: \"▸\";float: left;margin-right: 0.25em;color: #696969;}#sk-container-id-15 label.sk-toggleable__label-arrow:hover:before {color: black;}#sk-container-id-15 div.sk-estimator:hover label.sk-toggleable__label-arrow:before {color: black;}#sk-container-id-15 div.sk-toggleable__content {max-height: 0;max-width: 0;overflow: hidden;text-align: left;background-color: #f0f8ff;}#sk-container-id-15 div.sk-toggleable__content pre {margin: 0.2em;color: black;border-radius: 0.25em;background-color: #f0f8ff;}#sk-container-id-15 input.sk-toggleable__control:checked~div.sk-toggleable__content {max-height: 200px;max-width: 100%;overflow: auto;}#sk-container-id-15 input.sk-toggleable__control:checked~label.sk-toggleable__label-arrow:before {content: \"▾\";}#sk-container-id-15 div.sk-estimator input.sk-toggleable__control:checked~label.sk-toggleable__label {background-color: #d4ebff;}#sk-container-id-15 div.sk-label input.sk-toggleable__control:checked~label.sk-toggleable__label {background-color: #d4ebff;}#sk-container-id-15 input.sk-hidden--visually {border: 0;clip: rect(1px 1px 1px 1px);clip: rect(1px, 1px, 1px, 1px);height: 1px;margin: -1px;overflow: hidden;padding: 0;position: absolute;width: 1px;}#sk-container-id-15 div.sk-estimator {font-family: monospace;background-color: #f0f8ff;border: 1px dotted black;border-radius: 0.25em;box-sizing: border-box;margin-bottom: 0.5em;}#sk-container-id-15 div.sk-estimator:hover {background-color: #d4ebff;}#sk-container-id-15 div.sk-parallel-item::after {content: \"\";width: 100%;border-bottom: 1px solid gray;flex-grow: 1;}#sk-container-id-15 div.sk-label:hover label.sk-toggleable__label {background-color: #d4ebff;}#sk-container-id-15 div.sk-serial::before {content: \"\";position: absolute;border-left: 1px solid gray;box-sizing: border-box;top: 0;bottom: 0;left: 50%;z-index: 0;}#sk-container-id-15 div.sk-serial {display: flex;flex-direction: column;align-items: center;background-color: white;padding-right: 0.2em;padding-left: 0.2em;position: relative;}#sk-container-id-15 div.sk-item {position: relative;z-index: 1;}#sk-container-id-15 div.sk-parallel {display: flex;align-items: stretch;justify-content: center;background-color: white;position: relative;}#sk-container-id-15 div.sk-item::before, #sk-container-id-15 div.sk-parallel-item::before {content: \"\";position: absolute;border-left: 1px solid gray;box-sizing: border-box;top: 0;bottom: 0;left: 50%;z-index: -1;}#sk-container-id-15 div.sk-parallel-item {display: flex;flex-direction: column;z-index: 1;position: relative;background-color: white;}#sk-container-id-15 div.sk-parallel-item:first-child::after {align-self: flex-end;width: 50%;}#sk-container-id-15 div.sk-parallel-item:last-child::after {align-self: flex-start;width: 50%;}#sk-container-id-15 div.sk-parallel-item:only-child::after {width: 0;}#sk-container-id-15 div.sk-dashed-wrapped {border: 1px dashed gray;margin: 0 0.4em 0.5em 0.4em;box-sizing: border-box;padding-bottom: 0.4em;background-color: white;}#sk-container-id-15 div.sk-label label {font-family: monospace;font-weight: bold;display: inline-block;line-height: 1.2em;}#sk-container-id-15 div.sk-label-container {text-align: center;}#sk-container-id-15 div.sk-container {/* jupyter's `normalize.less` sets `[hidden] { display: none; }` but bootstrap.min.css set `[hidden] { display: none !important; }` so we also need the `!important` here to be able to override the default hidden behavior on the sphinx rendered scikit-learn.org. See: https://github.com/scikit-learn/scikit-learn/issues/21755 */display: inline-block !important;position: relative;}#sk-container-id-15 div.sk-text-repr-fallback {display: none;}</style><div id=\"sk-container-id-15\" class=\"sk-top-container\"><div class=\"sk-text-repr-fallback\"><pre>XGBClassifier(base_score=None, booster=None, callbacks=None,\n",
       "              colsample_bylevel=None, colsample_bynode=None,\n",
       "              colsample_bytree=0.8, early_stopping_rounds=None,\n",
       "              enable_categorical=False, eval_metric=None, feature_types=None,\n",
       "              gamma=None, gpu_id=None, grow_policy=None, importance_type=None,\n",
       "              interaction_constraints=None, learning_rate=0.1, max_bin=None,\n",
       "              max_cat_threshold=None, max_cat_to_onehot=None,\n",
       "              max_delta_step=None, max_depth=7, max_leaves=None,\n",
       "              min_child_weight=None, missing=nan, monotone_constraints=None,\n",
       "              n_estimators=200, n_jobs=None, nthread=10, num_parallel_tree=None,\n",
       "              objective=&#x27;multi:softprob&#x27;, ...)</pre><b>In a Jupyter environment, please rerun this cell to show the HTML representation or trust the notebook. <br />On GitHub, the HTML representation is unable to render, please try loading this page with nbviewer.org.</b></div><div class=\"sk-container\" hidden><div class=\"sk-item\"><div class=\"sk-estimator sk-toggleable\"><input class=\"sk-toggleable__control sk-hidden--visually\" id=\"sk-estimator-id-15\" type=\"checkbox\" checked><label for=\"sk-estimator-id-15\" class=\"sk-toggleable__label sk-toggleable__label-arrow\">XGBClassifier</label><div class=\"sk-toggleable__content\"><pre>XGBClassifier(base_score=None, booster=None, callbacks=None,\n",
       "              colsample_bylevel=None, colsample_bynode=None,\n",
       "              colsample_bytree=0.8, early_stopping_rounds=None,\n",
       "              enable_categorical=False, eval_metric=None, feature_types=None,\n",
       "              gamma=None, gpu_id=None, grow_policy=None, importance_type=None,\n",
       "              interaction_constraints=None, learning_rate=0.1, max_bin=None,\n",
       "              max_cat_threshold=None, max_cat_to_onehot=None,\n",
       "              max_delta_step=None, max_depth=7, max_leaves=None,\n",
       "              min_child_weight=None, missing=nan, monotone_constraints=None,\n",
       "              n_estimators=200, n_jobs=None, nthread=10, num_parallel_tree=None,\n",
       "              objective=&#x27;multi:softprob&#x27;, ...)</pre></div></div></div></div></div>"
      ],
      "text/plain": [
       "XGBClassifier(base_score=None, booster=None, callbacks=None,\n",
       "              colsample_bylevel=None, colsample_bynode=None,\n",
       "              colsample_bytree=0.8, early_stopping_rounds=None,\n",
       "              enable_categorical=False, eval_metric=None, feature_types=None,\n",
       "              gamma=None, gpu_id=None, grow_policy=None, importance_type=None,\n",
       "              interaction_constraints=None, learning_rate=0.1, max_bin=None,\n",
       "              max_cat_threshold=None, max_cat_to_onehot=None,\n",
       "              max_delta_step=None, max_depth=7, max_leaves=None,\n",
       "              min_child_weight=None, missing=nan, monotone_constraints=None,\n",
       "              n_estimators=200, n_jobs=None, nthread=10, num_parallel_tree=None,\n",
       "              objective='multi:softprob', ...)"
      ]
     },
     "execution_count": 221,
     "metadata": {},
     "output_type": "execute_result"
    }
   ],
   "source": [
    "# for group\n",
    "clf_xg_ctv.fit(x_train_group_ctv.tocsc(), y_train_group)"
   ]
  },
  {
   "cell_type": "code",
   "execution_count": 222,
   "id": "657f043c-2a0c-4f2c-b13d-75e556965707",
   "metadata": {},
   "outputs": [],
   "source": [
    "# predict for group\n",
    "predicted_ctv_group = clf_xg_ctv.predict_proba(x_valid_group_ctv.tocsc())"
   ]
  },
  {
   "cell_type": "code",
   "execution_count": 223,
   "id": "8ecbe0cf-ddbd-4fd8-9ed3-11871d953d45",
   "metadata": {},
   "outputs": [],
   "source": [
    "classify_group_xg = [np.argmax(x) for x in predicted_ctv_group]"
   ]
  },
  {
   "cell_type": "code",
   "execution_count": 224,
   "id": "8bd9bcc5-9461-4874-95cf-304cf97f5376",
   "metadata": {},
   "outputs": [
    {
     "name": "stdout",
     "output_type": "stream",
     "text": [
      "logloss: 0.140 \n",
      "accuracy for cat: 0.962\n"
     ]
    }
   ],
   "source": [
    "print (\"logloss: %0.3f \" % multiclass_logloss(y_valid_group, predicted_ctv_group))\n",
    "print(\"accuracy for cat: %0.3f\" % accuracy_score(y_valid_group, classify_group_xg))"
   ]
  },
  {
   "cell_type": "code",
   "execution_count": 225,
   "id": "c3a42ad4-704c-447a-93f1-c00d2baa083f",
   "metadata": {},
   "outputs": [
    {
     "data": {
      "text/html": [
       "<style>#sk-container-id-16 {color: black;}#sk-container-id-16 pre{padding: 0;}#sk-container-id-16 div.sk-toggleable {background-color: white;}#sk-container-id-16 label.sk-toggleable__label {cursor: pointer;display: block;width: 100%;margin-bottom: 0;padding: 0.3em;box-sizing: border-box;text-align: center;}#sk-container-id-16 label.sk-toggleable__label-arrow:before {content: \"▸\";float: left;margin-right: 0.25em;color: #696969;}#sk-container-id-16 label.sk-toggleable__label-arrow:hover:before {color: black;}#sk-container-id-16 div.sk-estimator:hover label.sk-toggleable__label-arrow:before {color: black;}#sk-container-id-16 div.sk-toggleable__content {max-height: 0;max-width: 0;overflow: hidden;text-align: left;background-color: #f0f8ff;}#sk-container-id-16 div.sk-toggleable__content pre {margin: 0.2em;color: black;border-radius: 0.25em;background-color: #f0f8ff;}#sk-container-id-16 input.sk-toggleable__control:checked~div.sk-toggleable__content {max-height: 200px;max-width: 100%;overflow: auto;}#sk-container-id-16 input.sk-toggleable__control:checked~label.sk-toggleable__label-arrow:before {content: \"▾\";}#sk-container-id-16 div.sk-estimator input.sk-toggleable__control:checked~label.sk-toggleable__label {background-color: #d4ebff;}#sk-container-id-16 div.sk-label input.sk-toggleable__control:checked~label.sk-toggleable__label {background-color: #d4ebff;}#sk-container-id-16 input.sk-hidden--visually {border: 0;clip: rect(1px 1px 1px 1px);clip: rect(1px, 1px, 1px, 1px);height: 1px;margin: -1px;overflow: hidden;padding: 0;position: absolute;width: 1px;}#sk-container-id-16 div.sk-estimator {font-family: monospace;background-color: #f0f8ff;border: 1px dotted black;border-radius: 0.25em;box-sizing: border-box;margin-bottom: 0.5em;}#sk-container-id-16 div.sk-estimator:hover {background-color: #d4ebff;}#sk-container-id-16 div.sk-parallel-item::after {content: \"\";width: 100%;border-bottom: 1px solid gray;flex-grow: 1;}#sk-container-id-16 div.sk-label:hover label.sk-toggleable__label {background-color: #d4ebff;}#sk-container-id-16 div.sk-serial::before {content: \"\";position: absolute;border-left: 1px solid gray;box-sizing: border-box;top: 0;bottom: 0;left: 50%;z-index: 0;}#sk-container-id-16 div.sk-serial {display: flex;flex-direction: column;align-items: center;background-color: white;padding-right: 0.2em;padding-left: 0.2em;position: relative;}#sk-container-id-16 div.sk-item {position: relative;z-index: 1;}#sk-container-id-16 div.sk-parallel {display: flex;align-items: stretch;justify-content: center;background-color: white;position: relative;}#sk-container-id-16 div.sk-item::before, #sk-container-id-16 div.sk-parallel-item::before {content: \"\";position: absolute;border-left: 1px solid gray;box-sizing: border-box;top: 0;bottom: 0;left: 50%;z-index: -1;}#sk-container-id-16 div.sk-parallel-item {display: flex;flex-direction: column;z-index: 1;position: relative;background-color: white;}#sk-container-id-16 div.sk-parallel-item:first-child::after {align-self: flex-end;width: 50%;}#sk-container-id-16 div.sk-parallel-item:last-child::after {align-self: flex-start;width: 50%;}#sk-container-id-16 div.sk-parallel-item:only-child::after {width: 0;}#sk-container-id-16 div.sk-dashed-wrapped {border: 1px dashed gray;margin: 0 0.4em 0.5em 0.4em;box-sizing: border-box;padding-bottom: 0.4em;background-color: white;}#sk-container-id-16 div.sk-label label {font-family: monospace;font-weight: bold;display: inline-block;line-height: 1.2em;}#sk-container-id-16 div.sk-label-container {text-align: center;}#sk-container-id-16 div.sk-container {/* jupyter's `normalize.less` sets `[hidden] { display: none; }` but bootstrap.min.css set `[hidden] { display: none !important; }` so we also need the `!important` here to be able to override the default hidden behavior on the sphinx rendered scikit-learn.org. See: https://github.com/scikit-learn/scikit-learn/issues/21755 */display: inline-block !important;position: relative;}#sk-container-id-16 div.sk-text-repr-fallback {display: none;}</style><div id=\"sk-container-id-16\" class=\"sk-top-container\"><div class=\"sk-text-repr-fallback\"><pre>XGBClassifier(base_score=None, booster=None, callbacks=None,\n",
       "              colsample_bylevel=None, colsample_bynode=None,\n",
       "              colsample_bytree=0.8, early_stopping_rounds=None,\n",
       "              enable_categorical=False, eval_metric=None, feature_types=None,\n",
       "              gamma=None, gpu_id=None, grow_policy=None, importance_type=None,\n",
       "              interaction_constraints=None, learning_rate=0.1, max_bin=None,\n",
       "              max_cat_threshold=None, max_cat_to_onehot=None,\n",
       "              max_delta_step=None, max_depth=7, max_leaves=None,\n",
       "              min_child_weight=None, missing=nan, monotone_constraints=None,\n",
       "              n_estimators=200, n_jobs=None, nthread=10, num_parallel_tree=None,\n",
       "              objective=&#x27;multi:softprob&#x27;, ...)</pre><b>In a Jupyter environment, please rerun this cell to show the HTML representation or trust the notebook. <br />On GitHub, the HTML representation is unable to render, please try loading this page with nbviewer.org.</b></div><div class=\"sk-container\" hidden><div class=\"sk-item\"><div class=\"sk-estimator sk-toggleable\"><input class=\"sk-toggleable__control sk-hidden--visually\" id=\"sk-estimator-id-16\" type=\"checkbox\" checked><label for=\"sk-estimator-id-16\" class=\"sk-toggleable__label sk-toggleable__label-arrow\">XGBClassifier</label><div class=\"sk-toggleable__content\"><pre>XGBClassifier(base_score=None, booster=None, callbacks=None,\n",
       "              colsample_bylevel=None, colsample_bynode=None,\n",
       "              colsample_bytree=0.8, early_stopping_rounds=None,\n",
       "              enable_categorical=False, eval_metric=None, feature_types=None,\n",
       "              gamma=None, gpu_id=None, grow_policy=None, importance_type=None,\n",
       "              interaction_constraints=None, learning_rate=0.1, max_bin=None,\n",
       "              max_cat_threshold=None, max_cat_to_onehot=None,\n",
       "              max_delta_step=None, max_depth=7, max_leaves=None,\n",
       "              min_child_weight=None, missing=nan, monotone_constraints=None,\n",
       "              n_estimators=200, n_jobs=None, nthread=10, num_parallel_tree=None,\n",
       "              objective=&#x27;multi:softprob&#x27;, ...)</pre></div></div></div></div></div>"
      ],
      "text/plain": [
       "XGBClassifier(base_score=None, booster=None, callbacks=None,\n",
       "              colsample_bylevel=None, colsample_bynode=None,\n",
       "              colsample_bytree=0.8, early_stopping_rounds=None,\n",
       "              enable_categorical=False, eval_metric=None, feature_types=None,\n",
       "              gamma=None, gpu_id=None, grow_policy=None, importance_type=None,\n",
       "              interaction_constraints=None, learning_rate=0.1, max_bin=None,\n",
       "              max_cat_threshold=None, max_cat_to_onehot=None,\n",
       "              max_delta_step=None, max_depth=7, max_leaves=None,\n",
       "              min_child_weight=None, missing=nan, monotone_constraints=None,\n",
       "              n_estimators=200, n_jobs=None, nthread=10, num_parallel_tree=None,\n",
       "              objective='multi:softprob', ...)"
      ]
     },
     "execution_count": 225,
     "metadata": {},
     "output_type": "execute_result"
    }
   ],
   "source": [
    "# for category\n",
    "clf_xg_ctv.fit(x_train_cat_ctv.tocsc(), y_train_cat)"
   ]
  },
  {
   "cell_type": "code",
   "execution_count": 226,
   "id": "c87e86dd-e0e7-43a6-9214-38c22aeae7dc",
   "metadata": {},
   "outputs": [],
   "source": [
    "# predict for cat\n",
    "predicted_ctv_cat = clf_xg_ctv.predict_proba(x_valid_cat_ctv.tocsc())"
   ]
  },
  {
   "cell_type": "code",
   "execution_count": 227,
   "id": "029e8604-43db-4c10-b6f5-b02a040bc71c",
   "metadata": {},
   "outputs": [],
   "source": [
    "classify_cat_xg = [np.argmax(x) for x in predicted_ctv_cat]"
   ]
  },
  {
   "cell_type": "code",
   "execution_count": 228,
   "id": "6116c033-96ea-43de-bf12-424d5a963199",
   "metadata": {},
   "outputs": [
    {
     "name": "stdout",
     "output_type": "stream",
     "text": [
      "log loss: 1.055 \n",
      "accuracy for cat: 0.691\n"
     ]
    }
   ],
   "source": [
    "print (\"log loss: %0.3f \" % multiclass_logloss(y_valid_cat, predicted_ctv_cat))\n",
    "print(\"accuracy for cat: %0.3f\" % accuracy_score(y_valid_cat, classify_cat_xg))"
   ]
  },
  {
   "cell_type": "code",
   "execution_count": 229,
   "id": "4c300807-dea5-407b-893f-fbce6de9c099",
   "metadata": {},
   "outputs": [
    {
     "data": {
      "text/html": [
       "<style>#sk-container-id-17 {color: black;}#sk-container-id-17 pre{padding: 0;}#sk-container-id-17 div.sk-toggleable {background-color: white;}#sk-container-id-17 label.sk-toggleable__label {cursor: pointer;display: block;width: 100%;margin-bottom: 0;padding: 0.3em;box-sizing: border-box;text-align: center;}#sk-container-id-17 label.sk-toggleable__label-arrow:before {content: \"▸\";float: left;margin-right: 0.25em;color: #696969;}#sk-container-id-17 label.sk-toggleable__label-arrow:hover:before {color: black;}#sk-container-id-17 div.sk-estimator:hover label.sk-toggleable__label-arrow:before {color: black;}#sk-container-id-17 div.sk-toggleable__content {max-height: 0;max-width: 0;overflow: hidden;text-align: left;background-color: #f0f8ff;}#sk-container-id-17 div.sk-toggleable__content pre {margin: 0.2em;color: black;border-radius: 0.25em;background-color: #f0f8ff;}#sk-container-id-17 input.sk-toggleable__control:checked~div.sk-toggleable__content {max-height: 200px;max-width: 100%;overflow: auto;}#sk-container-id-17 input.sk-toggleable__control:checked~label.sk-toggleable__label-arrow:before {content: \"▾\";}#sk-container-id-17 div.sk-estimator input.sk-toggleable__control:checked~label.sk-toggleable__label {background-color: #d4ebff;}#sk-container-id-17 div.sk-label input.sk-toggleable__control:checked~label.sk-toggleable__label {background-color: #d4ebff;}#sk-container-id-17 input.sk-hidden--visually {border: 0;clip: rect(1px 1px 1px 1px);clip: rect(1px, 1px, 1px, 1px);height: 1px;margin: -1px;overflow: hidden;padding: 0;position: absolute;width: 1px;}#sk-container-id-17 div.sk-estimator {font-family: monospace;background-color: #f0f8ff;border: 1px dotted black;border-radius: 0.25em;box-sizing: border-box;margin-bottom: 0.5em;}#sk-container-id-17 div.sk-estimator:hover {background-color: #d4ebff;}#sk-container-id-17 div.sk-parallel-item::after {content: \"\";width: 100%;border-bottom: 1px solid gray;flex-grow: 1;}#sk-container-id-17 div.sk-label:hover label.sk-toggleable__label {background-color: #d4ebff;}#sk-container-id-17 div.sk-serial::before {content: \"\";position: absolute;border-left: 1px solid gray;box-sizing: border-box;top: 0;bottom: 0;left: 50%;z-index: 0;}#sk-container-id-17 div.sk-serial {display: flex;flex-direction: column;align-items: center;background-color: white;padding-right: 0.2em;padding-left: 0.2em;position: relative;}#sk-container-id-17 div.sk-item {position: relative;z-index: 1;}#sk-container-id-17 div.sk-parallel {display: flex;align-items: stretch;justify-content: center;background-color: white;position: relative;}#sk-container-id-17 div.sk-item::before, #sk-container-id-17 div.sk-parallel-item::before {content: \"\";position: absolute;border-left: 1px solid gray;box-sizing: border-box;top: 0;bottom: 0;left: 50%;z-index: -1;}#sk-container-id-17 div.sk-parallel-item {display: flex;flex-direction: column;z-index: 1;position: relative;background-color: white;}#sk-container-id-17 div.sk-parallel-item:first-child::after {align-self: flex-end;width: 50%;}#sk-container-id-17 div.sk-parallel-item:last-child::after {align-self: flex-start;width: 50%;}#sk-container-id-17 div.sk-parallel-item:only-child::after {width: 0;}#sk-container-id-17 div.sk-dashed-wrapped {border: 1px dashed gray;margin: 0 0.4em 0.5em 0.4em;box-sizing: border-box;padding-bottom: 0.4em;background-color: white;}#sk-container-id-17 div.sk-label label {font-family: monospace;font-weight: bold;display: inline-block;line-height: 1.2em;}#sk-container-id-17 div.sk-label-container {text-align: center;}#sk-container-id-17 div.sk-container {/* jupyter's `normalize.less` sets `[hidden] { display: none; }` but bootstrap.min.css set `[hidden] { display: none !important; }` so we also need the `!important` here to be able to override the default hidden behavior on the sphinx rendered scikit-learn.org. See: https://github.com/scikit-learn/scikit-learn/issues/21755 */display: inline-block !important;position: relative;}#sk-container-id-17 div.sk-text-repr-fallback {display: none;}</style><div id=\"sk-container-id-17\" class=\"sk-top-container\"><div class=\"sk-text-repr-fallback\"><pre>XGBClassifier(base_score=None, booster=None, callbacks=None,\n",
       "              colsample_bylevel=None, colsample_bynode=None,\n",
       "              colsample_bytree=0.8, early_stopping_rounds=None,\n",
       "              enable_categorical=False, eval_metric=None, feature_types=None,\n",
       "              gamma=None, gpu_id=None, grow_policy=None, importance_type=None,\n",
       "              interaction_constraints=None, learning_rate=0.1, max_bin=None,\n",
       "              max_cat_threshold=None, max_cat_to_onehot=None,\n",
       "              max_delta_step=None, max_depth=7, max_leaves=None,\n",
       "              min_child_weight=None, missing=nan, monotone_constraints=None,\n",
       "              n_estimators=200, n_jobs=None, nthread=10, num_parallel_tree=None,\n",
       "              objective=&#x27;multi:softprob&#x27;, ...)</pre><b>In a Jupyter environment, please rerun this cell to show the HTML representation or trust the notebook. <br />On GitHub, the HTML representation is unable to render, please try loading this page with nbviewer.org.</b></div><div class=\"sk-container\" hidden><div class=\"sk-item\"><div class=\"sk-estimator sk-toggleable\"><input class=\"sk-toggleable__control sk-hidden--visually\" id=\"sk-estimator-id-17\" type=\"checkbox\" checked><label for=\"sk-estimator-id-17\" class=\"sk-toggleable__label sk-toggleable__label-arrow\">XGBClassifier</label><div class=\"sk-toggleable__content\"><pre>XGBClassifier(base_score=None, booster=None, callbacks=None,\n",
       "              colsample_bylevel=None, colsample_bynode=None,\n",
       "              colsample_bytree=0.8, early_stopping_rounds=None,\n",
       "              enable_categorical=False, eval_metric=None, feature_types=None,\n",
       "              gamma=None, gpu_id=None, grow_policy=None, importance_type=None,\n",
       "              interaction_constraints=None, learning_rate=0.1, max_bin=None,\n",
       "              max_cat_threshold=None, max_cat_to_onehot=None,\n",
       "              max_delta_step=None, max_depth=7, max_leaves=None,\n",
       "              min_child_weight=None, missing=nan, monotone_constraints=None,\n",
       "              n_estimators=200, n_jobs=None, nthread=10, num_parallel_tree=None,\n",
       "              objective=&#x27;multi:softprob&#x27;, ...)</pre></div></div></div></div></div>"
      ],
      "text/plain": [
       "XGBClassifier(base_score=None, booster=None, callbacks=None,\n",
       "              colsample_bylevel=None, colsample_bynode=None,\n",
       "              colsample_bytree=0.8, early_stopping_rounds=None,\n",
       "              enable_categorical=False, eval_metric=None, feature_types=None,\n",
       "              gamma=None, gpu_id=None, grow_policy=None, importance_type=None,\n",
       "              interaction_constraints=None, learning_rate=0.1, max_bin=None,\n",
       "              max_cat_threshold=None, max_cat_to_onehot=None,\n",
       "              max_delta_step=None, max_depth=7, max_leaves=None,\n",
       "              min_child_weight=None, missing=nan, monotone_constraints=None,\n",
       "              n_estimators=200, n_jobs=None, nthread=10, num_parallel_tree=None,\n",
       "              objective='multi:softprob', ...)"
      ]
     },
     "execution_count": 229,
     "metadata": {},
     "output_type": "execute_result"
    }
   ],
   "source": [
    "# for category\n",
    "clf_xg_ctv.fit(x_train_cat_new_ctv.tocsc(), y_train_cat)"
   ]
  },
  {
   "cell_type": "code",
   "execution_count": 230,
   "id": "362d850f-bf00-485b-a315-9baeb96348d5",
   "metadata": {},
   "outputs": [],
   "source": [
    "# predict for cat\n",
    "predicted_ctv_cat_new = clf_xg_ctv.predict_proba(x_valid_cat_new_ctv.tocsc())\n",
    "classify_cat_xg_new = [np.argmax(x) for x in predicted_ctv_cat_new]"
   ]
  },
  {
   "cell_type": "code",
   "execution_count": 231,
   "id": "dd77f9d9-9b8f-4b6e-9eb2-cd77b6e843c6",
   "metadata": {},
   "outputs": [
    {
     "name": "stdout",
     "output_type": "stream",
     "text": [
      "log loss: 0.957 \n",
      "accuracy for cat: 0.711\n"
     ]
    }
   ],
   "source": [
    "print (\"log loss: %0.3f \" % multiclass_logloss(y_valid_cat, predicted_ctv_cat_new))\n",
    "print(\"accuracy for cat: %0.3f\" % accuracy_score(y_valid_cat, classify_cat_xg_new))"
   ]
  },
  {
   "cell_type": "markdown",
   "id": "6c9821ad-244c-449b-ba1e-5c1ccd8eab9b",
   "metadata": {},
   "source": [
    "**Use svm features**\n",
    "Fitting a simple xgboost on svm"
   ]
  },
  {
   "cell_type": "code",
   "execution_count": 232,
   "id": "a52c5c58-81d4-4ea5-96a7-8dff1ede3f3d",
   "metadata": {},
   "outputs": [],
   "source": [
    "clf_svm_xg = xgb.XGBClassifier(max_depth=7,\n",
    "                            n_estimators=200,\n",
    "                            colsample_bytree=0.8,\n",
    "                            subsample=0.8,\n",
    "                            nthread=10,\n",
    "                            learning_rate=0.1)"
   ]
  },
  {
   "cell_type": "code",
   "execution_count": 233,
   "id": "b369a7ac-375e-47db-837b-dee88f8da8a8",
   "metadata": {},
   "outputs": [
    {
     "data": {
      "text/html": [
       "<style>#sk-container-id-18 {color: black;}#sk-container-id-18 pre{padding: 0;}#sk-container-id-18 div.sk-toggleable {background-color: white;}#sk-container-id-18 label.sk-toggleable__label {cursor: pointer;display: block;width: 100%;margin-bottom: 0;padding: 0.3em;box-sizing: border-box;text-align: center;}#sk-container-id-18 label.sk-toggleable__label-arrow:before {content: \"▸\";float: left;margin-right: 0.25em;color: #696969;}#sk-container-id-18 label.sk-toggleable__label-arrow:hover:before {color: black;}#sk-container-id-18 div.sk-estimator:hover label.sk-toggleable__label-arrow:before {color: black;}#sk-container-id-18 div.sk-toggleable__content {max-height: 0;max-width: 0;overflow: hidden;text-align: left;background-color: #f0f8ff;}#sk-container-id-18 div.sk-toggleable__content pre {margin: 0.2em;color: black;border-radius: 0.25em;background-color: #f0f8ff;}#sk-container-id-18 input.sk-toggleable__control:checked~div.sk-toggleable__content {max-height: 200px;max-width: 100%;overflow: auto;}#sk-container-id-18 input.sk-toggleable__control:checked~label.sk-toggleable__label-arrow:before {content: \"▾\";}#sk-container-id-18 div.sk-estimator input.sk-toggleable__control:checked~label.sk-toggleable__label {background-color: #d4ebff;}#sk-container-id-18 div.sk-label input.sk-toggleable__control:checked~label.sk-toggleable__label {background-color: #d4ebff;}#sk-container-id-18 input.sk-hidden--visually {border: 0;clip: rect(1px 1px 1px 1px);clip: rect(1px, 1px, 1px, 1px);height: 1px;margin: -1px;overflow: hidden;padding: 0;position: absolute;width: 1px;}#sk-container-id-18 div.sk-estimator {font-family: monospace;background-color: #f0f8ff;border: 1px dotted black;border-radius: 0.25em;box-sizing: border-box;margin-bottom: 0.5em;}#sk-container-id-18 div.sk-estimator:hover {background-color: #d4ebff;}#sk-container-id-18 div.sk-parallel-item::after {content: \"\";width: 100%;border-bottom: 1px solid gray;flex-grow: 1;}#sk-container-id-18 div.sk-label:hover label.sk-toggleable__label {background-color: #d4ebff;}#sk-container-id-18 div.sk-serial::before {content: \"\";position: absolute;border-left: 1px solid gray;box-sizing: border-box;top: 0;bottom: 0;left: 50%;z-index: 0;}#sk-container-id-18 div.sk-serial {display: flex;flex-direction: column;align-items: center;background-color: white;padding-right: 0.2em;padding-left: 0.2em;position: relative;}#sk-container-id-18 div.sk-item {position: relative;z-index: 1;}#sk-container-id-18 div.sk-parallel {display: flex;align-items: stretch;justify-content: center;background-color: white;position: relative;}#sk-container-id-18 div.sk-item::before, #sk-container-id-18 div.sk-parallel-item::before {content: \"\";position: absolute;border-left: 1px solid gray;box-sizing: border-box;top: 0;bottom: 0;left: 50%;z-index: -1;}#sk-container-id-18 div.sk-parallel-item {display: flex;flex-direction: column;z-index: 1;position: relative;background-color: white;}#sk-container-id-18 div.sk-parallel-item:first-child::after {align-self: flex-end;width: 50%;}#sk-container-id-18 div.sk-parallel-item:last-child::after {align-self: flex-start;width: 50%;}#sk-container-id-18 div.sk-parallel-item:only-child::after {width: 0;}#sk-container-id-18 div.sk-dashed-wrapped {border: 1px dashed gray;margin: 0 0.4em 0.5em 0.4em;box-sizing: border-box;padding-bottom: 0.4em;background-color: white;}#sk-container-id-18 div.sk-label label {font-family: monospace;font-weight: bold;display: inline-block;line-height: 1.2em;}#sk-container-id-18 div.sk-label-container {text-align: center;}#sk-container-id-18 div.sk-container {/* jupyter's `normalize.less` sets `[hidden] { display: none; }` but bootstrap.min.css set `[hidden] { display: none !important; }` so we also need the `!important` here to be able to override the default hidden behavior on the sphinx rendered scikit-learn.org. See: https://github.com/scikit-learn/scikit-learn/issues/21755 */display: inline-block !important;position: relative;}#sk-container-id-18 div.sk-text-repr-fallback {display: none;}</style><div id=\"sk-container-id-18\" class=\"sk-top-container\"><div class=\"sk-text-repr-fallback\"><pre>XGBClassifier(base_score=None, booster=None, callbacks=None,\n",
       "              colsample_bylevel=None, colsample_bynode=None,\n",
       "              colsample_bytree=0.8, early_stopping_rounds=None,\n",
       "              enable_categorical=False, eval_metric=None, feature_types=None,\n",
       "              gamma=None, gpu_id=None, grow_policy=None, importance_type=None,\n",
       "              interaction_constraints=None, learning_rate=0.1, max_bin=None,\n",
       "              max_cat_threshold=None, max_cat_to_onehot=None,\n",
       "              max_delta_step=None, max_depth=7, max_leaves=None,\n",
       "              min_child_weight=None, missing=nan, monotone_constraints=None,\n",
       "              n_estimators=200, n_jobs=None, nthread=10, num_parallel_tree=None,\n",
       "              objective=&#x27;multi:softprob&#x27;, ...)</pre><b>In a Jupyter environment, please rerun this cell to show the HTML representation or trust the notebook. <br />On GitHub, the HTML representation is unable to render, please try loading this page with nbviewer.org.</b></div><div class=\"sk-container\" hidden><div class=\"sk-item\"><div class=\"sk-estimator sk-toggleable\"><input class=\"sk-toggleable__control sk-hidden--visually\" id=\"sk-estimator-id-18\" type=\"checkbox\" checked><label for=\"sk-estimator-id-18\" class=\"sk-toggleable__label sk-toggleable__label-arrow\">XGBClassifier</label><div class=\"sk-toggleable__content\"><pre>XGBClassifier(base_score=None, booster=None, callbacks=None,\n",
       "              colsample_bylevel=None, colsample_bynode=None,\n",
       "              colsample_bytree=0.8, early_stopping_rounds=None,\n",
       "              enable_categorical=False, eval_metric=None, feature_types=None,\n",
       "              gamma=None, gpu_id=None, grow_policy=None, importance_type=None,\n",
       "              interaction_constraints=None, learning_rate=0.1, max_bin=None,\n",
       "              max_cat_threshold=None, max_cat_to_onehot=None,\n",
       "              max_delta_step=None, max_depth=7, max_leaves=None,\n",
       "              min_child_weight=None, missing=nan, monotone_constraints=None,\n",
       "              n_estimators=200, n_jobs=None, nthread=10, num_parallel_tree=None,\n",
       "              objective=&#x27;multi:softprob&#x27;, ...)</pre></div></div></div></div></div>"
      ],
      "text/plain": [
       "XGBClassifier(base_score=None, booster=None, callbacks=None,\n",
       "              colsample_bylevel=None, colsample_bynode=None,\n",
       "              colsample_bytree=0.8, early_stopping_rounds=None,\n",
       "              enable_categorical=False, eval_metric=None, feature_types=None,\n",
       "              gamma=None, gpu_id=None, grow_policy=None, importance_type=None,\n",
       "              interaction_constraints=None, learning_rate=0.1, max_bin=None,\n",
       "              max_cat_threshold=None, max_cat_to_onehot=None,\n",
       "              max_delta_step=None, max_depth=7, max_leaves=None,\n",
       "              min_child_weight=None, missing=nan, monotone_constraints=None,\n",
       "              n_estimators=200, n_jobs=None, nthread=10, num_parallel_tree=None,\n",
       "              objective='multi:softprob', ...)"
      ]
     },
     "execution_count": 233,
     "metadata": {},
     "output_type": "execute_result"
    }
   ],
   "source": [
    "# For group\n",
    "clf_svm_xg.fit(x_train_group_svd_scl, y_train_group)"
   ]
  },
  {
   "cell_type": "code",
   "execution_count": 234,
   "id": "6bf4ed19-627c-4b22-86ea-d015427b3825",
   "metadata": {},
   "outputs": [],
   "source": [
    "# predict for group\n",
    "predicted_svm_group = clf_svm_xg.predict_proba(x_valid_group_svd_scl)"
   ]
  },
  {
   "cell_type": "code",
   "execution_count": 235,
   "id": "0e569173-8599-48bc-93ee-7ed8b8044e08",
   "metadata": {},
   "outputs": [],
   "source": [
    "classify_group_xg = [np.argmax(x) for x in predicted_svm_group]"
   ]
  },
  {
   "cell_type": "code",
   "execution_count": 236,
   "id": "7171bcaa-4618-4ffe-bc6f-fadee8471131",
   "metadata": {},
   "outputs": [
    {
     "name": "stdout",
     "output_type": "stream",
     "text": [
      "log loss: 0.200 \n",
      "accuracy for cat: 0.951\n"
     ]
    }
   ],
   "source": [
    "print (\"log loss: %0.3f \" % multiclass_logloss(y_valid_group, predicted_svm_group))\n",
    "print(\"accuracy for cat: %0.3f\" % accuracy_score(y_valid_group, classify_group_xg))"
   ]
  },
  {
   "cell_type": "code",
   "execution_count": 237,
   "id": "f8c95e0a-8c1c-4800-96b2-9c79cf46b7d9",
   "metadata": {},
   "outputs": [
    {
     "data": {
      "text/html": [
       "<style>#sk-container-id-19 {color: black;}#sk-container-id-19 pre{padding: 0;}#sk-container-id-19 div.sk-toggleable {background-color: white;}#sk-container-id-19 label.sk-toggleable__label {cursor: pointer;display: block;width: 100%;margin-bottom: 0;padding: 0.3em;box-sizing: border-box;text-align: center;}#sk-container-id-19 label.sk-toggleable__label-arrow:before {content: \"▸\";float: left;margin-right: 0.25em;color: #696969;}#sk-container-id-19 label.sk-toggleable__label-arrow:hover:before {color: black;}#sk-container-id-19 div.sk-estimator:hover label.sk-toggleable__label-arrow:before {color: black;}#sk-container-id-19 div.sk-toggleable__content {max-height: 0;max-width: 0;overflow: hidden;text-align: left;background-color: #f0f8ff;}#sk-container-id-19 div.sk-toggleable__content pre {margin: 0.2em;color: black;border-radius: 0.25em;background-color: #f0f8ff;}#sk-container-id-19 input.sk-toggleable__control:checked~div.sk-toggleable__content {max-height: 200px;max-width: 100%;overflow: auto;}#sk-container-id-19 input.sk-toggleable__control:checked~label.sk-toggleable__label-arrow:before {content: \"▾\";}#sk-container-id-19 div.sk-estimator input.sk-toggleable__control:checked~label.sk-toggleable__label {background-color: #d4ebff;}#sk-container-id-19 div.sk-label input.sk-toggleable__control:checked~label.sk-toggleable__label {background-color: #d4ebff;}#sk-container-id-19 input.sk-hidden--visually {border: 0;clip: rect(1px 1px 1px 1px);clip: rect(1px, 1px, 1px, 1px);height: 1px;margin: -1px;overflow: hidden;padding: 0;position: absolute;width: 1px;}#sk-container-id-19 div.sk-estimator {font-family: monospace;background-color: #f0f8ff;border: 1px dotted black;border-radius: 0.25em;box-sizing: border-box;margin-bottom: 0.5em;}#sk-container-id-19 div.sk-estimator:hover {background-color: #d4ebff;}#sk-container-id-19 div.sk-parallel-item::after {content: \"\";width: 100%;border-bottom: 1px solid gray;flex-grow: 1;}#sk-container-id-19 div.sk-label:hover label.sk-toggleable__label {background-color: #d4ebff;}#sk-container-id-19 div.sk-serial::before {content: \"\";position: absolute;border-left: 1px solid gray;box-sizing: border-box;top: 0;bottom: 0;left: 50%;z-index: 0;}#sk-container-id-19 div.sk-serial {display: flex;flex-direction: column;align-items: center;background-color: white;padding-right: 0.2em;padding-left: 0.2em;position: relative;}#sk-container-id-19 div.sk-item {position: relative;z-index: 1;}#sk-container-id-19 div.sk-parallel {display: flex;align-items: stretch;justify-content: center;background-color: white;position: relative;}#sk-container-id-19 div.sk-item::before, #sk-container-id-19 div.sk-parallel-item::before {content: \"\";position: absolute;border-left: 1px solid gray;box-sizing: border-box;top: 0;bottom: 0;left: 50%;z-index: -1;}#sk-container-id-19 div.sk-parallel-item {display: flex;flex-direction: column;z-index: 1;position: relative;background-color: white;}#sk-container-id-19 div.sk-parallel-item:first-child::after {align-self: flex-end;width: 50%;}#sk-container-id-19 div.sk-parallel-item:last-child::after {align-self: flex-start;width: 50%;}#sk-container-id-19 div.sk-parallel-item:only-child::after {width: 0;}#sk-container-id-19 div.sk-dashed-wrapped {border: 1px dashed gray;margin: 0 0.4em 0.5em 0.4em;box-sizing: border-box;padding-bottom: 0.4em;background-color: white;}#sk-container-id-19 div.sk-label label {font-family: monospace;font-weight: bold;display: inline-block;line-height: 1.2em;}#sk-container-id-19 div.sk-label-container {text-align: center;}#sk-container-id-19 div.sk-container {/* jupyter's `normalize.less` sets `[hidden] { display: none; }` but bootstrap.min.css set `[hidden] { display: none !important; }` so we also need the `!important` here to be able to override the default hidden behavior on the sphinx rendered scikit-learn.org. See: https://github.com/scikit-learn/scikit-learn/issues/21755 */display: inline-block !important;position: relative;}#sk-container-id-19 div.sk-text-repr-fallback {display: none;}</style><div id=\"sk-container-id-19\" class=\"sk-top-container\"><div class=\"sk-text-repr-fallback\"><pre>XGBClassifier(base_score=None, booster=None, callbacks=None,\n",
       "              colsample_bylevel=None, colsample_bynode=None,\n",
       "              colsample_bytree=0.8, early_stopping_rounds=None,\n",
       "              enable_categorical=False, eval_metric=None, feature_types=None,\n",
       "              gamma=None, gpu_id=None, grow_policy=None, importance_type=None,\n",
       "              interaction_constraints=None, learning_rate=0.1, max_bin=None,\n",
       "              max_cat_threshold=None, max_cat_to_onehot=None,\n",
       "              max_delta_step=None, max_depth=7, max_leaves=None,\n",
       "              min_child_weight=None, missing=nan, monotone_constraints=None,\n",
       "              n_estimators=200, n_jobs=None, nthread=10, num_parallel_tree=None,\n",
       "              objective=&#x27;multi:softprob&#x27;, ...)</pre><b>In a Jupyter environment, please rerun this cell to show the HTML representation or trust the notebook. <br />On GitHub, the HTML representation is unable to render, please try loading this page with nbviewer.org.</b></div><div class=\"sk-container\" hidden><div class=\"sk-item\"><div class=\"sk-estimator sk-toggleable\"><input class=\"sk-toggleable__control sk-hidden--visually\" id=\"sk-estimator-id-19\" type=\"checkbox\" checked><label for=\"sk-estimator-id-19\" class=\"sk-toggleable__label sk-toggleable__label-arrow\">XGBClassifier</label><div class=\"sk-toggleable__content\"><pre>XGBClassifier(base_score=None, booster=None, callbacks=None,\n",
       "              colsample_bylevel=None, colsample_bynode=None,\n",
       "              colsample_bytree=0.8, early_stopping_rounds=None,\n",
       "              enable_categorical=False, eval_metric=None, feature_types=None,\n",
       "              gamma=None, gpu_id=None, grow_policy=None, importance_type=None,\n",
       "              interaction_constraints=None, learning_rate=0.1, max_bin=None,\n",
       "              max_cat_threshold=None, max_cat_to_onehot=None,\n",
       "              max_delta_step=None, max_depth=7, max_leaves=None,\n",
       "              min_child_weight=None, missing=nan, monotone_constraints=None,\n",
       "              n_estimators=200, n_jobs=None, nthread=10, num_parallel_tree=None,\n",
       "              objective=&#x27;multi:softprob&#x27;, ...)</pre></div></div></div></div></div>"
      ],
      "text/plain": [
       "XGBClassifier(base_score=None, booster=None, callbacks=None,\n",
       "              colsample_bylevel=None, colsample_bynode=None,\n",
       "              colsample_bytree=0.8, early_stopping_rounds=None,\n",
       "              enable_categorical=False, eval_metric=None, feature_types=None,\n",
       "              gamma=None, gpu_id=None, grow_policy=None, importance_type=None,\n",
       "              interaction_constraints=None, learning_rate=0.1, max_bin=None,\n",
       "              max_cat_threshold=None, max_cat_to_onehot=None,\n",
       "              max_delta_step=None, max_depth=7, max_leaves=None,\n",
       "              min_child_weight=None, missing=nan, monotone_constraints=None,\n",
       "              n_estimators=200, n_jobs=None, nthread=10, num_parallel_tree=None,\n",
       "              objective='multi:softprob', ...)"
      ]
     },
     "execution_count": 237,
     "metadata": {},
     "output_type": "execute_result"
    }
   ],
   "source": [
    "# For category\n",
    "clf_svm_xg.fit(x_train_cat_svd_scl, y_train_cat)"
   ]
  },
  {
   "cell_type": "code",
   "execution_count": 238,
   "id": "cd2ec9a4-3b9b-46e3-9799-e417459f3c5c",
   "metadata": {},
   "outputs": [],
   "source": [
    "# predict for group\n",
    "predicted_svm_cat = clf_svm_xg.predict_proba(x_valid_cat_svd_scl)"
   ]
  },
  {
   "cell_type": "code",
   "execution_count": 239,
   "id": "3dfe835a-45a5-49d5-a9a1-26977f0c6dd6",
   "metadata": {},
   "outputs": [],
   "source": [
    "classify_cat_xg = [np.argmax(x) for x in predicted_svm_cat]"
   ]
  },
  {
   "cell_type": "code",
   "execution_count": 240,
   "id": "782001cd-d82e-4efe-90ed-28d2f2dd354a",
   "metadata": {},
   "outputs": [
    {
     "name": "stdout",
     "output_type": "stream",
     "text": [
      "log loss: 1.405 \n",
      "accuracy for cat: 0.634\n"
     ]
    }
   ],
   "source": [
    "print (\"log loss: %0.3f \" % multiclass_logloss(y_valid_cat, predicted_svm_cat))\n",
    "print(\"accuracy for cat: %0.3f\" % accuracy_score(y_valid_cat, classify_cat_xg))"
   ]
  },
  {
   "cell_type": "code",
   "execution_count": 241,
   "id": "83bc9df9-328d-4221-afa2-4cf0ea7ef912",
   "metadata": {},
   "outputs": [
    {
     "data": {
      "text/html": [
       "<style>#sk-container-id-20 {color: black;}#sk-container-id-20 pre{padding: 0;}#sk-container-id-20 div.sk-toggleable {background-color: white;}#sk-container-id-20 label.sk-toggleable__label {cursor: pointer;display: block;width: 100%;margin-bottom: 0;padding: 0.3em;box-sizing: border-box;text-align: center;}#sk-container-id-20 label.sk-toggleable__label-arrow:before {content: \"▸\";float: left;margin-right: 0.25em;color: #696969;}#sk-container-id-20 label.sk-toggleable__label-arrow:hover:before {color: black;}#sk-container-id-20 div.sk-estimator:hover label.sk-toggleable__label-arrow:before {color: black;}#sk-container-id-20 div.sk-toggleable__content {max-height: 0;max-width: 0;overflow: hidden;text-align: left;background-color: #f0f8ff;}#sk-container-id-20 div.sk-toggleable__content pre {margin: 0.2em;color: black;border-radius: 0.25em;background-color: #f0f8ff;}#sk-container-id-20 input.sk-toggleable__control:checked~div.sk-toggleable__content {max-height: 200px;max-width: 100%;overflow: auto;}#sk-container-id-20 input.sk-toggleable__control:checked~label.sk-toggleable__label-arrow:before {content: \"▾\";}#sk-container-id-20 div.sk-estimator input.sk-toggleable__control:checked~label.sk-toggleable__label {background-color: #d4ebff;}#sk-container-id-20 div.sk-label input.sk-toggleable__control:checked~label.sk-toggleable__label {background-color: #d4ebff;}#sk-container-id-20 input.sk-hidden--visually {border: 0;clip: rect(1px 1px 1px 1px);clip: rect(1px, 1px, 1px, 1px);height: 1px;margin: -1px;overflow: hidden;padding: 0;position: absolute;width: 1px;}#sk-container-id-20 div.sk-estimator {font-family: monospace;background-color: #f0f8ff;border: 1px dotted black;border-radius: 0.25em;box-sizing: border-box;margin-bottom: 0.5em;}#sk-container-id-20 div.sk-estimator:hover {background-color: #d4ebff;}#sk-container-id-20 div.sk-parallel-item::after {content: \"\";width: 100%;border-bottom: 1px solid gray;flex-grow: 1;}#sk-container-id-20 div.sk-label:hover label.sk-toggleable__label {background-color: #d4ebff;}#sk-container-id-20 div.sk-serial::before {content: \"\";position: absolute;border-left: 1px solid gray;box-sizing: border-box;top: 0;bottom: 0;left: 50%;z-index: 0;}#sk-container-id-20 div.sk-serial {display: flex;flex-direction: column;align-items: center;background-color: white;padding-right: 0.2em;padding-left: 0.2em;position: relative;}#sk-container-id-20 div.sk-item {position: relative;z-index: 1;}#sk-container-id-20 div.sk-parallel {display: flex;align-items: stretch;justify-content: center;background-color: white;position: relative;}#sk-container-id-20 div.sk-item::before, #sk-container-id-20 div.sk-parallel-item::before {content: \"\";position: absolute;border-left: 1px solid gray;box-sizing: border-box;top: 0;bottom: 0;left: 50%;z-index: -1;}#sk-container-id-20 div.sk-parallel-item {display: flex;flex-direction: column;z-index: 1;position: relative;background-color: white;}#sk-container-id-20 div.sk-parallel-item:first-child::after {align-self: flex-end;width: 50%;}#sk-container-id-20 div.sk-parallel-item:last-child::after {align-self: flex-start;width: 50%;}#sk-container-id-20 div.sk-parallel-item:only-child::after {width: 0;}#sk-container-id-20 div.sk-dashed-wrapped {border: 1px dashed gray;margin: 0 0.4em 0.5em 0.4em;box-sizing: border-box;padding-bottom: 0.4em;background-color: white;}#sk-container-id-20 div.sk-label label {font-family: monospace;font-weight: bold;display: inline-block;line-height: 1.2em;}#sk-container-id-20 div.sk-label-container {text-align: center;}#sk-container-id-20 div.sk-container {/* jupyter's `normalize.less` sets `[hidden] { display: none; }` but bootstrap.min.css set `[hidden] { display: none !important; }` so we also need the `!important` here to be able to override the default hidden behavior on the sphinx rendered scikit-learn.org. See: https://github.com/scikit-learn/scikit-learn/issues/21755 */display: inline-block !important;position: relative;}#sk-container-id-20 div.sk-text-repr-fallback {display: none;}</style><div id=\"sk-container-id-20\" class=\"sk-top-container\"><div class=\"sk-text-repr-fallback\"><pre>XGBClassifier(base_score=None, booster=None, callbacks=None,\n",
       "              colsample_bylevel=None, colsample_bynode=None,\n",
       "              colsample_bytree=0.8, early_stopping_rounds=None,\n",
       "              enable_categorical=False, eval_metric=None, feature_types=None,\n",
       "              gamma=None, gpu_id=None, grow_policy=None, importance_type=None,\n",
       "              interaction_constraints=None, learning_rate=0.1, max_bin=None,\n",
       "              max_cat_threshold=None, max_cat_to_onehot=None,\n",
       "              max_delta_step=None, max_depth=7, max_leaves=None,\n",
       "              min_child_weight=None, missing=nan, monotone_constraints=None,\n",
       "              n_estimators=200, n_jobs=None, nthread=10, num_parallel_tree=None,\n",
       "              objective=&#x27;multi:softprob&#x27;, ...)</pre><b>In a Jupyter environment, please rerun this cell to show the HTML representation or trust the notebook. <br />On GitHub, the HTML representation is unable to render, please try loading this page with nbviewer.org.</b></div><div class=\"sk-container\" hidden><div class=\"sk-item\"><div class=\"sk-estimator sk-toggleable\"><input class=\"sk-toggleable__control sk-hidden--visually\" id=\"sk-estimator-id-20\" type=\"checkbox\" checked><label for=\"sk-estimator-id-20\" class=\"sk-toggleable__label sk-toggleable__label-arrow\">XGBClassifier</label><div class=\"sk-toggleable__content\"><pre>XGBClassifier(base_score=None, booster=None, callbacks=None,\n",
       "              colsample_bylevel=None, colsample_bynode=None,\n",
       "              colsample_bytree=0.8, early_stopping_rounds=None,\n",
       "              enable_categorical=False, eval_metric=None, feature_types=None,\n",
       "              gamma=None, gpu_id=None, grow_policy=None, importance_type=None,\n",
       "              interaction_constraints=None, learning_rate=0.1, max_bin=None,\n",
       "              max_cat_threshold=None, max_cat_to_onehot=None,\n",
       "              max_delta_step=None, max_depth=7, max_leaves=None,\n",
       "              min_child_weight=None, missing=nan, monotone_constraints=None,\n",
       "              n_estimators=200, n_jobs=None, nthread=10, num_parallel_tree=None,\n",
       "              objective=&#x27;multi:softprob&#x27;, ...)</pre></div></div></div></div></div>"
      ],
      "text/plain": [
       "XGBClassifier(base_score=None, booster=None, callbacks=None,\n",
       "              colsample_bylevel=None, colsample_bynode=None,\n",
       "              colsample_bytree=0.8, early_stopping_rounds=None,\n",
       "              enable_categorical=False, eval_metric=None, feature_types=None,\n",
       "              gamma=None, gpu_id=None, grow_policy=None, importance_type=None,\n",
       "              interaction_constraints=None, learning_rate=0.1, max_bin=None,\n",
       "              max_cat_threshold=None, max_cat_to_onehot=None,\n",
       "              max_delta_step=None, max_depth=7, max_leaves=None,\n",
       "              min_child_weight=None, missing=nan, monotone_constraints=None,\n",
       "              n_estimators=200, n_jobs=None, nthread=10, num_parallel_tree=None,\n",
       "              objective='multi:softprob', ...)"
      ]
     },
     "execution_count": 241,
     "metadata": {},
     "output_type": "execute_result"
    }
   ],
   "source": [
    "# For category NEW\n",
    "clf_svm_xg.fit(x_train_cat_svd_scl_new, y_train_cat)"
   ]
  },
  {
   "cell_type": "code",
   "execution_count": 242,
   "id": "ee66492a-6c30-43e8-a1ec-595f7586238a",
   "metadata": {},
   "outputs": [],
   "source": [
    "# predict for group\n",
    "predicted_svm_cat_new = clf_svm_xg.predict_proba(x_valid_cat_svd_scl_new)\n",
    "classify_cat_xg_new = [np.argmax(x) for x in predicted_svm_cat_new]"
   ]
  },
  {
   "cell_type": "code",
   "execution_count": 243,
   "id": "0be6abb6-bd3b-437d-959c-0ef19a296a9c",
   "metadata": {},
   "outputs": [
    {
     "name": "stdout",
     "output_type": "stream",
     "text": [
      "log loss: 1.292 \n",
      "accuracy for cat: 0.654\n"
     ]
    }
   ],
   "source": [
    "print (\"log loss: %0.3f \" % multiclass_logloss(y_valid_cat, predicted_svm_cat_new))\n",
    "print(\"accuracy for cat: %0.3f\" % accuracy_score(y_valid_cat, classify_cat_xg_new))"
   ]
  },
  {
   "cell_type": "code",
   "execution_count": 244,
   "id": "11c557aa-8918-4082-8f2c-543ea258024a",
   "metadata": {},
   "outputs": [],
   "source": [
    "# printf('Stop!!!')"
   ]
  },
  {
   "cell_type": "markdown",
   "id": "f1838b80-9c4d-4b09-8400-b678a4ba42d5",
   "metadata": {},
   "source": [
    "## Grid Search"
   ]
  },
  {
   "cell_type": "code",
   "execution_count": 245,
   "id": "a8b44631-6995-4382-a330-92fe45f26e1d",
   "metadata": {},
   "outputs": [],
   "source": [
    "# scoring function\n",
    "nlp_scorer = metrics.make_scorer(multiclass_logloss, greater_is_better=False, needs_proba=True)"
   ]
  },
  {
   "cell_type": "markdown",
   "id": "a076b4d6-67c7-40d9-aadd-5a123b62d820",
   "metadata": {},
   "source": [
    "Using a pipeline consisting of SVD, scaling and then logistic regression"
   ]
  },
  {
   "cell_type": "code",
   "execution_count": 246,
   "id": "83bbd20e-6fa3-495b-891a-f3e8fc429319",
   "metadata": {},
   "outputs": [],
   "source": [
    "# Initialize SVD\n",
    "svd_grid_search = TruncatedSVD()\n",
    "\n",
    "# Initialize Scaler\n",
    "scl_grid_search = preprocessing.StandardScaler()\n",
    "\n",
    "# Initialize Logistic Regression\n",
    "lr_model_grid_search = LogisticRegression(C=1.0, multi_class='auto', solver='lbfgs', max_iter=1000)\n",
    "\n",
    "# Create the pipeline\n",
    "clf_pipeline_grid_search = pipeline.Pipeline([('svd', svd_grid_search),\n",
    "                                              ('scl', scl_grid_search),\n",
    "                                              ('lr', lr_model_grid_search)])\n",
    "\n"
   ]
  },
  {
   "cell_type": "code",
   "execution_count": 247,
   "id": "b39a7c2e-cf8a-4bd2-86db-e45e619897e2",
   "metadata": {},
   "outputs": [],
   "source": [
    "# grid parameters\n",
    "param_grid_search = {'svd__n_components': [120, 180],\n",
    "              'lr__C': [0.1, 1.0],\n",
    "              'lr__penalty': ['l1', 'l2']}"
   ]
  },
  {
   "cell_type": "code",
   "execution_count": 248,
   "id": "c7fcff22-fa8e-40d0-98f7-620c52a0b5aa",
   "metadata": {},
   "outputs": [],
   "source": [
    "# Initialize Grid Search Model\n",
    "model_grid_search = GridSearchCV(clf_pipeline_grid_search,\n",
    "                                 param_grid=param_grid_search,\n",
    "                                 verbose=1,\n",
    "                                 n_jobs=-1,\n",
    "                                 cv=5)"
   ]
  },
  {
   "cell_type": "code",
   "execution_count": 249,
   "id": "74d352d1-0245-4ce1-ac96-5b16e9063d24",
   "metadata": {},
   "outputs": [
    {
     "name": "stdout",
     "output_type": "stream",
     "text": [
      "Fitting 5 folds for each of 8 candidates, totalling 40 fits\n"
     ]
    },
    {
     "name": "stderr",
     "output_type": "stream",
     "text": [
      "/home/jeremie/miniconda3/envs/volga/lib/python3.10/site-packages/sklearn/model_selection/_validation.py:425: FitFailedWarning: \n",
      "20 fits failed out of a total of 40.\n",
      "The score on these train-test partitions for these parameters will be set to nan.\n",
      "If these failures are not expected, you can try to debug them by setting error_score='raise'.\n",
      "\n",
      "Below are more details about the failures:\n",
      "--------------------------------------------------------------------------------\n",
      "20 fits failed with the following error:\n",
      "Traceback (most recent call last):\n",
      "  File \"/home/jeremie/miniconda3/envs/volga/lib/python3.10/site-packages/sklearn/model_selection/_validation.py\", line 729, in _fit_and_score\n",
      "    estimator.fit(X_train, y_train, **fit_params)\n",
      "  File \"/home/jeremie/miniconda3/envs/volga/lib/python3.10/site-packages/sklearn/base.py\", line 1152, in wrapper\n",
      "    return fit_method(estimator, *args, **kwargs)\n",
      "  File \"/home/jeremie/miniconda3/envs/volga/lib/python3.10/site-packages/sklearn/pipeline.py\", line 427, in fit\n",
      "    self._final_estimator.fit(Xt, y, **fit_params_last_step)\n",
      "  File \"/home/jeremie/miniconda3/envs/volga/lib/python3.10/site-packages/sklearn/base.py\", line 1152, in wrapper\n",
      "    return fit_method(estimator, *args, **kwargs)\n",
      "  File \"/home/jeremie/miniconda3/envs/volga/lib/python3.10/site-packages/sklearn/linear_model/_logistic.py\", line 1169, in fit\n",
      "    solver = _check_solver(self.solver, self.penalty, self.dual)\n",
      "  File \"/home/jeremie/miniconda3/envs/volga/lib/python3.10/site-packages/sklearn/linear_model/_logistic.py\", line 56, in _check_solver\n",
      "    raise ValueError(\n",
      "ValueError: Solver lbfgs supports only 'l2' or 'none' penalties, got l1 penalty.\n",
      "\n",
      "  warnings.warn(some_fits_failed_message, FitFailedWarning)\n",
      "/home/jeremie/miniconda3/envs/volga/lib/python3.10/site-packages/sklearn/model_selection/_search.py:979: UserWarning: One or more of the test scores are non-finite: [       nan        nan 0.93467807 0.94281104        nan        nan\n",
      " 0.93909956 0.94377925]\n",
      "  warnings.warn(\n"
     ]
    },
    {
     "name": "stdout",
     "output_type": "stream",
     "text": [
      "Best score: 0.944\n",
      "Best parameters set:\n",
      "\tlr__C: 1.0\n",
      "\tlr__penalty: 'l2'\n",
      "\tsvd__n_components: 180\n"
     ]
    }
   ],
   "source": [
    "# Fit Grid Search model\n",
    "\n",
    "# use tfv features\n",
    "# group\n",
    "model_grid_search.fit(x_train_group_tfv, y_train_group)\n",
    "print(\"Best score: %0.3f\" % model_grid_search.best_score_)\n",
    "print(\"Best parameters set:\")\n",
    "best_parameters = model_grid_search.best_estimator_.get_params()\n",
    "for param_name in sorted(param_grid_search.keys()):\n",
    "    print(\"\\t%s: %r\" % (param_name, best_parameters[param_name]))"
   ]
  },
  {
   "cell_type": "code",
   "execution_count": 250,
   "id": "84180f8b-5ce0-4079-ae5a-ab8157e201ab",
   "metadata": {},
   "outputs": [
    {
     "name": "stdout",
     "output_type": "stream",
     "text": [
      "Fitting 5 folds for each of 8 candidates, totalling 40 fits\n"
     ]
    },
    {
     "name": "stderr",
     "output_type": "stream",
     "text": [
      "/home/jeremie/miniconda3/envs/volga/lib/python3.10/site-packages/sklearn/model_selection/_split.py:737: UserWarning: The least populated class in y has only 2 members, which is less than n_splits=5.\n",
      "  warnings.warn(\n",
      "/home/jeremie/miniconda3/envs/volga/lib/python3.10/site-packages/sklearn/model_selection/_validation.py:425: FitFailedWarning: \n",
      "20 fits failed out of a total of 40.\n",
      "The score on these train-test partitions for these parameters will be set to nan.\n",
      "If these failures are not expected, you can try to debug them by setting error_score='raise'.\n",
      "\n",
      "Below are more details about the failures:\n",
      "--------------------------------------------------------------------------------\n",
      "20 fits failed with the following error:\n",
      "Traceback (most recent call last):\n",
      "  File \"/home/jeremie/miniconda3/envs/volga/lib/python3.10/site-packages/sklearn/model_selection/_validation.py\", line 729, in _fit_and_score\n",
      "    estimator.fit(X_train, y_train, **fit_params)\n",
      "  File \"/home/jeremie/miniconda3/envs/volga/lib/python3.10/site-packages/sklearn/base.py\", line 1152, in wrapper\n",
      "    return fit_method(estimator, *args, **kwargs)\n",
      "  File \"/home/jeremie/miniconda3/envs/volga/lib/python3.10/site-packages/sklearn/pipeline.py\", line 427, in fit\n",
      "    self._final_estimator.fit(Xt, y, **fit_params_last_step)\n",
      "  File \"/home/jeremie/miniconda3/envs/volga/lib/python3.10/site-packages/sklearn/base.py\", line 1152, in wrapper\n",
      "    return fit_method(estimator, *args, **kwargs)\n",
      "  File \"/home/jeremie/miniconda3/envs/volga/lib/python3.10/site-packages/sklearn/linear_model/_logistic.py\", line 1169, in fit\n",
      "    solver = _check_solver(self.solver, self.penalty, self.dual)\n",
      "  File \"/home/jeremie/miniconda3/envs/volga/lib/python3.10/site-packages/sklearn/linear_model/_logistic.py\", line 56, in _check_solver\n",
      "    raise ValueError(\n",
      "ValueError: Solver lbfgs supports only 'l2' or 'none' penalties, got l1 penalty.\n",
      "\n",
      "  warnings.warn(some_fits_failed_message, FitFailedWarning)\n",
      "/home/jeremie/miniconda3/envs/volga/lib/python3.10/site-packages/sklearn/model_selection/_search.py:979: UserWarning: One or more of the test scores are non-finite: [       nan        nan 0.6159432  0.63746974        nan        nan\n",
      " 0.62727126 0.64518315]\n",
      "  warnings.warn(\n"
     ]
    },
    {
     "name": "stdout",
     "output_type": "stream",
     "text": [
      "Best score: 0.645\n",
      "Best parameters set:\n",
      "\tlr__C: 1.0\n",
      "\tlr__penalty: 'l2'\n",
      "\tsvd__n_components: 180\n"
     ]
    }
   ],
   "source": [
    "# category\n",
    "model_grid_search.fit(x_train_cat_tfv, y_train_cat)\n",
    "print(\"Best score: %0.3f\" % model_grid_search.best_score_)\n",
    "print(\"Best parameters set:\")\n",
    "best_parameters = model_grid_search.best_estimator_.get_params()\n",
    "for param_name in sorted(param_grid_search.keys()):\n",
    "    print(\"\\t%s: %r\" % (param_name, best_parameters[param_name]))"
   ]
  },
  {
   "cell_type": "code",
   "execution_count": 251,
   "id": "32186bce-060a-4321-9075-17fe546a3834",
   "metadata": {},
   "outputs": [
    {
     "name": "stdout",
     "output_type": "stream",
     "text": [
      "Fitting 5 folds for each of 8 candidates, totalling 40 fits\n"
     ]
    },
    {
     "name": "stderr",
     "output_type": "stream",
     "text": [
      "/home/jeremie/miniconda3/envs/volga/lib/python3.10/site-packages/sklearn/model_selection/_validation.py:425: FitFailedWarning: \n",
      "20 fits failed out of a total of 40.\n",
      "The score on these train-test partitions for these parameters will be set to nan.\n",
      "If these failures are not expected, you can try to debug them by setting error_score='raise'.\n",
      "\n",
      "Below are more details about the failures:\n",
      "--------------------------------------------------------------------------------\n",
      "20 fits failed with the following error:\n",
      "Traceback (most recent call last):\n",
      "  File \"/home/jeremie/miniconda3/envs/volga/lib/python3.10/site-packages/sklearn/model_selection/_validation.py\", line 729, in _fit_and_score\n",
      "    estimator.fit(X_train, y_train, **fit_params)\n",
      "  File \"/home/jeremie/miniconda3/envs/volga/lib/python3.10/site-packages/sklearn/base.py\", line 1152, in wrapper\n",
      "    return fit_method(estimator, *args, **kwargs)\n",
      "  File \"/home/jeremie/miniconda3/envs/volga/lib/python3.10/site-packages/sklearn/pipeline.py\", line 427, in fit\n",
      "    self._final_estimator.fit(Xt, y, **fit_params_last_step)\n",
      "  File \"/home/jeremie/miniconda3/envs/volga/lib/python3.10/site-packages/sklearn/base.py\", line 1152, in wrapper\n",
      "    return fit_method(estimator, *args, **kwargs)\n",
      "  File \"/home/jeremie/miniconda3/envs/volga/lib/python3.10/site-packages/sklearn/linear_model/_logistic.py\", line 1169, in fit\n",
      "    solver = _check_solver(self.solver, self.penalty, self.dual)\n",
      "  File \"/home/jeremie/miniconda3/envs/volga/lib/python3.10/site-packages/sklearn/linear_model/_logistic.py\", line 56, in _check_solver\n",
      "    raise ValueError(\n",
      "ValueError: Solver lbfgs supports only 'l2' or 'none' penalties, got l1 penalty.\n",
      "\n",
      "  warnings.warn(some_fits_failed_message, FitFailedWarning)\n",
      "/home/jeremie/miniconda3/envs/volga/lib/python3.10/site-packages/sklearn/model_selection/_search.py:979: UserWarning: One or more of the test scores are non-finite: [       nan        nan 0.94006777 0.94578022        nan        nan\n",
      " 0.94306923 0.94642569]\n",
      "  warnings.warn(\n"
     ]
    },
    {
     "name": "stdout",
     "output_type": "stream",
     "text": [
      "Best score: 0.946\n",
      "Best parameters set:\n",
      "\tlr__C: 1.0\n",
      "\tlr__penalty: 'l2'\n",
      "\tsvd__n_components: 180\n"
     ]
    }
   ],
   "source": [
    "# use ctv features\n",
    "# group\n",
    "model_grid_search.fit(x_train_group_ctv, y_train_group)\n",
    "print(\"Best score: %0.3f\" % model_grid_search.best_score_)\n",
    "print(\"Best parameters set:\")\n",
    "best_parameters = model_grid_search.best_estimator_.get_params()\n",
    "for param_name in sorted(param_grid_search.keys()):\n",
    "    print(\"\\t%s: %r\" % (param_name, best_parameters[param_name]))"
   ]
  },
  {
   "cell_type": "code",
   "execution_count": 252,
   "id": "0516834e-7f9e-4433-b330-05a351600ef9",
   "metadata": {},
   "outputs": [
    {
     "name": "stdout",
     "output_type": "stream",
     "text": [
      "Fitting 5 folds for each of 8 candidates, totalling 40 fits\n"
     ]
    },
    {
     "name": "stderr",
     "output_type": "stream",
     "text": [
      "/home/jeremie/miniconda3/envs/volga/lib/python3.10/site-packages/sklearn/model_selection/_split.py:737: UserWarning: The least populated class in y has only 2 members, which is less than n_splits=5.\n",
      "  warnings.warn(\n",
      "/home/jeremie/miniconda3/envs/volga/lib/python3.10/site-packages/sklearn/model_selection/_validation.py:425: FitFailedWarning: \n",
      "20 fits failed out of a total of 40.\n",
      "The score on these train-test partitions for these parameters will be set to nan.\n",
      "If these failures are not expected, you can try to debug them by setting error_score='raise'.\n",
      "\n",
      "Below are more details about the failures:\n",
      "--------------------------------------------------------------------------------\n",
      "20 fits failed with the following error:\n",
      "Traceback (most recent call last):\n",
      "  File \"/home/jeremie/miniconda3/envs/volga/lib/python3.10/site-packages/sklearn/model_selection/_validation.py\", line 729, in _fit_and_score\n",
      "    estimator.fit(X_train, y_train, **fit_params)\n",
      "  File \"/home/jeremie/miniconda3/envs/volga/lib/python3.10/site-packages/sklearn/base.py\", line 1152, in wrapper\n",
      "    return fit_method(estimator, *args, **kwargs)\n",
      "  File \"/home/jeremie/miniconda3/envs/volga/lib/python3.10/site-packages/sklearn/pipeline.py\", line 427, in fit\n",
      "    self._final_estimator.fit(Xt, y, **fit_params_last_step)\n",
      "  File \"/home/jeremie/miniconda3/envs/volga/lib/python3.10/site-packages/sklearn/base.py\", line 1152, in wrapper\n",
      "    return fit_method(estimator, *args, **kwargs)\n",
      "  File \"/home/jeremie/miniconda3/envs/volga/lib/python3.10/site-packages/sklearn/linear_model/_logistic.py\", line 1169, in fit\n",
      "    solver = _check_solver(self.solver, self.penalty, self.dual)\n",
      "  File \"/home/jeremie/miniconda3/envs/volga/lib/python3.10/site-packages/sklearn/linear_model/_logistic.py\", line 56, in _check_solver\n",
      "    raise ValueError(\n",
      "ValueError: Solver lbfgs supports only 'l2' or 'none' penalties, got l1 penalty.\n",
      "\n",
      "  warnings.warn(some_fits_failed_message, FitFailedWarning)\n",
      "/home/jeremie/miniconda3/envs/volga/lib/python3.10/site-packages/sklearn/model_selection/_search.py:979: UserWarning: One or more of the test scores are non-finite: [       nan        nan 0.60942391 0.6329837         nan        nan\n",
      " 0.61542682 0.63821204]\n",
      "  warnings.warn(\n"
     ]
    },
    {
     "name": "stdout",
     "output_type": "stream",
     "text": [
      "Best score: 0.638\n",
      "Best parameters set:\n",
      "\tlr__C: 1.0\n",
      "\tlr__penalty: 'l2'\n",
      "\tsvd__n_components: 180\n"
     ]
    }
   ],
   "source": [
    "# use ctv features\n",
    "# category\n",
    "model_grid_search.fit(x_train_cat_ctv, y_train_cat)\n",
    "print(\"Best score: %0.3f\" % model_grid_search.best_score_)\n",
    "print(\"Best parameters set:\")\n",
    "best_parameters = model_grid_search.best_estimator_.get_params()\n",
    "for param_name in sorted(param_grid_search.keys()):\n",
    "    print(\"\\t%s: %r\" % (param_name, best_parameters[param_name]))"
   ]
  },
  {
   "cell_type": "code",
   "execution_count": 253,
   "id": "a81b7ccd-1709-426d-995a-1ae63194c35a",
   "metadata": {},
   "outputs": [],
   "source": [
    "# use svd features"
   ]
  },
  {
   "cell_type": "code",
   "execution_count": 254,
   "id": "7ff4ebb5-0df1-4993-ad5e-686a5c125d0f",
   "metadata": {},
   "outputs": [
    {
     "name": "stdout",
     "output_type": "stream",
     "text": [
      "Fitting 5 folds for each of 8 candidates, totalling 40 fits\n"
     ]
    },
    {
     "name": "stderr",
     "output_type": "stream",
     "text": [
      "/home/jeremie/miniconda3/envs/volga/lib/python3.10/site-packages/sklearn/model_selection/_validation.py:425: FitFailedWarning: \n",
      "20 fits failed out of a total of 40.\n",
      "The score on these train-test partitions for these parameters will be set to nan.\n",
      "If these failures are not expected, you can try to debug them by setting error_score='raise'.\n",
      "\n",
      "Below are more details about the failures:\n",
      "--------------------------------------------------------------------------------\n",
      "20 fits failed with the following error:\n",
      "Traceback (most recent call last):\n",
      "  File \"/home/jeremie/miniconda3/envs/volga/lib/python3.10/site-packages/sklearn/model_selection/_validation.py\", line 729, in _fit_and_score\n",
      "    estimator.fit(X_train, y_train, **fit_params)\n",
      "  File \"/home/jeremie/miniconda3/envs/volga/lib/python3.10/site-packages/sklearn/base.py\", line 1152, in wrapper\n",
      "    return fit_method(estimator, *args, **kwargs)\n",
      "  File \"/home/jeremie/miniconda3/envs/volga/lib/python3.10/site-packages/sklearn/pipeline.py\", line 427, in fit\n",
      "    self._final_estimator.fit(Xt, y, **fit_params_last_step)\n",
      "  File \"/home/jeremie/miniconda3/envs/volga/lib/python3.10/site-packages/sklearn/base.py\", line 1152, in wrapper\n",
      "    return fit_method(estimator, *args, **kwargs)\n",
      "  File \"/home/jeremie/miniconda3/envs/volga/lib/python3.10/site-packages/sklearn/linear_model/_logistic.py\", line 1169, in fit\n",
      "    solver = _check_solver(self.solver, self.penalty, self.dual)\n",
      "  File \"/home/jeremie/miniconda3/envs/volga/lib/python3.10/site-packages/sklearn/linear_model/_logistic.py\", line 56, in _check_solver\n",
      "    raise ValueError(\n",
      "ValueError: Solver lbfgs supports only 'l2' or 'none' penalties, got l1 penalty.\n",
      "\n",
      "  warnings.warn(some_fits_failed_message, FitFailedWarning)\n",
      "/home/jeremie/miniconda3/envs/volga/lib/python3.10/site-packages/sklearn/model_selection/_search.py:979: UserWarning: One or more of the test scores are non-finite: [       nan        nan 0.93183799 0.94600613        nan        nan\n",
      " 0.93135388 0.94713571]\n",
      "  warnings.warn(\n"
     ]
    },
    {
     "name": "stdout",
     "output_type": "stream",
     "text": [
      "Best score: 0.947\n",
      "Best parameters set:\n",
      "\tlr__C: 1.0\n",
      "\tlr__penalty: 'l2'\n",
      "\tsvd__n_components: 180\n"
     ]
    }
   ],
   "source": [
    "# use tfv features\n",
    "# group\n",
    "model_grid_search.fit(x_train_group_svd_scl, y_train_group)\n",
    "print(\"Best score: %0.3f\" % model_grid_search.best_score_)\n",
    "print(\"Best parameters set:\")\n",
    "best_parameters = model_grid_search.best_estimator_.get_params()\n",
    "for param_name in sorted(param_grid_search.keys()):\n",
    "    print(\"\\t%s: %r\" % (param_name, best_parameters[param_name]))"
   ]
  },
  {
   "cell_type": "code",
   "execution_count": 255,
   "id": "3cf31f70-e1a0-486b-836e-61120cb05bd6",
   "metadata": {},
   "outputs": [
    {
     "name": "stdout",
     "output_type": "stream",
     "text": [
      "Fitting 5 folds for each of 8 candidates, totalling 40 fits\n"
     ]
    },
    {
     "name": "stderr",
     "output_type": "stream",
     "text": [
      "/home/jeremie/miniconda3/envs/volga/lib/python3.10/site-packages/sklearn/model_selection/_split.py:737: UserWarning: The least populated class in y has only 2 members, which is less than n_splits=5.\n",
      "  warnings.warn(\n",
      "/home/jeremie/miniconda3/envs/volga/lib/python3.10/site-packages/sklearn/model_selection/_validation.py:425: FitFailedWarning: \n",
      "20 fits failed out of a total of 40.\n",
      "The score on these train-test partitions for these parameters will be set to nan.\n",
      "If these failures are not expected, you can try to debug them by setting error_score='raise'.\n",
      "\n",
      "Below are more details about the failures:\n",
      "--------------------------------------------------------------------------------\n",
      "20 fits failed with the following error:\n",
      "Traceback (most recent call last):\n",
      "  File \"/home/jeremie/miniconda3/envs/volga/lib/python3.10/site-packages/sklearn/model_selection/_validation.py\", line 729, in _fit_and_score\n",
      "    estimator.fit(X_train, y_train, **fit_params)\n",
      "  File \"/home/jeremie/miniconda3/envs/volga/lib/python3.10/site-packages/sklearn/base.py\", line 1152, in wrapper\n",
      "    return fit_method(estimator, *args, **kwargs)\n",
      "  File \"/home/jeremie/miniconda3/envs/volga/lib/python3.10/site-packages/sklearn/pipeline.py\", line 427, in fit\n",
      "    self._final_estimator.fit(Xt, y, **fit_params_last_step)\n",
      "  File \"/home/jeremie/miniconda3/envs/volga/lib/python3.10/site-packages/sklearn/base.py\", line 1152, in wrapper\n",
      "    return fit_method(estimator, *args, **kwargs)\n",
      "  File \"/home/jeremie/miniconda3/envs/volga/lib/python3.10/site-packages/sklearn/linear_model/_logistic.py\", line 1169, in fit\n",
      "    solver = _check_solver(self.solver, self.penalty, self.dual)\n",
      "  File \"/home/jeremie/miniconda3/envs/volga/lib/python3.10/site-packages/sklearn/linear_model/_logistic.py\", line 56, in _check_solver\n",
      "    raise ValueError(\n",
      "ValueError: Solver lbfgs supports only 'l2' or 'none' penalties, got l1 penalty.\n",
      "\n",
      "  warnings.warn(some_fits_failed_message, FitFailedWarning)\n",
      "/home/jeremie/miniconda3/envs/volga/lib/python3.10/site-packages/sklearn/model_selection/_search.py:979: UserWarning: One or more of the test scores are non-finite: [       nan        nan 0.57673068 0.63521059        nan        nan\n",
      " 0.58299177 0.63866387]\n",
      "  warnings.warn(\n"
     ]
    },
    {
     "name": "stdout",
     "output_type": "stream",
     "text": [
      "Best score: 0.639\n",
      "Best parameters set:\n",
      "\tlr__C: 1.0\n",
      "\tlr__penalty: 'l2'\n",
      "\tsvd__n_components: 180\n"
     ]
    }
   ],
   "source": [
    "# cat\n",
    "model_grid_search.fit(x_train_cat_svd_scl, y_train_cat)\n",
    "print(\"Best score: %0.3f\" % model_grid_search.best_score_)\n",
    "print(\"Best parameters set:\")\n",
    "best_parameters = model_grid_search.best_estimator_.get_params()\n",
    "for param_name in sorted(param_grid_search.keys()):\n",
    "    print(\"\\t%s: %r\" % (param_name, best_parameters[param_name]))"
   ]
  },
  {
   "cell_type": "markdown",
   "id": "d84c7ce7-fd4b-4a13-a4f3-bc7158d0fb1f",
   "metadata": {},
   "source": [
    "GridSearch for Naive Nayes"
   ]
  },
  {
   "cell_type": "code",
   "execution_count": 256,
   "id": "5967be34-535a-4a3f-8f93-7fa4f2878d14",
   "metadata": {},
   "outputs": [],
   "source": [
    "nb_model_grid_search = MultinomialNB()\n",
    "\n",
    "# Create the pipeline \n",
    "clf_nb_grid_search = pipeline.Pipeline([('nb', nb_model_grid_search)])\n",
    "\n",
    "# parameter grid\n",
    "param_grid = {'nb__alpha': [0.001, 0.01, 0.1, 1, 10, 100]}\n",
    "\n",
    "# Initialize Grid Search Model\n",
    "model_nb_grid_search = GridSearchCV(estimator=clf_nb_grid_search, \n",
    "                                               param_grid=param_grid, \n",
    "                                               scoring=nlp_scorer,\n",
    "                                               verbose=1, \n",
    "                                               n_jobs=-1,\n",
    "                                               refit=True, \n",
    "                                               cv=5)\n",
    "\n"
   ]
  },
  {
   "cell_type": "code",
   "execution_count": 257,
   "id": "22098cd1-8123-4caf-aebf-9ced8c580580",
   "metadata": {},
   "outputs": [
    {
     "name": "stdout",
     "output_type": "stream",
     "text": [
      "Fitting 5 folds for each of 6 candidates, totalling 30 fits\n",
      "Best score: -0.170\n",
      "Best parameters set:\n",
      "\tnb__alpha: 0.1\n"
     ]
    }
   ],
   "source": [
    "# Fit Grid Search Model\n",
    "# For group\n",
    "model_nb_grid_search.fit(x_train_group_tfv, y_train_group)  # we can use the full data here but im only using xtrain. \n",
    "print(\"Best score: %0.3f\" % model_nb_grid_search.best_score_)\n",
    "print(\"Best parameters set:\")\n",
    "best_parameters = model_nb_grid_search.best_estimator_.get_params()\n",
    "for param_name in sorted(param_grid.keys()):\n",
    "    print(\"\\t%s: %r\" % (param_name, best_parameters[param_name]))"
   ]
  },
  {
   "cell_type": "code",
   "execution_count": 258,
   "id": "18537f9f-2f05-47e2-9c24-a92d0d11ad0c",
   "metadata": {},
   "outputs": [
    {
     "name": "stdout",
     "output_type": "stream",
     "text": [
      "Fitting 5 folds for each of 6 candidates, totalling 30 fits\n"
     ]
    },
    {
     "name": "stderr",
     "output_type": "stream",
     "text": [
      "/home/jeremie/miniconda3/envs/volga/lib/python3.10/site-packages/sklearn/model_selection/_split.py:737: UserWarning: The least populated class in y has only 2 members, which is less than n_splits=5.\n",
      "  warnings.warn(\n"
     ]
    },
    {
     "name": "stdout",
     "output_type": "stream",
     "text": [
      "Best score: -1.231\n",
      "Best parameters set:\n",
      "\tnb__alpha: 0.1\n"
     ]
    }
   ],
   "source": [
    "###### Fit Grid Search Model\n",
    "# For category\n",
    "model_nb_grid_search.fit(x_train_cat_tfv, y_train_cat)  # we can use the full data here but im only using xtrain. \n",
    "print(\"Best score: %0.3f\" % model_nb_grid_search.best_score_)\n",
    "print(\"Best parameters set:\")\n",
    "best_parameters = model_nb_grid_search.best_estimator_.get_params()\n",
    "for param_name in sorted(param_grid.keys()):\n",
    "    print(\"\\t%s: %r\" % (param_name, best_parameters[param_name]))"
   ]
  },
  {
   "cell_type": "markdown",
   "id": "5e143d27-a2e1-4395-bbea-3dacea7c2c88",
   "metadata": {},
   "source": [
    "### Word Vectors\n",
    "[Word2Vec Embeddings in Russian](https://sparknlp.org/2022/03/16/w2v_cc_300d_ru_3_0.html)"
   ]
  },
  {
   "cell_type": "code",
   "execution_count": 259,
   "id": "cbc71784-df2b-495a-91d1-1cc326100fb6",
   "metadata": {},
   "outputs": [],
   "source": [
    "from gensim.models import Word2Vec\n",
    "from nltk.stem.snowball import SnowballStemmer \n",
    "stemmer = SnowballStemmer(\"russian\") "
   ]
  },
  {
   "cell_type": "code",
   "execution_count": 260,
   "id": "4bb7a972-7cc7-4a1b-a84e-07508d54f5f0",
   "metadata": {},
   "outputs": [],
   "source": [
    "w2v_model = Word2Vec(min_count=10,\n",
    "                     window=2,\n",
    "                     negative=10,\n",
    "                     alpha=0.03,\n",
    "                     vector_size=300,\n",
    "                     min_alpha=0.0007,\n",
    "                     sample=6e-5,\n",
    "                     sg=1)"
   ]
  },
  {
   "cell_type": "code",
   "execution_count": 261,
   "id": "dbb7fcaa-cf56-4559-a84a-c9655f727c19",
   "metadata": {},
   "outputs": [],
   "source": [
    "data_train_w2v = x_train.apply(lambda x: x.lower().split())\n",
    "\n",
    "data_train_w2v = data_train_w2v.apply(lambda x: [stemmer.stem(w) for w in x if w not in stop_words and not w.isdigit()])"
   ]
  },
  {
   "cell_type": "code",
   "execution_count": 262,
   "id": "c548cba6-26b3-41d7-811c-5da201d2e47a",
   "metadata": {},
   "outputs": [
    {
     "data": {
      "text/plain": [
       "0                      [гор, ламп, коридор]\n",
       "1                      [крив, дорожн, знак]\n",
       "2          [прова, колодц, пешеходн, дорог]\n",
       "3        [низк, температурн, параметр, гвс]\n",
       "4                          [зап, канализац]\n",
       "                        ...                \n",
       "59186                               [устро]\n",
       "59189                              [причин]\n",
       "59190                                [дела]\n",
       "59195                              [законч]\n",
       "59198                           [заканчива]\n",
       "Name: Desc clean, Length: 38732, dtype: object"
      ]
     },
     "execution_count": 262,
     "metadata": {},
     "output_type": "execute_result"
    }
   ],
   "source": [
    "data_train_w2v"
   ]
  },
  {
   "cell_type": "code",
   "execution_count": 263,
   "id": "97cbe1f2-a0bc-4829-93d2-417eab67298d",
   "metadata": {},
   "outputs": [],
   "source": [
    "w2v_model.build_vocab(data_train_w2v)"
   ]
  },
  {
   "cell_type": "code",
   "execution_count": 264,
   "id": "b413ca71-e1b9-4110-bdf7-a66e06f6fbeb",
   "metadata": {},
   "outputs": [
    {
     "data": {
      "text/plain": [
       "(7809167, 48696300)"
      ]
     },
     "execution_count": 264,
     "metadata": {},
     "output_type": "execute_result"
    }
   ],
   "source": [
    "w2v_model.train(x_train, total_examples=w2v_model.corpus_count, epochs=30, report_delay=1)"
   ]
  },
  {
   "cell_type": "code",
   "execution_count": 265,
   "id": "74dce395-50af-4185-ac82-44e65b550d78",
   "metadata": {},
   "outputs": [
    {
     "name": "stderr",
     "output_type": "stream",
     "text": [
      "/tmp/ipykernel_3972/3010587878.py:2: DeprecationWarning: Call to deprecated `init_sims` (Gensim 4.0.0 implemented internal optimizations that make calls to init_sims() unnecessary. init_sims() is now obsoleted and will be completely removed in future versions. See https://github.com/RaRe-Technologies/gensim/wiki/Migrating-from-Gensim-3.x-to-4).\n",
      "  w2v_model.init_sims(replace=True)\n"
     ]
    }
   ],
   "source": [
    "# no need to re-train model\n",
    "w2v_model.init_sims(replace=True)"
   ]
  },
  {
   "cell_type": "code",
   "execution_count": 266,
   "id": "d1e8a47c-3204-494d-8d63-95b7d762f4f2",
   "metadata": {},
   "outputs": [
    {
     "data": {
      "text/plain": [
       "(300,)"
      ]
     },
     "execution_count": 266,
     "metadata": {},
     "output_type": "execute_result"
    }
   ],
   "source": [
    "w2v_model.wv[\"туалет\"].shape"
   ]
  },
  {
   "cell_type": "code",
   "execution_count": 267,
   "id": "0d73fe73-3181-451a-b4d1-ce8717ff1240",
   "metadata": {},
   "outputs": [],
   "source": [
    "embedding_index = {}\n",
    "for word in w2v_model.wv.index_to_key:\n",
    "    coefs = np.asarray(w2v_model.wv[word], dtype='float32')\n",
    "    embedding_index[word] = coefs"
   ]
  },
  {
   "cell_type": "code",
   "execution_count": 268,
   "id": "40eee975-50f0-40b8-bf5c-e821b774e5e1",
   "metadata": {},
   "outputs": [
    {
     "name": "stdout",
     "output_type": "stream",
     "text": [
      "Found 1528 word vectors.\n"
     ]
    }
   ],
   "source": [
    "print('Found %s word vectors.' % len(embedding_index))"
   ]
  },
  {
   "cell_type": "code",
   "execution_count": 269,
   "id": "534586f9-d39a-4377-a2d3-7ad33394258a",
   "metadata": {},
   "outputs": [
    {
     "data": {
      "text/plain": [
       "array([ 0.09229036,  0.09018551, -0.06235421,  0.01145127, -0.08827426,\n",
       "       -0.07122195, -0.04620231,  0.09468471, -0.04955898,  0.0571305 ],\n",
       "      dtype=float32)"
      ]
     },
     "execution_count": 269,
     "metadata": {},
     "output_type": "execute_result"
    }
   ],
   "source": [
    "embedding_index[\"туалет\"][:10]"
   ]
  },
  {
   "cell_type": "code",
   "execution_count": 270,
   "id": "6db729bf-7df7-4316-8d04-fcd139e3fb5c",
   "metadata": {},
   "outputs": [],
   "source": [
    "# this function creates a normalized vector for the whole sentence\n",
    "def sent2vec(s):\n",
    "    words = str(s).lower()\n",
    "    words = word_tokenize(words)\n",
    "    words = [w for w in words if not w in stop_words]\n",
    "    words = [w for w in words if w.isalpha()]\n",
    "    M = []\n",
    "    for w in words:\n",
    "        try:\n",
    "            M.append(embedding_index[w])\n",
    "        except:\n",
    "            continue\n",
    "    M = np.array(M)\n",
    "    v = M.sum(axis=0)\n",
    "    if type(v) != np.ndarray:\n",
    "        return np.zeros(300)\n",
    "    return v / np.sqrt((v ** 2).sum())"
   ]
  },
  {
   "cell_type": "code",
   "execution_count": 271,
   "id": "338bc6c7-5631-47bc-aa92-f96732f2753d",
   "metadata": {},
   "outputs": [
    {
     "name": "stderr",
     "output_type": "stream",
     "text": [
      "100%|██████████████████████████████████████████████████████████████████████████████████████████████████████████████████████████████████████████████████████████████████████| 30985/30985 [00:04<00:00, 6739.05it/s]\n",
      "100%|████████████████████████████████████████████████████████████████████████████████████████████████████████████████████████████████████████████████████████████████████████| 7747/7747 [00:01<00:00, 6741.26it/s]\n"
     ]
    }
   ],
   "source": [
    "# Fitting a simple xgboost on glove features\n",
    "# For group target\n",
    "x_train_glove_group = [sent2vec(x) for x in tqdm(x_train_group)]\n",
    "x_valid_glove_group = [sent2vec(x) for x in tqdm(x_valid_group)]"
   ]
  },
  {
   "cell_type": "code",
   "execution_count": 272,
   "id": "ccea965e-bdd6-4fcf-b8a3-7aeb75459c5f",
   "metadata": {},
   "outputs": [],
   "source": [
    "x_train_glove_group = np.array(x_train_glove_group)\n",
    "x_valid_glove_group = np.array(x_valid_glove_group)"
   ]
  },
  {
   "cell_type": "code",
   "execution_count": 273,
   "id": "c8b0c398-f022-488e-837b-b918c9526890",
   "metadata": {},
   "outputs": [
    {
     "name": "stdout",
     "output_type": "stream",
     "text": [
      "[07:54:41] WARNING: /home/conda/feedstock_root/build_artifacts/xgboost-split_1697107971183/work/src/learner.cc:767: \n",
      "Parameters: { \"silent\" } are not used.\n",
      "\n"
     ]
    },
    {
     "data": {
      "text/html": [
       "<style>#sk-container-id-21 {color: black;}#sk-container-id-21 pre{padding: 0;}#sk-container-id-21 div.sk-toggleable {background-color: white;}#sk-container-id-21 label.sk-toggleable__label {cursor: pointer;display: block;width: 100%;margin-bottom: 0;padding: 0.3em;box-sizing: border-box;text-align: center;}#sk-container-id-21 label.sk-toggleable__label-arrow:before {content: \"▸\";float: left;margin-right: 0.25em;color: #696969;}#sk-container-id-21 label.sk-toggleable__label-arrow:hover:before {color: black;}#sk-container-id-21 div.sk-estimator:hover label.sk-toggleable__label-arrow:before {color: black;}#sk-container-id-21 div.sk-toggleable__content {max-height: 0;max-width: 0;overflow: hidden;text-align: left;background-color: #f0f8ff;}#sk-container-id-21 div.sk-toggleable__content pre {margin: 0.2em;color: black;border-radius: 0.25em;background-color: #f0f8ff;}#sk-container-id-21 input.sk-toggleable__control:checked~div.sk-toggleable__content {max-height: 200px;max-width: 100%;overflow: auto;}#sk-container-id-21 input.sk-toggleable__control:checked~label.sk-toggleable__label-arrow:before {content: \"▾\";}#sk-container-id-21 div.sk-estimator input.sk-toggleable__control:checked~label.sk-toggleable__label {background-color: #d4ebff;}#sk-container-id-21 div.sk-label input.sk-toggleable__control:checked~label.sk-toggleable__label {background-color: #d4ebff;}#sk-container-id-21 input.sk-hidden--visually {border: 0;clip: rect(1px 1px 1px 1px);clip: rect(1px, 1px, 1px, 1px);height: 1px;margin: -1px;overflow: hidden;padding: 0;position: absolute;width: 1px;}#sk-container-id-21 div.sk-estimator {font-family: monospace;background-color: #f0f8ff;border: 1px dotted black;border-radius: 0.25em;box-sizing: border-box;margin-bottom: 0.5em;}#sk-container-id-21 div.sk-estimator:hover {background-color: #d4ebff;}#sk-container-id-21 div.sk-parallel-item::after {content: \"\";width: 100%;border-bottom: 1px solid gray;flex-grow: 1;}#sk-container-id-21 div.sk-label:hover label.sk-toggleable__label {background-color: #d4ebff;}#sk-container-id-21 div.sk-serial::before {content: \"\";position: absolute;border-left: 1px solid gray;box-sizing: border-box;top: 0;bottom: 0;left: 50%;z-index: 0;}#sk-container-id-21 div.sk-serial {display: flex;flex-direction: column;align-items: center;background-color: white;padding-right: 0.2em;padding-left: 0.2em;position: relative;}#sk-container-id-21 div.sk-item {position: relative;z-index: 1;}#sk-container-id-21 div.sk-parallel {display: flex;align-items: stretch;justify-content: center;background-color: white;position: relative;}#sk-container-id-21 div.sk-item::before, #sk-container-id-21 div.sk-parallel-item::before {content: \"\";position: absolute;border-left: 1px solid gray;box-sizing: border-box;top: 0;bottom: 0;left: 50%;z-index: -1;}#sk-container-id-21 div.sk-parallel-item {display: flex;flex-direction: column;z-index: 1;position: relative;background-color: white;}#sk-container-id-21 div.sk-parallel-item:first-child::after {align-self: flex-end;width: 50%;}#sk-container-id-21 div.sk-parallel-item:last-child::after {align-self: flex-start;width: 50%;}#sk-container-id-21 div.sk-parallel-item:only-child::after {width: 0;}#sk-container-id-21 div.sk-dashed-wrapped {border: 1px dashed gray;margin: 0 0.4em 0.5em 0.4em;box-sizing: border-box;padding-bottom: 0.4em;background-color: white;}#sk-container-id-21 div.sk-label label {font-family: monospace;font-weight: bold;display: inline-block;line-height: 1.2em;}#sk-container-id-21 div.sk-label-container {text-align: center;}#sk-container-id-21 div.sk-container {/* jupyter's `normalize.less` sets `[hidden] { display: none; }` but bootstrap.min.css set `[hidden] { display: none !important; }` so we also need the `!important` here to be able to override the default hidden behavior on the sphinx rendered scikit-learn.org. See: https://github.com/scikit-learn/scikit-learn/issues/21755 */display: inline-block !important;position: relative;}#sk-container-id-21 div.sk-text-repr-fallback {display: none;}</style><div id=\"sk-container-id-21\" class=\"sk-top-container\"><div class=\"sk-text-repr-fallback\"><pre>XGBClassifier(base_score=None, booster=None, callbacks=None,\n",
       "              colsample_bylevel=None, colsample_bynode=None,\n",
       "              colsample_bytree=None, early_stopping_rounds=None,\n",
       "              enable_categorical=False, eval_metric=None, feature_types=None,\n",
       "              gamma=None, gpu_id=None, grow_policy=None, importance_type=None,\n",
       "              interaction_constraints=None, learning_rate=None, max_bin=None,\n",
       "              max_cat_threshold=None, max_cat_to_onehot=None,\n",
       "              max_delta_step=None, max_depth=None, max_leaves=None,\n",
       "              min_child_weight=None, missing=nan, monotone_constraints=None,\n",
       "              n_estimators=100, n_jobs=None, nthread=10, num_parallel_tree=None,\n",
       "              objective=&#x27;multi:softprob&#x27;, ...)</pre><b>In a Jupyter environment, please rerun this cell to show the HTML representation or trust the notebook. <br />On GitHub, the HTML representation is unable to render, please try loading this page with nbviewer.org.</b></div><div class=\"sk-container\" hidden><div class=\"sk-item\"><div class=\"sk-estimator sk-toggleable\"><input class=\"sk-toggleable__control sk-hidden--visually\" id=\"sk-estimator-id-21\" type=\"checkbox\" checked><label for=\"sk-estimator-id-21\" class=\"sk-toggleable__label sk-toggleable__label-arrow\">XGBClassifier</label><div class=\"sk-toggleable__content\"><pre>XGBClassifier(base_score=None, booster=None, callbacks=None,\n",
       "              colsample_bylevel=None, colsample_bynode=None,\n",
       "              colsample_bytree=None, early_stopping_rounds=None,\n",
       "              enable_categorical=False, eval_metric=None, feature_types=None,\n",
       "              gamma=None, gpu_id=None, grow_policy=None, importance_type=None,\n",
       "              interaction_constraints=None, learning_rate=None, max_bin=None,\n",
       "              max_cat_threshold=None, max_cat_to_onehot=None,\n",
       "              max_delta_step=None, max_depth=None, max_leaves=None,\n",
       "              min_child_weight=None, missing=nan, monotone_constraints=None,\n",
       "              n_estimators=100, n_jobs=None, nthread=10, num_parallel_tree=None,\n",
       "              objective=&#x27;multi:softprob&#x27;, ...)</pre></div></div></div></div></div>"
      ],
      "text/plain": [
       "XGBClassifier(base_score=None, booster=None, callbacks=None,\n",
       "              colsample_bylevel=None, colsample_bynode=None,\n",
       "              colsample_bytree=None, early_stopping_rounds=None,\n",
       "              enable_categorical=False, eval_metric=None, feature_types=None,\n",
       "              gamma=None, gpu_id=None, grow_policy=None, importance_type=None,\n",
       "              interaction_constraints=None, learning_rate=None, max_bin=None,\n",
       "              max_cat_threshold=None, max_cat_to_onehot=None,\n",
       "              max_delta_step=None, max_depth=None, max_leaves=None,\n",
       "              min_child_weight=None, missing=nan, monotone_constraints=None,\n",
       "              n_estimators=100, n_jobs=None, nthread=10, num_parallel_tree=None,\n",
       "              objective='multi:softprob', ...)"
      ]
     },
     "execution_count": 273,
     "metadata": {},
     "output_type": "execute_result"
    }
   ],
   "source": [
    "clf = xgb.XGBClassifier(nthread=10, silent=False)\n",
    "clf.fit(x_train_glove_group, y_train_group)"
   ]
  },
  {
   "cell_type": "code",
   "execution_count": 274,
   "id": "5f327b37-257a-40cd-bfc6-63b08440ca9f",
   "metadata": {},
   "outputs": [],
   "source": [
    "predicted_group = clf.predict_proba(x_valid_glove_group)\n",
    "classify_group = clf.predict(x_valid_glove_group)"
   ]
  },
  {
   "cell_type": "code",
   "execution_count": 275,
   "id": "0e8bae03-a20d-46a6-b061-921d411022e9",
   "metadata": {},
   "outputs": [
    {
     "name": "stdout",
     "output_type": "stream",
     "text": [
      "log loss: 0.349 \n",
      "accuracy for cat: 0.925\n"
     ]
    }
   ],
   "source": [
    "print (\"log loss: %0.3f \" % multiclass_logloss(y_valid_group, predicted_group))\n",
    "print(\"accuracy for cat: %0.3f\" % accuracy_score(y_valid_group, classify_group))"
   ]
  },
  {
   "cell_type": "code",
   "execution_count": 276,
   "id": "d60e54e2-eba1-42b3-9f95-a8065c657b0d",
   "metadata": {},
   "outputs": [
    {
     "name": "stderr",
     "output_type": "stream",
     "text": [
      "100%|██████████████████████████████████████████████████████████████████████████████████████████████████████████████████████████████████████████████████████████████████████| 30985/30985 [00:03<00:00, 9528.93it/s]\n",
      "100%|████████████████████████████████████████████████████████████████████████████████████████████████████████████████████████████████████████████████████████████████████████| 7747/7747 [00:00<00:00, 9463.36it/s]\n"
     ]
    }
   ],
   "source": [
    "# For cat target\n",
    "x_train_glove_cat = [sent2vec(x) for x in tqdm(x_train_cat)]\n",
    "x_valid_glove_cat = [sent2vec(x) for x in tqdm(x_valid_cat)]\n",
    "\n",
    "x_train_glove_cat = np.array(x_train_glove_cat)\n",
    "x_valid_glove_cat = np.array(x_valid_glove_cat)"
   ]
  },
  {
   "cell_type": "code",
   "execution_count": 277,
   "id": "e796b11a-e08c-4581-8259-a9bd5e172663",
   "metadata": {},
   "outputs": [
    {
     "name": "stdout",
     "output_type": "stream",
     "text": [
      "[07:57:42] WARNING: /home/conda/feedstock_root/build_artifacts/xgboost-split_1697107971183/work/src/learner.cc:767: \n",
      "Parameters: { \"silent\" } are not used.\n",
      "\n"
     ]
    },
    {
     "data": {
      "text/html": [
       "<style>#sk-container-id-22 {color: black;}#sk-container-id-22 pre{padding: 0;}#sk-container-id-22 div.sk-toggleable {background-color: white;}#sk-container-id-22 label.sk-toggleable__label {cursor: pointer;display: block;width: 100%;margin-bottom: 0;padding: 0.3em;box-sizing: border-box;text-align: center;}#sk-container-id-22 label.sk-toggleable__label-arrow:before {content: \"▸\";float: left;margin-right: 0.25em;color: #696969;}#sk-container-id-22 label.sk-toggleable__label-arrow:hover:before {color: black;}#sk-container-id-22 div.sk-estimator:hover label.sk-toggleable__label-arrow:before {color: black;}#sk-container-id-22 div.sk-toggleable__content {max-height: 0;max-width: 0;overflow: hidden;text-align: left;background-color: #f0f8ff;}#sk-container-id-22 div.sk-toggleable__content pre {margin: 0.2em;color: black;border-radius: 0.25em;background-color: #f0f8ff;}#sk-container-id-22 input.sk-toggleable__control:checked~div.sk-toggleable__content {max-height: 200px;max-width: 100%;overflow: auto;}#sk-container-id-22 input.sk-toggleable__control:checked~label.sk-toggleable__label-arrow:before {content: \"▾\";}#sk-container-id-22 div.sk-estimator input.sk-toggleable__control:checked~label.sk-toggleable__label {background-color: #d4ebff;}#sk-container-id-22 div.sk-label input.sk-toggleable__control:checked~label.sk-toggleable__label {background-color: #d4ebff;}#sk-container-id-22 input.sk-hidden--visually {border: 0;clip: rect(1px 1px 1px 1px);clip: rect(1px, 1px, 1px, 1px);height: 1px;margin: -1px;overflow: hidden;padding: 0;position: absolute;width: 1px;}#sk-container-id-22 div.sk-estimator {font-family: monospace;background-color: #f0f8ff;border: 1px dotted black;border-radius: 0.25em;box-sizing: border-box;margin-bottom: 0.5em;}#sk-container-id-22 div.sk-estimator:hover {background-color: #d4ebff;}#sk-container-id-22 div.sk-parallel-item::after {content: \"\";width: 100%;border-bottom: 1px solid gray;flex-grow: 1;}#sk-container-id-22 div.sk-label:hover label.sk-toggleable__label {background-color: #d4ebff;}#sk-container-id-22 div.sk-serial::before {content: \"\";position: absolute;border-left: 1px solid gray;box-sizing: border-box;top: 0;bottom: 0;left: 50%;z-index: 0;}#sk-container-id-22 div.sk-serial {display: flex;flex-direction: column;align-items: center;background-color: white;padding-right: 0.2em;padding-left: 0.2em;position: relative;}#sk-container-id-22 div.sk-item {position: relative;z-index: 1;}#sk-container-id-22 div.sk-parallel {display: flex;align-items: stretch;justify-content: center;background-color: white;position: relative;}#sk-container-id-22 div.sk-item::before, #sk-container-id-22 div.sk-parallel-item::before {content: \"\";position: absolute;border-left: 1px solid gray;box-sizing: border-box;top: 0;bottom: 0;left: 50%;z-index: -1;}#sk-container-id-22 div.sk-parallel-item {display: flex;flex-direction: column;z-index: 1;position: relative;background-color: white;}#sk-container-id-22 div.sk-parallel-item:first-child::after {align-self: flex-end;width: 50%;}#sk-container-id-22 div.sk-parallel-item:last-child::after {align-self: flex-start;width: 50%;}#sk-container-id-22 div.sk-parallel-item:only-child::after {width: 0;}#sk-container-id-22 div.sk-dashed-wrapped {border: 1px dashed gray;margin: 0 0.4em 0.5em 0.4em;box-sizing: border-box;padding-bottom: 0.4em;background-color: white;}#sk-container-id-22 div.sk-label label {font-family: monospace;font-weight: bold;display: inline-block;line-height: 1.2em;}#sk-container-id-22 div.sk-label-container {text-align: center;}#sk-container-id-22 div.sk-container {/* jupyter's `normalize.less` sets `[hidden] { display: none; }` but bootstrap.min.css set `[hidden] { display: none !important; }` so we also need the `!important` here to be able to override the default hidden behavior on the sphinx rendered scikit-learn.org. See: https://github.com/scikit-learn/scikit-learn/issues/21755 */display: inline-block !important;position: relative;}#sk-container-id-22 div.sk-text-repr-fallback {display: none;}</style><div id=\"sk-container-id-22\" class=\"sk-top-container\"><div class=\"sk-text-repr-fallback\"><pre>XGBClassifier(base_score=None, booster=None, callbacks=None,\n",
       "              colsample_bylevel=None, colsample_bynode=None,\n",
       "              colsample_bytree=None, early_stopping_rounds=None,\n",
       "              enable_categorical=False, eval_metric=None, feature_types=None,\n",
       "              gamma=None, gpu_id=None, grow_policy=None, importance_type=None,\n",
       "              interaction_constraints=None, learning_rate=None, max_bin=None,\n",
       "              max_cat_threshold=None, max_cat_to_onehot=None,\n",
       "              max_delta_step=None, max_depth=None, max_leaves=None,\n",
       "              min_child_weight=None, missing=nan, monotone_constraints=None,\n",
       "              n_estimators=100, n_jobs=None, nthread=10, num_parallel_tree=None,\n",
       "              objective=&#x27;multi:softprob&#x27;, ...)</pre><b>In a Jupyter environment, please rerun this cell to show the HTML representation or trust the notebook. <br />On GitHub, the HTML representation is unable to render, please try loading this page with nbviewer.org.</b></div><div class=\"sk-container\" hidden><div class=\"sk-item\"><div class=\"sk-estimator sk-toggleable\"><input class=\"sk-toggleable__control sk-hidden--visually\" id=\"sk-estimator-id-22\" type=\"checkbox\" checked><label for=\"sk-estimator-id-22\" class=\"sk-toggleable__label sk-toggleable__label-arrow\">XGBClassifier</label><div class=\"sk-toggleable__content\"><pre>XGBClassifier(base_score=None, booster=None, callbacks=None,\n",
       "              colsample_bylevel=None, colsample_bynode=None,\n",
       "              colsample_bytree=None, early_stopping_rounds=None,\n",
       "              enable_categorical=False, eval_metric=None, feature_types=None,\n",
       "              gamma=None, gpu_id=None, grow_policy=None, importance_type=None,\n",
       "              interaction_constraints=None, learning_rate=None, max_bin=None,\n",
       "              max_cat_threshold=None, max_cat_to_onehot=None,\n",
       "              max_delta_step=None, max_depth=None, max_leaves=None,\n",
       "              min_child_weight=None, missing=nan, monotone_constraints=None,\n",
       "              n_estimators=100, n_jobs=None, nthread=10, num_parallel_tree=None,\n",
       "              objective=&#x27;multi:softprob&#x27;, ...)</pre></div></div></div></div></div>"
      ],
      "text/plain": [
       "XGBClassifier(base_score=None, booster=None, callbacks=None,\n",
       "              colsample_bylevel=None, colsample_bynode=None,\n",
       "              colsample_bytree=None, early_stopping_rounds=None,\n",
       "              enable_categorical=False, eval_metric=None, feature_types=None,\n",
       "              gamma=None, gpu_id=None, grow_policy=None, importance_type=None,\n",
       "              interaction_constraints=None, learning_rate=None, max_bin=None,\n",
       "              max_cat_threshold=None, max_cat_to_onehot=None,\n",
       "              max_delta_step=None, max_depth=None, max_leaves=None,\n",
       "              min_child_weight=None, missing=nan, monotone_constraints=None,\n",
       "              n_estimators=100, n_jobs=None, nthread=10, num_parallel_tree=None,\n",
       "              objective='multi:softprob', ...)"
      ]
     },
     "execution_count": 277,
     "metadata": {},
     "output_type": "execute_result"
    }
   ],
   "source": [
    "clf = xgb.XGBClassifier(nthread=10, silent=False)\n",
    "clf.fit(x_train_glove_cat, y_train_cat)"
   ]
  },
  {
   "cell_type": "code",
   "execution_count": 278,
   "id": "d3951b4d-67e4-4fd2-ab63-3a0f5fcdab96",
   "metadata": {},
   "outputs": [],
   "source": [
    "predicted_cat = clf.predict_proba(x_valid_glove_cat)\n",
    "classify_cat = clf.predict(x_valid_glove_cat)"
   ]
  },
  {
   "cell_type": "code",
   "execution_count": 279,
   "id": "33c60190-988c-4592-819c-99aee8acbc3e",
   "metadata": {},
   "outputs": [
    {
     "name": "stdout",
     "output_type": "stream",
     "text": [
      "log loss: 2.428 \n",
      "accuracy for cat: 0.464\n"
     ]
    }
   ],
   "source": [
    "print (\"log loss: %0.3f \" % multiclass_logloss(y_valid_cat, predicted_cat))\n",
    "print(\"accuracy for cat: %0.3f\" % accuracy_score(y_valid_cat, classify_cat))"
   ]
  },
  {
   "cell_type": "markdown",
   "id": "264874c9-15fb-4c83-beb3-83c3866ea2a0",
   "metadata": {},
   "source": [
    "**Word Vector for classify Cat with input data from Desc and Group**"
   ]
  },
  {
   "cell_type": "code",
   "execution_count": 280,
   "id": "0f4ccca4-8819-496c-a13b-d1f729f642a8",
   "metadata": {},
   "outputs": [],
   "source": [
    "w2v_model_new = Word2Vec(min_count=10,\n",
    "                     window=2,\n",
    "                     negative=10,\n",
    "                     alpha=0.03,\n",
    "                     vector_size=300,\n",
    "                     min_alpha=0.0007,\n",
    "                     sample=6e-5,\n",
    "                     sg=1)"
   ]
  },
  {
   "cell_type": "code",
   "execution_count": 281,
   "id": "37694640-b1d5-4c16-a5fc-a6875a859476",
   "metadata": {},
   "outputs": [],
   "source": [
    "data_train_w2v_new = x_train_cat_degr.apply(lambda x: x.lower().split())\n",
    "data_train_w2v_new = data_train_w2v_new.apply(lambda x: [stemmer.stem(w) for w in x if w not in stop_words and not w.isdigit()])"
   ]
  },
  {
   "cell_type": "code",
   "execution_count": 282,
   "id": "0398817a-225e-4b8a-b54f-77bf3802a377",
   "metadata": {},
   "outputs": [],
   "source": [
    "w2v_model_new.build_vocab(data_train_w2v_new)"
   ]
  },
  {
   "cell_type": "code",
   "execution_count": 283,
   "id": "69fbd748-4105-421d-9975-9bccd985dd67",
   "metadata": {},
   "outputs": [
    {
     "data": {
      "text/plain": [
       "(7891053, 48696300)"
      ]
     },
     "execution_count": 283,
     "metadata": {},
     "output_type": "execute_result"
    }
   ],
   "source": [
    "w2v_model_new.train(x_train, total_examples=w2v_model_new.corpus_count, epochs=30, report_delay=1)"
   ]
  },
  {
   "cell_type": "code",
   "execution_count": 284,
   "id": "22154300-6810-4a92-bb41-f125183df97e",
   "metadata": {},
   "outputs": [
    {
     "name": "stderr",
     "output_type": "stream",
     "text": [
      "/tmp/ipykernel_3972/3348747244.py:2: DeprecationWarning: Call to deprecated `init_sims` (Gensim 4.0.0 implemented internal optimizations that make calls to init_sims() unnecessary. init_sims() is now obsoleted and will be completely removed in future versions. See https://github.com/RaRe-Technologies/gensim/wiki/Migrating-from-Gensim-3.x-to-4).\n",
      "  w2v_model_new.init_sims(replace=True)\n"
     ]
    }
   ],
   "source": [
    "# no need to re-train model\n",
    "w2v_model_new.init_sims(replace=True)"
   ]
  },
  {
   "cell_type": "code",
   "execution_count": 285,
   "id": "785da402-d178-4d43-9a6c-878b8661e9a1",
   "metadata": {},
   "outputs": [],
   "source": [
    "embedding_index_new = {}\n",
    "for word in w2v_model_new.wv.index_to_key:\n",
    "    coefs = np.asarray(w2v_model_new.wv[word], dtype='float32')\n",
    "    embedding_index_new[word] = coefs"
   ]
  },
  {
   "cell_type": "code",
   "execution_count": 286,
   "id": "635e5557-67b7-4ce6-89ab-5d3aab796a00",
   "metadata": {},
   "outputs": [
    {
     "name": "stderr",
     "output_type": "stream",
     "text": [
      "100%|██████████████████████████████████████████████████████████████████████████████████████████████████████████████████████████████████████████████████████████████████████| 30985/30985 [00:03<00:00, 8521.08it/s]\n",
      "100%|████████████████████████████████████████████████████████████████████████████████████████████████████████████████████████████████████████████████████████████████████████| 7747/7747 [00:00<00:00, 8216.72it/s]\n"
     ]
    }
   ],
   "source": [
    "# For cat target\n",
    "x_train_glove_cat_new = [sent2vec(x) for x in tqdm(x_train_cat_new)]\n",
    "x_valid_glove_cat_new = [sent2vec(x) for x in tqdm(x_valid_cat_new)]\n",
    "\n",
    "x_train_glove_cat_new = np.array(x_train_glove_cat_new)\n",
    "x_valid_glove_cat_new = np.array(x_valid_glove_cat_new)"
   ]
  },
  {
   "cell_type": "code",
   "execution_count": 287,
   "id": "58e09f09-a65e-4263-9268-3fafe4d71e59",
   "metadata": {},
   "outputs": [
    {
     "data": {
      "text/html": [
       "<style>#sk-container-id-23 {color: black;}#sk-container-id-23 pre{padding: 0;}#sk-container-id-23 div.sk-toggleable {background-color: white;}#sk-container-id-23 label.sk-toggleable__label {cursor: pointer;display: block;width: 100%;margin-bottom: 0;padding: 0.3em;box-sizing: border-box;text-align: center;}#sk-container-id-23 label.sk-toggleable__label-arrow:before {content: \"▸\";float: left;margin-right: 0.25em;color: #696969;}#sk-container-id-23 label.sk-toggleable__label-arrow:hover:before {color: black;}#sk-container-id-23 div.sk-estimator:hover label.sk-toggleable__label-arrow:before {color: black;}#sk-container-id-23 div.sk-toggleable__content {max-height: 0;max-width: 0;overflow: hidden;text-align: left;background-color: #f0f8ff;}#sk-container-id-23 div.sk-toggleable__content pre {margin: 0.2em;color: black;border-radius: 0.25em;background-color: #f0f8ff;}#sk-container-id-23 input.sk-toggleable__control:checked~div.sk-toggleable__content {max-height: 200px;max-width: 100%;overflow: auto;}#sk-container-id-23 input.sk-toggleable__control:checked~label.sk-toggleable__label-arrow:before {content: \"▾\";}#sk-container-id-23 div.sk-estimator input.sk-toggleable__control:checked~label.sk-toggleable__label {background-color: #d4ebff;}#sk-container-id-23 div.sk-label input.sk-toggleable__control:checked~label.sk-toggleable__label {background-color: #d4ebff;}#sk-container-id-23 input.sk-hidden--visually {border: 0;clip: rect(1px 1px 1px 1px);clip: rect(1px, 1px, 1px, 1px);height: 1px;margin: -1px;overflow: hidden;padding: 0;position: absolute;width: 1px;}#sk-container-id-23 div.sk-estimator {font-family: monospace;background-color: #f0f8ff;border: 1px dotted black;border-radius: 0.25em;box-sizing: border-box;margin-bottom: 0.5em;}#sk-container-id-23 div.sk-estimator:hover {background-color: #d4ebff;}#sk-container-id-23 div.sk-parallel-item::after {content: \"\";width: 100%;border-bottom: 1px solid gray;flex-grow: 1;}#sk-container-id-23 div.sk-label:hover label.sk-toggleable__label {background-color: #d4ebff;}#sk-container-id-23 div.sk-serial::before {content: \"\";position: absolute;border-left: 1px solid gray;box-sizing: border-box;top: 0;bottom: 0;left: 50%;z-index: 0;}#sk-container-id-23 div.sk-serial {display: flex;flex-direction: column;align-items: center;background-color: white;padding-right: 0.2em;padding-left: 0.2em;position: relative;}#sk-container-id-23 div.sk-item {position: relative;z-index: 1;}#sk-container-id-23 div.sk-parallel {display: flex;align-items: stretch;justify-content: center;background-color: white;position: relative;}#sk-container-id-23 div.sk-item::before, #sk-container-id-23 div.sk-parallel-item::before {content: \"\";position: absolute;border-left: 1px solid gray;box-sizing: border-box;top: 0;bottom: 0;left: 50%;z-index: -1;}#sk-container-id-23 div.sk-parallel-item {display: flex;flex-direction: column;z-index: 1;position: relative;background-color: white;}#sk-container-id-23 div.sk-parallel-item:first-child::after {align-self: flex-end;width: 50%;}#sk-container-id-23 div.sk-parallel-item:last-child::after {align-self: flex-start;width: 50%;}#sk-container-id-23 div.sk-parallel-item:only-child::after {width: 0;}#sk-container-id-23 div.sk-dashed-wrapped {border: 1px dashed gray;margin: 0 0.4em 0.5em 0.4em;box-sizing: border-box;padding-bottom: 0.4em;background-color: white;}#sk-container-id-23 div.sk-label label {font-family: monospace;font-weight: bold;display: inline-block;line-height: 1.2em;}#sk-container-id-23 div.sk-label-container {text-align: center;}#sk-container-id-23 div.sk-container {/* jupyter's `normalize.less` sets `[hidden] { display: none; }` but bootstrap.min.css set `[hidden] { display: none !important; }` so we also need the `!important` here to be able to override the default hidden behavior on the sphinx rendered scikit-learn.org. See: https://github.com/scikit-learn/scikit-learn/issues/21755 */display: inline-block !important;position: relative;}#sk-container-id-23 div.sk-text-repr-fallback {display: none;}</style><div id=\"sk-container-id-23\" class=\"sk-top-container\"><div class=\"sk-text-repr-fallback\"><pre>XGBClassifier(base_score=None, booster=None, callbacks=None,\n",
       "              colsample_bylevel=None, colsample_bynode=None,\n",
       "              colsample_bytree=0.8, early_stopping_rounds=None,\n",
       "              enable_categorical=False, eval_metric=None, feature_types=None,\n",
       "              gamma=None, gpu_id=None, grow_policy=None, importance_type=None,\n",
       "              interaction_constraints=None, learning_rate=0.1, max_bin=None,\n",
       "              max_cat_threshold=None, max_cat_to_onehot=None,\n",
       "              max_delta_step=None, max_depth=7, max_leaves=None,\n",
       "              min_child_weight=None, missing=nan, monotone_constraints=None,\n",
       "              n_estimators=200, n_jobs=None, nthread=10, num_parallel_tree=None,\n",
       "              objective=&#x27;multi:softprob&#x27;, ...)</pre><b>In a Jupyter environment, please rerun this cell to show the HTML representation or trust the notebook. <br />On GitHub, the HTML representation is unable to render, please try loading this page with nbviewer.org.</b></div><div class=\"sk-container\" hidden><div class=\"sk-item\"><div class=\"sk-estimator sk-toggleable\"><input class=\"sk-toggleable__control sk-hidden--visually\" id=\"sk-estimator-id-23\" type=\"checkbox\" checked><label for=\"sk-estimator-id-23\" class=\"sk-toggleable__label sk-toggleable__label-arrow\">XGBClassifier</label><div class=\"sk-toggleable__content\"><pre>XGBClassifier(base_score=None, booster=None, callbacks=None,\n",
       "              colsample_bylevel=None, colsample_bynode=None,\n",
       "              colsample_bytree=0.8, early_stopping_rounds=None,\n",
       "              enable_categorical=False, eval_metric=None, feature_types=None,\n",
       "              gamma=None, gpu_id=None, grow_policy=None, importance_type=None,\n",
       "              interaction_constraints=None, learning_rate=0.1, max_bin=None,\n",
       "              max_cat_threshold=None, max_cat_to_onehot=None,\n",
       "              max_delta_step=None, max_depth=7, max_leaves=None,\n",
       "              min_child_weight=None, missing=nan, monotone_constraints=None,\n",
       "              n_estimators=200, n_jobs=None, nthread=10, num_parallel_tree=None,\n",
       "              objective=&#x27;multi:softprob&#x27;, ...)</pre></div></div></div></div></div>"
      ],
      "text/plain": [
       "XGBClassifier(base_score=None, booster=None, callbacks=None,\n",
       "              colsample_bylevel=None, colsample_bynode=None,\n",
       "              colsample_bytree=0.8, early_stopping_rounds=None,\n",
       "              enable_categorical=False, eval_metric=None, feature_types=None,\n",
       "              gamma=None, gpu_id=None, grow_policy=None, importance_type=None,\n",
       "              interaction_constraints=None, learning_rate=0.1, max_bin=None,\n",
       "              max_cat_threshold=None, max_cat_to_onehot=None,\n",
       "              max_delta_step=None, max_depth=7, max_leaves=None,\n",
       "              min_child_weight=None, missing=nan, monotone_constraints=None,\n",
       "              n_estimators=200, n_jobs=None, nthread=10, num_parallel_tree=None,\n",
       "              objective='multi:softprob', ...)"
      ]
     },
     "execution_count": 287,
     "metadata": {},
     "output_type": "execute_result"
    }
   ],
   "source": [
    "# clf = xgb.XGBClassifier(nthread=10, silent=False)\n",
    "clf_new = xgb.XGBClassifier(max_depth=7,\n",
    "                            n_estimators=200,\n",
    "                            colsample_bytree=0.8,\n",
    "                            subsample=0.8,\n",
    "                            nthread=10,\n",
    "                            learning_rate=0.1)\n",
    "clf_new.fit(x_train_glove_cat_new, y_train_cat_new)"
   ]
  },
  {
   "cell_type": "code",
   "execution_count": 288,
   "id": "ad841bc1-d807-41fc-b6e5-9aacd44eddc1",
   "metadata": {},
   "outputs": [],
   "source": [
    "predicted_cat_new = clf_new.predict_proba(x_valid_glove_cat_new)\n",
    "classify_cat_new = clf_new.predict(x_valid_glove_cat_new)"
   ]
  },
  {
   "cell_type": "code",
   "execution_count": 289,
   "id": "103ff6e5-225a-4ee4-891c-a6391e0fe6aa",
   "metadata": {},
   "outputs": [
    {
     "name": "stdout",
     "output_type": "stream",
     "text": [
      "log loss: 2.023 \n",
      "accuracy for cat: 0.479\n"
     ]
    }
   ],
   "source": [
    "print (\"log loss: %0.3f \" % multiclass_logloss(y_valid_cat, predicted_cat_new))\n",
    "print(\"accuracy for cat: %0.3f\" % accuracy_score(y_valid_cat, classify_cat_new))"
   ]
  },
  {
   "cell_type": "markdown",
   "id": "442b82ca-28c2-4989-91a7-313ccfae7394",
   "metadata": {},
   "source": [
    "**Fitting a simple xgboost on glove features**"
   ]
  },
  {
   "cell_type": "code",
   "execution_count": 290,
   "id": "330f3b96-152e-454c-a3cd-e91625a80075",
   "metadata": {},
   "outputs": [
    {
     "name": "stdout",
     "output_type": "stream",
     "text": [
      "[08:40:28] WARNING: /home/conda/feedstock_root/build_artifacts/xgboost-split_1697107971183/work/src/learner.cc:767: \n",
      "Parameters: { \"silent\" } are not used.\n",
      "\n"
     ]
    },
    {
     "data": {
      "text/html": [
       "<style>#sk-container-id-24 {color: black;}#sk-container-id-24 pre{padding: 0;}#sk-container-id-24 div.sk-toggleable {background-color: white;}#sk-container-id-24 label.sk-toggleable__label {cursor: pointer;display: block;width: 100%;margin-bottom: 0;padding: 0.3em;box-sizing: border-box;text-align: center;}#sk-container-id-24 label.sk-toggleable__label-arrow:before {content: \"▸\";float: left;margin-right: 0.25em;color: #696969;}#sk-container-id-24 label.sk-toggleable__label-arrow:hover:before {color: black;}#sk-container-id-24 div.sk-estimator:hover label.sk-toggleable__label-arrow:before {color: black;}#sk-container-id-24 div.sk-toggleable__content {max-height: 0;max-width: 0;overflow: hidden;text-align: left;background-color: #f0f8ff;}#sk-container-id-24 div.sk-toggleable__content pre {margin: 0.2em;color: black;border-radius: 0.25em;background-color: #f0f8ff;}#sk-container-id-24 input.sk-toggleable__control:checked~div.sk-toggleable__content {max-height: 200px;max-width: 100%;overflow: auto;}#sk-container-id-24 input.sk-toggleable__control:checked~label.sk-toggleable__label-arrow:before {content: \"▾\";}#sk-container-id-24 div.sk-estimator input.sk-toggleable__control:checked~label.sk-toggleable__label {background-color: #d4ebff;}#sk-container-id-24 div.sk-label input.sk-toggleable__control:checked~label.sk-toggleable__label {background-color: #d4ebff;}#sk-container-id-24 input.sk-hidden--visually {border: 0;clip: rect(1px 1px 1px 1px);clip: rect(1px, 1px, 1px, 1px);height: 1px;margin: -1px;overflow: hidden;padding: 0;position: absolute;width: 1px;}#sk-container-id-24 div.sk-estimator {font-family: monospace;background-color: #f0f8ff;border: 1px dotted black;border-radius: 0.25em;box-sizing: border-box;margin-bottom: 0.5em;}#sk-container-id-24 div.sk-estimator:hover {background-color: #d4ebff;}#sk-container-id-24 div.sk-parallel-item::after {content: \"\";width: 100%;border-bottom: 1px solid gray;flex-grow: 1;}#sk-container-id-24 div.sk-label:hover label.sk-toggleable__label {background-color: #d4ebff;}#sk-container-id-24 div.sk-serial::before {content: \"\";position: absolute;border-left: 1px solid gray;box-sizing: border-box;top: 0;bottom: 0;left: 50%;z-index: 0;}#sk-container-id-24 div.sk-serial {display: flex;flex-direction: column;align-items: center;background-color: white;padding-right: 0.2em;padding-left: 0.2em;position: relative;}#sk-container-id-24 div.sk-item {position: relative;z-index: 1;}#sk-container-id-24 div.sk-parallel {display: flex;align-items: stretch;justify-content: center;background-color: white;position: relative;}#sk-container-id-24 div.sk-item::before, #sk-container-id-24 div.sk-parallel-item::before {content: \"\";position: absolute;border-left: 1px solid gray;box-sizing: border-box;top: 0;bottom: 0;left: 50%;z-index: -1;}#sk-container-id-24 div.sk-parallel-item {display: flex;flex-direction: column;z-index: 1;position: relative;background-color: white;}#sk-container-id-24 div.sk-parallel-item:first-child::after {align-self: flex-end;width: 50%;}#sk-container-id-24 div.sk-parallel-item:last-child::after {align-self: flex-start;width: 50%;}#sk-container-id-24 div.sk-parallel-item:only-child::after {width: 0;}#sk-container-id-24 div.sk-dashed-wrapped {border: 1px dashed gray;margin: 0 0.4em 0.5em 0.4em;box-sizing: border-box;padding-bottom: 0.4em;background-color: white;}#sk-container-id-24 div.sk-label label {font-family: monospace;font-weight: bold;display: inline-block;line-height: 1.2em;}#sk-container-id-24 div.sk-label-container {text-align: center;}#sk-container-id-24 div.sk-container {/* jupyter's `normalize.less` sets `[hidden] { display: none; }` but bootstrap.min.css set `[hidden] { display: none !important; }` so we also need the `!important` here to be able to override the default hidden behavior on the sphinx rendered scikit-learn.org. See: https://github.com/scikit-learn/scikit-learn/issues/21755 */display: inline-block !important;position: relative;}#sk-container-id-24 div.sk-text-repr-fallback {display: none;}</style><div id=\"sk-container-id-24\" class=\"sk-top-container\"><div class=\"sk-text-repr-fallback\"><pre>XGBClassifier(base_score=None, booster=None, callbacks=None,\n",
       "              colsample_bylevel=None, colsample_bynode=None,\n",
       "              colsample_bytree=0.8, early_stopping_rounds=None,\n",
       "              enable_categorical=False, eval_metric=None, feature_types=None,\n",
       "              gamma=None, gpu_id=None, grow_policy=None, importance_type=None,\n",
       "              interaction_constraints=None, learning_rate=0.1, max_bin=None,\n",
       "              max_cat_threshold=None, max_cat_to_onehot=None,\n",
       "              max_delta_step=None, max_depth=7, max_leaves=None,\n",
       "              min_child_weight=None, missing=nan, monotone_constraints=None,\n",
       "              n_estimators=200, n_jobs=None, nthread=10, num_parallel_tree=None,\n",
       "              objective=&#x27;multi:softprob&#x27;, ...)</pre><b>In a Jupyter environment, please rerun this cell to show the HTML representation or trust the notebook. <br />On GitHub, the HTML representation is unable to render, please try loading this page with nbviewer.org.</b></div><div class=\"sk-container\" hidden><div class=\"sk-item\"><div class=\"sk-estimator sk-toggleable\"><input class=\"sk-toggleable__control sk-hidden--visually\" id=\"sk-estimator-id-24\" type=\"checkbox\" checked><label for=\"sk-estimator-id-24\" class=\"sk-toggleable__label sk-toggleable__label-arrow\">XGBClassifier</label><div class=\"sk-toggleable__content\"><pre>XGBClassifier(base_score=None, booster=None, callbacks=None,\n",
       "              colsample_bylevel=None, colsample_bynode=None,\n",
       "              colsample_bytree=0.8, early_stopping_rounds=None,\n",
       "              enable_categorical=False, eval_metric=None, feature_types=None,\n",
       "              gamma=None, gpu_id=None, grow_policy=None, importance_type=None,\n",
       "              interaction_constraints=None, learning_rate=0.1, max_bin=None,\n",
       "              max_cat_threshold=None, max_cat_to_onehot=None,\n",
       "              max_delta_step=None, max_depth=7, max_leaves=None,\n",
       "              min_child_weight=None, missing=nan, monotone_constraints=None,\n",
       "              n_estimators=200, n_jobs=None, nthread=10, num_parallel_tree=None,\n",
       "              objective=&#x27;multi:softprob&#x27;, ...)</pre></div></div></div></div></div>"
      ],
      "text/plain": [
       "XGBClassifier(base_score=None, booster=None, callbacks=None,\n",
       "              colsample_bylevel=None, colsample_bynode=None,\n",
       "              colsample_bytree=0.8, early_stopping_rounds=None,\n",
       "              enable_categorical=False, eval_metric=None, feature_types=None,\n",
       "              gamma=None, gpu_id=None, grow_policy=None, importance_type=None,\n",
       "              interaction_constraints=None, learning_rate=0.1, max_bin=None,\n",
       "              max_cat_threshold=None, max_cat_to_onehot=None,\n",
       "              max_delta_step=None, max_depth=7, max_leaves=None,\n",
       "              min_child_weight=None, missing=nan, monotone_constraints=None,\n",
       "              n_estimators=200, n_jobs=None, nthread=10, num_parallel_tree=None,\n",
       "              objective='multi:softprob', ...)"
      ]
     },
     "execution_count": 290,
     "metadata": {},
     "output_type": "execute_result"
    }
   ],
   "source": [
    "# Fitting a simple xgboost on glove features with more complicated xgb model\n",
    "# for group\n",
    "clf = xgb.XGBClassifier(max_depth=7, n_estimators=200, colsample_bytree=0.8, \n",
    "                        subsample=0.8, nthread=10, learning_rate=0.1, silent=False)\n",
    "clf.fit(x_train_glove_group, y_train_group)\n"
   ]
  },
  {
   "cell_type": "code",
   "execution_count": 291,
   "id": "6b7b88fb-ed30-4ab3-9e83-6ef36460ded4",
   "metadata": {},
   "outputs": [],
   "source": [
    "predicted_group_other = clf.predict_proba(x_valid_glove_group)\n",
    "classify_group = clf.predict(x_valid_glove_group)"
   ]
  },
  {
   "cell_type": "code",
   "execution_count": 292,
   "id": "854cc132-0807-49b3-9d1b-0ee7537bcc9a",
   "metadata": {},
   "outputs": [
    {
     "name": "stdout",
     "output_type": "stream",
     "text": [
      "logloss: 0.349 \n",
      "accuracy for cat: 0.924\n"
     ]
    }
   ],
   "source": [
    "print (\"logloss: %0.3f \" % multiclass_logloss(y_valid_group, predicted_group_other))\n",
    "print(\"accuracy for cat: %0.3f\" % accuracy_score(y_valid_group, classify_group))"
   ]
  },
  {
   "cell_type": "code",
   "execution_count": 293,
   "id": "667de5f0-d211-468d-91a0-d6b379e910e7",
   "metadata": {},
   "outputs": [
    {
     "name": "stdout",
     "output_type": "stream",
     "text": [
      "[08:45:38] WARNING: /home/conda/feedstock_root/build_artifacts/xgboost-split_1697107971183/work/src/learner.cc:767: \n",
      "Parameters: { \"silent\" } are not used.\n",
      "\n"
     ]
    },
    {
     "data": {
      "text/html": [
       "<style>#sk-container-id-25 {color: black;}#sk-container-id-25 pre{padding: 0;}#sk-container-id-25 div.sk-toggleable {background-color: white;}#sk-container-id-25 label.sk-toggleable__label {cursor: pointer;display: block;width: 100%;margin-bottom: 0;padding: 0.3em;box-sizing: border-box;text-align: center;}#sk-container-id-25 label.sk-toggleable__label-arrow:before {content: \"▸\";float: left;margin-right: 0.25em;color: #696969;}#sk-container-id-25 label.sk-toggleable__label-arrow:hover:before {color: black;}#sk-container-id-25 div.sk-estimator:hover label.sk-toggleable__label-arrow:before {color: black;}#sk-container-id-25 div.sk-toggleable__content {max-height: 0;max-width: 0;overflow: hidden;text-align: left;background-color: #f0f8ff;}#sk-container-id-25 div.sk-toggleable__content pre {margin: 0.2em;color: black;border-radius: 0.25em;background-color: #f0f8ff;}#sk-container-id-25 input.sk-toggleable__control:checked~div.sk-toggleable__content {max-height: 200px;max-width: 100%;overflow: auto;}#sk-container-id-25 input.sk-toggleable__control:checked~label.sk-toggleable__label-arrow:before {content: \"▾\";}#sk-container-id-25 div.sk-estimator input.sk-toggleable__control:checked~label.sk-toggleable__label {background-color: #d4ebff;}#sk-container-id-25 div.sk-label input.sk-toggleable__control:checked~label.sk-toggleable__label {background-color: #d4ebff;}#sk-container-id-25 input.sk-hidden--visually {border: 0;clip: rect(1px 1px 1px 1px);clip: rect(1px, 1px, 1px, 1px);height: 1px;margin: -1px;overflow: hidden;padding: 0;position: absolute;width: 1px;}#sk-container-id-25 div.sk-estimator {font-family: monospace;background-color: #f0f8ff;border: 1px dotted black;border-radius: 0.25em;box-sizing: border-box;margin-bottom: 0.5em;}#sk-container-id-25 div.sk-estimator:hover {background-color: #d4ebff;}#sk-container-id-25 div.sk-parallel-item::after {content: \"\";width: 100%;border-bottom: 1px solid gray;flex-grow: 1;}#sk-container-id-25 div.sk-label:hover label.sk-toggleable__label {background-color: #d4ebff;}#sk-container-id-25 div.sk-serial::before {content: \"\";position: absolute;border-left: 1px solid gray;box-sizing: border-box;top: 0;bottom: 0;left: 50%;z-index: 0;}#sk-container-id-25 div.sk-serial {display: flex;flex-direction: column;align-items: center;background-color: white;padding-right: 0.2em;padding-left: 0.2em;position: relative;}#sk-container-id-25 div.sk-item {position: relative;z-index: 1;}#sk-container-id-25 div.sk-parallel {display: flex;align-items: stretch;justify-content: center;background-color: white;position: relative;}#sk-container-id-25 div.sk-item::before, #sk-container-id-25 div.sk-parallel-item::before {content: \"\";position: absolute;border-left: 1px solid gray;box-sizing: border-box;top: 0;bottom: 0;left: 50%;z-index: -1;}#sk-container-id-25 div.sk-parallel-item {display: flex;flex-direction: column;z-index: 1;position: relative;background-color: white;}#sk-container-id-25 div.sk-parallel-item:first-child::after {align-self: flex-end;width: 50%;}#sk-container-id-25 div.sk-parallel-item:last-child::after {align-self: flex-start;width: 50%;}#sk-container-id-25 div.sk-parallel-item:only-child::after {width: 0;}#sk-container-id-25 div.sk-dashed-wrapped {border: 1px dashed gray;margin: 0 0.4em 0.5em 0.4em;box-sizing: border-box;padding-bottom: 0.4em;background-color: white;}#sk-container-id-25 div.sk-label label {font-family: monospace;font-weight: bold;display: inline-block;line-height: 1.2em;}#sk-container-id-25 div.sk-label-container {text-align: center;}#sk-container-id-25 div.sk-container {/* jupyter's `normalize.less` sets `[hidden] { display: none; }` but bootstrap.min.css set `[hidden] { display: none !important; }` so we also need the `!important` here to be able to override the default hidden behavior on the sphinx rendered scikit-learn.org. See: https://github.com/scikit-learn/scikit-learn/issues/21755 */display: inline-block !important;position: relative;}#sk-container-id-25 div.sk-text-repr-fallback {display: none;}</style><div id=\"sk-container-id-25\" class=\"sk-top-container\"><div class=\"sk-text-repr-fallback\"><pre>XGBClassifier(base_score=None, booster=None, callbacks=None,\n",
       "              colsample_bylevel=None, colsample_bynode=None,\n",
       "              colsample_bytree=0.8, early_stopping_rounds=None,\n",
       "              enable_categorical=False, eval_metric=None, feature_types=None,\n",
       "              gamma=None, gpu_id=None, grow_policy=None, importance_type=None,\n",
       "              interaction_constraints=None, learning_rate=0.1, max_bin=None,\n",
       "              max_cat_threshold=None, max_cat_to_onehot=None,\n",
       "              max_delta_step=None, max_depth=7, max_leaves=None,\n",
       "              min_child_weight=None, missing=nan, monotone_constraints=None,\n",
       "              n_estimators=200, n_jobs=None, nthread=10, num_parallel_tree=None,\n",
       "              objective=&#x27;multi:softprob&#x27;, ...)</pre><b>In a Jupyter environment, please rerun this cell to show the HTML representation or trust the notebook. <br />On GitHub, the HTML representation is unable to render, please try loading this page with nbviewer.org.</b></div><div class=\"sk-container\" hidden><div class=\"sk-item\"><div class=\"sk-estimator sk-toggleable\"><input class=\"sk-toggleable__control sk-hidden--visually\" id=\"sk-estimator-id-25\" type=\"checkbox\" checked><label for=\"sk-estimator-id-25\" class=\"sk-toggleable__label sk-toggleable__label-arrow\">XGBClassifier</label><div class=\"sk-toggleable__content\"><pre>XGBClassifier(base_score=None, booster=None, callbacks=None,\n",
       "              colsample_bylevel=None, colsample_bynode=None,\n",
       "              colsample_bytree=0.8, early_stopping_rounds=None,\n",
       "              enable_categorical=False, eval_metric=None, feature_types=None,\n",
       "              gamma=None, gpu_id=None, grow_policy=None, importance_type=None,\n",
       "              interaction_constraints=None, learning_rate=0.1, max_bin=None,\n",
       "              max_cat_threshold=None, max_cat_to_onehot=None,\n",
       "              max_delta_step=None, max_depth=7, max_leaves=None,\n",
       "              min_child_weight=None, missing=nan, monotone_constraints=None,\n",
       "              n_estimators=200, n_jobs=None, nthread=10, num_parallel_tree=None,\n",
       "              objective=&#x27;multi:softprob&#x27;, ...)</pre></div></div></div></div></div>"
      ],
      "text/plain": [
       "XGBClassifier(base_score=None, booster=None, callbacks=None,\n",
       "              colsample_bylevel=None, colsample_bynode=None,\n",
       "              colsample_bytree=0.8, early_stopping_rounds=None,\n",
       "              enable_categorical=False, eval_metric=None, feature_types=None,\n",
       "              gamma=None, gpu_id=None, grow_policy=None, importance_type=None,\n",
       "              interaction_constraints=None, learning_rate=0.1, max_bin=None,\n",
       "              max_cat_threshold=None, max_cat_to_onehot=None,\n",
       "              max_delta_step=None, max_depth=7, max_leaves=None,\n",
       "              min_child_weight=None, missing=nan, monotone_constraints=None,\n",
       "              n_estimators=200, n_jobs=None, nthread=10, num_parallel_tree=None,\n",
       "              objective='multi:softprob', ...)"
      ]
     },
     "execution_count": 293,
     "metadata": {},
     "output_type": "execute_result"
    }
   ],
   "source": [
    "# Fitting a simple xgboost on glove features\n",
    "# for cat\n",
    "clf = xgb.XGBClassifier(max_depth=7, n_estimators=200, colsample_bytree=0.8, \n",
    "                        subsample=0.8, nthread=10, learning_rate=0.1, silent=False)\n",
    "clf.fit(x_train_glove_cat, y_train_cat)\n"
   ]
  },
  {
   "cell_type": "code",
   "execution_count": 294,
   "id": "c6c9e2c3-231e-4545-97cd-5d91195bf381",
   "metadata": {},
   "outputs": [],
   "source": [
    "predicted_cat_other = clf.predict_proba(x_valid_glove_cat)\n",
    "classify_cat = clf.predict(x_valid_glove_cat)"
   ]
  },
  {
   "cell_type": "code",
   "execution_count": 295,
   "id": "6517b6a1-3dd1-48bb-8cec-01da8c9f39ec",
   "metadata": {},
   "outputs": [
    {
     "name": "stdout",
     "output_type": "stream",
     "text": [
      "log loss: 2.054 \n",
      "accuracy for cat: 0.477\n"
     ]
    }
   ],
   "source": [
    "print (\"log loss: %0.3f \" % multiclass_logloss(y_valid_cat, predicted_cat_other))\n",
    "print(\"accuracy for cat: %0.3f\" % accuracy_score(y_valid_cat, classify_cat))"
   ]
  },
  {
   "cell_type": "code",
   "execution_count": 296,
   "id": "015e09d5-3334-40c7-89bd-123263c9f075",
   "metadata": {},
   "outputs": [
    {
     "name": "stdout",
     "output_type": "stream",
     "text": [
      "[09:12:56] WARNING: /home/conda/feedstock_root/build_artifacts/xgboost-split_1697107971183/work/src/learner.cc:767: \n",
      "Parameters: { \"silent\" } are not used.\n",
      "\n"
     ]
    },
    {
     "data": {
      "text/html": [
       "<style>#sk-container-id-26 {color: black;}#sk-container-id-26 pre{padding: 0;}#sk-container-id-26 div.sk-toggleable {background-color: white;}#sk-container-id-26 label.sk-toggleable__label {cursor: pointer;display: block;width: 100%;margin-bottom: 0;padding: 0.3em;box-sizing: border-box;text-align: center;}#sk-container-id-26 label.sk-toggleable__label-arrow:before {content: \"▸\";float: left;margin-right: 0.25em;color: #696969;}#sk-container-id-26 label.sk-toggleable__label-arrow:hover:before {color: black;}#sk-container-id-26 div.sk-estimator:hover label.sk-toggleable__label-arrow:before {color: black;}#sk-container-id-26 div.sk-toggleable__content {max-height: 0;max-width: 0;overflow: hidden;text-align: left;background-color: #f0f8ff;}#sk-container-id-26 div.sk-toggleable__content pre {margin: 0.2em;color: black;border-radius: 0.25em;background-color: #f0f8ff;}#sk-container-id-26 input.sk-toggleable__control:checked~div.sk-toggleable__content {max-height: 200px;max-width: 100%;overflow: auto;}#sk-container-id-26 input.sk-toggleable__control:checked~label.sk-toggleable__label-arrow:before {content: \"▾\";}#sk-container-id-26 div.sk-estimator input.sk-toggleable__control:checked~label.sk-toggleable__label {background-color: #d4ebff;}#sk-container-id-26 div.sk-label input.sk-toggleable__control:checked~label.sk-toggleable__label {background-color: #d4ebff;}#sk-container-id-26 input.sk-hidden--visually {border: 0;clip: rect(1px 1px 1px 1px);clip: rect(1px, 1px, 1px, 1px);height: 1px;margin: -1px;overflow: hidden;padding: 0;position: absolute;width: 1px;}#sk-container-id-26 div.sk-estimator {font-family: monospace;background-color: #f0f8ff;border: 1px dotted black;border-radius: 0.25em;box-sizing: border-box;margin-bottom: 0.5em;}#sk-container-id-26 div.sk-estimator:hover {background-color: #d4ebff;}#sk-container-id-26 div.sk-parallel-item::after {content: \"\";width: 100%;border-bottom: 1px solid gray;flex-grow: 1;}#sk-container-id-26 div.sk-label:hover label.sk-toggleable__label {background-color: #d4ebff;}#sk-container-id-26 div.sk-serial::before {content: \"\";position: absolute;border-left: 1px solid gray;box-sizing: border-box;top: 0;bottom: 0;left: 50%;z-index: 0;}#sk-container-id-26 div.sk-serial {display: flex;flex-direction: column;align-items: center;background-color: white;padding-right: 0.2em;padding-left: 0.2em;position: relative;}#sk-container-id-26 div.sk-item {position: relative;z-index: 1;}#sk-container-id-26 div.sk-parallel {display: flex;align-items: stretch;justify-content: center;background-color: white;position: relative;}#sk-container-id-26 div.sk-item::before, #sk-container-id-26 div.sk-parallel-item::before {content: \"\";position: absolute;border-left: 1px solid gray;box-sizing: border-box;top: 0;bottom: 0;left: 50%;z-index: -1;}#sk-container-id-26 div.sk-parallel-item {display: flex;flex-direction: column;z-index: 1;position: relative;background-color: white;}#sk-container-id-26 div.sk-parallel-item:first-child::after {align-self: flex-end;width: 50%;}#sk-container-id-26 div.sk-parallel-item:last-child::after {align-self: flex-start;width: 50%;}#sk-container-id-26 div.sk-parallel-item:only-child::after {width: 0;}#sk-container-id-26 div.sk-dashed-wrapped {border: 1px dashed gray;margin: 0 0.4em 0.5em 0.4em;box-sizing: border-box;padding-bottom: 0.4em;background-color: white;}#sk-container-id-26 div.sk-label label {font-family: monospace;font-weight: bold;display: inline-block;line-height: 1.2em;}#sk-container-id-26 div.sk-label-container {text-align: center;}#sk-container-id-26 div.sk-container {/* jupyter's `normalize.less` sets `[hidden] { display: none; }` but bootstrap.min.css set `[hidden] { display: none !important; }` so we also need the `!important` here to be able to override the default hidden behavior on the sphinx rendered scikit-learn.org. See: https://github.com/scikit-learn/scikit-learn/issues/21755 */display: inline-block !important;position: relative;}#sk-container-id-26 div.sk-text-repr-fallback {display: none;}</style><div id=\"sk-container-id-26\" class=\"sk-top-container\"><div class=\"sk-text-repr-fallback\"><pre>XGBClassifier(base_score=None, booster=None, callbacks=None,\n",
       "              colsample_bylevel=None, colsample_bynode=None,\n",
       "              colsample_bytree=0.8, early_stopping_rounds=None,\n",
       "              enable_categorical=False, eval_metric=None, feature_types=None,\n",
       "              gamma=None, gpu_id=None, grow_policy=None, importance_type=None,\n",
       "              interaction_constraints=None, learning_rate=0.1, max_bin=None,\n",
       "              max_cat_threshold=None, max_cat_to_onehot=None,\n",
       "              max_delta_step=None, max_depth=7, max_leaves=None,\n",
       "              min_child_weight=None, missing=nan, monotone_constraints=None,\n",
       "              n_estimators=200, n_jobs=None, nthread=10, num_parallel_tree=None,\n",
       "              objective=&#x27;multi:softprob&#x27;, ...)</pre><b>In a Jupyter environment, please rerun this cell to show the HTML representation or trust the notebook. <br />On GitHub, the HTML representation is unable to render, please try loading this page with nbviewer.org.</b></div><div class=\"sk-container\" hidden><div class=\"sk-item\"><div class=\"sk-estimator sk-toggleable\"><input class=\"sk-toggleable__control sk-hidden--visually\" id=\"sk-estimator-id-26\" type=\"checkbox\" checked><label for=\"sk-estimator-id-26\" class=\"sk-toggleable__label sk-toggleable__label-arrow\">XGBClassifier</label><div class=\"sk-toggleable__content\"><pre>XGBClassifier(base_score=None, booster=None, callbacks=None,\n",
       "              colsample_bylevel=None, colsample_bynode=None,\n",
       "              colsample_bytree=0.8, early_stopping_rounds=None,\n",
       "              enable_categorical=False, eval_metric=None, feature_types=None,\n",
       "              gamma=None, gpu_id=None, grow_policy=None, importance_type=None,\n",
       "              interaction_constraints=None, learning_rate=0.1, max_bin=None,\n",
       "              max_cat_threshold=None, max_cat_to_onehot=None,\n",
       "              max_delta_step=None, max_depth=7, max_leaves=None,\n",
       "              min_child_weight=None, missing=nan, monotone_constraints=None,\n",
       "              n_estimators=200, n_jobs=None, nthread=10, num_parallel_tree=None,\n",
       "              objective=&#x27;multi:softprob&#x27;, ...)</pre></div></div></div></div></div>"
      ],
      "text/plain": [
       "XGBClassifier(base_score=None, booster=None, callbacks=None,\n",
       "              colsample_bylevel=None, colsample_bynode=None,\n",
       "              colsample_bytree=0.8, early_stopping_rounds=None,\n",
       "              enable_categorical=False, eval_metric=None, feature_types=None,\n",
       "              gamma=None, gpu_id=None, grow_policy=None, importance_type=None,\n",
       "              interaction_constraints=None, learning_rate=0.1, max_bin=None,\n",
       "              max_cat_threshold=None, max_cat_to_onehot=None,\n",
       "              max_delta_step=None, max_depth=7, max_leaves=None,\n",
       "              min_child_weight=None, missing=nan, monotone_constraints=None,\n",
       "              n_estimators=200, n_jobs=None, nthread=10, num_parallel_tree=None,\n",
       "              objective='multi:softprob', ...)"
      ]
     },
     "execution_count": 296,
     "metadata": {},
     "output_type": "execute_result"
    }
   ],
   "source": [
    "# Fitting a simple xgboost on glove features\n",
    "# for cat new\n",
    "clf = xgb.XGBClassifier(max_depth=7, n_estimators=200, colsample_bytree=0.8, \n",
    "                        subsample=0.8, nthread=10, learning_rate=0.1, silent=False)\n",
    "clf.fit(x_train_glove_cat_new, y_train_cat)\n"
   ]
  },
  {
   "cell_type": "code",
   "execution_count": 297,
   "id": "a6709c62-809f-4811-aedf-1533d2f7a862",
   "metadata": {},
   "outputs": [],
   "source": [
    "predicted_cat_other_new = clf.predict_proba(x_valid_glove_cat_new)\n",
    "classify_cat_new = clf.predict(x_valid_glove_cat_new)"
   ]
  },
  {
   "cell_type": "code",
   "execution_count": 298,
   "id": "f4cb4d67-ac5f-465f-833e-83cfe4155ea8",
   "metadata": {},
   "outputs": [
    {
     "name": "stdout",
     "output_type": "stream",
     "text": [
      "log loss: 2.023 \n",
      "accuracy for cat: 0.479\n"
     ]
    }
   ],
   "source": [
    "print (\"log loss: %0.3f \" % multiclass_logloss(y_valid_cat, predicted_cat_other_new))\n",
    "print(\"accuracy for cat: %0.3f\" % accuracy_score(y_valid_cat, classify_cat_new))"
   ]
  },
  {
   "cell_type": "markdown",
   "id": "0b7c29e5-f3bf-4cad-b0db-5bfa7c2665ca",
   "metadata": {},
   "source": [
    "## Deep Learning"
   ]
  },
  {
   "cell_type": "markdown",
   "id": "0aa6a099-2735-4320-adee-438cd58b0b23",
   "metadata": {},
   "source": [
    "### Traint LSTM with simple dense on the GloVe features"
   ]
  },
  {
   "cell_type": "code",
   "execution_count": 299,
   "id": "c3228fb3-58ce-481a-82ce-8f86c8e53b63",
   "metadata": {},
   "outputs": [],
   "source": [
    "# # split again for group\n",
    "x_train_group, x_valid_group, y_train_group, y_valid_group = train_test_split(x_train.values, y_train_group_encoded,\n",
    "                                                                              stratify=y_train_group_encoded,\n",
    "                                                                              random_state=42,\n",
    "                                                                              test_size=0.2,\n",
    "                                                                              shuffle=True)"
   ]
  },
  {
   "cell_type": "code",
   "execution_count": 300,
   "id": "49a09031-5d6e-4c8a-b2ee-1d48bc1f7010",
   "metadata": {},
   "outputs": [],
   "source": [
    "# # split again for category\n",
    "x_train_cat, x_valid_cat, y_train_cat, y_valid_cat = train_test_split(x_train.values, y_train_cat_encoded,\n",
    "                                                                      stratify=y_train_cat_encoded,\n",
    "                                                                      random_state=42,\n",
    "                                                                      test_size=0.2,\n",
    "                                                                      shuffle=True)"
   ]
  },
  {
   "cell_type": "code",
   "execution_count": 301,
   "id": "2c1b8484-f6e1-479a-b5dd-1b915de467f1",
   "metadata": {},
   "outputs": [],
   "source": [
    "# scale the data before any neural net:\n",
    "scl = preprocessing.StandardScaler()\n",
    "x_train_deep_glove_scl_group = scl.fit_transform(x_train_glove_group)\n",
    "x_valid_deep_glove_scl_group = scl.fit_transform(x_valid_glove_group)\n",
    "\n",
    "x_train_deep_glove_scl_cat = scl.fit_transform(x_train_glove_cat)\n",
    "x_valid_deep_glove_scl_cat = scl.fit_transform(x_valid_glove_cat)"
   ]
  },
  {
   "cell_type": "code",
   "execution_count": 302,
   "id": "475db56c-a298-42e5-bfb4-da9d7e8bc104",
   "metadata": {},
   "outputs": [
    {
     "data": {
      "text/plain": [
       "array([[0., 0., 0., 0., 0., 0., 0., 0., 0., 0., 0., 0., 0., 0., 0., 0.,\n",
       "        0., 0., 0., 1., 0., 0.],\n",
       "       [0., 0., 0., 0., 0., 0., 0., 0., 0., 0., 0., 0., 0., 0., 0., 0.,\n",
       "        0., 0., 0., 1., 0., 0.],\n",
       "       [0., 0., 0., 0., 0., 0., 0., 0., 0., 0., 0., 0., 0., 0., 0., 0.,\n",
       "        0., 0., 0., 1., 0., 0.],\n",
       "       [0., 0., 0., 0., 0., 0., 0., 0., 0., 0., 0., 0., 0., 0., 0., 0.,\n",
       "        0., 0., 0., 1., 0., 0.],\n",
       "       [0., 0., 0., 0., 0., 0., 0., 0., 0., 0., 0., 0., 0., 0., 0., 0.,\n",
       "        0., 0., 0., 1., 0., 0.]], dtype=float32)"
      ]
     },
     "execution_count": 302,
     "metadata": {},
     "output_type": "execute_result"
    }
   ],
   "source": [
    "y_train_group_enc = np_utils.to_categorical(y_train_group)\n",
    "y_valid_group_enc = np_utils.to_categorical(y_valid_group)\n",
    "\n",
    "y_train_group_enc[:5]"
   ]
  },
  {
   "cell_type": "code",
   "execution_count": 303,
   "id": "6aeda2e2-0ac1-422c-927a-43ff522cd43b",
   "metadata": {},
   "outputs": [
    {
     "data": {
      "text/plain": [
       "array([[0., 0., 0., 0., 0., 0., 0., 0., 0., 0., 0., 0., 0., 0., 0., 0.,\n",
       "        0., 0., 0., 0., 0., 0., 0., 0., 0., 0., 0., 0., 0., 0., 0., 0.,\n",
       "        0., 0., 0., 0., 0., 0., 0., 0., 0., 0., 0., 0., 0., 0., 0., 0.,\n",
       "        0., 0., 0., 0., 0., 0., 0., 0., 0., 0., 0., 0., 0., 0., 0., 0.,\n",
       "        0., 0., 0., 0., 0., 0., 0., 0., 0., 0., 1., 0., 0., 0., 0., 0.,\n",
       "        0., 0., 0., 0., 0., 0., 0., 0., 0., 0., 0., 0., 0., 0., 0., 0.,\n",
       "        0.],\n",
       "       [0., 0., 0., 0., 0., 0., 0., 0., 0., 0., 0., 0., 0., 0., 0., 0.,\n",
       "        0., 0., 0., 0., 0., 0., 0., 0., 0., 0., 0., 0., 0., 0., 0., 0.,\n",
       "        0., 0., 0., 0., 0., 0., 0., 0., 0., 0., 0., 0., 0., 0., 0., 0.,\n",
       "        0., 0., 0., 0., 0., 0., 0., 0., 0., 0., 0., 0., 0., 0., 0., 0.,\n",
       "        0., 0., 0., 0., 0., 0., 0., 0., 0., 0., 1., 0., 0., 0., 0., 0.,\n",
       "        0., 0., 0., 0., 0., 0., 0., 0., 0., 0., 0., 0., 0., 0., 0., 0.,\n",
       "        0.],\n",
       "       [0., 0., 0., 0., 0., 0., 0., 0., 0., 0., 0., 0., 0., 0., 0., 0.,\n",
       "        0., 0., 0., 0., 0., 0., 0., 0., 0., 0., 0., 0., 0., 0., 0., 0.,\n",
       "        0., 0., 0., 0., 0., 0., 0., 0., 0., 0., 0., 0., 0., 0., 0., 0.,\n",
       "        0., 0., 0., 0., 0., 0., 0., 0., 0., 0., 0., 0., 0., 0., 0., 0.,\n",
       "        0., 0., 0., 0., 0., 0., 0., 0., 0., 0., 0., 0., 1., 0., 0., 0.,\n",
       "        0., 0., 0., 0., 0., 0., 0., 0., 0., 0., 0., 0., 0., 0., 0., 0.,\n",
       "        0.],\n",
       "       [0., 0., 0., 0., 0., 0., 0., 0., 0., 0., 0., 0., 0., 0., 0., 0.,\n",
       "        0., 0., 0., 0., 0., 0., 1., 0., 0., 0., 0., 0., 0., 0., 0., 0.,\n",
       "        0., 0., 0., 0., 0., 0., 0., 0., 0., 0., 0., 0., 0., 0., 0., 0.,\n",
       "        0., 0., 0., 0., 0., 0., 0., 0., 0., 0., 0., 0., 0., 0., 0., 0.,\n",
       "        0., 0., 0., 0., 0., 0., 0., 0., 0., 0., 0., 0., 0., 0., 0., 0.,\n",
       "        0., 0., 0., 0., 0., 0., 0., 0., 0., 0., 0., 0., 0., 0., 0., 0.,\n",
       "        0.],\n",
       "       [0., 0., 0., 0., 0., 0., 0., 0., 0., 0., 0., 0., 0., 0., 0., 0.,\n",
       "        0., 0., 0., 0., 0., 0., 0., 0., 0., 0., 0., 1., 0., 0., 0., 0.,\n",
       "        0., 0., 0., 0., 0., 0., 0., 0., 0., 0., 0., 0., 0., 0., 0., 0.,\n",
       "        0., 0., 0., 0., 0., 0., 0., 0., 0., 0., 0., 0., 0., 0., 0., 0.,\n",
       "        0., 0., 0., 0., 0., 0., 0., 0., 0., 0., 0., 0., 0., 0., 0., 0.,\n",
       "        0., 0., 0., 0., 0., 0., 0., 0., 0., 0., 0., 0., 0., 0., 0., 0.,\n",
       "        0.]], dtype=float32)"
      ]
     },
     "execution_count": 303,
     "metadata": {},
     "output_type": "execute_result"
    }
   ],
   "source": [
    "y_train_cat_enc = np_utils.to_categorical(y_train_cat)\n",
    "y_valid_cat_enc = np_utils.to_categorical(y_valid_cat)\n",
    "\n",
    "y_train_cat_enc[:5]"
   ]
  },
  {
   "cell_type": "code",
   "execution_count": 304,
   "id": "8cfee9f1-e0a1-4c56-a9aa-8d3599d7b7a7",
   "metadata": {},
   "outputs": [
    {
     "name": "stderr",
     "output_type": "stream",
     "text": [
      "2023-10-21 09:39:53.897332: I tensorflow/core/common_runtime/process_util.cc:146] Creating new thread pool with default inter op setting: 2. Tune using inter_op_parallelism_threads for best performance.\n"
     ]
    }
   ],
   "source": [
    "# create a simple 3 layer sequential neural net\n",
    "model_group = Sequential()\n",
    "\n",
    "model_group.add(Dense(300, input_dim=300, activation='relu'))\n",
    "model_group.add(Dropout(0.2))\n",
    "model_group.add(BatchNormalization())\n",
    "\n",
    "model_group.add(Dense(300, activation='relu'))\n",
    "model_group.add(Dropout(0.3))\n",
    "model_group.add(BatchNormalization())\n",
    "\n",
    "model_group.add(Dense(22))\n",
    "model_group.add(Activation('softmax'))\n",
    "\n",
    "# compile the model\n",
    "model_group.compile(loss='categorical_crossentropy', optimizer='adam')"
   ]
  },
  {
   "cell_type": "code",
   "execution_count": 305,
   "id": "86732e43-6f36-4762-aaff-da730bc26f00",
   "metadata": {},
   "outputs": [
    {
     "name": "stdout",
     "output_type": "stream",
     "text": [
      "Epoch 1/20\n",
      "243/243 [==============================] - 6s 14ms/step - loss: 1.0996 - val_loss: 0.4283\n",
      "Epoch 2/20\n",
      "243/243 [==============================] - 4s 15ms/step - loss: 0.4190 - val_loss: 0.3744\n",
      "Epoch 3/20\n",
      "243/243 [==============================] - 3s 12ms/step - loss: 0.3801 - val_loss: 0.3630\n",
      "Epoch 4/20\n",
      "243/243 [==============================] - 3s 13ms/step - loss: 0.3674 - val_loss: 0.3507\n",
      "Epoch 5/20\n",
      "243/243 [==============================] - 4s 15ms/step - loss: 0.3554 - val_loss: 0.3495\n",
      "Epoch 6/20\n",
      "243/243 [==============================] - 4s 15ms/step - loss: 0.3504 - val_loss: 0.3440\n",
      "Epoch 7/20\n",
      "243/243 [==============================] - 4s 15ms/step - loss: 0.3465 - val_loss: 0.3421\n",
      "Epoch 8/20\n",
      "243/243 [==============================] - 3s 14ms/step - loss: 0.3428 - val_loss: 0.3368\n",
      "Epoch 9/20\n",
      "243/243 [==============================] - 3s 14ms/step - loss: 0.3409 - val_loss: 0.3376\n",
      "Epoch 10/20\n",
      "243/243 [==============================] - 3s 13ms/step - loss: 0.3369 - val_loss: 0.3392\n",
      "Epoch 11/20\n",
      "243/243 [==============================] - 3s 14ms/step - loss: 0.3378 - val_loss: 0.3376\n",
      "Epoch 12/20\n",
      "243/243 [==============================] - 3s 13ms/step - loss: 0.3344 - val_loss: 0.3370\n",
      "Epoch 13/20\n",
      "243/243 [==============================] - 4s 14ms/step - loss: 0.3311 - val_loss: 0.3380\n",
      "Epoch 14/20\n",
      "243/243 [==============================] - 4s 14ms/step - loss: 0.3322 - val_loss: 0.3369\n",
      "Epoch 15/20\n",
      "243/243 [==============================] - 3s 13ms/step - loss: 0.3292 - val_loss: 0.3367\n",
      "Epoch 16/20\n",
      "243/243 [==============================] - 3s 14ms/step - loss: 0.3281 - val_loss: 0.3399\n",
      "Epoch 17/20\n",
      "243/243 [==============================] - 3s 14ms/step - loss: 0.3289 - val_loss: 0.3401\n",
      "Epoch 18/20\n",
      "243/243 [==============================] - 3s 14ms/step - loss: 0.3261 - val_loss: 0.3386\n",
      "Epoch 19/20\n",
      "243/243 [==============================] - 4s 15ms/step - loss: 0.3253 - val_loss: 0.3382\n",
      "Epoch 20/20\n",
      "243/243 [==============================] - 3s 13ms/step - loss: 0.3268 - val_loss: 0.3384\n"
     ]
    },
    {
     "data": {
      "text/plain": [
       "<keras.callbacks.History at 0x7f816769ef80>"
      ]
     },
     "execution_count": 305,
     "metadata": {},
     "output_type": "execute_result"
    }
   ],
   "source": [
    "model_group.fit(x_train_deep_glove_scl_group,\n",
    "                y=y_train_group_enc,\n",
    "                batch_size=128,\n",
    "                epochs=20,\n",
    "                verbose=1,\n",
    "                validation_data=(x_valid_deep_glove_scl_group, y_valid_group_enc))"
   ]
  },
  {
   "cell_type": "code",
   "execution_count": 306,
   "id": "b616cb53-382b-42df-bf78-a23d883a0130",
   "metadata": {},
   "outputs": [
    {
     "name": "stdout",
     "output_type": "stream",
     "text": [
      "243/243 [==============================] - 1s 3ms/step\n"
     ]
    }
   ],
   "source": [
    "predicted_xmpl_group = model_group.predict(x_valid_deep_glove_scl_group)\n",
    "classify_group = [np.argmax(x) for x in predicted_xmpl_group]"
   ]
  },
  {
   "cell_type": "code",
   "execution_count": 307,
   "id": "1c3701a6-30fe-43e6-b572-e623b994c4f9",
   "metadata": {},
   "outputs": [
    {
     "name": "stdout",
     "output_type": "stream",
     "text": [
      "log loss: 0.338 \n",
      "accuracy for cat: 0.923\n"
     ]
    }
   ],
   "source": [
    "print (\"log loss: %0.3f \" % multiclass_logloss(y_valid_group, predicted_xmpl_group))\n",
    "print(\"accuracy for cat: %0.3f\" % accuracy_score(y_valid_group, classify_group))"
   ]
  },
  {
   "cell_type": "code",
   "execution_count": 308,
   "id": "7d7a3071-6d58-4ef7-a2e9-9ac363c1883d",
   "metadata": {},
   "outputs": [],
   "source": [
    "'''\n",
    "Model for classify cat\n",
    "    ...\n",
    "'''\n",
    "model_cat = Sequential()\n",
    "\n",
    "model_cat.add(Dense(300, input_dim=300, activation='relu'))\n",
    "model_cat.add(Dropout(0.2))\n",
    "model_cat.add(BatchNormalization())\n",
    "\n",
    "model_cat.add(Dense(300, activation='relu'))\n",
    "model_cat.add(Dropout(0.3))\n",
    "model_cat.add(BatchNormalization())\n",
    "\n",
    "model_cat.add(Dense(97))\n",
    "model_cat.add(Activation('softmax'))\n",
    "\n",
    "# compile the model\n",
    "model_cat.compile(loss='categorical_crossentropy', optimizer='adam')"
   ]
  },
  {
   "cell_type": "code",
   "execution_count": 309,
   "id": "5b1cf352-515a-46c4-9a35-ccbc3e253d5d",
   "metadata": {},
   "outputs": [
    {
     "name": "stdout",
     "output_type": "stream",
     "text": [
      "Epoch 1/50\n",
      "243/243 [==============================] - 4s 15ms/step - loss: 2.6141 - val_loss: 2.1006\n",
      "Epoch 2/50\n",
      "243/243 [==============================] - 4s 16ms/step - loss: 2.1460 - val_loss: 2.0158\n",
      "Epoch 3/50\n",
      "243/243 [==============================] - 4s 15ms/step - loss: 2.0463 - val_loss: 1.9767\n",
      "Epoch 4/50\n",
      "243/243 [==============================] - 4s 14ms/step - loss: 1.9980 - val_loss: 1.9637\n",
      "Epoch 5/50\n",
      "243/243 [==============================] - 4s 14ms/step - loss: 1.9625 - val_loss: 1.9415\n",
      "Epoch 6/50\n",
      "243/243 [==============================] - 3s 14ms/step - loss: 1.9417 - val_loss: 1.9433\n",
      "Epoch 7/50\n",
      "243/243 [==============================] - 4s 14ms/step - loss: 1.9251 - val_loss: 1.9313\n",
      "Epoch 8/50\n",
      "243/243 [==============================] - 3s 14ms/step - loss: 1.9077 - val_loss: 1.9373\n",
      "Epoch 9/50\n",
      "243/243 [==============================] - 3s 14ms/step - loss: 1.9006 - val_loss: 1.9291\n",
      "Epoch 10/50\n",
      "243/243 [==============================] - 4s 16ms/step - loss: 1.8883 - val_loss: 1.9281\n",
      "Epoch 11/50\n",
      "243/243 [==============================] - 4s 15ms/step - loss: 1.8803 - val_loss: 1.9223\n",
      "Epoch 12/50\n",
      "243/243 [==============================] - 4s 15ms/step - loss: 1.8670 - val_loss: 1.9305\n",
      "Epoch 13/50\n",
      "243/243 [==============================] - 4s 14ms/step - loss: 1.8695 - val_loss: 1.9242\n",
      "Epoch 14/50\n",
      "243/243 [==============================] - 3s 14ms/step - loss: 1.8579 - val_loss: 1.9200\n",
      "Epoch 15/50\n",
      "243/243 [==============================] - 3s 14ms/step - loss: 1.8513 - val_loss: 1.9199\n",
      "Epoch 16/50\n",
      "243/243 [==============================] - 3s 14ms/step - loss: 1.8498 - val_loss: 1.9215\n",
      "Epoch 17/50\n",
      "243/243 [==============================] - 4s 15ms/step - loss: 1.8459 - val_loss: 1.9207\n",
      "Epoch 18/50\n",
      "243/243 [==============================] - 4s 16ms/step - loss: 1.8387 - val_loss: 1.9178\n",
      "Epoch 19/50\n",
      "243/243 [==============================] - 4s 15ms/step - loss: 1.8310 - val_loss: 1.9185\n",
      "Epoch 20/50\n",
      "243/243 [==============================] - 4s 15ms/step - loss: 1.8267 - val_loss: 1.9222\n",
      "Epoch 21/50\n",
      "243/243 [==============================] - 4s 14ms/step - loss: 1.8281 - val_loss: 1.9193\n",
      "Epoch 22/50\n",
      "243/243 [==============================] - 4s 15ms/step - loss: 1.8258 - val_loss: 1.9234\n",
      "Epoch 23/50\n",
      "243/243 [==============================] - 3s 14ms/step - loss: 1.8191 - val_loss: 1.9231\n",
      "Epoch 24/50\n",
      "243/243 [==============================] - 4s 15ms/step - loss: 1.8196 - val_loss: 1.9232\n",
      "Epoch 25/50\n",
      "243/243 [==============================] - 4s 14ms/step - loss: 1.8154 - val_loss: 1.9223\n",
      "Epoch 26/50\n",
      "243/243 [==============================] - 4s 15ms/step - loss: 1.8103 - val_loss: 1.9249\n",
      "Epoch 27/50\n",
      "243/243 [==============================] - 4s 15ms/step - loss: 1.8094 - val_loss: 1.9301\n",
      "Epoch 28/50\n",
      "243/243 [==============================] - 4s 15ms/step - loss: 1.8105 - val_loss: 1.9238\n",
      "Epoch 29/50\n",
      "243/243 [==============================] - 4s 15ms/step - loss: 1.8066 - val_loss: 1.9196\n",
      "Epoch 30/50\n",
      "243/243 [==============================] - 4s 15ms/step - loss: 1.8072 - val_loss: 1.9270\n",
      "Epoch 31/50\n",
      "243/243 [==============================] - 4s 15ms/step - loss: 1.7977 - val_loss: 1.9244\n",
      "Epoch 32/50\n",
      "243/243 [==============================] - 4s 14ms/step - loss: 1.7963 - val_loss: 1.9273\n",
      "Epoch 33/50\n",
      "243/243 [==============================] - 3s 14ms/step - loss: 1.7932 - val_loss: 1.9244\n",
      "Epoch 34/50\n",
      "243/243 [==============================] - 3s 14ms/step - loss: 1.7926 - val_loss: 1.9282\n",
      "Epoch 35/50\n",
      "243/243 [==============================] - 4s 15ms/step - loss: 1.7892 - val_loss: 1.9271\n",
      "Epoch 36/50\n",
      "243/243 [==============================] - 4s 15ms/step - loss: 1.7880 - val_loss: 1.9315\n",
      "Epoch 37/50\n",
      "243/243 [==============================] - 4s 15ms/step - loss: 1.7895 - val_loss: 1.9351\n",
      "Epoch 38/50\n",
      "243/243 [==============================] - 4s 15ms/step - loss: 1.7875 - val_loss: 1.9377\n",
      "Epoch 39/50\n",
      "243/243 [==============================] - 4s 15ms/step - loss: 1.7871 - val_loss: 1.9271\n",
      "Epoch 40/50\n",
      "243/243 [==============================] - 4s 15ms/step - loss: 1.7828 - val_loss: 1.9308\n",
      "Epoch 41/50\n",
      "243/243 [==============================] - 4s 15ms/step - loss: 1.7799 - val_loss: 1.9333\n",
      "Epoch 42/50\n",
      "243/243 [==============================] - 3s 14ms/step - loss: 1.7734 - val_loss: 1.9338\n",
      "Epoch 43/50\n",
      "243/243 [==============================] - 3s 14ms/step - loss: 1.7749 - val_loss: 1.9380\n",
      "Epoch 44/50\n",
      "243/243 [==============================] - 4s 15ms/step - loss: 1.7826 - val_loss: 1.9292\n",
      "Epoch 45/50\n",
      "243/243 [==============================] - 4s 15ms/step - loss: 1.7737 - val_loss: 1.9369\n",
      "Epoch 46/50\n",
      "243/243 [==============================] - 4s 15ms/step - loss: 1.7758 - val_loss: 1.9360\n",
      "Epoch 47/50\n",
      "243/243 [==============================] - 4s 17ms/step - loss: 1.7726 - val_loss: 1.9370\n",
      "Epoch 48/50\n",
      "243/243 [==============================] - 3s 14ms/step - loss: 1.7663 - val_loss: 1.9359\n",
      "Epoch 49/50\n",
      "243/243 [==============================] - 4s 15ms/step - loss: 1.7686 - val_loss: 1.9332\n",
      "Epoch 50/50\n",
      "243/243 [==============================] - 4s 15ms/step - loss: 1.7764 - val_loss: 1.9366\n"
     ]
    },
    {
     "data": {
      "text/plain": [
       "<keras.callbacks.History at 0x7f81ae352bf0>"
      ]
     },
     "execution_count": 309,
     "metadata": {},
     "output_type": "execute_result"
    }
   ],
   "source": [
    "model_cat.fit(x_train_deep_glove_scl_cat,\n",
    "                y=y_train_cat_enc,\n",
    "                batch_size=128,\n",
    "                epochs=50,\n",
    "                verbose=1,\n",
    "                validation_data=(x_valid_deep_glove_scl_cat, y_valid_cat_enc))"
   ]
  },
  {
   "cell_type": "code",
   "execution_count": 310,
   "id": "c4f79fac-d543-4b43-ae04-3d808269ffa8",
   "metadata": {},
   "outputs": [
    {
     "name": "stdout",
     "output_type": "stream",
     "text": [
      "243/243 [==============================] - 1s 3ms/step\n"
     ]
    }
   ],
   "source": [
    "predicted_xmpl_cat = model_cat.predict(x_valid_deep_glove_scl_cat)\n",
    "classify_cat = [np.argmax(x) for x in predicted_xmpl_cat]"
   ]
  },
  {
   "cell_type": "code",
   "execution_count": 311,
   "id": "983d1db0-3261-49aa-a46e-249c7014d671",
   "metadata": {},
   "outputs": [
    {
     "name": "stdout",
     "output_type": "stream",
     "text": [
      "log loss: 1.937 \n",
      "accuracy for cat: 0.486\n"
     ]
    }
   ],
   "source": [
    "print (\"log loss: %0.3f \" % multiclass_logloss(y_valid_cat, predicted_xmpl_cat))\n",
    "print(\"accuracy for cat: %0.3f\" % accuracy_score(y_valid_cat, classify_cat))"
   ]
  },
  {
   "cell_type": "code",
   "execution_count": 312,
   "id": "3fec4c3c-917b-43eb-8f69-6a2f2e5f9937",
   "metadata": {},
   "outputs": [
    {
     "ename": "NameError",
     "evalue": "name 'printf' is not defined",
     "output_type": "error",
     "traceback": [
      "\u001b[0;31m---------------------------------------------------------------------------\u001b[0m",
      "\u001b[0;31mNameError\u001b[0m                                 Traceback (most recent call last)",
      "Cell \u001b[0;32mIn[312], line 1\u001b[0m\n\u001b[0;32m----> 1\u001b[0m \u001b[43mprintf\u001b[49m(\u001b[38;5;124m\"\u001b[39m\u001b[38;5;124merror\u001b[39m\u001b[38;5;124m\"\u001b[39m)\n",
      "\u001b[0;31mNameError\u001b[0m: name 'printf' is not defined"
     ]
    }
   ],
   "source": [
    "printf(\"error\")"
   ]
  },
  {
   "cell_type": "markdown",
   "id": "fc199029-9c65-47bc-8987-5dc398e9dae3",
   "metadata": {},
   "source": [
    "**create a simple 3 layer sequential neural net**"
   ]
  },
  {
   "cell_type": "code",
   "execution_count": null,
   "id": "f60ccfd7-1120-4a27-8d2b-cbac9a55a0a5",
   "metadata": {},
   "outputs": [],
   "source": [
    "# create a simple 3 layer sequential neural net\n",
    "model_group = Sequential()\n",
    "\n",
    "model_group.add(Dense(300, input_dim=300, activation='relu'))\n",
    "model_group.add(Dropout(0.2))\n",
    "model_group.add(BatchNormalization())\n",
    "\n",
    "model_group.add(Dense(300, activation='relu'))\n",
    "model_group.add(Dropout(0.2))\n",
    "model_group.add(BatchNormalization())\n",
    "\n",
    "model_group.add(Dense(512, activation='relu'))\n",
    "model_group.add(Dropout(0.3))\n",
    "model_group.add(BatchNormalization())\n",
    "\n",
    "model_group.add(Dense(1024, activation='relu'))\n",
    "model_group.add(Dropout(0.3))\n",
    "model_group.add(BatchNormalization())\n",
    "\n",
    "model_group.add(Dense(22))\n",
    "model_group.add(Activation('softmax'))\n",
    "\n",
    "# compile the model\n",
    "model_group.compile(loss='categorical_crossentropy', optimizer='adam')"
   ]
  },
  {
   "cell_type": "code",
   "execution_count": null,
   "id": "8909248c-b869-4ea7-a582-07365b4d51c0",
   "metadata": {},
   "outputs": [],
   "source": [
    "model_group.fit(x_train_deep_glove_scl_group,\n",
    "                y=y_train_group_enc,\n",
    "                batch_size=64,\n",
    "                epochs=15,\n",
    "                verbose=1,\n",
    "                validation_data=(x_valid_deep_glove_scl_group, y_valid_group_enc))"
   ]
  },
  {
   "cell_type": "code",
   "execution_count": null,
   "id": "0fe2d1d2-b7fe-408a-80e7-5582552fbe7f",
   "metadata": {},
   "outputs": [],
   "source": [
    "predicted_xmpl_group = model_group.predict(x_valid_deep_glove_scl_group)\n",
    "classify_group = [np.argmax(x) for x in predicted_xmpl_group]"
   ]
  },
  {
   "cell_type": "code",
   "execution_count": null,
   "id": "69c07f45-de3c-4391-9b31-dfa50db4dca2",
   "metadata": {},
   "outputs": [],
   "source": [
    "print (\"log loss: %0.3f \" % multiclass_logloss(y_valid_group, predicted_xmpl_group))\n",
    "print(\"accuracy for cat: %0.3f\" % accuracy_score(y_valid_group, classify_group))"
   ]
  },
  {
   "cell_type": "code",
   "execution_count": null,
   "id": "e755f778-d62b-4759-ad59-76c32e1f7ee4",
   "metadata": {},
   "outputs": [],
   "source": []
  },
  {
   "cell_type": "code",
   "execution_count": null,
   "id": "78dfe7da-7e38-4e23-af39-7fd01f7b4d17",
   "metadata": {},
   "outputs": [],
   "source": []
  },
  {
   "cell_type": "code",
   "execution_count": null,
   "id": "17d1c7d7-ba73-416c-90fb-d7bea88dbcdd",
   "metadata": {},
   "outputs": [],
   "source": [
    "# create a simple 3 layer sequential neural net\n",
    "model_cat = Sequential()\n",
    "\n",
    "model_cat.add(Dense(300, input_dim=300, activation='relu'))\n",
    "model_cat.add(Dropout(0.2))\n",
    "model_cat.add(BatchNormalization())\n",
    "\n",
    "model_cat.add(Dense(300, activation='relu'))\n",
    "model_cat.add(Dropout(0.2))\n",
    "model_cat.add(BatchNormalization())\n",
    "\n",
    "model_cat.add(Dense(512, activation='relu'))\n",
    "model_cat.add(Dropout(0.3))\n",
    "model_cat.add(BatchNormalization())\n",
    "\n",
    "model_cat.add(Dense(1024, activation='relu'))\n",
    "model_cat.add(Dropout(0.3))\n",
    "model_cat.add(BatchNormalization())\n",
    "\n",
    "model_cat.add(Dense(97))\n",
    "model_cat.add(Activation('softmax'))\n",
    "\n",
    "# compile the model\n",
    "model_cat.compile(loss='categorical_crossentropy', optimizer='adam')"
   ]
  },
  {
   "cell_type": "code",
   "execution_count": null,
   "id": "b07f3c19-8a6d-46ce-a9ac-7b3b9d59e118",
   "metadata": {},
   "outputs": [],
   "source": [
    "model_cat.fit(x_train_deep_glove_scl_cat,\n",
    "                y=y_train_cat_enc,\n",
    "                batch_size=128,\n",
    "                epochs=50,\n",
    "                verbose=1,\n",
    "                validation_data=(x_valid_deep_glove_scl_cat, y_valid_cat_enc))"
   ]
  },
  {
   "cell_type": "code",
   "execution_count": null,
   "id": "47a9e814-c12b-41d2-a332-152d2b59d6f9",
   "metadata": {},
   "outputs": [],
   "source": [
    "predicted_xmpl_cat = model_cat.predict(x_valid_deep_glove_scl_cat)\n",
    "classify_cat = [np.argmax(x) for x in predicted_xmpl_cat]"
   ]
  },
  {
   "cell_type": "code",
   "execution_count": null,
   "id": "4d3d3d86-5e97-4ee3-a3e8-1776a772ec45",
   "metadata": {},
   "outputs": [],
   "source": [
    "print (\"log loss: %0.3f \" % multiclass_logloss(y_valid_cat, predicted_xmpl_cat))\n",
    "print(\"accuracy for cat: %0.3f\" % accuracy_score(y_valid_cat, classify_cat))"
   ]
  },
  {
   "cell_type": "code",
   "execution_count": null,
   "id": "02391c3c-b384-4678-8f66-91f89c4f6a09",
   "metadata": {},
   "outputs": [],
   "source": [
    "# using keras tokenizer here"
   ]
  },
  {
   "cell_type": "code",
   "execution_count": null,
   "id": "c99a0ece-0833-44af-9a44-bffb50a6b1c2",
   "metadata": {},
   "outputs": [],
   "source": [
    "token = text.Tokenizer(num_words=None)\n",
    "max_len = 70\n",
    "\n",
    "token.fit_on_texts(list(x_train_group) + list(x_valid_group))\n",
    "x_train_seq = token.texts_to_sequences(x_train_group)\n",
    "x_valid_seq = token.texts_to_sequences(x_valid_group)\n",
    "\n",
    "\n",
    "# zero pad the sequences\n",
    "x_train_pad = pad_sequences(x_train_seq, maxlen=max_len)\n",
    "x_valid_pad = pad_sequences(x_valid_seq, maxlen=max_len)\n",
    "\n",
    "\n",
    "word_index = token.word_index\n",
    "word_index"
   ]
  },
  {
   "cell_type": "code",
   "execution_count": null,
   "id": "4366cf31-7cc2-4658-a4e9-9112a037d50d",
   "metadata": {},
   "outputs": [],
   "source": [
    "# create an embedding matrix for the words we have in the dataset\n",
    "embedding_matrix = np.zeros((len(word_index) + 1, 300))\n",
    "for word, i in tqdm(word_index.items()):\n",
    "    embedding_vector = embedding_index.get(word)\n",
    "    if embedding_vector is not None:\n",
    "        embedding_matrix[i] = embedding_vector"
   ]
  },
  {
   "cell_type": "code",
   "execution_count": null,
   "id": "c0b04ef4-bc7e-4d84-9576-7098907e3043",
   "metadata": {},
   "outputs": [],
   "source": [
    "# A simple LSTM with glove embeddings and two dense layers\n",
    "model = Sequential()\n",
    "model.add(Embedding(len(word_index) + 1,\n",
    "                     300,\n",
    "                     weights=[embedding_matrix],\n",
    "                     input_length=max_len,\n",
    "                     trainable=False))\n",
    "model.add(SpatialDropout1D(0.3))\n",
    "model.add(LSTM(300, dropout=0.3, recurrent_dropout=0.3))\n",
    "\n",
    "model.add(Dense(1024, activation='relu'))\n",
    "model.add(Dropout(0.8))\n",
    "\n",
    "model.add(Dense(1024, activation='relu'))\n",
    "model.add(Dropout(0.8))\n",
    "\n",
    "model.add(Dense(22))\n",
    "model.add(Activation('softmax'))\n",
    "\n",
    "model.compile(loss='categorical_crossentropy', optimizer='adam')\n",
    "\n",
    "# Fit the model with early stopping callback\n",
    "earlystop = EarlyStopping(monitor='val_loss', min_delta=0, patience=3, verbose=0, mode='auto')"
   ]
  },
  {
   "cell_type": "code",
   "execution_count": null,
   "id": "a44ea556-1ce2-4fac-bcd7-8ce41e77d68f",
   "metadata": {},
   "outputs": [],
   "source": [
    "model.summary()"
   ]
  },
  {
   "cell_type": "code",
   "execution_count": null,
   "id": "6aa20429-400e-4f97-b836-72ebbcf52515",
   "metadata": {},
   "outputs": [],
   "source": [
    "model.fit(x_train_pad, y=y_train_group_enc, batch_size=512, epochs=20, \n",
    "          verbose=1, validation_data=(x_valid_pad, y_valid_group_enc), callbacks=[earlystop])"
   ]
  },
  {
   "cell_type": "code",
   "execution_count": null,
   "id": "8df44d80-dfe0-466b-8f0c-1690dd6cae57",
   "metadata": {},
   "outputs": [],
   "source": [
    "predicted_lstm_group = model.predict(x_valid_pad)\n",
    "classify_group = [np.argmax(x) for x in predicted_lstm_group]"
   ]
  },
  {
   "cell_type": "code",
   "execution_count": null,
   "id": "c6978212-2541-42bf-b07a-333fa32a5867",
   "metadata": {},
   "outputs": [],
   "source": [
    "print (\"log loss: %0.3f \" % multiclass_logloss(y_valid_group, predicted_lstm_group))\n",
    "print(\"accuracy for cat: %0.3f\" % accuracy_score(y_valid_group, classify_group))"
   ]
  },
  {
   "cell_type": "markdown",
   "id": "06eff097-fc98-41e2-ba75-4296d992acb5",
   "metadata": {},
   "source": [
    "**LSTM for cat**"
   ]
  },
  {
   "cell_type": "code",
   "execution_count": null,
   "id": "086557f6-6f8c-4772-879b-c502049a35b9",
   "metadata": {},
   "outputs": [],
   "source": [
    "token = text.Tokenizer(num_words=None)\n",
    "max_len = 70\n",
    "\n",
    "token.fit_on_texts(list(x_train_cat) + list(x_valid_cat))\n",
    "x_train_cat_seq = token.texts_to_sequences(x_train_cat)\n",
    "x_valid_cat_seq = token.texts_to_sequences(x_valid_cat)\n",
    "\n",
    "\n",
    "# zero pad the sequences\n",
    "x_train_cat_pad = pad_sequences(x_train_cat_seq, maxlen=max_len)\n",
    "x_valid_cat_pad = pad_sequences(x_valid_cat_seq, maxlen=max_len)"
   ]
  },
  {
   "cell_type": "code",
   "execution_count": null,
   "id": "e4e48efe-e799-4b75-841c-616439f1e251",
   "metadata": {},
   "outputs": [],
   "source": [
    "# A simple LSTM with glove embeddings and two dense layers\n",
    "model_cat = Sequential()\n",
    "model_cat.add(Embedding(len(word_index) + 1,\n",
    "                     300,\n",
    "                     weights=[embedding_matrix],\n",
    "                     input_length=max_len,\n",
    "                     trainable=False))\n",
    "model_cat.add(SpatialDropout1D(0.3))\n",
    "model_cat.add(LSTM(300, dropout=0.3, recurrent_dropout=0.3))\n",
    "\n",
    "model_cat.add(Dense(1024, activation='relu'))\n",
    "model_cat.add(Dropout(0.8))\n",
    "\n",
    "model_cat.add(Dense(1024, activation='relu'))\n",
    "model_cat.add(Dropout(0.8))\n",
    "\n",
    "model_cat.add(Dense(97))\n",
    "model_cat.add(Activation('softmax'))\n",
    "\n",
    "model_cat.compile(loss='categorical_crossentropy', optimizer='adam')\n",
    "\n",
    "# Fit the model with early stopping callback\n",
    "earlystop = EarlyStopping(monitor='val_loss', min_delta=0, patience=3, verbose=0, mode='auto')"
   ]
  },
  {
   "cell_type": "code",
   "execution_count": null,
   "id": "e4cce6a9-0d05-4166-9511-b72715887240",
   "metadata": {},
   "outputs": [],
   "source": [
    "model_cat.fit(x_train_cat_pad, y=y_train_cat_enc, batch_size=512, epochs=30, \n",
    "          verbose=1, validation_data=(x_valid_cat_pad, y_valid_cat_enc), callbacks=[earlystop])"
   ]
  },
  {
   "cell_type": "code",
   "execution_count": null,
   "id": "1bdcb21d-f864-423f-93f9-0d22ff10d269",
   "metadata": {},
   "outputs": [],
   "source": [
    "predicted_lstm_cat = model_cat.predict(x_valid_cat_pad)\n",
    "classify_cat = [np.argmax(x) for x in predicted_lstm_cat]"
   ]
  },
  {
   "cell_type": "code",
   "execution_count": null,
   "id": "0be61bc1-69d6-4800-ac29-e1576280967e",
   "metadata": {},
   "outputs": [],
   "source": [
    "print (\"log loss: %0.3f \" % multiclass_logloss(y_valid_cat, predicted_lstm_cat))\n",
    "print(\"accuracy for cat: %0.3f\" % accuracy_score(y_valid_cat, classify_cat))"
   ]
  },
  {
   "cell_type": "code",
   "execution_count": null,
   "id": "caee2628-f87a-4d89-8cbb-1614b75aafbd",
   "metadata": {},
   "outputs": [],
   "source": [
    "print('-' * 50)"
   ]
  },
  {
   "cell_type": "code",
   "execution_count": null,
   "id": "258c2955-a060-4582-a4f9-57c03ef42545",
   "metadata": {},
   "outputs": [],
   "source": [
    "# Using GRU\n",
    "model = Sequential()\n",
    "model.add(Embedding(len(word_index) + 1,\n",
    "                     300,\n",
    "                     weights=[embedding_matrix],\n",
    "                     input_length=max_len,\n",
    "                     trainable=False))\n",
    "model.add(SpatialDropout1D(0.3))\n",
    "model.add(GRU(300, dropout=0.3, recurrent_dropout=0.3, return_sequences=True))\n",
    "model.add(GRU(300, dropout=0.3, recurrent_dropout=0.3))\n",
    "\n",
    "model.add(Dense(1024, activation='relu'))\n",
    "model.add(Dropout(0.8))\n",
    "\n",
    "model.add(Dense(1024, activation='relu'))\n",
    "model.add(Dropout(0.8))\n",
    "\n",
    "model.add(Dense(22))\n",
    "model.add(Activation('softmax'))\n",
    "model.compile(loss='categorical_crossentropy', optimizer='adam')\n",
    "# Fit the model with early stopping callback\n",
    "earlystop = EarlyStopping(monitor='val_loss', min_delta=0, patience=3, verbose=0, mode='auto')"
   ]
  },
  {
   "cell_type": "code",
   "execution_count": null,
   "id": "b91cc4d1-0909-4701-a708-8a1f450ea9b9",
   "metadata": {},
   "outputs": [],
   "source": [
    "model.fit(x_train_pad, y=y_train_group_enc, batch_size=512, epochs=20, \n",
    "          verbose=1, validation_data=(x_valid_pad, y_valid_group_enc), callbacks=[earlystop])"
   ]
  },
  {
   "cell_type": "code",
   "execution_count": null,
   "id": "51d26315-321e-415e-9b57-bd4d8dea1592",
   "metadata": {},
   "outputs": [],
   "source": [
    "predicted_gru_group = model.predict(x_valid_pad)\n",
    "classify_group = [np.argmax(x) for x in predicted_gru_group]"
   ]
  },
  {
   "cell_type": "code",
   "execution_count": null,
   "id": "cdd69da5-a0cc-41a0-8f07-ac165ade900c",
   "metadata": {},
   "outputs": [],
   "source": [
    "print (\"log loss: %0.3f \" % multiclass_logloss(y_valid_group, predicted_gru_group))\n",
    "print(\"accuracy for cat: %0.3f\" % accuracy_score(y_valid_group, classify_group))"
   ]
  },
  {
   "cell_type": "code",
   "execution_count": null,
   "id": "a0c29cf0-40d4-465f-ac92-06d7c38834c4",
   "metadata": {},
   "outputs": [],
   "source": [
    "# fit for cat\n",
    "model.fit(x_train_cat_pad, y=y_train_cat_enc, batch_size=512, epochs=25, \n",
    "          verbose=1, validation_data=(x_valid_cat_pad, y_valid_cat_enc), callbacks=[earlystop])"
   ]
  },
  {
   "cell_type": "code",
   "execution_count": null,
   "id": "ee6f0612-ff34-4eb7-85b8-6fdb02327054",
   "metadata": {},
   "outputs": [],
   "source": [
    "printf('Done')"
   ]
  },
  {
   "cell_type": "markdown",
   "id": "5e3cbb66-002a-4490-a155-459678e0cf2d",
   "metadata": {},
   "source": [
    "## Ensembler"
   ]
  },
  {
   "cell_type": "code",
   "execution_count": null,
   "id": "29391b56-ca7e-40cc-a262-853ddb71522f",
   "metadata": {},
   "outputs": [],
   "source": [
    "# example of stratified k-fold cross-validation with an imbalanced dataset\n",
    "from sklearn.datasets import make_classification"
   ]
  },
  {
   "cell_type": "code",
   "execution_count": null,
   "id": "7bb66a88-f62e-4b6a-9dec-66c5c512d0f8",
   "metadata": {},
   "outputs": [],
   "source": [
    "#! /usr/bin/env python\n",
    "import numpy as np\n",
    "from sklearn.metrics import roc_auc_score\n",
    "from sklearn.preprocessing import LabelEncoder\n",
    "from sklearn.model_selection import StratifiedKFold, KFold\n",
    "import pandas as pd\n",
    "import os\n",
    "import sys\n",
    "import logging\n",
    "\n",
    "logging.basicConfig(\n",
    "    level=logging.DEBUG,\n",
    "    format=\"[%(asctime)s] %(levelname)s %(message)s\",\n",
    "    datefmt=\"%H:%M:%S\", stream=sys.stdout)\n",
    "logger = logging.getLogger(__name__)\n",
    "\n",
    "\n",
    "class Ensembler(object):\n",
    "    def __init__(self, model_dict, num_folds=3, task_type='classification', optimize=roc_auc_score,\n",
    "                 lower_is_better=False, save_path=None):\n",
    "        \"\"\"\n",
    "        Ensembler init function\n",
    "        :param model_dict: model dictionary, see README for its format\n",
    "        :param num_folds: the number of folds for ensembling\n",
    "        :param task_type: classification or regression\n",
    "        :param optimize: the function to optimize for, e.g. AUC, logloss, etc. Must have two arguments y_test and y_pred\n",
    "        :param lower_is_better: is lower value of optimization function better or higher\n",
    "        :param save_path: path to which model pickles will be dumped to along with generated predictions, or None\n",
    "        \"\"\"\n",
    "\n",
    "        self.model_dict = model_dict\n",
    "        self.levels = len(self.model_dict)\n",
    "        self.num_folds = num_folds\n",
    "        self.task_type = task_type\n",
    "        self.optimize = optimize\n",
    "        self.lower_is_better = lower_is_better\n",
    "        self.save_path = save_path\n",
    "\n",
    "        self.training_data = None\n",
    "        self.test_data = None\n",
    "        self.y = None\n",
    "        self.lbl_enc = None\n",
    "        self.y_enc = None\n",
    "        self.train_prediction_dict = None\n",
    "        self.test_prediction_dict = None\n",
    "        self.num_classes = None\n",
    "\n",
    "    def fit(self, training_data, y, lentrain):\n",
    "        \"\"\"\n",
    "        :param training_data: training data in tabular format\n",
    "        :param y: binary, multi-class or regression\n",
    "        :return: chain of models to be used in prediction\n",
    "        \"\"\"\n",
    "\n",
    "        self.training_data = training_data\n",
    "        self.y = y\n",
    "        \n",
    "\n",
    "        if self.task_type == 'classification':\n",
    "            self.num_classes = len(np.unique(self.y))\n",
    "            logger.info(\"Found %d classes\", self.num_classes)\n",
    "            self.lbl_enc = LabelEncoder()\n",
    "            self.y_enc = self.lbl_enc.fit_transform(self.y)\n",
    "            kf = StratifiedKFold(n_splits=self.num_folds, shuffle=True, random_state=1)\n",
    "            train_prediction_shape = (lentrain, self.num_classes)\n",
    "\n",
    "        self.train_prediction_dict = {}\n",
    "        for level in range(self.levels):\n",
    "            self.train_prediction_dict[level] = np.zeros((train_prediction_shape[0],\n",
    "                                                          train_prediction_shape[1] * len(self.model_dict[level])))\n",
    "\n",
    "        for level in range(self.levels):\n",
    "\n",
    "            if level == 0:\n",
    "                temp_train = self.training_data\n",
    "            else:\n",
    "                temp_train = self.train_prediction_dict[level - 1]\n",
    "\n",
    "            for model_num, model in enumerate(self.model_dict[level]):\n",
    "                validation_scores = []\n",
    "                foldnum = 1\n",
    "                for train_index, valid_index in kf.split(self.train_prediction_dict[0], self.y_enc):\n",
    "                    if len(np.unique(self.y_enc[train_index])) != self.num_classes:\n",
    "                        continue\n",
    "                        \n",
    "                    logger.info(\"Training Level %d Fold # %d. Model # %d\", level, foldnum, model_num)\n",
    "\n",
    "                    if level != 0:\n",
    "                        l_training_data = temp_train[train_index]\n",
    "                        l_validation_data = temp_train[valid_index]\n",
    "                        model.fit(l_training_data, self.y_enc[train_index])\n",
    "                    else:\n",
    "                        l0_training_data = temp_train[0][model_num]\n",
    "                        if type(l0_training_data) == list:\n",
    "                            l_training_data = [x[train_index] for x in l0_training_data]\n",
    "                            l_validation_data = [x[valid_index] for x in l0_training_data]\n",
    "                        else:\n",
    "                            l_training_data = l0_training_data[train_index]\n",
    "                            l_validation_data = l0_training_data[valid_index]\n",
    "\n",
    "                        model.fit(l_training_data, self.y_enc[train_index])\n",
    "\n",
    "                    logger.info(\"Predicting Level %d. Fold # %d. Model # %d\", level, foldnum, model_num)\n",
    "\n",
    "                    if self.task_type == 'classification':\n",
    "                        temp_train_predictions = model.predict_proba(l_validation_data)\n",
    "                        self.train_prediction_dict[level][valid_index,\n",
    "                        (model_num * self.num_classes):(model_num * self.num_classes) +\n",
    "                                                       self.num_classes] = temp_train_predictions\n",
    "\n",
    "                    else:\n",
    "                        temp_train_predictions = model.predict(l_validation_data)\n",
    "                        self.train_prediction_dict[level][valid_index, model_num] = temp_train_predictions\n",
    "                    validation_score = self.optimize(self.y_enc[valid_index], temp_train_predictions)\n",
    "                    validation_scores.append(validation_score)\n",
    "                    logger.info(\"Level %d. Fold # %d. Model # %d. Validation Score = %f\", level, foldnum, model_num,\n",
    "                                validation_score)\n",
    "                    foldnum += 1\n",
    "                avg_score = np.mean(validation_scores)\n",
    "                std_score = np.std(validation_scores)\n",
    "                logger.info(\"Level %d. Model # %d. Mean Score = %f. Std Dev = %f\", level, model_num,\n",
    "                            avg_score, std_score)\n",
    "\n",
    "            logger.info(\"Saving predictions for level # %d\", level)\n",
    "            train_predictions_df = pd.DataFrame(self.train_prediction_dict[level])\n",
    "            train_predictions_df.to_csv(os.path.join(self.save_path, \"train_predictions_level_\" + str(level) + \".csv\"),\n",
    "                                        index=False, header=None)\n",
    "\n",
    "        return self.train_prediction_dict\n",
    "\n",
    "    def predict(self, test_data, lentest):\n",
    "        self.test_data = test_data\n",
    "        if self.task_type == 'classification':\n",
    "            test_prediction_shape = (lentest, self.num_classes)\n",
    "        else:\n",
    "            test_prediction_shape = (lentest, 1)\n",
    "\n",
    "        self.test_prediction_dict = {}\n",
    "        for level in range(self.levels):\n",
    "            self.test_prediction_dict[level] = np.zeros((test_prediction_shape[0],\n",
    "                                                         test_prediction_shape[1] * len(self.model_dict[level])))\n",
    "        self.test_data = test_data\n",
    "        for level in range(self.levels):\n",
    "            if level == 0:\n",
    "                temp_train = self.training_data\n",
    "                temp_test = self.test_data\n",
    "            else:\n",
    "                temp_train = self.train_prediction_dict[level - 1]\n",
    "                temp_test = self.test_prediction_dict[level - 1]\n",
    "\n",
    "            for model_num, model in enumerate(self.model_dict[level]):\n",
    "\n",
    "                logger.info(\"Training Fulldata Level %d. Model # %d\", level, model_num)\n",
    "                if level == 0:\n",
    "                    model.fit(temp_train[0][model_num], self.y_enc)\n",
    "                else:\n",
    "                    model.fit(temp_train, self.y_enc)\n",
    "\n",
    "\n",
    "                logger.info(\"Predicting Test Level %d. Model # %d\", level, model_num)\n",
    "\n",
    "                if self.task_type == 'classification':\n",
    "                    if level == 0:\n",
    "                        temp_test_predictions = model.predict_proba(temp_test[0][model_num])\n",
    "                    else:\n",
    "                        temp_test_predictions = model.predict_proba(temp_test)\n",
    "                    self.test_prediction_dict[level][:, (model_num * self.num_classes): (model_num * self.num_classes) +\n",
    "                                                                                        self.num_classes] = temp_test_predictions\n",
    "\n",
    "                else:\n",
    "                    if level == 0:\n",
    "                        temp_test_predictions = model.predict(temp_test[0][model_num])\n",
    "                    else:\n",
    "                        temp_test_predictions = model.predict(temp_test)\n",
    "                    self.test_prediction_dict[level][:, model_num] = temp_test_predictions\n",
    "\n",
    "            test_predictions_df = pd.DataFrame(self.test_prediction_dict[level])\n",
    "            test_predictions_df.to_csv(os.path.join(self.save_path, \"test_predictions_level_\" + str(level) + \".csv\"),\n",
    "                                       index=False, header=None)\n",
    "\n",
    "        return self.test_prediction_dict"
   ]
  },
  {
   "cell_type": "code",
   "execution_count": null,
   "id": "79088925-5b93-4021-8ab7-12343b90a353",
   "metadata": {},
   "outputs": [],
   "source": [
    "# specify the data to be used for every level of ensembling:\n",
    "train_data_dict = {0: [x_train_tfv, x_train_ctv, x_train_tfv, x_train_ctv], 1: [x_train_glove]}\n",
    "# test_data_dict = {0: [xvalid_tfv, xvalid_ctv, xvalid_tfv, xvalid_ctv], 1: [xvalid_glove]}\n",
    "\n",
    "model_dict = {0: [LogisticRegression(), LogisticRegression(), MultinomialNB(alpha=0.1), MultinomialNB()],\n",
    "\n",
    "              1: [xgb.XGBClassifier(silent=True, n_estimators=120, max_depth=7)]}\n",
    "\n",
    "ens = Ensembler(model_dict=model_dict, num_folds=10, task_type='classification',\n",
    "                optimize=multiclass_logloss, lower_is_better=True, save_path='')\n",
    "\n",
    "ens.fit(train_data_dict, y_train_group, lentrain=x_train_glove.shape[0])\n",
    "preds = ens.predict(train_data_dict, lentest=x_train_glove.shape[0])"
   ]
  },
  {
   "cell_type": "code",
   "execution_count": null,
   "id": "0312b4cc-05e2-4733-a999-f4a776ee589a",
   "metadata": {},
   "outputs": [],
   "source": []
  },
  {
   "cell_type": "code",
   "execution_count": null,
   "id": "3b5d2116-5bda-4ab2-8d28-b2d17e09ce7f",
   "metadata": {},
   "outputs": [],
   "source": []
  }
 ],
 "metadata": {
  "kernelspec": {
   "display_name": "volga",
   "language": "python",
   "name": "volga"
  },
  "language_info": {
   "codemirror_mode": {
    "name": "ipython",
    "version": 3
   },
   "file_extension": ".py",
   "mimetype": "text/x-python",
   "name": "python",
   "nbconvert_exporter": "python",
   "pygments_lexer": "ipython3",
   "version": "3.10.13"
  }
 },
 "nbformat": 4,
 "nbformat_minor": 5
}
