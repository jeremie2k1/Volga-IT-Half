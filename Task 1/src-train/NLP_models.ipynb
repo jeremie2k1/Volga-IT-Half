{
 "cells": [
  {
   "cell_type": "markdown",
   "id": "5c789433-8621-4a43-b8a1-d31e88757016",
   "metadata": {},
   "source": [
    "# Import libraries"
   ]
  },
  {
   "cell_type": "code",
   "execution_count": 137,
   "id": "f540dd2b-e57e-413e-94de-e3c8f46e1a8a",
   "metadata": {},
   "outputs": [],
   "source": [
    "import pandas as pd\n",
    "import numpy as np\n",
    "import xgboost as xgb\n",
    "from tqdm import tqdm\n",
    "from sklearn.svm import SVC\n",
    "from keras.models import Sequential\n",
    "from keras.layers import LSTM, GRU\n",
    "from keras.layers.core import Dense, Activation, Dropout\n",
    "from keras.layers import Embedding\n",
    "from keras.layers import BatchNormalization\n",
    "from keras.utils import np_utils\n",
    "from keras.utils import pad_sequences\n",
    "from sklearn import preprocessing, decomposition, model_selection, metrics, pipeline\n",
    "from sklearn.model_selection import GridSearchCV\n",
    "from sklearn.feature_extraction.text import TfidfVectorizer, CountVectorizer\n",
    "from sklearn.decomposition import TruncatedSVD\n",
    "from sklearn.linear_model import LogisticRegression\n",
    "from sklearn.model_selection import train_test_split\n",
    "from sklearn.naive_bayes import MultinomialNB\n",
    "from sklearn.metrics import accuracy_score\n",
    "from keras.layers import GlobalMaxPooling1D, Conv1D, MaxPooling1D, Flatten, Bidirectional, SpatialDropout1D\n",
    "from keras.preprocessing import sequence, text\n",
    "from keras.callbacks import EarlyStopping\n",
    "\n",
    "import nltk\n",
    "from nltk.stem.wordnet import WordNetLemmatizer\n",
    "from nltk import word_tokenize\n",
    "from nltk.corpus import stopwords\n",
    "stop_words = stopwords.words('russian')\n",
    "\n",
    "import seaborn as sns\n",
    "import re\n",
    "import string\n",
    "import imblearn\n",
    "from imblearn.over_sampling import SMOTE\n",
    "\n",
    "# save model\n",
    "import joblib"
   ]
  },
  {
   "cell_type": "markdown",
   "id": "77b8b8a4-9407-423d-b092-e1c57be1c962",
   "metadata": {},
   "source": [
    "# Read input dataset"
   ]
  },
  {
   "cell_type": "code",
   "execution_count": 78,
   "id": "aab37655-73fb-41e7-b8b6-ab15dd97ac73",
   "metadata": {},
   "outputs": [],
   "source": [
    "l_dataset = pd.read_csv(\"../source-data/L.csv\", delimiter=\";\", encoding=\"windows-1251\")\n",
    "c_dataset = pd.read_csv(\"../source-data/C.csv\", delimiter=\";\", encoding=\"windows-1251\")"
   ]
  },
  {
   "cell_type": "markdown",
   "id": "7cd616b3-3c2a-4393-b7ed-634c86fa641d",
   "metadata": {},
   "source": [
    "# Overview dataset"
   ]
  },
  {
   "cell_type": "code",
   "execution_count": 79,
   "id": "9c18e45c-9f49-42dc-b248-07e4663bcda6",
   "metadata": {},
   "outputs": [
    {
     "data": {
      "text/plain": [
       "((50990, 6), (28978, 6))"
      ]
     },
     "execution_count": 79,
     "metadata": {},
     "output_type": "execute_result"
    }
   ],
   "source": [
    "# shape dataset\n",
    "l_dataset.shape, c_dataset.shape"
   ]
  },
  {
   "cell_type": "code",
   "execution_count": 80,
   "id": "2cf778bd-4e1e-40ac-a2ea-bd1fca054dea",
   "metadata": {},
   "outputs": [
    {
     "data": {
      "text/html": [
       "<div>\n",
       "<style scoped>\n",
       "    .dataframe tbody tr th:only-of-type {\n",
       "        vertical-align: middle;\n",
       "    }\n",
       "\n",
       "    .dataframe tbody tr th {\n",
       "        vertical-align: top;\n",
       "    }\n",
       "\n",
       "    .dataframe thead th {\n",
       "        text-align: right;\n",
       "    }\n",
       "</style>\n",
       "<table border=\"1\" class=\"dataframe\">\n",
       "  <thead>\n",
       "    <tr style=\"text-align: right;\">\n",
       "      <th></th>\n",
       "      <th>Number</th>\n",
       "      <th>Date</th>\n",
       "      <th>UID</th>\n",
       "      <th>Desc</th>\n",
       "      <th>Group</th>\n",
       "      <th>Cat</th>\n",
       "    </tr>\n",
       "  </thead>\n",
       "  <tbody>\n",
       "    <tr>\n",
       "      <th>0</th>\n",
       "      <td>1060141</td>\n",
       "      <td>12.03.2021 11:33</td>\n",
       "      <td>7b5dc3bb-1dcb-4954-9f3c-c5dc9c7d45d2</td>\n",
       "      <td>Не горит лампа в коридоре</td>\n",
       "      <td>Управление домом</td>\n",
       "      <td>Разбитые стекла, сорванные створки оконных пер...</td>\n",
       "    </tr>\n",
       "    <tr>\n",
       "      <th>1</th>\n",
       "      <td>1112641</td>\n",
       "      <td>2021-05-27 14:16:23.000</td>\n",
       "      <td>8361aa95-b693-444e-a212-8e1da60e8fde</td>\n",
       "      <td>кривой дорожный знак</td>\n",
       "      <td>Дороги</td>\n",
       "      <td>Общие вопросы</td>\n",
       "    </tr>\n",
       "    <tr>\n",
       "      <th>2</th>\n",
       "      <td>1112656</td>\n",
       "      <td>31.05.2021 12:07</td>\n",
       "      <td>7ac9fbb2-f72f-471d-9a10-ff191b9be927</td>\n",
       "      <td>Провал колодца на пешеходной дороге</td>\n",
       "      <td>Канализация</td>\n",
       "      <td>Общие вопросы</td>\n",
       "    </tr>\n",
       "    <tr>\n",
       "      <th>3</th>\n",
       "      <td>1112657</td>\n",
       "      <td>31.05.2021 12:12</td>\n",
       "      <td>3777d635-b4da-4897-9b89-2ba1aa44d891</td>\n",
       "      <td>Низкие температурные параметры ГВС</td>\n",
       "      <td>ГВС</td>\n",
       "      <td>Общие вопросы</td>\n",
       "    </tr>\n",
       "    <tr>\n",
       "      <th>4</th>\n",
       "      <td>1112668</td>\n",
       "      <td>01.06.2021 11:17</td>\n",
       "      <td>badc0911-6201-4a4e-963e-a63a6a3d408c</td>\n",
       "      <td>запах канализации</td>\n",
       "      <td>Канализация</td>\n",
       "      <td>Общие вопросы</td>\n",
       "    </tr>\n",
       "  </tbody>\n",
       "</table>\n",
       "</div>"
      ],
      "text/plain": [
       "    Number                     Date                                   UID  \\\n",
       "0  1060141         12.03.2021 11:33  7b5dc3bb-1dcb-4954-9f3c-c5dc9c7d45d2   \n",
       "1  1112641  2021-05-27 14:16:23.000  8361aa95-b693-444e-a212-8e1da60e8fde   \n",
       "2  1112656         31.05.2021 12:07  7ac9fbb2-f72f-471d-9a10-ff191b9be927   \n",
       "3  1112657         31.05.2021 12:12  3777d635-b4da-4897-9b89-2ba1aa44d891   \n",
       "4  1112668         01.06.2021 11:17  badc0911-6201-4a4e-963e-a63a6a3d408c   \n",
       "\n",
       "                                  Desc             Group  \\\n",
       "0            Не горит лампа в коридоре  Управление домом   \n",
       "1                 кривой дорожный знак            Дороги   \n",
       "2  Провал колодца на пешеходной дороге       Канализация   \n",
       "3   Низкие температурные параметры ГВС               ГВС   \n",
       "4                    запах канализации       Канализация   \n",
       "\n",
       "                                                 Cat  \n",
       "0  Разбитые стекла, сорванные створки оконных пер...  \n",
       "1                                      Общие вопросы  \n",
       "2                                      Общие вопросы  \n",
       "3                                      Общие вопросы  \n",
       "4                                      Общие вопросы  "
      ]
     },
     "execution_count": 80,
     "metadata": {},
     "output_type": "execute_result"
    }
   ],
   "source": [
    "l_dataset.head()"
   ]
  },
  {
   "cell_type": "code",
   "execution_count": 81,
   "id": "a058c748-5728-48f2-9fc3-d389ee2ce248",
   "metadata": {},
   "outputs": [
    {
     "data": {
      "text/html": [
       "<div>\n",
       "<style scoped>\n",
       "    .dataframe tbody tr th:only-of-type {\n",
       "        vertical-align: middle;\n",
       "    }\n",
       "\n",
       "    .dataframe tbody tr th {\n",
       "        vertical-align: top;\n",
       "    }\n",
       "\n",
       "    .dataframe thead th {\n",
       "        text-align: right;\n",
       "    }\n",
       "</style>\n",
       "<table border=\"1\" class=\"dataframe\">\n",
       "  <thead>\n",
       "    <tr style=\"text-align: right;\">\n",
       "      <th></th>\n",
       "      <th>Number</th>\n",
       "      <th>Date</th>\n",
       "      <th>UID</th>\n",
       "      <th>Desc</th>\n",
       "      <th>Group</th>\n",
       "      <th>Cat</th>\n",
       "    </tr>\n",
       "  </thead>\n",
       "  <tbody>\n",
       "    <tr>\n",
       "      <th>0</th>\n",
       "      <td>1346291</td>\n",
       "      <td>01.01.2023 2:10</td>\n",
       "      <td>e87b2cfa-6159-4aa2-b789-3974a01e0b0a</td>\n",
       "      <td>Застряли в лифте</td>\n",
       "      <td>NaN</td>\n",
       "      <td>NaN</td>\n",
       "    </tr>\n",
       "    <tr>\n",
       "      <th>1</th>\n",
       "      <td>1346298</td>\n",
       "      <td>01.01.2023 9:09</td>\n",
       "      <td>d6257b7b-d68c-449f-aef3-6c4af1a2d78f</td>\n",
       "      <td>Течь батареи  в спальной</td>\n",
       "      <td>NaN</td>\n",
       "      <td>NaN</td>\n",
       "    </tr>\n",
       "    <tr>\n",
       "      <th>2</th>\n",
       "      <td>1346301</td>\n",
       "      <td>01.01.2023 10:37</td>\n",
       "      <td>927aeffe-0842-4894-8ada-0a91ccdf1692</td>\n",
       "      <td>Течь сверху по стояку</td>\n",
       "      <td>NaN</td>\n",
       "      <td>NaN</td>\n",
       "    </tr>\n",
       "    <tr>\n",
       "      <th>3</th>\n",
       "      <td>1346303</td>\n",
       "      <td>01.01.2023 10:56</td>\n",
       "      <td>9884e4a6-2ce4-485b-913d-8e75c7779302</td>\n",
       "      <td>Течь КНС в 3 подвале</td>\n",
       "      <td>NaN</td>\n",
       "      <td>NaN</td>\n",
       "    </tr>\n",
       "    <tr>\n",
       "      <th>4</th>\n",
       "      <td>1346306</td>\n",
       "      <td>01.01.2023 11:44</td>\n",
       "      <td>4593c91a-8b75-46e4-83e5-557d730abea0</td>\n",
       "      <td>Течь кровли (забита ливневка)</td>\n",
       "      <td>NaN</td>\n",
       "      <td>NaN</td>\n",
       "    </tr>\n",
       "  </tbody>\n",
       "</table>\n",
       "</div>"
      ],
      "text/plain": [
       "    Number              Date                                   UID  \\\n",
       "0  1346291   01.01.2023 2:10  e87b2cfa-6159-4aa2-b789-3974a01e0b0a   \n",
       "1  1346298   01.01.2023 9:09  d6257b7b-d68c-449f-aef3-6c4af1a2d78f   \n",
       "2  1346301  01.01.2023 10:37  927aeffe-0842-4894-8ada-0a91ccdf1692   \n",
       "3  1346303  01.01.2023 10:56  9884e4a6-2ce4-485b-913d-8e75c7779302   \n",
       "4  1346306  01.01.2023 11:44  4593c91a-8b75-46e4-83e5-557d730abea0   \n",
       "\n",
       "                            Desc  Group  Cat  \n",
       "0               Застряли в лифте    NaN  NaN  \n",
       "1      Течь батареи  в спальной     NaN  NaN  \n",
       "2         Течь сверху по стояку     NaN  NaN  \n",
       "3          Течь КНС в 3 подвале     NaN  NaN  \n",
       "4  Течь кровли (забита ливневка)    NaN  NaN  "
      ]
     },
     "execution_count": 81,
     "metadata": {},
     "output_type": "execute_result"
    }
   ],
   "source": [
    "c_dataset.head()"
   ]
  },
  {
   "cell_type": "code",
   "execution_count": 82,
   "id": "7252e098-7ec9-4483-9f0b-1fe2133bec02",
   "metadata": {},
   "outputs": [
    {
     "name": "stdout",
     "output_type": "stream",
     "text": [
      "<class 'pandas.core.frame.DataFrame'>\n",
      "RangeIndex: 50990 entries, 0 to 50989\n",
      "Data columns (total 6 columns):\n",
      " #   Column  Non-Null Count  Dtype \n",
      "---  ------  --------------  ----- \n",
      " 0   Number  50990 non-null  int64 \n",
      " 1   Date    50990 non-null  object\n",
      " 2   UID     50990 non-null  object\n",
      " 3   Desc    50988 non-null  object\n",
      " 4   Group   50990 non-null  object\n",
      " 5   Cat     50990 non-null  object\n",
      "dtypes: int64(1), object(5)\n",
      "memory usage: 2.3+ MB\n"
     ]
    }
   ],
   "source": [
    "l_dataset.info()"
   ]
  },
  {
   "cell_type": "code",
   "execution_count": 83,
   "id": "2edb79d7-eac5-494a-83f8-900f80fe1912",
   "metadata": {},
   "outputs": [
    {
     "data": {
      "text/plain": [
       "(Number    0\n",
       " Date      0\n",
       " UID       0\n",
       " Desc      2\n",
       " Group     0\n",
       " Cat       0\n",
       " dtype: int64,\n",
       " Number        0\n",
       " Date          0\n",
       " UID           0\n",
       " Desc          0\n",
       " Group     28978\n",
       " Cat       28978\n",
       " dtype: int64)"
      ]
     },
     "execution_count": 83,
     "metadata": {},
     "output_type": "execute_result"
    }
   ],
   "source": [
    "# check NaN\n",
    "l_dataset.isna().sum(), c_dataset.isna().sum()"
   ]
  },
  {
   "cell_type": "code",
   "execution_count": 84,
   "id": "daee1ef1-0346-4836-9277-e5fd9e8b7f8c",
   "metadata": {},
   "outputs": [
    {
     "data": {
      "text/plain": [
       "Index([36, 158], dtype='int64')"
      ]
     },
     "execution_count": 84,
     "metadata": {},
     "output_type": "execute_result"
    }
   ],
   "source": [
    "# get index of NaN 'Desc' row of L dataset\n",
    "idx_na = l_dataset[l_dataset[\"Desc\"].isna()].index\n",
    "idx_na"
   ]
  },
  {
   "cell_type": "code",
   "execution_count": 85,
   "id": "1eea8196-482f-4c64-af36-dbd1e2208110",
   "metadata": {},
   "outputs": [
    {
     "data": {
      "text/plain": [
       "(50988, 6)"
      ]
     },
     "execution_count": 85,
     "metadata": {},
     "output_type": "execute_result"
    }
   ],
   "source": [
    "# remove nan desc\n",
    "l_dataset = l_dataset[~l_dataset.index.isin(idx_na)]\n",
    "l_dataset = l_dataset.reset_index(drop=True)\n",
    "l_dataset.shape"
   ]
  },
  {
   "cell_type": "code",
   "execution_count": 86,
   "id": "82efd64d-bc9c-4d8f-b0d0-891b1ca479b2",
   "metadata": {},
   "outputs": [
    {
     "data": {
      "text/plain": [
       "Group\n",
       "Управление домом                 47005\n",
       "ГВС                               1729\n",
       "Лифты                             1269\n",
       "Домофоны                           859\n",
       "Общие вопросы                       47\n",
       "Благоустройство                     34\n",
       "Бродячие животные                   14\n",
       "Отопление                            5\n",
       "ХВС                                  4\n",
       "Электроэнергия                       3\n",
       "Сантехника                           3\n",
       "Канализация                          3\n",
       "Газоснабжение                        2\n",
       "Дороги                               2\n",
       "Водоотведение                        2\n",
       "Ливневки                             1\n",
       "Вентиляция                           1\n",
       "Мусоропровод                         1\n",
       "Уборка  придомовой территории        1\n",
       "Работа МФЦ                           1\n",
       "Диспетчеризация                      1\n",
       "Приборы учета                        1\n",
       "Name: count, dtype: int64"
      ]
     },
     "execution_count": 86,
     "metadata": {},
     "output_type": "execute_result"
    }
   ],
   "source": [
    "# check balance of data\n",
    "l_dataset['Group'].value_counts()"
   ]
  },
  {
   "cell_type": "code",
   "execution_count": 87,
   "id": "10736198-c8c4-4baf-a08d-9efbb3c21599",
   "metadata": {},
   "outputs": [
    {
     "data": {
      "text/plain": [
       "Cat\n",
       "Сантехника                                                            12401\n",
       "Отопление (Отсутствие)                                                 5546\n",
       "Общие вопросы                                                          4617\n",
       "ГВС (Несоответствие температурных параметров)                          4013\n",
       "Канализация                                                            3817\n",
       "                                                                      ...  \n",
       "Ликвидация воздушных пробок                                               1\n",
       "Отключение стояков отопления                                              1\n",
       "Устранение аварии                                                         1\n",
       "Течи в водопроводных кранах и в кранах сливных бачков при унитазах        1\n",
       "Подключение к диспетчеризации                                             1\n",
       "Name: count, Length: 97, dtype: int64"
      ]
     },
     "execution_count": 87,
     "metadata": {},
     "output_type": "execute_result"
    }
   ],
   "source": [
    "l_dataset['Cat'].value_counts()"
   ]
  },
  {
   "cell_type": "code",
   "execution_count": 88,
   "id": "036ba429-ba63-4b2e-a262-c1ff4a42248f",
   "metadata": {},
   "outputs": [
    {
     "name": "stdout",
     "output_type": "stream",
     "text": [
      "1:  12\n",
      "<10:  35\n",
      "<100:  64\n"
     ]
    }
   ],
   "source": [
    "# Count nums of label just have 1\n",
    "print('1: ', sum(l_dataset['Cat'].value_counts() == 1))\n",
    "# Count nums of label less than 10\n",
    "print('<10: ', sum(l_dataset['Cat'].value_counts() < 10))\n",
    "# Count nums of label less than 100\n",
    "print('<100: ', sum(l_dataset['Cat'].value_counts() < 100))"
   ]
  },
  {
   "cell_type": "markdown",
   "id": "85b570bb-a99e-497e-b39f-bacf029fb567",
   "metadata": {},
   "source": [
    "# Data Augmentation by googletrans + textattack"
   ]
  },
  {
   "cell_type": "code",
   "execution_count": 89,
   "id": "f4030bd9-54d3-43ae-8a77-ce019ac5a5c2",
   "metadata": {},
   "outputs": [],
   "source": [
    "from textattack.augmentation import EasyDataAugmenter\n",
    "from textattack.augmentation import WordNetAugmenter\n",
    "from textattack.augmentation import EmbeddingAugmenter\n",
    "from textattack.augmentation import CheckListAugmenter\n",
    "from textattack.augmentation import CLAREAugmenter\n",
    "\n",
    "import asyncio\n",
    "import multiprocessing"
   ]
  },
  {
   "cell_type": "code",
   "execution_count": 90,
   "id": "016a4cec-997f-4014-ae9e-14854a00eb57",
   "metadata": {},
   "outputs": [],
   "source": [
    "from deep_translator import GoogleTranslator,   \\\n",
    "                            PonsTranslator,     \\\n",
    "                            LingueeTranslator,  \\\n",
    "                            MyMemoryTranslator, \\\n",
    "                            YandexTranslator # can not register api key\n",
    "MY_DEEPTRANS_API = '5046fb77012286730dd527cb9f2d8e30'"
   ]
  },
  {
   "cell_type": "code",
   "execution_count": 91,
   "id": "bfaed42e-6eba-45f0-89eb-11b2c70c95c4",
   "metadata": {},
   "outputs": [],
   "source": [
    "LANGUAGES = {\n",
    "    'mt': 'maltese',\n",
    "    'en': 'english', \n",
    "    'de': 'german', \n",
    "    'bg': 'bulgarian', \n",
    "    'pl': 'polish', \n",
    "    'pt': 'portuguese', \n",
    "    'hu': 'hungarian', \n",
    "    'ro': 'romanian', \n",
    "    'ru': 'russian', \n",
    "    'nl': 'dutch', \n",
    "    'slovakian': 'slovakian', \n",
    "    'el': 'greek', \n",
    "    'sl': 'slovenian', \n",
    "    'da': 'danish', \n",
    "    'it': 'italian', \n",
    "    'es': 'spanish', \n",
    "    'fi': 'finnish', \n",
    "    'chinese': 'chinese', \n",
    "    'zh-cn': 'chinese (simplified)',\n",
    "    'zh-tw': 'chinese (traditional)',\n",
    "    'fr': 'french', \n",
    "    'cs': 'czech', \n",
    "    'laotian': 'laotian', \n",
    "    'sv': 'swedish', \n",
    "    'lv': 'latvian', \n",
    "    'et': 'estonian', \n",
    "    'ja': 'japanese'\n",
    "}"
   ]
  },
  {
   "cell_type": "code",
   "execution_count": 92,
   "id": "0d987843-d980-432e-a2c0-e1eb0628d905",
   "metadata": {},
   "outputs": [],
   "source": [
    "languages = list(LANGUAGES.keys())\n",
    "# aug_methods = ['easy', 'wordnet', 'embedding', 'checklist']\n",
    "aug_methods = ['checklist', 'embedding', 'wordnet']\n",
    "translators = ['google']#, 'pons', 'linguee',\n",
    "              #'mymemory', 'libre'] # 'yandex'\n",
    "\n",
    "async def rand_trans_utils(huge=False):\n",
    "    idx_lang = round(np.random.uniform(0, len(languages) - 1))\n",
    "    idx_aug_method = round(np.random.uniform(0, len(aug_methods) - 1))\n",
    "    idx_trans = round(np.random.uniform(0, len(translators) - 1))\n",
    "\n",
    "    # get aug method\n",
    "    if aug_methods[idx_aug_method] == 'easy':\n",
    "        rand_aug_method = EasyDataAugmenter()\n",
    "    elif aug_methods[idx_aug_method] == 'wordnet':\n",
    "        rand_aug_method = WordNetAugmenter()\n",
    "    elif aug_methods[idx_aug_method] == 'checklist':\n",
    "        rand_aug_method = CheckListAugmenter(pct_words_to_swap=0.2, transformations_per_example=3)\n",
    "    elif aug_methods[idx_aug_method] == 'clare':\n",
    "        rand_aug_method = CLAREAugmenter()\n",
    "    else:\n",
    "        rand_aug_method = EmbeddingAugmenter()\n",
    "        \n",
    "    translator = None\n",
    "    # get translator\n",
    "    if translators[idx_trans] == 'google':\n",
    "        translator = GoogleTranslator\n",
    "    # elif translators[idx_trans] == 'pons' and not huge:\n",
    "    #     translator = PonsTranslator\n",
    "    # elif translators[idx_trans] == 'linguee' and not huge:\n",
    "    #     translator = LingueeTranslator\n",
    "    # elif translators[idx_trans] == 'mymemory':\n",
    "    #     translator = MyMemoryTranslator\n",
    "    else:\n",
    "        translator = GoogleTranslator\n",
    "        \n",
    "    return languages[idx_lang], rand_aug_method, translator, idx_trans\n",
    "    "
   ]
  },
  {
   "cell_type": "code",
   "execution_count": 93,
   "id": "5f0cb428-74e3-4ef5-9547-b001aa64b213",
   "metadata": {},
   "outputs": [],
   "source": [
    "async def back_translate(sequence, label, PROB = 1):\n",
    "    output_sequence = []\n",
    "    #store original language so we can convert back\n",
    "    org_lang = 'ru'\n",
    "    trans_lang = 'en'\n",
    "\n",
    "    huge = False\n",
    "    if len(sequence) > 50:\n",
    "        huge = True\n",
    "        \n",
    "    #randomly choose language to translate sequence to\n",
    "    target_lang, aug_method, translator, idx_trans = await rand_trans_utils(huge)\n",
    "    translated = None\n",
    "    aug_translated = None\n",
    "    #translate to english, that is transform language\n",
    "    try:\n",
    "        translated = translator(source=LANGUAGES[org_lang], target=LANGUAGES[trans_lang]).translate(sequence)\n",
    "        # print(aug_method.augment(translated))\n",
    "        aug_translated = aug_method.augment(translated)\n",
    "    except:\n",
    "        print(f'{translators[idx_trans]} no support translate to {LANGUAGES[trans_lang]}')\n",
    "        pass\n",
    "        \n",
    "    if translated:\n",
    "        for se in aug_translated:\n",
    "            translated_next = None\n",
    "            if trans_lang != target_lang:\n",
    "                try: \n",
    "                    translated_next = translator(source=LANGUAGES[trans_lang], target=LANGUAGES[target_lang]).translate(se)\n",
    "                except:\n",
    "                    # print(f'{translators[idx_trans]} no support translate to {LANGUAGES[target_lang]}')\n",
    "                    break\n",
    "            #translate back to original language\n",
    "            if translated_next:\n",
    "                translated_back = None\n",
    "                try:\n",
    "                    translated_back = translator(source=LANGUAGES[target_lang], target=LANGUAGES[org_lang]).translate(translated_next)\n",
    "                except:\n",
    "                    print(f'Finally, {translators[idx_trans]} no support translate to {LANGUAGES[org_lang]}')\n",
    "                    pass\n",
    "                \n",
    "                #apply with certain probability\n",
    "                if np.random.uniform(0, 1) <= PROB:\n",
    "                    output_sequence.append([translated_back] + label)\n",
    "    else:\n",
    "        output_sequence = output_sequence\n",
    "    output_sequence = [list(x) for x in set(tuple(x) for x in output_sequence)]\n",
    "    return output_sequence\n"
   ]
  },
  {
   "cell_type": "code",
   "execution_count": 94,
   "id": "3a17f218-888b-42a1-a4b7-1f8b0016084a",
   "metadata": {},
   "outputs": [
    {
     "name": "stderr",
     "output_type": "stream",
     "text": [
      "[nltk_data] Downloading package omw-1.4 to /home/jeremie/nltk_data...\n",
      "[nltk_data]   Package omw-1.4 is already up-to-date!\n",
      "[nltk_data] Downloading package omw-1.4 to /home/jeremie/nltk_data...\n",
      "[nltk_data]   Package omw-1.4 is already up-to-date!\n",
      "[nltk_data] Downloading package omw-1.4 to /home/jeremie/nltk_data...\n",
      "[nltk_data]   Package omw-1.4 is already up-to-date!\n",
      "[nltk_data] Downloading package omw-1.4 to /home/jeremie/nltk_data...\n",
      "[nltk_data]   Package omw-1.4 is already up-to-date!\n"
     ]
    }
   ],
   "source": [
    "#check performance\n",
    "text = l_dataset['Desc'][10] # sample text\n",
    "group = l_dataset['Group'][10]\n",
    "cate = l_dataset['Cat'][10]\n",
    "label = [group, cate]\n",
    "\n",
    "aug_result = []\n",
    "while len(aug_result) < 20: # with 20 data more\n",
    "    output = await back_translate(text, label)\n",
    "    aug_result.extend(output)"
   ]
  },
  {
   "cell_type": "code",
   "execution_count": 95,
   "id": "9f2197c2-1cee-4218-9534-b58c871d472e",
   "metadata": {},
   "outputs": [
    {
     "data": {
      "text/plain": [
       "[['Необходимо обрезать сухие ветки уличных деревьев. промышленная, 140, 81, 171',\n",
       "  'Благоустройство',\n",
       "  'Общие вопросы'],\n",
       " ['Необходимо обрезать сухие ветки уличных деревьев. Индустриальная, 141, 113, 164',\n",
       "  'Благоустройство',\n",
       "  'Общие вопросы'],\n",
       " ['Необходимо обрезать сухие ветки уличных деревьев. Индустриальная, 53, 52, 104',\n",
       "  'Благоустройство',\n",
       "  'Общие вопросы'],\n",
       " ['Сухими руками следует обрезать деревья вдоль проезжей части улицы. Промышленная, 85, 87, 91',\n",
       "  'Благоустройство',\n",
       "  'Общие вопросы'],\n",
       " ['Необходимо срезать сухие ветки на дереве вдоль проезжей части. Промышленная, 85, 87, 91',\n",
       "  'Благоустройство',\n",
       "  'Общие вопросы']]"
      ]
     },
     "execution_count": 95,
     "metadata": {},
     "output_type": "execute_result"
    }
   ],
   "source": [
    "aug_result[:5]"
   ]
  },
  {
   "cell_type": "markdown",
   "id": "3c973809-3d82-464b-85fc-c3493e15e28e",
   "metadata": {},
   "source": [
    "**Applies to Group labels with quantities less than 100**"
   ]
  },
  {
   "cell_type": "code",
   "execution_count": 96,
   "id": "e8f95868-0153-4294-af56-f462c6b4fb24",
   "metadata": {},
   "outputs": [
    {
     "ename": "NameError",
     "evalue": "name 'printf' is not defined",
     "output_type": "error",
     "traceback": [
      "\u001b[0;31m---------------------------------------------------------------------------\u001b[0m",
      "\u001b[0;31mNameError\u001b[0m                                 Traceback (most recent call last)",
      "Cell \u001b[0;32mIn[96], line 1\u001b[0m\n\u001b[0;32m----> 1\u001b[0m \u001b[43mprintf\u001b[49m(\u001b[38;5;124m'\u001b[39m\u001b[38;5;124mError - No need more\u001b[39m\u001b[38;5;124m'\u001b[39m)\n",
      "\u001b[0;31mNameError\u001b[0m: name 'printf' is not defined"
     ]
    }
   ],
   "source": [
    "printf('Error - No need more')"
   ]
  },
  {
   "cell_type": "code",
   "execution_count": null,
   "id": "a2164afe-427b-40b7-a3d2-59c518085f32",
   "metadata": {},
   "outputs": [],
   "source": [
    "group_labels_less = l_dataset['Group'].value_counts()[l_dataset['Group'].value_counts() <= 100]"
   ]
  },
  {
   "cell_type": "code",
   "execution_count": null,
   "id": "096cc08d-6ec4-4430-910a-a6c4c04358b1",
   "metadata": {},
   "outputs": [],
   "source": [
    "for i in range(len(l_dataset)):\n",
    "    if l_dataset.loc[i, 'Group'] in group_labels_less.index:\n",
    "        text = l_dataset.loc[i, 'Desc']\n",
    "        group = l_dataset.loc[i, 'Group']\n",
    "        cate = l_dataset.loc[i, 'Cat']\n",
    "        cur_nums = group_labels_less[l_dataset.loc[i, 'Group']]\n",
    "\n",
    "        label = [group, cate]\n",
    "\n",
    "        if cur_nums > 10:\n",
    "            more = 5\n",
    "        else:\n",
    "            more = 50\n",
    "            \n",
    "        aug_result = []\n",
    "        while len(aug_result) < more: # with 20 data more\n",
    "            output = await back_translate(text, label)\n",
    "            aug_result.extend(output)\n",
    "\n",
    "        # convert to list\n",
    "        aug_result = list(list(x) for x in aug_result)\n",
    "        l_dataset = pd.concat([l_dataset, pd.DataFrame(aug_result, columns=['Desc', 'Group', 'Cat'])], ignore_index=True)"
   ]
  },
  {
   "cell_type": "code",
   "execution_count": null,
   "id": "e9c58d9d-5f89-4852-a7de-36d215a61014",
   "metadata": {},
   "outputs": [],
   "source": [
    "l_dataset.shape"
   ]
  },
  {
   "cell_type": "code",
   "execution_count": null,
   "id": "a5c43246-ef31-4d94-a772-3ee05bf7c162",
   "metadata": {},
   "outputs": [],
   "source": [
    "l_dataset['Group'].value_counts()"
   ]
  },
  {
   "cell_type": "markdown",
   "id": "9a87a8ec-eec7-4aed-b093-793037cc0e4b",
   "metadata": {},
   "source": [
    "**Augmentation for category**"
   ]
  },
  {
   "cell_type": "code",
   "execution_count": null,
   "id": "949d19bf-49d2-47b3-a502-39032e00564e",
   "metadata": {},
   "outputs": [],
   "source": [
    "cat_labels_less = l_dataset['Cat'].value_counts()[l_dataset['Cat'].value_counts() <= 100]\n",
    "cat_labels_less[:10], cat_labels_less.shape"
   ]
  },
  {
   "cell_type": "code",
   "execution_count": null,
   "id": "8f6e0354-1402-4da7-ab54-1dfef99a31fd",
   "metadata": {
    "scrolled": true
   },
   "outputs": [],
   "source": [
    "# with no parallel, it takes more than x hours\n",
    "\n",
    "for i in range(len(l_dataset)):\n",
    "    if l_dataset.loc[i, 'Cat'] in cat_labels_less.index:\n",
    "        text = l_dataset.loc[i, 'Desc']\n",
    "        group = l_dataset.loc[i, 'Group']\n",
    "        cate = l_dataset.loc[i, 'Cat']\n",
    "        cur_nums = cat_labels_less[l_dataset.loc[i, 'Cat']]\n",
    "\n",
    "        label = [group, cate]\n",
    "\n",
    "        if cur_nums > 50:\n",
    "            more = 2\n",
    "        elif cur_nums >= 10:\n",
    "            more = 5\n",
    "        else:\n",
    "            more = 50\n",
    "            \n",
    "        aug_result = []\n",
    "        while len(aug_result) < more: # with 20 data more\n",
    "            output = await back_translate(text, label)\n",
    "            aug_result.extend(output)\n",
    "\n",
    "        # convert to list\n",
    "        aug_result = list(list(x) for x in aug_result)\n",
    "        l_dataset = pd.concat([l_dataset, pd.DataFrame(aug_result, columns=['Desc', 'Group', 'Cat'])], ignore_index=True)\n"
   ]
  },
  {
   "cell_type": "code",
   "execution_count": null,
   "id": "65a99ff8-311d-4f8b-950e-0d6c443e4e2d",
   "metadata": {},
   "outputs": [],
   "source": [
    "l_dataset['Cat'].value_counts()"
   ]
  },
  {
   "cell_type": "code",
   "execution_count": null,
   "id": "62298bd5-3ed8-4c4c-a6dc-3e5b4712451b",
   "metadata": {},
   "outputs": [],
   "source": [
    "# save to csv file\n",
    "l_dataset.to_csv('../source-data/L_augment.csv', index=False)"
   ]
  },
  {
   "cell_type": "markdown",
   "id": "bb60e120-b37d-4617-898e-02c40a568652",
   "metadata": {},
   "source": [
    "# Cleaning data after augmentation"
   ]
  },
  {
   "cell_type": "code",
   "execution_count": 97,
   "id": "95993d37-32a8-4632-b6f3-c9bcee754326",
   "metadata": {},
   "outputs": [],
   "source": [
    "l_dataset_aug = pd.read_csv(\"../source-data/L_augment.csv\")"
   ]
  },
  {
   "cell_type": "code",
   "execution_count": 98,
   "id": "7dac9a6d-9745-451b-b5c9-6e2a189ca7df",
   "metadata": {},
   "outputs": [],
   "source": [
    "l_dataset_aug['Desc and Group'] = l_dataset_aug['Desc'] + '. ' + l_dataset_aug['Group']"
   ]
  },
  {
   "cell_type": "code",
   "execution_count": 99,
   "id": "f17a8f93-e537-4ef5-a38a-59b34eb35878",
   "metadata": {},
   "outputs": [
    {
     "data": {
      "text/html": [
       "<div>\n",
       "<style scoped>\n",
       "    .dataframe tbody tr th:only-of-type {\n",
       "        vertical-align: middle;\n",
       "    }\n",
       "\n",
       "    .dataframe tbody tr th {\n",
       "        vertical-align: top;\n",
       "    }\n",
       "\n",
       "    .dataframe thead th {\n",
       "        text-align: right;\n",
       "    }\n",
       "</style>\n",
       "<table border=\"1\" class=\"dataframe\">\n",
       "  <thead>\n",
       "    <tr style=\"text-align: right;\">\n",
       "      <th></th>\n",
       "      <th>Number</th>\n",
       "      <th>Date</th>\n",
       "      <th>UID</th>\n",
       "      <th>Desc</th>\n",
       "      <th>Group</th>\n",
       "      <th>Cat</th>\n",
       "      <th>Desc and Group</th>\n",
       "    </tr>\n",
       "  </thead>\n",
       "  <tbody>\n",
       "    <tr>\n",
       "      <th>0</th>\n",
       "      <td>1060141.0</td>\n",
       "      <td>12.03.2021 11:33</td>\n",
       "      <td>7b5dc3bb-1dcb-4954-9f3c-c5dc9c7d45d2</td>\n",
       "      <td>Не горит лампа в коридоре</td>\n",
       "      <td>Управление домом</td>\n",
       "      <td>Разбитые стекла, сорванные створки оконных пер...</td>\n",
       "      <td>Не горит лампа в коридоре. Управление домом</td>\n",
       "    </tr>\n",
       "    <tr>\n",
       "      <th>1</th>\n",
       "      <td>1112641.0</td>\n",
       "      <td>2021-05-27 14:16:23.000</td>\n",
       "      <td>8361aa95-b693-444e-a212-8e1da60e8fde</td>\n",
       "      <td>кривой дорожный знак</td>\n",
       "      <td>Дороги</td>\n",
       "      <td>Общие вопросы</td>\n",
       "      <td>кривой дорожный знак. Дороги</td>\n",
       "    </tr>\n",
       "    <tr>\n",
       "      <th>2</th>\n",
       "      <td>1112656.0</td>\n",
       "      <td>31.05.2021 12:07</td>\n",
       "      <td>7ac9fbb2-f72f-471d-9a10-ff191b9be927</td>\n",
       "      <td>Провал колодца на пешеходной дороге</td>\n",
       "      <td>Канализация</td>\n",
       "      <td>Общие вопросы</td>\n",
       "      <td>Провал колодца на пешеходной дороге. Канализация</td>\n",
       "    </tr>\n",
       "    <tr>\n",
       "      <th>3</th>\n",
       "      <td>1112657.0</td>\n",
       "      <td>31.05.2021 12:12</td>\n",
       "      <td>3777d635-b4da-4897-9b89-2ba1aa44d891</td>\n",
       "      <td>Низкие температурные параметры ГВС</td>\n",
       "      <td>ГВС</td>\n",
       "      <td>Общие вопросы</td>\n",
       "      <td>Низкие температурные параметры ГВС. ГВС</td>\n",
       "    </tr>\n",
       "    <tr>\n",
       "      <th>4</th>\n",
       "      <td>1112668.0</td>\n",
       "      <td>01.06.2021 11:17</td>\n",
       "      <td>badc0911-6201-4a4e-963e-a63a6a3d408c</td>\n",
       "      <td>запах канализации</td>\n",
       "      <td>Канализация</td>\n",
       "      <td>Общие вопросы</td>\n",
       "      <td>запах канализации. Канализация</td>\n",
       "    </tr>\n",
       "  </tbody>\n",
       "</table>\n",
       "</div>"
      ],
      "text/plain": [
       "      Number                     Date                                   UID  \\\n",
       "0  1060141.0         12.03.2021 11:33  7b5dc3bb-1dcb-4954-9f3c-c5dc9c7d45d2   \n",
       "1  1112641.0  2021-05-27 14:16:23.000  8361aa95-b693-444e-a212-8e1da60e8fde   \n",
       "2  1112656.0         31.05.2021 12:07  7ac9fbb2-f72f-471d-9a10-ff191b9be927   \n",
       "3  1112657.0         31.05.2021 12:12  3777d635-b4da-4897-9b89-2ba1aa44d891   \n",
       "4  1112668.0         01.06.2021 11:17  badc0911-6201-4a4e-963e-a63a6a3d408c   \n",
       "\n",
       "                                  Desc             Group  \\\n",
       "0            Не горит лампа в коридоре  Управление домом   \n",
       "1                 кривой дорожный знак            Дороги   \n",
       "2  Провал колодца на пешеходной дороге       Канализация   \n",
       "3   Низкие температурные параметры ГВС               ГВС   \n",
       "4                    запах канализации       Канализация   \n",
       "\n",
       "                                                 Cat  \\\n",
       "0  Разбитые стекла, сорванные створки оконных пер...   \n",
       "1                                      Общие вопросы   \n",
       "2                                      Общие вопросы   \n",
       "3                                      Общие вопросы   \n",
       "4                                      Общие вопросы   \n",
       "\n",
       "                                     Desc and Group  \n",
       "0       Не горит лампа в коридоре. Управление домом  \n",
       "1                      кривой дорожный знак. Дороги  \n",
       "2  Провал колодца на пешеходной дороге. Канализация  \n",
       "3           Низкие температурные параметры ГВС. ГВС  \n",
       "4                    запах канализации. Канализация  "
      ]
     },
     "execution_count": 99,
     "metadata": {},
     "output_type": "execute_result"
    }
   ],
   "source": [
    "l_dataset_aug.head()"
   ]
  },
  {
   "cell_type": "code",
   "execution_count": 100,
   "id": "2678ecc9-4d99-42ae-9ea4-3fac96aba8a9",
   "metadata": {},
   "outputs": [
    {
     "data": {
      "text/plain": [
       "(40482, 7)"
      ]
     },
     "execution_count": 100,
     "metadata": {},
     "output_type": "execute_result"
    }
   ],
   "source": [
    "# Remove duplicated rows\n",
    "l_dataset_aug = l_dataset_aug.drop_duplicates(subset=['Desc', 'Group', 'Cat'], keep='first')\n",
    "l_dataset_aug.shape"
   ]
  },
  {
   "cell_type": "code",
   "execution_count": 101,
   "id": "b28e84c7-804c-4d88-baaa-b40d5b7f9455",
   "metadata": {},
   "outputs": [],
   "source": [
    "l_dataset_aug['Length'] = l_dataset_aug['Desc'].apply(lambda x: len(x))"
   ]
  },
  {
   "cell_type": "code",
   "execution_count": 102,
   "id": "b0f18a3a-ffd2-4f6c-b561-42ad46474154",
   "metadata": {},
   "outputs": [
    {
     "data": {
      "text/plain": [
       "<seaborn.axisgrid.FacetGrid at 0x7f830b5f7ee0>"
      ]
     },
     "execution_count": 102,
     "metadata": {},
     "output_type": "execute_result"
    },
    {
     "data": {
      "image/png": "[encoded data removed]",
      "text/plain": [
       "<Figure size 500x500 with 1 Axes>"
      ]
     },
     "metadata": {},
     "output_type": "display_data"
    }
   ],
   "source": [
    "sns.displot(l_dataset_aug['Length'], kde=True)"
   ]
  },
  {
   "cell_type": "markdown",
   "id": "b3fd0b9a-4c1c-4347-8d70-54fe959ef80a",
   "metadata": {},
   "source": [
    "## Preprocessing"
   ]
  },
  {
   "cell_type": "code",
   "execution_count": 103,
   "id": "ec80b326-b48a-4a24-be83-e810989b3de2",
   "metadata": {},
   "outputs": [],
   "source": [
    "def convert_to_lower(text):\n",
    "    return text.lower()\n",
    "    \n",
    "def remove_numbers(text):\n",
    "    return re.sub(pattern=r'\\d+', repl=\" \", string=text)\n",
    "    \n",
    "def remove_punctuation(text):\n",
    "    return text.translate(str.maketrans('', '', string.punctuation))\n",
    "\n",
    "def remove_stopwords(text):\n",
    "    removed = []\n",
    "    stop_words = list(stopwords.words(\"russian\"))\n",
    "    tokens = word_tokenize(text)\n",
    "    for i in range(len(tokens)):\n",
    "        if tokens[i] not in stop_words:\n",
    "            removed.append(tokens[i])\n",
    "    return \" \".join(removed)\n",
    "\n",
    "def remmove_extra_spaces(text):\n",
    "    single_char_pattern = r'\\s+[a-zA-Z]\\s+'\n",
    "    without_sc = re.sub(pattern=single_char_pattern, repl=\" \", string=text)\n",
    "    return without_sc\n",
    "\n",
    "def lemmatizing(text):\n",
    "    lemmatizer = WordNetLemmatizer()\n",
    "    tokens = word_tokenize(text)\n",
    "    for i in range(len(tokens)):\n",
    "        lemma_word = lemmatizer.lemmatize(tokens[i])\n",
    "        tokens[i] = lemma_word\n",
    "    return \" \".join(tokens)\n",
    "\n",
    "def preprocessing_desc():\n",
    "    l_dataset_aug['Desc clean'] = l_dataset_aug['Desc'].apply(lambda x: convert_to_lower(x))\n",
    "    l_dataset_aug['Desc clean'] = l_dataset_aug['Desc clean'].apply(lambda x: remove_numbers(x))\n",
    "    l_dataset_aug['Desc clean'] = l_dataset_aug['Desc clean'].apply(lambda x: remove_punctuation(x))\n",
    "    l_dataset_aug['Desc clean'] = l_dataset_aug['Desc clean'].apply(lambda x: remove_stopwords(x))\n",
    "    l_dataset_aug['Desc clean'] = l_dataset_aug['Desc clean'].apply(lambda x: remmove_extra_spaces(x))\n",
    "    l_dataset_aug['Desc clean'] = l_dataset_aug['Desc clean'].apply(lambda x: lemmatizing(x))\n",
    "    l_dataset_aug['Length after clean'] = l_dataset_aug['Desc clean'].apply(lambda x: len(x))\n",
    "\n",
    "def preprocessing_desc_and_group():\n",
    "    l_dataset_aug['Desc Group clean'] = l_dataset_aug['Desc and Group'].apply(lambda x: convert_to_lower(x))\n",
    "    l_dataset_aug['Desc Group clean'] = l_dataset_aug['Desc Group clean'].apply(lambda x: remove_numbers(x))\n",
    "    l_dataset_aug['Desc Group clean'] = l_dataset_aug['Desc Group clean'].apply(lambda x: remove_punctuation(x))\n",
    "    l_dataset_aug['Desc Group clean'] = l_dataset_aug['Desc Group clean'].apply(lambda x: remove_stopwords(x))\n",
    "    l_dataset_aug['Desc Group clean'] = l_dataset_aug['Desc Group clean'].apply(lambda x: remmove_extra_spaces(x))\n",
    "    l_dataset_aug['Desc Group clean'] = l_dataset_aug['Desc Group clean'].apply(lambda x: lemmatizing(x))"
   ]
  },
  {
   "cell_type": "code",
   "execution_count": 104,
   "id": "d546a516-0cbf-4a46-98c3-380c90915dda",
   "metadata": {},
   "outputs": [
    {
     "data": {
      "text/plain": [
       "0              Не горит лампа в коридоре\n",
       "1                   кривой дорожный знак\n",
       "2    Провал колодца на пешеходной дороге\n",
       "3     Низкие температурные параметры ГВС\n",
       "4                      запах канализации\n",
       "Name: Desc, dtype: object"
      ]
     },
     "execution_count": 104,
     "metadata": {},
     "output_type": "execute_result"
    }
   ],
   "source": [
    "# Before preprocessing\n",
    "l_dataset_aug['Desc'][:5]"
   ]
  },
  {
   "cell_type": "code",
   "execution_count": 105,
   "id": "fe78898c-3479-4034-ab79-4d0ead166dab",
   "metadata": {},
   "outputs": [
    {
     "data": {
      "text/plain": [
       "0                  горит лампа коридоре\n",
       "1                  кривой дорожный знак\n",
       "2      провал колодца пешеходной дороге\n",
       "3    низкие температурные параметры гвс\n",
       "4                     запах канализации\n",
       "Name: Desc clean, dtype: object"
      ]
     },
     "execution_count": 105,
     "metadata": {},
     "output_type": "execute_result"
    }
   ],
   "source": [
    "preprocessing_desc()\n",
    "l_dataset_aug['Desc clean'][:5]"
   ]
  },
  {
   "cell_type": "code",
   "execution_count": 106,
   "id": "97d115e0-42fa-425b-9cb5-37968d7a59b6",
   "metadata": {},
   "outputs": [
    {
     "data": {
      "text/plain": [
       "0           горит лампа коридоре управление домом\n",
       "1                     кривой дорожный знак дороги\n",
       "2    провал колодца пешеходной дороге канализация\n",
       "3          низкие температурные параметры гвс гвс\n",
       "4                   запах канализации канализация\n",
       "Name: Desc Group clean, dtype: object"
      ]
     },
     "execution_count": 106,
     "metadata": {},
     "output_type": "execute_result"
    }
   ],
   "source": [
    "preprocessing_desc_and_group()\n",
    "\n",
    "# After preprocessing\n",
    "l_dataset_aug['Desc Group clean'][:5]"
   ]
  },
  {
   "cell_type": "code",
   "execution_count": 107,
   "id": "ba764154-1bd6-4a11-a0d6-9a8a8a30e730",
   "metadata": {},
   "outputs": [
    {
     "data": {
      "text/plain": [
       "<seaborn.axisgrid.FacetGrid at 0x7f833f29c8e0>"
      ]
     },
     "execution_count": 107,
     "metadata": {},
     "output_type": "execute_result"
    },
    {
     "data": {
      "image/png": "[encoded data removed]",
      "text/plain": [
       "<Figure size 500x500 with 1 Axes>"
      ]
     },
     "metadata": {},
     "output_type": "display_data"
    }
   ],
   "source": [
    "sns.displot(l_dataset_aug['Length after clean'], kde=True)"
   ]
  },
  {
   "cell_type": "markdown",
   "id": "c837375b-4533-4b85-9c96-56ca50bc1199",
   "metadata": {},
   "source": [
    "# Defined multiclass-logloss"
   ]
  },
  {
   "cell_type": "code",
   "execution_count": 108,
   "id": "edec586b-1b40-464f-a280-f1b6e993898d",
   "metadata": {},
   "outputs": [],
   "source": [
    "def multiclass_logloss(actual, predicted, eps=1e-15):\n",
    "    \"\"\"\n",
    "    Multi class version of Logarithmic Loss metric.\n",
    "    :param actual: Array containing the actual target classes\n",
    "    :param predicted: Matrix with class predictions, one probability per class\n",
    "    \"\"\"\n",
    "    if len(actual.shape) == 1:\n",
    "        tmp = np.zeros((actual.shape[0], predicted.shape[1]))\n",
    "        for i, val in enumerate(actual):\n",
    "            tmp[i, val] = 1\n",
    "        actual = tmp\n",
    "\n",
    "    clip = np.clip(predicted, eps, 1 - eps)\n",
    "    rows = actual.shape[0]\n",
    "    vsota = np.sum(actual * np.log(clip))\n",
    "    return -1.0 / rows * vsota"
   ]
  },
  {
   "cell_type": "markdown",
   "id": "5bc5c97a-5d3f-463e-bcf2-5bb4a2f3531f",
   "metadata": {},
   "source": [
    "# Prepare training data"
   ]
  },
  {
   "cell_type": "code",
   "execution_count": 109,
   "id": "9122ba43-8d40-4857-8921-23b0b93f9241",
   "metadata": {},
   "outputs": [
    {
     "data": {
      "text/plain": [
       "(40482,)"
      ]
     },
     "execution_count": 109,
     "metadata": {},
     "output_type": "execute_result"
    }
   ],
   "source": [
    "## Get train data and label\n",
    "x_train = l_dataset_aug[\"Desc clean\"]\n",
    "x_train.shape"
   ]
  },
  {
   "cell_type": "code",
   "execution_count": 110,
   "id": "831ab881-77a3-4801-b340-d118c522de17",
   "metadata": {},
   "outputs": [
    {
     "data": {
      "text/plain": [
       "(40482,)"
      ]
     },
     "execution_count": 110,
     "metadata": {},
     "output_type": "execute_result"
    }
   ],
   "source": [
    "## Get train data from desc and group for predict category\n",
    "x_train_cat_degr = l_dataset_aug[\"Desc Group clean\"]\n",
    "x_train_cat_degr.shape\n"
   ]
  },
  {
   "cell_type": "code",
   "execution_count": 111,
   "id": "8ac87534-e3ca-4378-8ee5-e1ca372dd4a3",
   "metadata": {},
   "outputs": [
    {
     "data": {
      "text/plain": [
       "(40482,)"
      ]
     },
     "execution_count": 111,
     "metadata": {},
     "output_type": "execute_result"
    }
   ],
   "source": [
    "y_train_group = l_dataset_aug[\"Group\"] \n",
    "y_train_group.shape"
   ]
  },
  {
   "cell_type": "code",
   "execution_count": 112,
   "id": "44b3e7e6-4424-4e6e-af53-78dcdaa4d7dd",
   "metadata": {},
   "outputs": [
    {
     "data": {
      "text/plain": [
       "(40482,)"
      ]
     },
     "execution_count": 112,
     "metadata": {},
     "output_type": "execute_result"
    }
   ],
   "source": [
    "y_train_cat = l_dataset_aug[\"Cat\"] \n",
    "y_train_cat.shape"
   ]
  },
  {
   "cell_type": "code",
   "execution_count": 113,
   "id": "779653bc-3bbb-4a6c-a619-7f15b289309f",
   "metadata": {},
   "outputs": [
    {
     "data": {
      "text/plain": [
       "array([19,  8,  9,  4,  9])"
      ]
     },
     "execution_count": 113,
     "metadata": {},
     "output_type": "execute_result"
    }
   ],
   "source": [
    "# Label encoding for target group\n",
    "lb_encoding = preprocessing.LabelEncoder()\n",
    "y_train_group_encoded = lb_encoding.fit_transform(y_train_group)\n",
    "y_train_group_encoded[:5]"
   ]
  },
  {
   "cell_type": "code",
   "execution_count": 114,
   "id": "1b020a66-e1fe-47e6-abe6-94e5e63c13a0",
   "metadata": {},
   "outputs": [
    {
     "data": {
      "text/plain": [
       "array([72, 46, 46, 46, 46])"
      ]
     },
     "execution_count": 114,
     "metadata": {},
     "output_type": "execute_result"
    }
   ],
   "source": [
    "# Label encoding for target category\n",
    "y_train_cat_encoded = lb_encoding.fit_transform(y_train_cat)\n",
    "y_train_cat_encoded[:5]"
   ]
  },
  {
   "cell_type": "code",
   "execution_count": 115,
   "id": "59dd1300-3cea-49f1-8517-169f79938e86",
   "metadata": {},
   "outputs": [],
   "source": [
    "# split train and valid data for group\n",
    "x_train_group, x_valid_group, y_train_group, y_valid_group = train_test_split(x_train.values, y_train_group_encoded,\n",
    "                                                                  stratify=y_train_group_encoded,\n",
    "                                                                  random_state=42,\n",
    "                                                                  test_size=0.2,\n",
    "                                                                  shuffle=True)"
   ]
  },
  {
   "cell_type": "code",
   "execution_count": 116,
   "id": "266fecd8-d310-4b82-9c55-5fd0e3cc6459",
   "metadata": {},
   "outputs": [],
   "source": [
    "x_train_cat, x_valid_cat, y_train_cat, y_valid_cat = train_test_split(x_train.values, y_train_cat_encoded,\n",
    "                                                                  stratify=y_train_cat_encoded,\n",
    "                                                                  random_state=42,\n",
    "                                                                  test_size=0.2,\n",
    "                                                                  shuffle=True)"
   ]
  },
  {
   "cell_type": "code",
   "execution_count": 117,
   "id": "d9a8c588-dc28-4919-b209-2159a1f85a97",
   "metadata": {},
   "outputs": [],
   "source": [
    "x_train_cat_new, x_valid_cat_new, y_train_cat_new, y_valid_cat_new = train_test_split(x_train_cat_degr.values, y_train_cat_encoded,\n",
    "                                                                  stratify=y_train_cat_encoded,\n",
    "                                                                  random_state=42,\n",
    "                                                                  test_size=0.2,\n",
    "                                                                  shuffle=True)"
   ]
  },
  {
   "cell_type": "code",
   "execution_count": 118,
   "id": "111502a2-b746-4d8a-bf84-3e00c6bc2bb1",
   "metadata": {},
   "outputs": [
    {
     "data": {
      "text/plain": [
       "((32385,), (8097,))"
      ]
     },
     "execution_count": 118,
     "metadata": {},
     "output_type": "execute_result"
    }
   ],
   "source": [
    "x_train_group.shape, x_valid_group.shape"
   ]
  },
  {
   "cell_type": "code",
   "execution_count": 119,
   "id": "d6e07111-283c-422c-bfd9-c0a7b06ceda6",
   "metadata": {},
   "outputs": [
    {
     "data": {
      "text/plain": [
       "((32385,), (8097,), (32385,))"
      ]
     },
     "execution_count": 119,
     "metadata": {},
     "output_type": "execute_result"
    }
   ],
   "source": [
    "x_train_cat.shape, x_valid_cat.shape, x_train_cat_new.shape"
   ]
  },
  {
   "cell_type": "markdown",
   "id": "ddb4f497-0f94-4c91-96e6-e27a3fa8e38a",
   "metadata": {},
   "source": [
    "# Building effective models"
   ]
  },
  {
   "cell_type": "markdown",
   "id": "64faadf1-07d5-458a-85d8-a42e577eaf07",
   "metadata": {},
   "source": [
    "## Implementing text with TfidfVectorizer followed by a simple Logistic Regression"
   ]
  },
  {
   "cell_type": "code",
   "execution_count": 190,
   "id": "09cf41af-708c-4258-8d4f-7ee64e40192c",
   "metadata": {},
   "outputs": [
    {
     "name": "stderr",
     "output_type": "stream",
     "text": [
      "/home/jeremie/miniconda3/envs/volga/lib/python3.10/site-packages/sklearn/utils/_param_validation.py:591: FutureWarning: Passing an int for a boolean parameter is deprecated in version 1.2 and won't be supported anymore in version 1.4.\n",
      "  warnings.warn(\n"
     ]
    }
   ],
   "source": [
    "tfv = TfidfVectorizer(min_df=3, max_features=None,\n",
    "                          strip_accents='unicode',\n",
    "                          analyzer='word',\n",
    "                          token_pattern=r'\\w{1,}',\n",
    "                          ngram_range=(1, 3),\n",
    "                          use_idf=1,\n",
    "                          smooth_idf=1,\n",
    "                          sublinear_tf=1) ## add stop words\n",
    "\n",
    "# Fitting TF-IDF\n",
    "tfv.fit(list(x_train))\n",
    "x_train_group_tfv = tfv.transform(x_train_group)\n",
    "x_valid_group_tfv = tfv.transform(x_valid_group)\n",
    "\n",
    "x_train_cat_tfv = tfv.transform(x_train_cat)\n",
    "x_valid_cat_tfv = tfv.transform(x_valid_cat)\n",
    "\n",
    "x_train_cat_new_tfv = tfv.transform(x_train_cat_new)\n",
    "x_valid_cat_new_tfv = tfv.transform(x_valid_cat_new)"
   ]
  },
  {
   "cell_type": "code",
   "execution_count": 191,
   "id": "69440e26-eb96-484d-9f49-9128d76feae8",
   "metadata": {},
   "outputs": [
    {
     "name": "stdout",
     "output_type": "stream",
     "text": [
      "Fitting TF-TDF with group label ...\n",
      "Done.\n",
      "--------------------------------------------------\n",
      "Fitting TF-TDF with category label ...\n",
      "Done.\n",
      "--------------------------------------------------\n",
      "Fitting TF-TDF with category label with new data ...\n",
      "Done.\n"
     ]
    }
   ],
   "source": [
    "# Fitting a simple Logistic Regression for TF-IDF\n",
    "# model for group\n",
    "print('Fitting TF-TDF with group label ...')\n",
    "clf_tfv_group = LogisticRegression(C=1.0, multi_class='auto', solver='lbfgs', max_iter=1000)\n",
    "clf_tfv_group.fit(x_train_group_tfv, y_train_group)\n",
    "print('Done.')\n",
    "print('-' * 50)\n",
    "# model for cat\n",
    "print('Fitting TF-TDF with category label ...')\n",
    "clf_tfv_cat = LogisticRegression(C=1.0, multi_class='auto', solver='lbfgs', max_iter=1000)\n",
    "clf_tfv_cat.fit(x_train_cat_tfv, y_train_cat)\n",
    "print('Done.')\n",
    "print('-' * 50)\n",
    "# model for cat new\n",
    "print('Fitting TF-TDF with category label with new data ...')\n",
    "clf_tfv_cat_new = LogisticRegression(C=1.0, multi_class='auto', solver='lbfgs', max_iter=1000)\n",
    "clf_tfv_cat_new.fit(x_train_cat_new_tfv, y_train_cat)\n",
    "print('Done.')"
   ]
  },
  {
   "cell_type": "markdown",
   "id": "4d8723d5-e05e-4262-a3b7-ac2d587a2194",
   "metadata": {},
   "source": [
    "**Predict for group**"
   ]
  },
  {
   "cell_type": "code",
   "execution_count": 192,
   "id": "b074d162-2c3d-4aba-99de-ffb713f16f57",
   "metadata": {},
   "outputs": [],
   "source": [
    "predicted_group = clf_tfv_group.predict_proba(x_valid_group_tfv)"
   ]
  },
  {
   "cell_type": "code",
   "execution_count": 193,
   "id": "0d59d51b-42b5-43bf-84e2-fea884401972",
   "metadata": {},
   "outputs": [],
   "source": [
    "classify_group = [np.argmax(x) for x in predicted_group]"
   ]
  },
  {
   "cell_type": "code",
   "execution_count": 194,
   "id": "396c738c-bb4d-496c-be68-9f667b40933c",
   "metadata": {},
   "outputs": [
    {
     "name": "stdout",
     "output_type": "stream",
     "text": [
      "log loss for group: 0.198\n",
      "accuracy for group: 0.944\n"
     ]
    }
   ],
   "source": [
    "print(\"log loss for group: %0.3f\" % multiclass_logloss(y_valid_group, predicted_group)) # last: 0.046\n",
    "print(\"accuracy for group: %0.3f\" % accuracy_score(classify_group, y_valid_group)) # last 0.949"
   ]
  },
  {
   "cell_type": "markdown",
   "id": "5f7ad2d2-81f0-4eda-ac63-2bd04fccdb6a",
   "metadata": {},
   "source": [
    "**Predict for category**"
   ]
  },
  {
   "cell_type": "code",
   "execution_count": 195,
   "id": "9064d49b-f7f2-4c1a-87d5-2f3ca8339b7f",
   "metadata": {},
   "outputs": [],
   "source": [
    "predicted_cat = clf_tfv_cat.predict_proba(x_valid_cat_tfv)"
   ]
  },
  {
   "cell_type": "code",
   "execution_count": 196,
   "id": "a8d9fa7a-f6c4-40e7-ad02-87445a8c5529",
   "metadata": {},
   "outputs": [],
   "source": [
    "classify_cat = [np.argmax(x) for x in predicted_cat]"
   ]
  },
  {
   "cell_type": "code",
   "execution_count": 197,
   "id": "f8230ed5-8db7-4b85-9777-9a91b65ffbe8",
   "metadata": {},
   "outputs": [
    {
     "name": "stdout",
     "output_type": "stream",
     "text": [
      "log loss for category: 1.254\n",
      "accuracy for category: 0.692\n"
     ]
    }
   ],
   "source": [
    "print(\"log loss for category: %0.3f\" % multiclass_logloss(y_valid_cat, predicted_cat)) # last: 0.677\n",
    "print(\"accuracy for category: %0.3f\" % accuracy_score(y_valid_cat, classify_cat))"
   ]
  },
  {
   "cell_type": "markdown",
   "id": "032f5452-cd49-415a-9a1c-925c98b594a6",
   "metadata": {},
   "source": [
    "**Predict for category new**"
   ]
  },
  {
   "cell_type": "code",
   "execution_count": 198,
   "id": "9703d23c-7ff6-441e-bcc3-085a7a401ffd",
   "metadata": {},
   "outputs": [],
   "source": [
    "predicted_cat_new = clf_tfv_cat_new.predict_proba(x_valid_cat_new_tfv)"
   ]
  },
  {
   "cell_type": "code",
   "execution_count": 199,
   "id": "69ff6075-b376-46c8-ad92-9ce7af4bca8b",
   "metadata": {},
   "outputs": [],
   "source": [
    "classify_cat_new = [np.argmax(x) for x in predicted_cat_new]"
   ]
  },
  {
   "cell_type": "code",
   "execution_count": 200,
   "id": "cf90c672-9c49-4a1f-9f18-31b0ea8e1bd1",
   "metadata": {},
   "outputs": [
    {
     "name": "stdout",
     "output_type": "stream",
     "text": [
      "log loss for category: 1.219\n",
      "accuracy for category: 0.693\n"
     ]
    }
   ],
   "source": [
    "print(\"log loss for category: %0.3f\" % multiclass_logloss(y_valid_cat, predicted_cat_new)) # last: 0.686\n",
    "print(\"accuracy for category: %0.3f\" % accuracy_score(y_valid_cat, classify_cat_new))"
   ]
  },
  {
   "cell_type": "markdown",
   "id": "c1dfed5c-efaf-4fda-8d77-4eec456d6934",
   "metadata": {},
   "source": [
    "**Save model**"
   ]
  },
  {
   "cell_type": "code",
   "execution_count": 201,
   "id": "849355b8-f68f-4d1a-9afb-25bd5c175eb6",
   "metadata": {},
   "outputs": [],
   "source": [
    "path_model_group_tfv = '../model/LogisticRegression/tfv/clf_tfv_group.sav'\n",
    "path_model_cat_tfv = '../model/LogisticRegression/tfv/clf_tfv_cat.sav'\n",
    "path_model_cat_new_tfv = '../model/LogisticRegression/tfv/clf_tfv_cat_new.sav'"
   ]
  },
  {
   "cell_type": "code",
   "execution_count": 202,
   "id": "94ed84ed-9794-43d3-8280-90b5e61134c4",
   "metadata": {},
   "outputs": [
    {
     "data": {
      "text/plain": [
       "['../model/LogisticRegression/tfv/clf_tfv_cat_new.sav']"
      ]
     },
     "execution_count": 202,
     "metadata": {},
     "output_type": "execute_result"
    }
   ],
   "source": [
    "joblib.dump(clf_tfv_group, path_model_group_tfv)\n",
    "joblib.dump(clf_tfv_group, path_model_cat_tfv)\n",
    "joblib.dump(clf_tfv_group, path_model_cat_new_tfv)"
   ]
  },
  {
   "cell_type": "markdown",
   "id": "04d7f8c5-b760-4b0a-96c6-95abb01b1ab5",
   "metadata": {},
   "source": [
    "**If using SMOTE for handle imbalanced data**"
   ]
  },
  {
   "cell_type": "code",
   "execution_count": 203,
   "id": "c40e57df-26ba-4ea4-9106-fab1ff5e61d7",
   "metadata": {},
   "outputs": [],
   "source": [
    "oversample = SMOTE()\n",
    "x_train_balanced_group_tfv, y_balaned_group_tfv = oversample.fit_resample(x_train_group_tfv, y_train_group)\n",
    "oversample_cat_new = SMOTE(k_neighbors=1)\n",
    "x_train_balanced_cat_new_tfv, y_balaned_cat_new_tfv = oversample_cat_new.fit_resample(x_train_cat_new_tfv, y_train_cat)"
   ]
  },
  {
   "cell_type": "code",
   "execution_count": 204,
   "id": "a035cfbd-1b80-462e-851b-cdf45f07dd2a",
   "metadata": {},
   "outputs": [
    {
     "name": "stdout",
     "output_type": "stream",
     "text": [
      "Fitting TF-TDF with group label ...\n",
      "Done.\n",
      "--------------------------------------------------\n",
      "Fitting TF-TDF with category label with new data ...\n",
      "Done.\n"
     ]
    }
   ],
   "source": [
    "# model for group new after balanced\n",
    "print('Fitting TF-TDF with group label ...')\n",
    "clf_tfv_group_balanced = LogisticRegression(C=1.0, multi_class='auto', solver='lbfgs', max_iter=1000)\n",
    "clf_tfv_group_balanced.fit(x_train_balanced_group_tfv, y_balaned_group_tfv)\n",
    "print('Done.')\n",
    "print('-' * 50)\n",
    "# model for cat new after balanced\n",
    "print('Fitting TF-TDF with category label with new data ...')\n",
    "clf_tfv_cat_new_balanced = LogisticRegression(C=1.0, multi_class='auto', solver='lbfgs', max_iter=1000)\n",
    "clf_tfv_cat_new_balanced.fit(x_train_balanced_cat_new_tfv, y_balaned_cat_new_tfv)\n",
    "print('Done.')"
   ]
  },
  {
   "cell_type": "markdown",
   "id": "9a41e13b-c4a4-4618-a12a-15c8aa6d5109",
   "metadata": {},
   "source": [
    "**Predict for group**"
   ]
  },
  {
   "cell_type": "code",
   "execution_count": 205,
   "id": "f033dfa1-7be9-4a73-828e-891b78e9856e",
   "metadata": {},
   "outputs": [],
   "source": [
    "predicted_group = clf_tfv_group_balanced.predict_proba(x_valid_group_tfv)\n",
    "classify_group = [np.argmax(x) for x in predicted_group]"
   ]
  },
  {
   "cell_type": "code",
   "execution_count": 206,
   "id": "e7833b66-d993-4b44-bca5-e23d10bce5d0",
   "metadata": {},
   "outputs": [
    {
     "name": "stdout",
     "output_type": "stream",
     "text": [
      "log loss for group: 0.335\n",
      "accuracy for group: 0.921\n"
     ]
    }
   ],
   "source": [
    "print(\"log loss for group: %0.3f\" % multiclass_logloss(y_valid_group, predicted_group)) # last: 0.046\n",
    "print(\"accuracy for group: %0.3f\" % accuracy_score(classify_group, y_valid_group)) # last 0.949"
   ]
  },
  {
   "cell_type": "markdown",
   "id": "e23ab005-4aa6-408f-a8f4-32a84fe5717e",
   "metadata": {},
   "source": [
    "**Predict for category new**"
   ]
  },
  {
   "cell_type": "code",
   "execution_count": 207,
   "id": "00511805-c1ca-4b99-a4f1-143a8eb33ce0",
   "metadata": {},
   "outputs": [],
   "source": [
    "predicted_cat_new = clf_tfv_cat_new_balanced.predict_proba(x_valid_cat_new_tfv)\n",
    "classify_cat_new = [np.argmax(x) for x in predicted_cat_new]"
   ]
  },
  {
   "cell_type": "code",
   "execution_count": 208,
   "id": "619b2124-dff9-4059-8e66-597c1b2ec48d",
   "metadata": {},
   "outputs": [
    {
     "name": "stdout",
     "output_type": "stream",
     "text": [
      "log loss for category: 1.140\n",
      "accuracy for category: 0.648\n"
     ]
    }
   ],
   "source": [
    "print(\"log loss for category: %0.3f\" % multiclass_logloss(y_valid_cat, predicted_cat_new)) # last: 0.686\n",
    "print(\"accuracy for category: %0.3f\" % accuracy_score(y_valid_cat, classify_cat_new))"
   ]
  },
  {
   "cell_type": "markdown",
   "id": "139b58e4-4bce-41dd-af8a-b775787bd1a6",
   "metadata": {},
   "source": [
    "## Implementing text with CountVectorizer followed by a simple Logistic Regression"
   ]
  },
  {
   "cell_type": "code",
   "execution_count": 258,
   "id": "3880b33b-d48c-49f8-9a3b-b8e86e0e056b",
   "metadata": {},
   "outputs": [],
   "source": [
    "ctv = CountVectorizer(analyzer='word',\n",
    "                         token_pattern=r'\\w{1,}',\n",
    "                         ngram_range=(1, 3),\n",
    "                         # stop_words = 'russian'\n",
    "                     )\n",
    "# Fitting CountVectorizer\n",
    "ctv.fit(list(x_train))\n",
    "x_train_group_ctv = ctv.transform(x_train_group)\n",
    "x_valid_group_ctv = ctv.transform(x_valid_group)\n",
    "\n",
    "x_train_cat_ctv = ctv.transform(x_train_cat)\n",
    "x_valid_cat_ctv = ctv.transform(x_valid_cat)\n",
    "\n",
    "x_train_cat_new_ctv = ctv.transform(x_train_cat_new)\n",
    "x_valid_cat_new_ctv = ctv.transform(x_valid_cat_new)"
   ]
  },
  {
   "cell_type": "code",
   "execution_count": 253,
   "id": "e0c6a9c1-9e99-4b4b-b3b4-d1b3fd392fce",
   "metadata": {},
   "outputs": [
    {
     "name": "stdout",
     "output_type": "stream",
     "text": [
      "Fitting CountVectorizer with group label ...\n",
      "Done.\n",
      "--------------------------------------------------\n",
      "Fitting CountVectorizer with cat label with new data...\n",
      "Done.\n"
     ]
    }
   ],
   "source": [
    "# Fitting a simple Logistic Regression for Count Vetorizer\n",
    "# model for group\n",
    "print('Fitting CountVectorizer with group label ...')\n",
    "clf_ctv_group = LogisticRegression(C=1.0, multi_class='auto', solver='lbfgs', max_iter=1000)\n",
    "clf_ctv_group.fit(x_train_group_ctv, y_train_group)\n",
    "print('Done.')\n",
    "print('-' * 50)\n",
    "# model for cat \n",
    "print('Fitting CountVectorizer with cat label ...')\n",
    "clf_ctv_cat = LogisticRegression(C=1.0, multi_class='auto', solver='lbfgs', max_iter=1000)\n",
    "clf_ctv_cat.fit(x_train_cat_ctv, y_train_cat)\n",
    "print('Done.')\n",
    "print('-' * 50)\n",
    "print('Fitting CountVectorizer with cat label with new data...')\n",
    "clf_ctv_cat_new = LogisticRegression(C=1.0, multi_class='auto', solver='lbfgs', max_iter=1000)\n",
    "clf_ctv_cat_new.fit(x_train_cat_new_ctv, y_train_cat)\n",
    "print('Done.')"
   ]
  },
  {
   "cell_type": "markdown",
   "id": "bae8d3fe-af59-4e17-a52a-78ad62906355",
   "metadata": {},
   "source": [
    "**Predict for group**"
   ]
  },
  {
   "cell_type": "code",
   "execution_count": 254,
   "id": "e93d0007-2526-49ca-b68d-86c75257e62a",
   "metadata": {},
   "outputs": [],
   "source": [
    "predicted_ctv_group = clf_ctv_group.predict_proba(x_valid_group_ctv)\n",
    "classify_group = [np.argmax(x) for x in predicted_ctv_group]"
   ]
  },
  {
   "cell_type": "code",
   "execution_count": 255,
   "id": "54534554-15ec-40dc-ac75-ef7a7f84b2e8",
   "metadata": {},
   "outputs": [
    {
     "name": "stdout",
     "output_type": "stream",
     "text": [
      "log loss: 0.150\n",
      "accuracy for group: 0.953\n"
     ]
    }
   ],
   "source": [
    "print(\"log loss: %0.3f\" % multiclass_logloss(y_valid_group, predicted_ctv_group))\n",
    "print(\"accuracy for group: %0.3f\" % accuracy_score(classify_group, y_valid_group)) # last 0.961"
   ]
  },
  {
   "cell_type": "markdown",
   "id": "d3e6fda9-dd22-4858-b87d-021a7cfca7e3",
   "metadata": {},
   "source": [
    "**Predict for category**"
   ]
  },
  {
   "cell_type": "code",
   "execution_count": 213,
   "id": "185d2ecb-08c2-449e-b778-4b798237bbbc",
   "metadata": {},
   "outputs": [],
   "source": [
    "predicted_ctv_cat = clf_ctv_cat.predict_proba(x_valid_cat_ctv)\n",
    "classify_cat = [np.argmax(x) for x in predicted_ctv_cat]"
   ]
  },
  {
   "cell_type": "code",
   "execution_count": 214,
   "id": "b19362ed-27f0-4d85-ab03-afc2e1736dfb",
   "metadata": {},
   "outputs": [
    {
     "name": "stdout",
     "output_type": "stream",
     "text": [
      "log loss: 0.995\n",
      "accuracy for category: 0.716\n"
     ]
    }
   ],
   "source": [
    "print(\"log loss: %0.3f\" % multiclass_logloss(y_valid_cat, predicted_ctv_cat))\n",
    "print(\"accuracy for category: %0.3f\" % accuracy_score(classify_cat, y_valid_cat)) # last 0.704"
   ]
  },
  {
   "cell_type": "markdown",
   "id": "fe750d50-3a1d-40a1-8eb5-94f88085c846",
   "metadata": {},
   "source": [
    "**Predict for category with new data**"
   ]
  },
  {
   "cell_type": "code",
   "execution_count": 256,
   "id": "49cb44d6-b752-47fd-9f03-0f58ecb60c29",
   "metadata": {},
   "outputs": [],
   "source": [
    "predicted_ctv_cat_new = clf_ctv_cat_new.predict_proba(x_valid_cat_new_ctv)\n",
    "classify_cat_new = [np.argmax(x) for x in predicted_ctv_cat_new]"
   ]
  },
  {
   "cell_type": "code",
   "execution_count": 257,
   "id": "effd3b0a-7cf8-453e-a87c-26ff232e60f6",
   "metadata": {},
   "outputs": [
    {
     "name": "stdout",
     "output_type": "stream",
     "text": [
      "log loss: 0.905\n",
      "accuracy for category: 0.727\n"
     ]
    }
   ],
   "source": [
    "print(\"log loss: %0.3f\" % multiclass_logloss(y_valid_cat, predicted_ctv_cat_new))\n",
    "print(\"accuracy for category: %0.3f\" % accuracy_score(classify_cat_new, y_valid_cat)) #last 0.722"
   ]
  },
  {
   "cell_type": "markdown",
   "id": "42422533-d588-478a-a172-6fdcd5084e9e",
   "metadata": {},
   "source": [
    "**Save model**"
   ]
  },
  {
   "cell_type": "code",
   "execution_count": 217,
   "id": "5e406f2d-00c4-4983-901a-ae42b7706335",
   "metadata": {},
   "outputs": [],
   "source": [
    "path_model_group_ctv = '../model/LogisticRegression/ctv/clf_ctv_group.sav'\n",
    "path_model_cat_ctv = '../model/LogisticRegression/ctv/clf_ctv_cat.sav'\n",
    "path_model_cat_new_ctv = '../model/LogisticRegression/ctv/clf_ctv_cat_new.sav'"
   ]
  },
  {
   "cell_type": "code",
   "execution_count": 218,
   "id": "48fcef2e-052d-4961-977c-3fcf3ef8bb9b",
   "metadata": {},
   "outputs": [
    {
     "data": {
      "text/plain": [
       "['../model/LogisticRegression/ctv/clf_ctv_cat_new.sav']"
      ]
     },
     "execution_count": 218,
     "metadata": {},
     "output_type": "execute_result"
    }
   ],
   "source": [
    "joblib.dump(clf_ctv_group, path_model_group_ctv)\n",
    "joblib.dump(clf_ctv_cat, path_model_cat_ctv)\n",
    "joblib.dump(clf_ctv_cat_new, path_model_cat_new_ctv)"
   ]
  },
  {
   "cell_type": "markdown",
   "id": "2377c65f-14b0-4a5e-a213-13975d3402f2",
   "metadata": {},
   "source": [
    "## XGBoost"
   ]
  },
  {
   "cell_type": "markdown",
   "id": "900f0d0b-83cf-46a2-b467-2e71f2950fb4",
   "metadata": {},
   "source": [
    "**Use tfv features**\n",
    "\n",
    "Fitting a simple xgboost on tfv"
   ]
  },
  {
   "cell_type": "code",
   "execution_count": 219,
   "id": "e867e884-7b40-4508-937f-26bec8a214cf",
   "metadata": {},
   "outputs": [],
   "source": [
    "# use tfv \n",
    "clf_xg_tfv = xgb.XGBClassifier(max_depth=7,\n",
    "                            n_estimators=200,\n",
    "                            colsample_bytree=0.8,\n",
    "                            subsample=0.8,\n",
    "                            nthread=10,\n",
    "                            learning_rate=0.1)"
   ]
  },
  {
   "cell_type": "code",
   "execution_count": 220,
   "id": "8bccaf38-95aa-48dd-8a66-7a73ec0840ee",
   "metadata": {},
   "outputs": [
    {
     "data": {
      "text/html": [
       "<style>#sk-container-id-8 {color: black;}#sk-container-id-8 pre{padding: 0;}#sk-container-id-8 div.sk-toggleable {background-color: white;}#sk-container-id-8 label.sk-toggleable__label {cursor: pointer;display: block;width: 100%;margin-bottom: 0;padding: 0.3em;box-sizing: border-box;text-align: center;}#sk-container-id-8 label.sk-toggleable__label-arrow:before {content: \"▸\";float: left;margin-right: 0.25em;color: #696969;}#sk-container-id-8 label.sk-toggleable__label-arrow:hover:before {color: black;}#sk-container-id-8 div.sk-estimator:hover label.sk-toggleable__label-arrow:before {color: black;}#sk-container-id-8 div.sk-toggleable__content {max-height: 0;max-width: 0;overflow: hidden;text-align: left;background-color: #f0f8ff;}#sk-container-id-8 div.sk-toggleable__content pre {margin: 0.2em;color: black;border-radius: 0.25em;background-color: #f0f8ff;}#sk-container-id-8 input.sk-toggleable__control:checked~div.sk-toggleable__content {max-height: 200px;max-width: 100%;overflow: auto;}#sk-container-id-8 input.sk-toggleable__control:checked~label.sk-toggleable__label-arrow:before {content: \"▾\";}#sk-container-id-8 div.sk-estimator input.sk-toggleable__control:checked~label.sk-toggleable__label {background-color: #d4ebff;}#sk-container-id-8 div.sk-label input.sk-toggleable__control:checked~label.sk-toggleable__label {background-color: #d4ebff;}#sk-container-id-8 input.sk-hidden--visually {border: 0;clip: rect(1px 1px 1px 1px);clip: rect(1px, 1px, 1px, 1px);height: 1px;margin: -1px;overflow: hidden;padding: 0;position: absolute;width: 1px;}#sk-container-id-8 div.sk-estimator {font-family: monospace;background-color: #f0f8ff;border: 1px dotted black;border-radius: 0.25em;box-sizing: border-box;margin-bottom: 0.5em;}#sk-container-id-8 div.sk-estimator:hover {background-color: #d4ebff;}#sk-container-id-8 div.sk-parallel-item::after {content: \"\";width: 100%;border-bottom: 1px solid gray;flex-grow: 1;}#sk-container-id-8 div.sk-label:hover label.sk-toggleable__label {background-color: #d4ebff;}#sk-container-id-8 div.sk-serial::before {content: \"\";position: absolute;border-left: 1px solid gray;box-sizing: border-box;top: 0;bottom: 0;left: 50%;z-index: 0;}#sk-container-id-8 div.sk-serial {display: flex;flex-direction: column;align-items: center;background-color: white;padding-right: 0.2em;padding-left: 0.2em;position: relative;}#sk-container-id-8 div.sk-item {position: relative;z-index: 1;}#sk-container-id-8 div.sk-parallel {display: flex;align-items: stretch;justify-content: center;background-color: white;position: relative;}#sk-container-id-8 div.sk-item::before, #sk-container-id-8 div.sk-parallel-item::before {content: \"\";position: absolute;border-left: 1px solid gray;box-sizing: border-box;top: 0;bottom: 0;left: 50%;z-index: -1;}#sk-container-id-8 div.sk-parallel-item {display: flex;flex-direction: column;z-index: 1;position: relative;background-color: white;}#sk-container-id-8 div.sk-parallel-item:first-child::after {align-self: flex-end;width: 50%;}#sk-container-id-8 div.sk-parallel-item:last-child::after {align-self: flex-start;width: 50%;}#sk-container-id-8 div.sk-parallel-item:only-child::after {width: 0;}#sk-container-id-8 div.sk-dashed-wrapped {border: 1px dashed gray;margin: 0 0.4em 0.5em 0.4em;box-sizing: border-box;padding-bottom: 0.4em;background-color: white;}#sk-container-id-8 div.sk-label label {font-family: monospace;font-weight: bold;display: inline-block;line-height: 1.2em;}#sk-container-id-8 div.sk-label-container {text-align: center;}#sk-container-id-8 div.sk-container {/* jupyter's `normalize.less` sets `[hidden] { display: none; }` but bootstrap.min.css set `[hidden] { display: none !important; }` so we also need the `!important` here to be able to override the default hidden behavior on the sphinx rendered scikit-learn.org. See: https://github.com/scikit-learn/scikit-learn/issues/21755 */display: inline-block !important;position: relative;}#sk-container-id-8 div.sk-text-repr-fallback {display: none;}</style><div id=\"sk-container-id-8\" class=\"sk-top-container\"><div class=\"sk-text-repr-fallback\"><pre>XGBClassifier(base_score=None, booster=None, callbacks=None,\n",
       "              colsample_bylevel=None, colsample_bynode=None,\n",
       "              colsample_bytree=0.8, early_stopping_rounds=None,\n",
       "              enable_categorical=False, eval_metric=None, feature_types=None,\n",
       "              gamma=None, gpu_id=None, grow_policy=None, importance_type=None,\n",
       "              interaction_constraints=None, learning_rate=0.1, max_bin=None,\n",
       "              max_cat_threshold=None, max_cat_to_onehot=None,\n",
       "              max_delta_step=None, max_depth=7, max_leaves=None,\n",
       "              min_child_weight=None, missing=nan, monotone_constraints=None,\n",
       "              n_estimators=200, n_jobs=None, nthread=10, num_parallel_tree=None,\n",
       "              objective=&#x27;multi:softprob&#x27;, ...)</pre><b>In a Jupyter environment, please rerun this cell to show the HTML representation or trust the notebook. <br />On GitHub, the HTML representation is unable to render, please try loading this page with nbviewer.org.</b></div><div class=\"sk-container\" hidden><div class=\"sk-item\"><div class=\"sk-estimator sk-toggleable\"><input class=\"sk-toggleable__control sk-hidden--visually\" id=\"sk-estimator-id-8\" type=\"checkbox\" checked><label for=\"sk-estimator-id-8\" class=\"sk-toggleable__label sk-toggleable__label-arrow\">XGBClassifier</label><div class=\"sk-toggleable__content\"><pre>XGBClassifier(base_score=None, booster=None, callbacks=None,\n",
       "              colsample_bylevel=None, colsample_bynode=None,\n",
       "              colsample_bytree=0.8, early_stopping_rounds=None,\n",
       "              enable_categorical=False, eval_metric=None, feature_types=None,\n",
       "              gamma=None, gpu_id=None, grow_policy=None, importance_type=None,\n",
       "              interaction_constraints=None, learning_rate=0.1, max_bin=None,\n",
       "              max_cat_threshold=None, max_cat_to_onehot=None,\n",
       "              max_delta_step=None, max_depth=7, max_leaves=None,\n",
       "              min_child_weight=None, missing=nan, monotone_constraints=None,\n",
       "              n_estimators=200, n_jobs=None, nthread=10, num_parallel_tree=None,\n",
       "              objective=&#x27;multi:softprob&#x27;, ...)</pre></div></div></div></div></div>"
      ],
      "text/plain": [
       "XGBClassifier(base_score=None, booster=None, callbacks=None,\n",
       "              colsample_bylevel=None, colsample_bynode=None,\n",
       "              colsample_bytree=0.8, early_stopping_rounds=None,\n",
       "              enable_categorical=False, eval_metric=None, feature_types=None,\n",
       "              gamma=None, gpu_id=None, grow_policy=None, importance_type=None,\n",
       "              interaction_constraints=None, learning_rate=0.1, max_bin=None,\n",
       "              max_cat_threshold=None, max_cat_to_onehot=None,\n",
       "              max_delta_step=None, max_depth=7, max_leaves=None,\n",
       "              min_child_weight=None, missing=nan, monotone_constraints=None,\n",
       "              n_estimators=200, n_jobs=None, nthread=10, num_parallel_tree=None,\n",
       "              objective='multi:softprob', ...)"
      ]
     },
     "execution_count": 220,
     "metadata": {},
     "output_type": "execute_result"
    }
   ],
   "source": [
    "# for group\n",
    "clf_xg_tfv.fit(x_train_group_tfv.tocsc(), y_train_group)"
   ]
  },
  {
   "cell_type": "markdown",
   "id": "3a278a61-db28-4285-bb3b-5a971934ba7a",
   "metadata": {},
   "source": [
    "**Predict for group**"
   ]
  },
  {
   "cell_type": "code",
   "execution_count": 221,
   "id": "3bdcab9a-9231-4fc6-87f6-57ffe411fba5",
   "metadata": {},
   "outputs": [],
   "source": [
    "# predict for group\n",
    "predicted_tfv_group = clf_xg_tfv.predict_proba(x_valid_group_tfv.tocsc())\n",
    "classify_group_xg = [np.argmax(x) for x in predicted_tfv_group]"
   ]
  },
  {
   "cell_type": "code",
   "execution_count": 222,
   "id": "9d0ae3e4-4ea1-4973-9d15-e0094d12fa81",
   "metadata": {},
   "outputs": [
    {
     "name": "stdout",
     "output_type": "stream",
     "text": [
      "log loss: 0.186 \n",
      "accuracy for group: 0.954\n"
     ]
    }
   ],
   "source": [
    "print (\"log loss: %0.3f \" % multiclass_logloss(y_valid_group, predicted_tfv_group))\n",
    "print(\"accuracy for group: %0.3f\" % accuracy_score(y_valid_group, classify_group_xg))"
   ]
  },
  {
   "cell_type": "code",
   "execution_count": 223,
   "id": "d8d5db34-69f9-4705-9aa0-14a194fc522d",
   "metadata": {},
   "outputs": [
    {
     "data": {
      "text/plain": [
       "['../model/XGBoost/tfv/clf_xg_tfv_group.sav']"
      ]
     },
     "execution_count": 223,
     "metadata": {},
     "output_type": "execute_result"
    }
   ],
   "source": [
    "# save\n",
    "path_model_group_tfv = '../model/XGBoost/tfv/clf_xg_tfv_group.sav'\n",
    "joblib.dump(clf_xg_tfv, path_model_group_tfv)"
   ]
  },
  {
   "cell_type": "code",
   "execution_count": 224,
   "id": "ea7ad7e3-5d39-4249-beec-ffef51a17ab0",
   "metadata": {},
   "outputs": [
    {
     "data": {
      "text/html": [
       "<style>#sk-container-id-9 {color: black;}#sk-container-id-9 pre{padding: 0;}#sk-container-id-9 div.sk-toggleable {background-color: white;}#sk-container-id-9 label.sk-toggleable__label {cursor: pointer;display: block;width: 100%;margin-bottom: 0;padding: 0.3em;box-sizing: border-box;text-align: center;}#sk-container-id-9 label.sk-toggleable__label-arrow:before {content: \"▸\";float: left;margin-right: 0.25em;color: #696969;}#sk-container-id-9 label.sk-toggleable__label-arrow:hover:before {color: black;}#sk-container-id-9 div.sk-estimator:hover label.sk-toggleable__label-arrow:before {color: black;}#sk-container-id-9 div.sk-toggleable__content {max-height: 0;max-width: 0;overflow: hidden;text-align: left;background-color: #f0f8ff;}#sk-container-id-9 div.sk-toggleable__content pre {margin: 0.2em;color: black;border-radius: 0.25em;background-color: #f0f8ff;}#sk-container-id-9 input.sk-toggleable__control:checked~div.sk-toggleable__content {max-height: 200px;max-width: 100%;overflow: auto;}#sk-container-id-9 input.sk-toggleable__control:checked~label.sk-toggleable__label-arrow:before {content: \"▾\";}#sk-container-id-9 div.sk-estimator input.sk-toggleable__control:checked~label.sk-toggleable__label {background-color: #d4ebff;}#sk-container-id-9 div.sk-label input.sk-toggleable__control:checked~label.sk-toggleable__label {background-color: #d4ebff;}#sk-container-id-9 input.sk-hidden--visually {border: 0;clip: rect(1px 1px 1px 1px);clip: rect(1px, 1px, 1px, 1px);height: 1px;margin: -1px;overflow: hidden;padding: 0;position: absolute;width: 1px;}#sk-container-id-9 div.sk-estimator {font-family: monospace;background-color: #f0f8ff;border: 1px dotted black;border-radius: 0.25em;box-sizing: border-box;margin-bottom: 0.5em;}#sk-container-id-9 div.sk-estimator:hover {background-color: #d4ebff;}#sk-container-id-9 div.sk-parallel-item::after {content: \"\";width: 100%;border-bottom: 1px solid gray;flex-grow: 1;}#sk-container-id-9 div.sk-label:hover label.sk-toggleable__label {background-color: #d4ebff;}#sk-container-id-9 div.sk-serial::before {content: \"\";position: absolute;border-left: 1px solid gray;box-sizing: border-box;top: 0;bottom: 0;left: 50%;z-index: 0;}#sk-container-id-9 div.sk-serial {display: flex;flex-direction: column;align-items: center;background-color: white;padding-right: 0.2em;padding-left: 0.2em;position: relative;}#sk-container-id-9 div.sk-item {position: relative;z-index: 1;}#sk-container-id-9 div.sk-parallel {display: flex;align-items: stretch;justify-content: center;background-color: white;position: relative;}#sk-container-id-9 div.sk-item::before, #sk-container-id-9 div.sk-parallel-item::before {content: \"\";position: absolute;border-left: 1px solid gray;box-sizing: border-box;top: 0;bottom: 0;left: 50%;z-index: -1;}#sk-container-id-9 div.sk-parallel-item {display: flex;flex-direction: column;z-index: 1;position: relative;background-color: white;}#sk-container-id-9 div.sk-parallel-item:first-child::after {align-self: flex-end;width: 50%;}#sk-container-id-9 div.sk-parallel-item:last-child::after {align-self: flex-start;width: 50%;}#sk-container-id-9 div.sk-parallel-item:only-child::after {width: 0;}#sk-container-id-9 div.sk-dashed-wrapped {border: 1px dashed gray;margin: 0 0.4em 0.5em 0.4em;box-sizing: border-box;padding-bottom: 0.4em;background-color: white;}#sk-container-id-9 div.sk-label label {font-family: monospace;font-weight: bold;display: inline-block;line-height: 1.2em;}#sk-container-id-9 div.sk-label-container {text-align: center;}#sk-container-id-9 div.sk-container {/* jupyter's `normalize.less` sets `[hidden] { display: none; }` but bootstrap.min.css set `[hidden] { display: none !important; }` so we also need the `!important` here to be able to override the default hidden behavior on the sphinx rendered scikit-learn.org. See: https://github.com/scikit-learn/scikit-learn/issues/21755 */display: inline-block !important;position: relative;}#sk-container-id-9 div.sk-text-repr-fallback {display: none;}</style><div id=\"sk-container-id-9\" class=\"sk-top-container\"><div class=\"sk-text-repr-fallback\"><pre>XGBClassifier(base_score=None, booster=None, callbacks=None,\n",
       "              colsample_bylevel=None, colsample_bynode=None,\n",
       "              colsample_bytree=0.8, early_stopping_rounds=None,\n",
       "              enable_categorical=False, eval_metric=None, feature_types=None,\n",
       "              gamma=None, gpu_id=None, grow_policy=None, importance_type=None,\n",
       "              interaction_constraints=None, learning_rate=0.1, max_bin=None,\n",
       "              max_cat_threshold=None, max_cat_to_onehot=None,\n",
       "              max_delta_step=None, max_depth=7, max_leaves=None,\n",
       "              min_child_weight=None, missing=nan, monotone_constraints=None,\n",
       "              n_estimators=200, n_jobs=None, nthread=10, num_parallel_tree=None,\n",
       "              objective=&#x27;multi:softprob&#x27;, ...)</pre><b>In a Jupyter environment, please rerun this cell to show the HTML representation or trust the notebook. <br />On GitHub, the HTML representation is unable to render, please try loading this page with nbviewer.org.</b></div><div class=\"sk-container\" hidden><div class=\"sk-item\"><div class=\"sk-estimator sk-toggleable\"><input class=\"sk-toggleable__control sk-hidden--visually\" id=\"sk-estimator-id-9\" type=\"checkbox\" checked><label for=\"sk-estimator-id-9\" class=\"sk-toggleable__label sk-toggleable__label-arrow\">XGBClassifier</label><div class=\"sk-toggleable__content\"><pre>XGBClassifier(base_score=None, booster=None, callbacks=None,\n",
       "              colsample_bylevel=None, colsample_bynode=None,\n",
       "              colsample_bytree=0.8, early_stopping_rounds=None,\n",
       "              enable_categorical=False, eval_metric=None, feature_types=None,\n",
       "              gamma=None, gpu_id=None, grow_policy=None, importance_type=None,\n",
       "              interaction_constraints=None, learning_rate=0.1, max_bin=None,\n",
       "              max_cat_threshold=None, max_cat_to_onehot=None,\n",
       "              max_delta_step=None, max_depth=7, max_leaves=None,\n",
       "              min_child_weight=None, missing=nan, monotone_constraints=None,\n",
       "              n_estimators=200, n_jobs=None, nthread=10, num_parallel_tree=None,\n",
       "              objective=&#x27;multi:softprob&#x27;, ...)</pre></div></div></div></div></div>"
      ],
      "text/plain": [
       "XGBClassifier(base_score=None, booster=None, callbacks=None,\n",
       "              colsample_bylevel=None, colsample_bynode=None,\n",
       "              colsample_bytree=0.8, early_stopping_rounds=None,\n",
       "              enable_categorical=False, eval_metric=None, feature_types=None,\n",
       "              gamma=None, gpu_id=None, grow_policy=None, importance_type=None,\n",
       "              interaction_constraints=None, learning_rate=0.1, max_bin=None,\n",
       "              max_cat_threshold=None, max_cat_to_onehot=None,\n",
       "              max_delta_step=None, max_depth=7, max_leaves=None,\n",
       "              min_child_weight=None, missing=nan, monotone_constraints=None,\n",
       "              n_estimators=200, n_jobs=None, nthread=10, num_parallel_tree=None,\n",
       "              objective='multi:softprob', ...)"
      ]
     },
     "execution_count": 224,
     "metadata": {},
     "output_type": "execute_result"
    }
   ],
   "source": [
    "# for category\n",
    "clf_xg_tfv.fit(x_train_cat_tfv.tocsc(), y_train_cat)"
   ]
  },
  {
   "cell_type": "markdown",
   "id": "cb0b2adf-452e-4c51-906b-e32e91550b1a",
   "metadata": {},
   "source": [
    "**Predict for category**"
   ]
  },
  {
   "cell_type": "code",
   "execution_count": 225,
   "id": "b3deadb5-289b-440d-bb29-f14e26df6656",
   "metadata": {},
   "outputs": [],
   "source": [
    "# predict for cat\n",
    "predicted_tfv_cat = clf_xg_tfv.predict_proba(x_valid_cat_tfv.tocsc())\n",
    "classify_cat_xg = [np.argmax(x) for x in predicted_tfv_cat]"
   ]
  },
  {
   "cell_type": "code",
   "execution_count": 226,
   "id": "e3133a62-e249-4e97-873b-3eec1c088aa7",
   "metadata": {},
   "outputs": [
    {
     "name": "stdout",
     "output_type": "stream",
     "text": [
      "log loss: 1.146 \n",
      "accuracy for cat: 0.683\n"
     ]
    }
   ],
   "source": [
    "print (\"log loss: %0.3f \" % multiclass_logloss(y_valid_cat, predicted_tfv_cat))\n",
    "print(\"accuracy for cat: %0.3f\" % accuracy_score(y_valid_cat, classify_cat_xg))"
   ]
  },
  {
   "cell_type": "code",
   "execution_count": 227,
   "id": "4cfdeecd-448d-418e-92f6-e7b35f4d4263",
   "metadata": {},
   "outputs": [
    {
     "data": {
      "text/plain": [
       "['../model/XGBoost/tfv/clf_xg_tfv_cat.sav']"
      ]
     },
     "execution_count": 227,
     "metadata": {},
     "output_type": "execute_result"
    }
   ],
   "source": [
    "# save for clf category model\n",
    "path_model_cat_tfv = '../model/XGBoost/tfv/clf_xg_tfv_cat.sav'\n",
    "joblib.dump(clf_xg_tfv, path_model_cat_tfv)"
   ]
  },
  {
   "cell_type": "code",
   "execution_count": 228,
   "id": "dfbde90f-52a4-4eac-97d9-9360a45ac11c",
   "metadata": {},
   "outputs": [
    {
     "data": {
      "text/html": [
       "<style>#sk-container-id-10 {color: black;}#sk-container-id-10 pre{padding: 0;}#sk-container-id-10 div.sk-toggleable {background-color: white;}#sk-container-id-10 label.sk-toggleable__label {cursor: pointer;display: block;width: 100%;margin-bottom: 0;padding: 0.3em;box-sizing: border-box;text-align: center;}#sk-container-id-10 label.sk-toggleable__label-arrow:before {content: \"▸\";float: left;margin-right: 0.25em;color: #696969;}#sk-container-id-10 label.sk-toggleable__label-arrow:hover:before {color: black;}#sk-container-id-10 div.sk-estimator:hover label.sk-toggleable__label-arrow:before {color: black;}#sk-container-id-10 div.sk-toggleable__content {max-height: 0;max-width: 0;overflow: hidden;text-align: left;background-color: #f0f8ff;}#sk-container-id-10 div.sk-toggleable__content pre {margin: 0.2em;color: black;border-radius: 0.25em;background-color: #f0f8ff;}#sk-container-id-10 input.sk-toggleable__control:checked~div.sk-toggleable__content {max-height: 200px;max-width: 100%;overflow: auto;}#sk-container-id-10 input.sk-toggleable__control:checked~label.sk-toggleable__label-arrow:before {content: \"▾\";}#sk-container-id-10 div.sk-estimator input.sk-toggleable__control:checked~label.sk-toggleable__label {background-color: #d4ebff;}#sk-container-id-10 div.sk-label input.sk-toggleable__control:checked~label.sk-toggleable__label {background-color: #d4ebff;}#sk-container-id-10 input.sk-hidden--visually {border: 0;clip: rect(1px 1px 1px 1px);clip: rect(1px, 1px, 1px, 1px);height: 1px;margin: -1px;overflow: hidden;padding: 0;position: absolute;width: 1px;}#sk-container-id-10 div.sk-estimator {font-family: monospace;background-color: #f0f8ff;border: 1px dotted black;border-radius: 0.25em;box-sizing: border-box;margin-bottom: 0.5em;}#sk-container-id-10 div.sk-estimator:hover {background-color: #d4ebff;}#sk-container-id-10 div.sk-parallel-item::after {content: \"\";width: 100%;border-bottom: 1px solid gray;flex-grow: 1;}#sk-container-id-10 div.sk-label:hover label.sk-toggleable__label {background-color: #d4ebff;}#sk-container-id-10 div.sk-serial::before {content: \"\";position: absolute;border-left: 1px solid gray;box-sizing: border-box;top: 0;bottom: 0;left: 50%;z-index: 0;}#sk-container-id-10 div.sk-serial {display: flex;flex-direction: column;align-items: center;background-color: white;padding-right: 0.2em;padding-left: 0.2em;position: relative;}#sk-container-id-10 div.sk-item {position: relative;z-index: 1;}#sk-container-id-10 div.sk-parallel {display: flex;align-items: stretch;justify-content: center;background-color: white;position: relative;}#sk-container-id-10 div.sk-item::before, #sk-container-id-10 div.sk-parallel-item::before {content: \"\";position: absolute;border-left: 1px solid gray;box-sizing: border-box;top: 0;bottom: 0;left: 50%;z-index: -1;}#sk-container-id-10 div.sk-parallel-item {display: flex;flex-direction: column;z-index: 1;position: relative;background-color: white;}#sk-container-id-10 div.sk-parallel-item:first-child::after {align-self: flex-end;width: 50%;}#sk-container-id-10 div.sk-parallel-item:last-child::after {align-self: flex-start;width: 50%;}#sk-container-id-10 div.sk-parallel-item:only-child::after {width: 0;}#sk-container-id-10 div.sk-dashed-wrapped {border: 1px dashed gray;margin: 0 0.4em 0.5em 0.4em;box-sizing: border-box;padding-bottom: 0.4em;background-color: white;}#sk-container-id-10 div.sk-label label {font-family: monospace;font-weight: bold;display: inline-block;line-height: 1.2em;}#sk-container-id-10 div.sk-label-container {text-align: center;}#sk-container-id-10 div.sk-container {/* jupyter's `normalize.less` sets `[hidden] { display: none; }` but bootstrap.min.css set `[hidden] { display: none !important; }` so we also need the `!important` here to be able to override the default hidden behavior on the sphinx rendered scikit-learn.org. See: https://github.com/scikit-learn/scikit-learn/issues/21755 */display: inline-block !important;position: relative;}#sk-container-id-10 div.sk-text-repr-fallback {display: none;}</style><div id=\"sk-container-id-10\" class=\"sk-top-container\"><div class=\"sk-text-repr-fallback\"><pre>XGBClassifier(base_score=None, booster=None, callbacks=None,\n",
       "              colsample_bylevel=None, colsample_bynode=None,\n",
       "              colsample_bytree=0.8, early_stopping_rounds=None,\n",
       "              enable_categorical=False, eval_metric=None, feature_types=None,\n",
       "              gamma=None, gpu_id=None, grow_policy=None, importance_type=None,\n",
       "              interaction_constraints=None, learning_rate=0.1, max_bin=None,\n",
       "              max_cat_threshold=None, max_cat_to_onehot=None,\n",
       "              max_delta_step=None, max_depth=7, max_leaves=None,\n",
       "              min_child_weight=None, missing=nan, monotone_constraints=None,\n",
       "              n_estimators=200, n_jobs=None, nthread=10, num_parallel_tree=None,\n",
       "              objective=&#x27;multi:softprob&#x27;, ...)</pre><b>In a Jupyter environment, please rerun this cell to show the HTML representation or trust the notebook. <br />On GitHub, the HTML representation is unable to render, please try loading this page with nbviewer.org.</b></div><div class=\"sk-container\" hidden><div class=\"sk-item\"><div class=\"sk-estimator sk-toggleable\"><input class=\"sk-toggleable__control sk-hidden--visually\" id=\"sk-estimator-id-10\" type=\"checkbox\" checked><label for=\"sk-estimator-id-10\" class=\"sk-toggleable__label sk-toggleable__label-arrow\">XGBClassifier</label><div class=\"sk-toggleable__content\"><pre>XGBClassifier(base_score=None, booster=None, callbacks=None,\n",
       "              colsample_bylevel=None, colsample_bynode=None,\n",
       "              colsample_bytree=0.8, early_stopping_rounds=None,\n",
       "              enable_categorical=False, eval_metric=None, feature_types=None,\n",
       "              gamma=None, gpu_id=None, grow_policy=None, importance_type=None,\n",
       "              interaction_constraints=None, learning_rate=0.1, max_bin=None,\n",
       "              max_cat_threshold=None, max_cat_to_onehot=None,\n",
       "              max_delta_step=None, max_depth=7, max_leaves=None,\n",
       "              min_child_weight=None, missing=nan, monotone_constraints=None,\n",
       "              n_estimators=200, n_jobs=None, nthread=10, num_parallel_tree=None,\n",
       "              objective=&#x27;multi:softprob&#x27;, ...)</pre></div></div></div></div></div>"
      ],
      "text/plain": [
       "XGBClassifier(base_score=None, booster=None, callbacks=None,\n",
       "              colsample_bylevel=None, colsample_bynode=None,\n",
       "              colsample_bytree=0.8, early_stopping_rounds=None,\n",
       "              enable_categorical=False, eval_metric=None, feature_types=None,\n",
       "              gamma=None, gpu_id=None, grow_policy=None, importance_type=None,\n",
       "              interaction_constraints=None, learning_rate=0.1, max_bin=None,\n",
       "              max_cat_threshold=None, max_cat_to_onehot=None,\n",
       "              max_delta_step=None, max_depth=7, max_leaves=None,\n",
       "              min_child_weight=None, missing=nan, monotone_constraints=None,\n",
       "              n_estimators=200, n_jobs=None, nthread=10, num_parallel_tree=None,\n",
       "              objective='multi:softprob', ...)"
      ]
     },
     "execution_count": 228,
     "metadata": {},
     "output_type": "execute_result"
    }
   ],
   "source": [
    "# for category new\n",
    "clf_xg_tfv.fit(x_train_cat_new_tfv.tocsc(), y_train_cat)"
   ]
  },
  {
   "cell_type": "markdown",
   "id": "682229f9-d883-4f29-88b0-44a0f18f6620",
   "metadata": {},
   "source": [
    "**Predict for category with new data**"
   ]
  },
  {
   "cell_type": "code",
   "execution_count": 229,
   "id": "b36425f7-95f6-4843-8aa8-27cc7cf543f1",
   "metadata": {},
   "outputs": [],
   "source": [
    "# predict for cat\n",
    "predicted_tfv_cat_new = clf_xg_tfv.predict_proba(x_valid_cat_new_tfv.tocsc())\n",
    "classify_cat_xg_new = [np.argmax(x) for x in predicted_tfv_cat_new]"
   ]
  },
  {
   "cell_type": "code",
   "execution_count": 230,
   "id": "4585e660-f553-42b1-a735-d48a41243c3d",
   "metadata": {},
   "outputs": [
    {
     "name": "stdout",
     "output_type": "stream",
     "text": [
      "log loss: 1.025 \n",
      "accuracy for cat: 0.704\n"
     ]
    }
   ],
   "source": [
    "print (\"log loss: %0.3f \" % multiclass_logloss(y_valid_cat, predicted_tfv_cat_new))\n",
    "print(\"accuracy for cat: %0.3f\" % accuracy_score(y_valid_cat, classify_cat_xg_new))"
   ]
  },
  {
   "cell_type": "markdown",
   "id": "a03a5604-a6ae-4f0c-8f2d-ad249499954f",
   "metadata": {},
   "source": [
    "**Save model**"
   ]
  },
  {
   "cell_type": "code",
   "execution_count": 231,
   "id": "885b0b00-e501-4997-8d12-fb20fd7da71b",
   "metadata": {},
   "outputs": [],
   "source": [
    "path_model_cat_new_tfv = '../model/XGBoost/tfv/clf_xg_tfv_cat_new.sav'"
   ]
  },
  {
   "cell_type": "code",
   "execution_count": 232,
   "id": "f87113d6-64f3-4287-90e1-631218671e46",
   "metadata": {},
   "outputs": [
    {
     "data": {
      "text/plain": [
       "['../model/XGBoost/tfv/clf_xg_tfv_cat_new.sav']"
      ]
     },
     "execution_count": 232,
     "metadata": {},
     "output_type": "execute_result"
    }
   ],
   "source": [
    "joblib.dump(clf_ctv_cat_new, path_model_cat_new_tfv)"
   ]
  },
  {
   "cell_type": "markdown",
   "id": "a2aecf88-927c-43e7-a7be-c0c6f0e72728",
   "metadata": {},
   "source": [
    "**Use count features**\n",
    "\n",
    "Fitting a simple xgboost on counter"
   ]
  },
  {
   "cell_type": "code",
   "execution_count": 233,
   "id": "fdc68d73-3fa8-4507-bcef-fc383741f8a3",
   "metadata": {},
   "outputs": [],
   "source": [
    " # use ctv \n",
    "clf_xg_ctv = xgb.XGBClassifier(max_depth=7,\n",
    "                               n_estimators=200,\n",
    "                               colsample_bytree=0.8,\n",
    "                               subsample=0.8,\n",
    "                               nthread=10,\n",
    "                               learning_rate=0.1)"
   ]
  },
  {
   "cell_type": "code",
   "execution_count": 234,
   "id": "d70d1ba6-a032-4bdc-a9c1-76f244b79b4e",
   "metadata": {},
   "outputs": [
    {
     "data": {
      "text/html": [
       "<style>#sk-container-id-11 {color: black;}#sk-container-id-11 pre{padding: 0;}#sk-container-id-11 div.sk-toggleable {background-color: white;}#sk-container-id-11 label.sk-toggleable__label {cursor: pointer;display: block;width: 100%;margin-bottom: 0;padding: 0.3em;box-sizing: border-box;text-align: center;}#sk-container-id-11 label.sk-toggleable__label-arrow:before {content: \"▸\";float: left;margin-right: 0.25em;color: #696969;}#sk-container-id-11 label.sk-toggleable__label-arrow:hover:before {color: black;}#sk-container-id-11 div.sk-estimator:hover label.sk-toggleable__label-arrow:before {color: black;}#sk-container-id-11 div.sk-toggleable__content {max-height: 0;max-width: 0;overflow: hidden;text-align: left;background-color: #f0f8ff;}#sk-container-id-11 div.sk-toggleable__content pre {margin: 0.2em;color: black;border-radius: 0.25em;background-color: #f0f8ff;}#sk-container-id-11 input.sk-toggleable__control:checked~div.sk-toggleable__content {max-height: 200px;max-width: 100%;overflow: auto;}#sk-container-id-11 input.sk-toggleable__control:checked~label.sk-toggleable__label-arrow:before {content: \"▾\";}#sk-container-id-11 div.sk-estimator input.sk-toggleable__control:checked~label.sk-toggleable__label {background-color: #d4ebff;}#sk-container-id-11 div.sk-label input.sk-toggleable__control:checked~label.sk-toggleable__label {background-color: #d4ebff;}#sk-container-id-11 input.sk-hidden--visually {border: 0;clip: rect(1px 1px 1px 1px);clip: rect(1px, 1px, 1px, 1px);height: 1px;margin: -1px;overflow: hidden;padding: 0;position: absolute;width: 1px;}#sk-container-id-11 div.sk-estimator {font-family: monospace;background-color: #f0f8ff;border: 1px dotted black;border-radius: 0.25em;box-sizing: border-box;margin-bottom: 0.5em;}#sk-container-id-11 div.sk-estimator:hover {background-color: #d4ebff;}#sk-container-id-11 div.sk-parallel-item::after {content: \"\";width: 100%;border-bottom: 1px solid gray;flex-grow: 1;}#sk-container-id-11 div.sk-label:hover label.sk-toggleable__label {background-color: #d4ebff;}#sk-container-id-11 div.sk-serial::before {content: \"\";position: absolute;border-left: 1px solid gray;box-sizing: border-box;top: 0;bottom: 0;left: 50%;z-index: 0;}#sk-container-id-11 div.sk-serial {display: flex;flex-direction: column;align-items: center;background-color: white;padding-right: 0.2em;padding-left: 0.2em;position: relative;}#sk-container-id-11 div.sk-item {position: relative;z-index: 1;}#sk-container-id-11 div.sk-parallel {display: flex;align-items: stretch;justify-content: center;background-color: white;position: relative;}#sk-container-id-11 div.sk-item::before, #sk-container-id-11 div.sk-parallel-item::before {content: \"\";position: absolute;border-left: 1px solid gray;box-sizing: border-box;top: 0;bottom: 0;left: 50%;z-index: -1;}#sk-container-id-11 div.sk-parallel-item {display: flex;flex-direction: column;z-index: 1;position: relative;background-color: white;}#sk-container-id-11 div.sk-parallel-item:first-child::after {align-self: flex-end;width: 50%;}#sk-container-id-11 div.sk-parallel-item:last-child::after {align-self: flex-start;width: 50%;}#sk-container-id-11 div.sk-parallel-item:only-child::after {width: 0;}#sk-container-id-11 div.sk-dashed-wrapped {border: 1px dashed gray;margin: 0 0.4em 0.5em 0.4em;box-sizing: border-box;padding-bottom: 0.4em;background-color: white;}#sk-container-id-11 div.sk-label label {font-family: monospace;font-weight: bold;display: inline-block;line-height: 1.2em;}#sk-container-id-11 div.sk-label-container {text-align: center;}#sk-container-id-11 div.sk-container {/* jupyter's `normalize.less` sets `[hidden] { display: none; }` but bootstrap.min.css set `[hidden] { display: none !important; }` so we also need the `!important` here to be able to override the default hidden behavior on the sphinx rendered scikit-learn.org. See: https://github.com/scikit-learn/scikit-learn/issues/21755 */display: inline-block !important;position: relative;}#sk-container-id-11 div.sk-text-repr-fallback {display: none;}</style><div id=\"sk-container-id-11\" class=\"sk-top-container\"><div class=\"sk-text-repr-fallback\"><pre>XGBClassifier(base_score=None, booster=None, callbacks=None,\n",
       "              colsample_bylevel=None, colsample_bynode=None,\n",
       "              colsample_bytree=0.8, early_stopping_rounds=None,\n",
       "              enable_categorical=False, eval_metric=None, feature_types=None,\n",
       "              gamma=None, gpu_id=None, grow_policy=None, importance_type=None,\n",
       "              interaction_constraints=None, learning_rate=0.1, max_bin=None,\n",
       "              max_cat_threshold=None, max_cat_to_onehot=None,\n",
       "              max_delta_step=None, max_depth=7, max_leaves=None,\n",
       "              min_child_weight=None, missing=nan, monotone_constraints=None,\n",
       "              n_estimators=200, n_jobs=None, nthread=10, num_parallel_tree=None,\n",
       "              objective=&#x27;multi:softprob&#x27;, ...)</pre><b>In a Jupyter environment, please rerun this cell to show the HTML representation or trust the notebook. <br />On GitHub, the HTML representation is unable to render, please try loading this page with nbviewer.org.</b></div><div class=\"sk-container\" hidden><div class=\"sk-item\"><div class=\"sk-estimator sk-toggleable\"><input class=\"sk-toggleable__control sk-hidden--visually\" id=\"sk-estimator-id-11\" type=\"checkbox\" checked><label for=\"sk-estimator-id-11\" class=\"sk-toggleable__label sk-toggleable__label-arrow\">XGBClassifier</label><div class=\"sk-toggleable__content\"><pre>XGBClassifier(base_score=None, booster=None, callbacks=None,\n",
       "              colsample_bylevel=None, colsample_bynode=None,\n",
       "              colsample_bytree=0.8, early_stopping_rounds=None,\n",
       "              enable_categorical=False, eval_metric=None, feature_types=None,\n",
       "              gamma=None, gpu_id=None, grow_policy=None, importance_type=None,\n",
       "              interaction_constraints=None, learning_rate=0.1, max_bin=None,\n",
       "              max_cat_threshold=None, max_cat_to_onehot=None,\n",
       "              max_delta_step=None, max_depth=7, max_leaves=None,\n",
       "              min_child_weight=None, missing=nan, monotone_constraints=None,\n",
       "              n_estimators=200, n_jobs=None, nthread=10, num_parallel_tree=None,\n",
       "              objective=&#x27;multi:softprob&#x27;, ...)</pre></div></div></div></div></div>"
      ],
      "text/plain": [
       "XGBClassifier(base_score=None, booster=None, callbacks=None,\n",
       "              colsample_bylevel=None, colsample_bynode=None,\n",
       "              colsample_bytree=0.8, early_stopping_rounds=None,\n",
       "              enable_categorical=False, eval_metric=None, feature_types=None,\n",
       "              gamma=None, gpu_id=None, grow_policy=None, importance_type=None,\n",
       "              interaction_constraints=None, learning_rate=0.1, max_bin=None,\n",
       "              max_cat_threshold=None, max_cat_to_onehot=None,\n",
       "              max_delta_step=None, max_depth=7, max_leaves=None,\n",
       "              min_child_weight=None, missing=nan, monotone_constraints=None,\n",
       "              n_estimators=200, n_jobs=None, nthread=10, num_parallel_tree=None,\n",
       "              objective='multi:softprob', ...)"
      ]
     },
     "execution_count": 234,
     "metadata": {},
     "output_type": "execute_result"
    }
   ],
   "source": [
    "# for group\n",
    "clf_xg_ctv.fit(x_train_group_ctv.tocsc(), y_train_group)"
   ]
  },
  {
   "cell_type": "markdown",
   "id": "8235e66c-ab7b-4411-b3d8-aac3520729c9",
   "metadata": {},
   "source": [
    "**Predict for group**"
   ]
  },
  {
   "cell_type": "code",
   "execution_count": 235,
   "id": "118e679c-70bd-4b08-9b4e-b585701452c1",
   "metadata": {},
   "outputs": [],
   "source": [
    "# predict for group\n",
    "predicted_ctv_group = clf_xg_ctv.predict_proba(x_valid_group_ctv.tocsc())\n",
    "classify_group_xg = [np.argmax(x) for x in predicted_ctv_group]"
   ]
  },
  {
   "cell_type": "code",
   "execution_count": 236,
   "id": "df96522b-946e-4705-b638-bb0811266221",
   "metadata": {},
   "outputs": [
    {
     "name": "stdout",
     "output_type": "stream",
     "text": [
      "logloss: 0.189 \n",
      "accuracy for cat: 0.953\n"
     ]
    }
   ],
   "source": [
    "print (\"logloss: %0.3f \" % multiclass_logloss(y_valid_group, predicted_ctv_group))\n",
    "print(\"accuracy for cat: %0.3f\" % accuracy_score(y_valid_group, classify_group_xg))"
   ]
  },
  {
   "cell_type": "code",
   "execution_count": 237,
   "id": "368c938a-9456-43e0-b7dc-98d6c670ed17",
   "metadata": {},
   "outputs": [
    {
     "data": {
      "text/plain": [
       "['../model/XGBoost/ctv/clf_xg_ctv_group.sav']"
      ]
     },
     "execution_count": 237,
     "metadata": {},
     "output_type": "execute_result"
    }
   ],
   "source": [
    "# save clf group model on ctv\n",
    "path_model_group_ctv = '../model/XGBoost/ctv/clf_xg_ctv_group.sav'\n",
    "joblib.dump(clf_xg_ctv, path_model_group_ctv)"
   ]
  },
  {
   "cell_type": "code",
   "execution_count": 238,
   "id": "5636bc2c-9748-4a45-87ee-8b8617f2d3cd",
   "metadata": {},
   "outputs": [
    {
     "data": {
      "text/html": [
       "<style>#sk-container-id-12 {color: black;}#sk-container-id-12 pre{padding: 0;}#sk-container-id-12 div.sk-toggleable {background-color: white;}#sk-container-id-12 label.sk-toggleable__label {cursor: pointer;display: block;width: 100%;margin-bottom: 0;padding: 0.3em;box-sizing: border-box;text-align: center;}#sk-container-id-12 label.sk-toggleable__label-arrow:before {content: \"▸\";float: left;margin-right: 0.25em;color: #696969;}#sk-container-id-12 label.sk-toggleable__label-arrow:hover:before {color: black;}#sk-container-id-12 div.sk-estimator:hover label.sk-toggleable__label-arrow:before {color: black;}#sk-container-id-12 div.sk-toggleable__content {max-height: 0;max-width: 0;overflow: hidden;text-align: left;background-color: #f0f8ff;}#sk-container-id-12 div.sk-toggleable__content pre {margin: 0.2em;color: black;border-radius: 0.25em;background-color: #f0f8ff;}#sk-container-id-12 input.sk-toggleable__control:checked~div.sk-toggleable__content {max-height: 200px;max-width: 100%;overflow: auto;}#sk-container-id-12 input.sk-toggleable__control:checked~label.sk-toggleable__label-arrow:before {content: \"▾\";}#sk-container-id-12 div.sk-estimator input.sk-toggleable__control:checked~label.sk-toggleable__label {background-color: #d4ebff;}#sk-container-id-12 div.sk-label input.sk-toggleable__control:checked~label.sk-toggleable__label {background-color: #d4ebff;}#sk-container-id-12 input.sk-hidden--visually {border: 0;clip: rect(1px 1px 1px 1px);clip: rect(1px, 1px, 1px, 1px);height: 1px;margin: -1px;overflow: hidden;padding: 0;position: absolute;width: 1px;}#sk-container-id-12 div.sk-estimator {font-family: monospace;background-color: #f0f8ff;border: 1px dotted black;border-radius: 0.25em;box-sizing: border-box;margin-bottom: 0.5em;}#sk-container-id-12 div.sk-estimator:hover {background-color: #d4ebff;}#sk-container-id-12 div.sk-parallel-item::after {content: \"\";width: 100%;border-bottom: 1px solid gray;flex-grow: 1;}#sk-container-id-12 div.sk-label:hover label.sk-toggleable__label {background-color: #d4ebff;}#sk-container-id-12 div.sk-serial::before {content: \"\";position: absolute;border-left: 1px solid gray;box-sizing: border-box;top: 0;bottom: 0;left: 50%;z-index: 0;}#sk-container-id-12 div.sk-serial {display: flex;flex-direction: column;align-items: center;background-color: white;padding-right: 0.2em;padding-left: 0.2em;position: relative;}#sk-container-id-12 div.sk-item {position: relative;z-index: 1;}#sk-container-id-12 div.sk-parallel {display: flex;align-items: stretch;justify-content: center;background-color: white;position: relative;}#sk-container-id-12 div.sk-item::before, #sk-container-id-12 div.sk-parallel-item::before {content: \"\";position: absolute;border-left: 1px solid gray;box-sizing: border-box;top: 0;bottom: 0;left: 50%;z-index: -1;}#sk-container-id-12 div.sk-parallel-item {display: flex;flex-direction: column;z-index: 1;position: relative;background-color: white;}#sk-container-id-12 div.sk-parallel-item:first-child::after {align-self: flex-end;width: 50%;}#sk-container-id-12 div.sk-parallel-item:last-child::after {align-self: flex-start;width: 50%;}#sk-container-id-12 div.sk-parallel-item:only-child::after {width: 0;}#sk-container-id-12 div.sk-dashed-wrapped {border: 1px dashed gray;margin: 0 0.4em 0.5em 0.4em;box-sizing: border-box;padding-bottom: 0.4em;background-color: white;}#sk-container-id-12 div.sk-label label {font-family: monospace;font-weight: bold;display: inline-block;line-height: 1.2em;}#sk-container-id-12 div.sk-label-container {text-align: center;}#sk-container-id-12 div.sk-container {/* jupyter's `normalize.less` sets `[hidden] { display: none; }` but bootstrap.min.css set `[hidden] { display: none !important; }` so we also need the `!important` here to be able to override the default hidden behavior on the sphinx rendered scikit-learn.org. See: https://github.com/scikit-learn/scikit-learn/issues/21755 */display: inline-block !important;position: relative;}#sk-container-id-12 div.sk-text-repr-fallback {display: none;}</style><div id=\"sk-container-id-12\" class=\"sk-top-container\"><div class=\"sk-text-repr-fallback\"><pre>XGBClassifier(base_score=None, booster=None, callbacks=None,\n",
       "              colsample_bylevel=None, colsample_bynode=None,\n",
       "              colsample_bytree=0.8, early_stopping_rounds=None,\n",
       "              enable_categorical=False, eval_metric=None, feature_types=None,\n",
       "              gamma=None, gpu_id=None, grow_policy=None, importance_type=None,\n",
       "              interaction_constraints=None, learning_rate=0.1, max_bin=None,\n",
       "              max_cat_threshold=None, max_cat_to_onehot=None,\n",
       "              max_delta_step=None, max_depth=7, max_leaves=None,\n",
       "              min_child_weight=None, missing=nan, monotone_constraints=None,\n",
       "              n_estimators=200, n_jobs=None, nthread=10, num_parallel_tree=None,\n",
       "              objective=&#x27;multi:softprob&#x27;, ...)</pre><b>In a Jupyter environment, please rerun this cell to show the HTML representation or trust the notebook. <br />On GitHub, the HTML representation is unable to render, please try loading this page with nbviewer.org.</b></div><div class=\"sk-container\" hidden><div class=\"sk-item\"><div class=\"sk-estimator sk-toggleable\"><input class=\"sk-toggleable__control sk-hidden--visually\" id=\"sk-estimator-id-12\" type=\"checkbox\" checked><label for=\"sk-estimator-id-12\" class=\"sk-toggleable__label sk-toggleable__label-arrow\">XGBClassifier</label><div class=\"sk-toggleable__content\"><pre>XGBClassifier(base_score=None, booster=None, callbacks=None,\n",
       "              colsample_bylevel=None, colsample_bynode=None,\n",
       "              colsample_bytree=0.8, early_stopping_rounds=None,\n",
       "              enable_categorical=False, eval_metric=None, feature_types=None,\n",
       "              gamma=None, gpu_id=None, grow_policy=None, importance_type=None,\n",
       "              interaction_constraints=None, learning_rate=0.1, max_bin=None,\n",
       "              max_cat_threshold=None, max_cat_to_onehot=None,\n",
       "              max_delta_step=None, max_depth=7, max_leaves=None,\n",
       "              min_child_weight=None, missing=nan, monotone_constraints=None,\n",
       "              n_estimators=200, n_jobs=None, nthread=10, num_parallel_tree=None,\n",
       "              objective=&#x27;multi:softprob&#x27;, ...)</pre></div></div></div></div></div>"
      ],
      "text/plain": [
       "XGBClassifier(base_score=None, booster=None, callbacks=None,\n",
       "              colsample_bylevel=None, colsample_bynode=None,\n",
       "              colsample_bytree=0.8, early_stopping_rounds=None,\n",
       "              enable_categorical=False, eval_metric=None, feature_types=None,\n",
       "              gamma=None, gpu_id=None, grow_policy=None, importance_type=None,\n",
       "              interaction_constraints=None, learning_rate=0.1, max_bin=None,\n",
       "              max_cat_threshold=None, max_cat_to_onehot=None,\n",
       "              max_delta_step=None, max_depth=7, max_leaves=None,\n",
       "              min_child_weight=None, missing=nan, monotone_constraints=None,\n",
       "              n_estimators=200, n_jobs=None, nthread=10, num_parallel_tree=None,\n",
       "              objective='multi:softprob', ...)"
      ]
     },
     "execution_count": 238,
     "metadata": {},
     "output_type": "execute_result"
    }
   ],
   "source": [
    "# for category\n",
    "clf_xg_ctv.fit(x_train_cat_ctv.tocsc(), y_train_cat)"
   ]
  },
  {
   "cell_type": "markdown",
   "id": "fbbc3b24-83ef-4e43-8f67-d9cdcd541744",
   "metadata": {},
   "source": [
    "**Predict for category**"
   ]
  },
  {
   "cell_type": "code",
   "execution_count": 239,
   "id": "0a82be37-65a5-4ad5-9ca1-b9bfeddefc56",
   "metadata": {},
   "outputs": [],
   "source": [
    "# predict for cat\n",
    "predicted_ctv_cat = clf_xg_ctv.predict_proba(x_valid_cat_ctv.tocsc())\n",
    "classify_cat_xg = [np.argmax(x) for x in predicted_ctv_cat]"
   ]
  },
  {
   "cell_type": "code",
   "execution_count": 240,
   "id": "872c2ba8-1629-4ccb-8f82-4d4f6c5617d2",
   "metadata": {},
   "outputs": [
    {
     "name": "stdout",
     "output_type": "stream",
     "text": [
      "log loss: 1.076 \n",
      "accuracy for cat: 0.694\n"
     ]
    }
   ],
   "source": [
    "print (\"log loss: %0.3f \" % multiclass_logloss(y_valid_cat, predicted_ctv_cat))\n",
    "print(\"accuracy for cat: %0.3f\" % accuracy_score(y_valid_cat, classify_cat_xg))"
   ]
  },
  {
   "cell_type": "code",
   "execution_count": 241,
   "id": "9d1de78b-4598-481a-874d-dda0f3a455af",
   "metadata": {},
   "outputs": [
    {
     "data": {
      "text/plain": [
       "['../model/XGBoost/ctv/clf_xg_ctv_cat.sav']"
      ]
     },
     "execution_count": 241,
     "metadata": {},
     "output_type": "execute_result"
    }
   ],
   "source": [
    "# save clf group model on ctv\n",
    "path_model_cat_ctv = '../model/XGBoost/ctv/clf_xg_ctv_cat.sav'\n",
    "joblib.dump(clf_xg_ctv, path_model_cat_ctv)"
   ]
  },
  {
   "cell_type": "code",
   "execution_count": 242,
   "id": "f354db37-069d-419e-9776-cb0abdf5fe65",
   "metadata": {},
   "outputs": [
    {
     "data": {
      "text/html": [
       "<style>#sk-container-id-13 {color: black;}#sk-container-id-13 pre{padding: 0;}#sk-container-id-13 div.sk-toggleable {background-color: white;}#sk-container-id-13 label.sk-toggleable__label {cursor: pointer;display: block;width: 100%;margin-bottom: 0;padding: 0.3em;box-sizing: border-box;text-align: center;}#sk-container-id-13 label.sk-toggleable__label-arrow:before {content: \"▸\";float: left;margin-right: 0.25em;color: #696969;}#sk-container-id-13 label.sk-toggleable__label-arrow:hover:before {color: black;}#sk-container-id-13 div.sk-estimator:hover label.sk-toggleable__label-arrow:before {color: black;}#sk-container-id-13 div.sk-toggleable__content {max-height: 0;max-width: 0;overflow: hidden;text-align: left;background-color: #f0f8ff;}#sk-container-id-13 div.sk-toggleable__content pre {margin: 0.2em;color: black;border-radius: 0.25em;background-color: #f0f8ff;}#sk-container-id-13 input.sk-toggleable__control:checked~div.sk-toggleable__content {max-height: 200px;max-width: 100%;overflow: auto;}#sk-container-id-13 input.sk-toggleable__control:checked~label.sk-toggleable__label-arrow:before {content: \"▾\";}#sk-container-id-13 div.sk-estimator input.sk-toggleable__control:checked~label.sk-toggleable__label {background-color: #d4ebff;}#sk-container-id-13 div.sk-label input.sk-toggleable__control:checked~label.sk-toggleable__label {background-color: #d4ebff;}#sk-container-id-13 input.sk-hidden--visually {border: 0;clip: rect(1px 1px 1px 1px);clip: rect(1px, 1px, 1px, 1px);height: 1px;margin: -1px;overflow: hidden;padding: 0;position: absolute;width: 1px;}#sk-container-id-13 div.sk-estimator {font-family: monospace;background-color: #f0f8ff;border: 1px dotted black;border-radius: 0.25em;box-sizing: border-box;margin-bottom: 0.5em;}#sk-container-id-13 div.sk-estimator:hover {background-color: #d4ebff;}#sk-container-id-13 div.sk-parallel-item::after {content: \"\";width: 100%;border-bottom: 1px solid gray;flex-grow: 1;}#sk-container-id-13 div.sk-label:hover label.sk-toggleable__label {background-color: #d4ebff;}#sk-container-id-13 div.sk-serial::before {content: \"\";position: absolute;border-left: 1px solid gray;box-sizing: border-box;top: 0;bottom: 0;left: 50%;z-index: 0;}#sk-container-id-13 div.sk-serial {display: flex;flex-direction: column;align-items: center;background-color: white;padding-right: 0.2em;padding-left: 0.2em;position: relative;}#sk-container-id-13 div.sk-item {position: relative;z-index: 1;}#sk-container-id-13 div.sk-parallel {display: flex;align-items: stretch;justify-content: center;background-color: white;position: relative;}#sk-container-id-13 div.sk-item::before, #sk-container-id-13 div.sk-parallel-item::before {content: \"\";position: absolute;border-left: 1px solid gray;box-sizing: border-box;top: 0;bottom: 0;left: 50%;z-index: -1;}#sk-container-id-13 div.sk-parallel-item {display: flex;flex-direction: column;z-index: 1;position: relative;background-color: white;}#sk-container-id-13 div.sk-parallel-item:first-child::after {align-self: flex-end;width: 50%;}#sk-container-id-13 div.sk-parallel-item:last-child::after {align-self: flex-start;width: 50%;}#sk-container-id-13 div.sk-parallel-item:only-child::after {width: 0;}#sk-container-id-13 div.sk-dashed-wrapped {border: 1px dashed gray;margin: 0 0.4em 0.5em 0.4em;box-sizing: border-box;padding-bottom: 0.4em;background-color: white;}#sk-container-id-13 div.sk-label label {font-family: monospace;font-weight: bold;display: inline-block;line-height: 1.2em;}#sk-container-id-13 div.sk-label-container {text-align: center;}#sk-container-id-13 div.sk-container {/* jupyter's `normalize.less` sets `[hidden] { display: none; }` but bootstrap.min.css set `[hidden] { display: none !important; }` so we also need the `!important` here to be able to override the default hidden behavior on the sphinx rendered scikit-learn.org. See: https://github.com/scikit-learn/scikit-learn/issues/21755 */display: inline-block !important;position: relative;}#sk-container-id-13 div.sk-text-repr-fallback {display: none;}</style><div id=\"sk-container-id-13\" class=\"sk-top-container\"><div class=\"sk-text-repr-fallback\"><pre>XGBClassifier(base_score=None, booster=None, callbacks=None,\n",
       "              colsample_bylevel=None, colsample_bynode=None,\n",
       "              colsample_bytree=0.8, early_stopping_rounds=None,\n",
       "              enable_categorical=False, eval_metric=None, feature_types=None,\n",
       "              gamma=None, gpu_id=None, grow_policy=None, importance_type=None,\n",
       "              interaction_constraints=None, learning_rate=0.1, max_bin=None,\n",
       "              max_cat_threshold=None, max_cat_to_onehot=None,\n",
       "              max_delta_step=None, max_depth=7, max_leaves=None,\n",
       "              min_child_weight=None, missing=nan, monotone_constraints=None,\n",
       "              n_estimators=200, n_jobs=None, nthread=10, num_parallel_tree=None,\n",
       "              objective=&#x27;multi:softprob&#x27;, ...)</pre><b>In a Jupyter environment, please rerun this cell to show the HTML representation or trust the notebook. <br />On GitHub, the HTML representation is unable to render, please try loading this page with nbviewer.org.</b></div><div class=\"sk-container\" hidden><div class=\"sk-item\"><div class=\"sk-estimator sk-toggleable\"><input class=\"sk-toggleable__control sk-hidden--visually\" id=\"sk-estimator-id-13\" type=\"checkbox\" checked><label for=\"sk-estimator-id-13\" class=\"sk-toggleable__label sk-toggleable__label-arrow\">XGBClassifier</label><div class=\"sk-toggleable__content\"><pre>XGBClassifier(base_score=None, booster=None, callbacks=None,\n",
       "              colsample_bylevel=None, colsample_bynode=None,\n",
       "              colsample_bytree=0.8, early_stopping_rounds=None,\n",
       "              enable_categorical=False, eval_metric=None, feature_types=None,\n",
       "              gamma=None, gpu_id=None, grow_policy=None, importance_type=None,\n",
       "              interaction_constraints=None, learning_rate=0.1, max_bin=None,\n",
       "              max_cat_threshold=None, max_cat_to_onehot=None,\n",
       "              max_delta_step=None, max_depth=7, max_leaves=None,\n",
       "              min_child_weight=None, missing=nan, monotone_constraints=None,\n",
       "              n_estimators=200, n_jobs=None, nthread=10, num_parallel_tree=None,\n",
       "              objective=&#x27;multi:softprob&#x27;, ...)</pre></div></div></div></div></div>"
      ],
      "text/plain": [
       "XGBClassifier(base_score=None, booster=None, callbacks=None,\n",
       "              colsample_bylevel=None, colsample_bynode=None,\n",
       "              colsample_bytree=0.8, early_stopping_rounds=None,\n",
       "              enable_categorical=False, eval_metric=None, feature_types=None,\n",
       "              gamma=None, gpu_id=None, grow_policy=None, importance_type=None,\n",
       "              interaction_constraints=None, learning_rate=0.1, max_bin=None,\n",
       "              max_cat_threshold=None, max_cat_to_onehot=None,\n",
       "              max_delta_step=None, max_depth=7, max_leaves=None,\n",
       "              min_child_weight=None, missing=nan, monotone_constraints=None,\n",
       "              n_estimators=200, n_jobs=None, nthread=10, num_parallel_tree=None,\n",
       "              objective='multi:softprob', ...)"
      ]
     },
     "execution_count": 242,
     "metadata": {},
     "output_type": "execute_result"
    }
   ],
   "source": [
    "# for category\n",
    "clf_xg_ctv.fit(x_train_cat_new_ctv.tocsc(), y_train_cat)"
   ]
  },
  {
   "cell_type": "markdown",
   "id": "29f27704-3189-4dda-a1e0-b4571420a43a",
   "metadata": {},
   "source": [
    "**Predict for category with new data**"
   ]
  },
  {
   "cell_type": "code",
   "execution_count": 243,
   "id": "f2f0dfab-aa1f-4492-a6a2-78ef20b4af25",
   "metadata": {},
   "outputs": [],
   "source": [
    "# predict for cat\n",
    "predicted_ctv_cat_new = clf_xg_ctv.predict_proba(x_valid_cat_new_ctv.tocsc())\n",
    "classify_cat_xg_new = [np.argmax(x) for x in predicted_ctv_cat_new]"
   ]
  },
  {
   "cell_type": "code",
   "execution_count": 244,
   "id": "f6f54848-03b3-4caf-86f9-22ad47298a91",
   "metadata": {},
   "outputs": [
    {
     "name": "stdout",
     "output_type": "stream",
     "text": [
      "log loss: 0.955 \n",
      "accuracy for cat: 0.717\n"
     ]
    }
   ],
   "source": [
    "print (\"log loss: %0.3f \" % multiclass_logloss(y_valid_cat, predicted_ctv_cat_new))\n",
    "print(\"accuracy for cat: %0.3f\" % accuracy_score(y_valid_cat, classify_cat_xg_new))"
   ]
  },
  {
   "cell_type": "markdown",
   "id": "d5e27de9-7cd8-4eec-ae5f-8b711193144e",
   "metadata": {},
   "source": [
    "**Save model**"
   ]
  },
  {
   "cell_type": "code",
   "execution_count": 245,
   "id": "65ea0ac7-d6f9-4af9-9dce-bbcba9b4c964",
   "metadata": {},
   "outputs": [],
   "source": [
    "path_model_cat_new_ctv = '../model/XGBoost/ctv/clf_xg_ctv_cat_new.sav'"
   ]
  },
  {
   "cell_type": "code",
   "execution_count": 246,
   "id": "120b479f-c926-45dd-8b20-de03ed8384c8",
   "metadata": {},
   "outputs": [
    {
     "data": {
      "text/plain": [
       "['../model/XGBoost/ctv/clf_xg_ctv_cat_new.sav']"
      ]
     },
     "execution_count": 246,
     "metadata": {},
     "output_type": "execute_result"
    }
   ],
   "source": [
    "joblib.dump(clf_xg_ctv, path_model_cat_new_ctv)"
   ]
  }
 ],
 "metadata": {
  "kernelspec": {
   "display_name": "volga",
   "language": "python",
   "name": "volga"
  },
  "language_info": {
   "codemirror_mode": {
    "name": "ipython",
    "version": 3
   },
   "file_extension": ".py",
   "mimetype": "text/x-python",
   "name": "python",
   "nbconvert_exporter": "python",
   "pygments_lexer": "ipython3",
   "version": "3.10.13"
  }
 },
 "nbformat": 4,
 "nbformat_minor": 5
}
